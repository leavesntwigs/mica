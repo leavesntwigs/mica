{
 "cells": [
  {
   "cell_type": "code",
   "execution_count": 1,
   "id": "387cb2b0-047f-4dc4-bceb-df802539c1a7",
   "metadata": {},
   "outputs": [],
   "source": [
    "from ipyleaflet import Map, Marker, Polygon, basemaps"
   ]
  },
  {
   "cell_type": "code",
   "execution_count": 2,
   "id": "2787eb42-bc86-4333-8f01-4e5b55944ea3",
   "metadata": {},
   "outputs": [],
   "source": [
    "from netCDF4 import Dataset, num2date"
   ]
  },
  {
   "cell_type": "code",
   "execution_count": 3,
   "id": "b15430e6-f2d0-4ff9-ae2b-4612e0a17a79",
   "metadata": {},
   "outputs": [],
   "source": [
    "import numpy as np\n",
    "import xarray as xr\n",
    "import xradar as xd"
   ]
  },
  {
   "cell_type": "code",
   "execution_count": 136,
   "id": "705d483f-4477-4caa-9709-f760fc2c4139",
   "metadata": {},
   "outputs": [
    {
     "data": {
      "text/html": [
       "<div><svg style=\"position: absolute; width: 0; height: 0; overflow: hidden\">\n",
       "<defs>\n",
       "<symbol id=\"icon-database\" viewBox=\"0 0 32 32\">\n",
       "<path d=\"M16 0c-8.837 0-16 2.239-16 5v4c0 2.761 7.163 5 16 5s16-2.239 16-5v-4c0-2.761-7.163-5-16-5z\"></path>\n",
       "<path d=\"M16 17c-8.837 0-16-2.239-16-5v6c0 2.761 7.163 5 16 5s16-2.239 16-5v-6c0 2.761-7.163 5-16 5z\"></path>\n",
       "<path d=\"M16 26c-8.837 0-16-2.239-16-5v6c0 2.761 7.163 5 16 5s16-2.239 16-5v-6c0 2.761-7.163 5-16 5z\"></path>\n",
       "</symbol>\n",
       "<symbol id=\"icon-file-text2\" viewBox=\"0 0 32 32\">\n",
       "<path d=\"M28.681 7.159c-0.694-0.947-1.662-2.053-2.724-3.116s-2.169-2.030-3.116-2.724c-1.612-1.182-2.393-1.319-2.841-1.319h-15.5c-1.378 0-2.5 1.121-2.5 2.5v27c0 1.378 1.122 2.5 2.5 2.5h23c1.378 0 2.5-1.122 2.5-2.5v-19.5c0-0.448-0.137-1.23-1.319-2.841zM24.543 5.457c0.959 0.959 1.712 1.825 2.268 2.543h-4.811v-4.811c0.718 0.556 1.584 1.309 2.543 2.268zM28 29.5c0 0.271-0.229 0.5-0.5 0.5h-23c-0.271 0-0.5-0.229-0.5-0.5v-27c0-0.271 0.229-0.5 0.5-0.5 0 0 15.499-0 15.5 0v7c0 0.552 0.448 1 1 1h7v19.5z\"></path>\n",
       "<path d=\"M23 26h-14c-0.552 0-1-0.448-1-1s0.448-1 1-1h14c0.552 0 1 0.448 1 1s-0.448 1-1 1z\"></path>\n",
       "<path d=\"M23 22h-14c-0.552 0-1-0.448-1-1s0.448-1 1-1h14c0.552 0 1 0.448 1 1s-0.448 1-1 1z\"></path>\n",
       "<path d=\"M23 18h-14c-0.552 0-1-0.448-1-1s0.448-1 1-1h14c0.552 0 1 0.448 1 1s-0.448 1-1 1z\"></path>\n",
       "</symbol>\n",
       "</defs>\n",
       "</svg>\n",
       "<style>/* CSS stylesheet for displaying xarray objects in jupyterlab.\n",
       " *\n",
       " */\n",
       "\n",
       ":root {\n",
       "  --xr-font-color0: var(--jp-content-font-color0, rgba(0, 0, 0, 1));\n",
       "  --xr-font-color2: var(--jp-content-font-color2, rgba(0, 0, 0, 0.54));\n",
       "  --xr-font-color3: var(--jp-content-font-color3, rgba(0, 0, 0, 0.38));\n",
       "  --xr-border-color: var(--jp-border-color2, #e0e0e0);\n",
       "  --xr-disabled-color: var(--jp-layout-color3, #bdbdbd);\n",
       "  --xr-background-color: var(--jp-layout-color0, white);\n",
       "  --xr-background-color-row-even: var(--jp-layout-color1, white);\n",
       "  --xr-background-color-row-odd: var(--jp-layout-color2, #eeeeee);\n",
       "}\n",
       "\n",
       "html[theme=dark],\n",
       "body[data-theme=dark],\n",
       "body.vscode-dark {\n",
       "  --xr-font-color0: rgba(255, 255, 255, 1);\n",
       "  --xr-font-color2: rgba(255, 255, 255, 0.54);\n",
       "  --xr-font-color3: rgba(255, 255, 255, 0.38);\n",
       "  --xr-border-color: #1F1F1F;\n",
       "  --xr-disabled-color: #515151;\n",
       "  --xr-background-color: #111111;\n",
       "  --xr-background-color-row-even: #111111;\n",
       "  --xr-background-color-row-odd: #313131;\n",
       "}\n",
       "\n",
       ".xr-wrap {\n",
       "  display: block !important;\n",
       "  min-width: 300px;\n",
       "  max-width: 700px;\n",
       "}\n",
       "\n",
       ".xr-text-repr-fallback {\n",
       "  /* fallback to plain text repr when CSS is not injected (untrusted notebook) */\n",
       "  display: none;\n",
       "}\n",
       "\n",
       ".xr-header {\n",
       "  padding-top: 6px;\n",
       "  padding-bottom: 6px;\n",
       "  margin-bottom: 4px;\n",
       "  border-bottom: solid 1px var(--xr-border-color);\n",
       "}\n",
       "\n",
       ".xr-header > div,\n",
       ".xr-header > ul {\n",
       "  display: inline;\n",
       "  margin-top: 0;\n",
       "  margin-bottom: 0;\n",
       "}\n",
       "\n",
       ".xr-obj-type,\n",
       ".xr-array-name {\n",
       "  margin-left: 2px;\n",
       "  margin-right: 10px;\n",
       "}\n",
       "\n",
       ".xr-obj-type {\n",
       "  color: var(--xr-font-color2);\n",
       "}\n",
       "\n",
       ".xr-sections {\n",
       "  padding-left: 0 !important;\n",
       "  display: grid;\n",
       "  grid-template-columns: 150px auto auto 1fr 20px 20px;\n",
       "}\n",
       "\n",
       ".xr-section-item {\n",
       "  display: contents;\n",
       "}\n",
       "\n",
       ".xr-section-item input {\n",
       "  display: none;\n",
       "}\n",
       "\n",
       ".xr-section-item input + label {\n",
       "  color: var(--xr-disabled-color);\n",
       "}\n",
       "\n",
       ".xr-section-item input:enabled + label {\n",
       "  cursor: pointer;\n",
       "  color: var(--xr-font-color2);\n",
       "}\n",
       "\n",
       ".xr-section-item input:enabled + label:hover {\n",
       "  color: var(--xr-font-color0);\n",
       "}\n",
       "\n",
       ".xr-section-summary {\n",
       "  grid-column: 1;\n",
       "  color: var(--xr-font-color2);\n",
       "  font-weight: 500;\n",
       "}\n",
       "\n",
       ".xr-section-summary > span {\n",
       "  display: inline-block;\n",
       "  padding-left: 0.5em;\n",
       "}\n",
       "\n",
       ".xr-section-summary-in:disabled + label {\n",
       "  color: var(--xr-font-color2);\n",
       "}\n",
       "\n",
       ".xr-section-summary-in + label:before {\n",
       "  display: inline-block;\n",
       "  content: '►';\n",
       "  font-size: 11px;\n",
       "  width: 15px;\n",
       "  text-align: center;\n",
       "}\n",
       "\n",
       ".xr-section-summary-in:disabled + label:before {\n",
       "  color: var(--xr-disabled-color);\n",
       "}\n",
       "\n",
       ".xr-section-summary-in:checked + label:before {\n",
       "  content: '▼';\n",
       "}\n",
       "\n",
       ".xr-section-summary-in:checked + label > span {\n",
       "  display: none;\n",
       "}\n",
       "\n",
       ".xr-section-summary,\n",
       ".xr-section-inline-details {\n",
       "  padding-top: 4px;\n",
       "  padding-bottom: 4px;\n",
       "}\n",
       "\n",
       ".xr-section-inline-details {\n",
       "  grid-column: 2 / -1;\n",
       "}\n",
       "\n",
       ".xr-section-details {\n",
       "  display: none;\n",
       "  grid-column: 1 / -1;\n",
       "  margin-bottom: 5px;\n",
       "}\n",
       "\n",
       ".xr-section-summary-in:checked ~ .xr-section-details {\n",
       "  display: contents;\n",
       "}\n",
       "\n",
       ".xr-array-wrap {\n",
       "  grid-column: 1 / -1;\n",
       "  display: grid;\n",
       "  grid-template-columns: 20px auto;\n",
       "}\n",
       "\n",
       ".xr-array-wrap > label {\n",
       "  grid-column: 1;\n",
       "  vertical-align: top;\n",
       "}\n",
       "\n",
       ".xr-preview {\n",
       "  color: var(--xr-font-color3);\n",
       "}\n",
       "\n",
       ".xr-array-preview,\n",
       ".xr-array-data {\n",
       "  padding: 0 5px !important;\n",
       "  grid-column: 2;\n",
       "}\n",
       "\n",
       ".xr-array-data,\n",
       ".xr-array-in:checked ~ .xr-array-preview {\n",
       "  display: none;\n",
       "}\n",
       "\n",
       ".xr-array-in:checked ~ .xr-array-data,\n",
       ".xr-array-preview {\n",
       "  display: inline-block;\n",
       "}\n",
       "\n",
       ".xr-dim-list {\n",
       "  display: inline-block !important;\n",
       "  list-style: none;\n",
       "  padding: 0 !important;\n",
       "  margin: 0;\n",
       "}\n",
       "\n",
       ".xr-dim-list li {\n",
       "  display: inline-block;\n",
       "  padding: 0;\n",
       "  margin: 0;\n",
       "}\n",
       "\n",
       ".xr-dim-list:before {\n",
       "  content: '(';\n",
       "}\n",
       "\n",
       ".xr-dim-list:after {\n",
       "  content: ')';\n",
       "}\n",
       "\n",
       ".xr-dim-list li:not(:last-child):after {\n",
       "  content: ',';\n",
       "  padding-right: 5px;\n",
       "}\n",
       "\n",
       ".xr-has-index {\n",
       "  font-weight: bold;\n",
       "}\n",
       "\n",
       ".xr-var-list,\n",
       ".xr-var-item {\n",
       "  display: contents;\n",
       "}\n",
       "\n",
       ".xr-var-item > div,\n",
       ".xr-var-item label,\n",
       ".xr-var-item > .xr-var-name span {\n",
       "  background-color: var(--xr-background-color-row-even);\n",
       "  margin-bottom: 0;\n",
       "}\n",
       "\n",
       ".xr-var-item > .xr-var-name:hover span {\n",
       "  padding-right: 5px;\n",
       "}\n",
       "\n",
       ".xr-var-list > li:nth-child(odd) > div,\n",
       ".xr-var-list > li:nth-child(odd) > label,\n",
       ".xr-var-list > li:nth-child(odd) > .xr-var-name span {\n",
       "  background-color: var(--xr-background-color-row-odd);\n",
       "}\n",
       "\n",
       ".xr-var-name {\n",
       "  grid-column: 1;\n",
       "}\n",
       "\n",
       ".xr-var-dims {\n",
       "  grid-column: 2;\n",
       "}\n",
       "\n",
       ".xr-var-dtype {\n",
       "  grid-column: 3;\n",
       "  text-align: right;\n",
       "  color: var(--xr-font-color2);\n",
       "}\n",
       "\n",
       ".xr-var-preview {\n",
       "  grid-column: 4;\n",
       "}\n",
       "\n",
       ".xr-index-preview {\n",
       "  grid-column: 2 / 5;\n",
       "  color: var(--xr-font-color2);\n",
       "}\n",
       "\n",
       ".xr-var-name,\n",
       ".xr-var-dims,\n",
       ".xr-var-dtype,\n",
       ".xr-preview,\n",
       ".xr-attrs dt {\n",
       "  white-space: nowrap;\n",
       "  overflow: hidden;\n",
       "  text-overflow: ellipsis;\n",
       "  padding-right: 10px;\n",
       "}\n",
       "\n",
       ".xr-var-name:hover,\n",
       ".xr-var-dims:hover,\n",
       ".xr-var-dtype:hover,\n",
       ".xr-attrs dt:hover {\n",
       "  overflow: visible;\n",
       "  width: auto;\n",
       "  z-index: 1;\n",
       "}\n",
       "\n",
       ".xr-var-attrs,\n",
       ".xr-var-data,\n",
       ".xr-index-data {\n",
       "  display: none;\n",
       "  background-color: var(--xr-background-color) !important;\n",
       "  padding-bottom: 5px !important;\n",
       "}\n",
       "\n",
       ".xr-var-attrs-in:checked ~ .xr-var-attrs,\n",
       ".xr-var-data-in:checked ~ .xr-var-data,\n",
       ".xr-index-data-in:checked ~ .xr-index-data {\n",
       "  display: block;\n",
       "}\n",
       "\n",
       ".xr-var-data > table {\n",
       "  float: right;\n",
       "}\n",
       "\n",
       ".xr-var-name span,\n",
       ".xr-var-data,\n",
       ".xr-index-name div,\n",
       ".xr-index-data,\n",
       ".xr-attrs {\n",
       "  padding-left: 25px !important;\n",
       "}\n",
       "\n",
       ".xr-attrs,\n",
       ".xr-var-attrs,\n",
       ".xr-var-data,\n",
       ".xr-index-data {\n",
       "  grid-column: 1 / -1;\n",
       "}\n",
       "\n",
       "dl.xr-attrs {\n",
       "  padding: 0;\n",
       "  margin: 0;\n",
       "  display: grid;\n",
       "  grid-template-columns: 125px auto;\n",
       "}\n",
       "\n",
       ".xr-attrs dt,\n",
       ".xr-attrs dd {\n",
       "  padding: 0;\n",
       "  margin: 0;\n",
       "  float: left;\n",
       "  padding-right: 10px;\n",
       "  width: auto;\n",
       "}\n",
       "\n",
       ".xr-attrs dt {\n",
       "  font-weight: normal;\n",
       "  grid-column: 1;\n",
       "}\n",
       "\n",
       ".xr-attrs dt:hover span {\n",
       "  display: inline-block;\n",
       "  background: var(--xr-background-color);\n",
       "  padding-right: 10px;\n",
       "}\n",
       "\n",
       ".xr-attrs dd {\n",
       "  grid-column: 2;\n",
       "  white-space: pre-wrap;\n",
       "  word-break: break-all;\n",
       "}\n",
       "\n",
       ".xr-icon-database,\n",
       ".xr-icon-file-text2,\n",
       ".xr-no-icon {\n",
       "  display: inline-block;\n",
       "  vertical-align: middle;\n",
       "  width: 1em;\n",
       "  height: 1.5em !important;\n",
       "  stroke-width: 0;\n",
       "  stroke: currentColor;\n",
       "  fill: currentColor;\n",
       "}\n",
       "</style><pre class='xr-text-repr-fallback'>&lt;xarray.Dataset&gt;\n",
       "Dimensions:                           (frequency: 1, sweep: 5, r_calib: 1,\n",
       "                                       time: 2880, range: 1832,\n",
       "                                       n_points: 4165920)\n",
       "Coordinates:\n",
       "  * frequency                         (frequency) float32 2.77e+09\n",
       "  * time                              (time) datetime64[ns] 2017-04-08T00:14:...\n",
       "  * range                             (range) float32 2.125e+03 ... 4.599e+05\n",
       "Dimensions without coordinates: sweep, r_calib, n_points\n",
       "Data variables: (12/109)\n",
       "    volume_number                     float64 ...\n",
       "    platform_type                     |S32 ...\n",
       "    primary_axis                      |S32 ...\n",
       "    status_xml                        |S1 ...\n",
       "    instrument_type                   |S32 ...\n",
       "    radar_antenna_gain_h              float32 ...\n",
       "    ...                                ...\n",
       "    ZDR                               (n_points) float32 ...\n",
       "    PHI                               (n_points) float32 ...\n",
       "    RHO                               (n_points) float32 ...\n",
       "    REF_s1                            (n_points) float32 ...\n",
       "    REF_s3                            (n_points) float32 ...\n",
       "    REF_s5                            (n_points) float32 ...\n",
       "Attributes: (12/25)\n",
       "    Conventions:          CF-1.7\n",
       "    Sub_conventions:      CF-Radial instrument_parameters radar_parameters ra...\n",
       "    version:              CF-Radial-1.4\n",
       "    title:                \n",
       "    institution:          \n",
       "    references:           \n",
       "    ...                   ...\n",
       "    site_name:            \n",
       "    scan_name:            Surveillance\n",
       "    scan_id:              31\n",
       "    platform_is_mobile:   false\n",
       "    n_gates_vary:         true\n",
       "    ray_times_increase:   true</pre><div class='xr-wrap' style='display:none'><div class='xr-header'><div class='xr-obj-type'>xarray.Dataset</div></div><ul class='xr-sections'><li class='xr-section-item'><input id='section-5e0cec24-c3ba-4032-9992-c84fec186a58' class='xr-section-summary-in' type='checkbox' disabled ><label for='section-5e0cec24-c3ba-4032-9992-c84fec186a58' class='xr-section-summary'  title='Expand/collapse section'>Dimensions:</label><div class='xr-section-inline-details'><ul class='xr-dim-list'><li><span class='xr-has-index'>frequency</span>: 1</li><li><span>sweep</span>: 5</li><li><span>r_calib</span>: 1</li><li><span class='xr-has-index'>time</span>: 2880</li><li><span class='xr-has-index'>range</span>: 1832</li><li><span>n_points</span>: 4165920</li></ul></div><div class='xr-section-details'></div></li><li class='xr-section-item'><input id='section-cd82f7ee-645b-4c0f-ae51-01e7528c13dd' class='xr-section-summary-in' type='checkbox'  checked><label for='section-cd82f7ee-645b-4c0f-ae51-01e7528c13dd' class='xr-section-summary' >Coordinates: <span>(3)</span></label><div class='xr-section-inline-details'></div><div class='xr-section-details'><ul class='xr-var-list'><li class='xr-var-item'><div class='xr-var-name'><span class='xr-has-index'>frequency</span></div><div class='xr-var-dims'>(frequency)</div><div class='xr-var-dtype'>float32</div><div class='xr-var-preview xr-preview'>2.77e+09</div><input id='attrs-a110e908-9316-41fe-8dc2-46fa6ffa4597' class='xr-var-attrs-in' type='checkbox' ><label for='attrs-a110e908-9316-41fe-8dc2-46fa6ffa4597' title='Show/Hide attributes'><svg class='icon xr-icon-file-text2'><use xlink:href='#icon-file-text2'></use></svg></label><input id='data-b48bc15f-1ad9-40c5-afa3-75149fc27c24' class='xr-var-data-in' type='checkbox'><label for='data-b48bc15f-1ad9-40c5-afa3-75149fc27c24' title='Show/Hide data repr'><svg class='icon xr-icon-database'><use xlink:href='#icon-database'></use></svg></label><div class='xr-var-attrs'><dl class='xr-attrs'><dt><span>long_name :</span></dt><dd>transmission_frequency</dd><dt><span>units :</span></dt><dd>s-1</dd><dt><span>meta_group :</span></dt><dd>instrument_parameters</dd></dl></div><div class='xr-var-data'><pre>array([2.77e+09], dtype=float32)</pre></div></li><li class='xr-var-item'><div class='xr-var-name'><span class='xr-has-index'>time</span></div><div class='xr-var-dims'>(time)</div><div class='xr-var-dtype'>datetime64[ns]</div><div class='xr-var-preview xr-preview'>2017-04-08T00:14:52.962000 ... 2...</div><input id='attrs-debb8194-f919-443f-87db-62b5a98f9fbc' class='xr-var-attrs-in' type='checkbox' ><label for='attrs-debb8194-f919-443f-87db-62b5a98f9fbc' title='Show/Hide attributes'><svg class='icon xr-icon-file-text2'><use xlink:href='#icon-file-text2'></use></svg></label><input id='data-229b7208-8788-4eee-a373-a74680873a5c' class='xr-var-data-in' type='checkbox'><label for='data-229b7208-8788-4eee-a373-a74680873a5c' title='Show/Hide data repr'><svg class='icon xr-icon-database'><use xlink:href='#icon-database'></use></svg></label><div class='xr-var-attrs'><dl class='xr-attrs'><dt><span>standard_name :</span></dt><dd>time</dd><dt><span>long_name :</span></dt><dd>time in seconds since volume start</dd><dt><span>comment :</span></dt><dd>times are relative to the volume start_time</dd></dl></div><div class='xr-var-data'><pre>array([&#x27;2017-04-08T00:14:52.962000000&#x27;, &#x27;2017-04-08T00:14:53.065000000&#x27;,\n",
       "       &#x27;2017-04-08T00:14:53.155000000&#x27;, ..., &#x27;2017-04-08T00:23:20.548000000&#x27;,\n",
       "       &#x27;2017-04-08T00:23:20.745000000&#x27;, &#x27;2017-04-08T00:23:20.954000000&#x27;],\n",
       "      dtype=&#x27;datetime64[ns]&#x27;)</pre></div></li><li class='xr-var-item'><div class='xr-var-name'><span class='xr-has-index'>range</span></div><div class='xr-var-dims'>(range)</div><div class='xr-var-dtype'>float32</div><div class='xr-var-preview xr-preview'>2.125e+03 2.375e+03 ... 4.599e+05</div><input id='attrs-c79cb779-7b76-4514-9c6d-e069a836b64e' class='xr-var-attrs-in' type='checkbox' ><label for='attrs-c79cb779-7b76-4514-9c6d-e069a836b64e' title='Show/Hide attributes'><svg class='icon xr-icon-file-text2'><use xlink:href='#icon-file-text2'></use></svg></label><input id='data-f3b1ba6f-032a-4d28-81bd-214e1ca65331' class='xr-var-data-in' type='checkbox'><label for='data-f3b1ba6f-032a-4d28-81bd-214e1ca65331' title='Show/Hide data repr'><svg class='icon xr-icon-database'><use xlink:href='#icon-database'></use></svg></label><div class='xr-var-attrs'><dl class='xr-attrs'><dt><span>long_name :</span></dt><dd>Range from instrument to center of gate</dd><dt><span>units :</span></dt><dd>meters</dd><dt><span>spacing_is_constant :</span></dt><dd>true</dd><dt><span>meters_to_center_of_first_gate :</span></dt><dd>2125.0</dd><dt><span>meters_between_gates :</span></dt><dd>250.0</dd></dl></div><div class='xr-var-data'><pre>array([  2125.,   2375.,   2625., ..., 459375., 459625., 459875.],\n",
       "      dtype=float32)</pre></div></li></ul></div></li><li class='xr-section-item'><input id='section-0f1e19f1-dd20-48e2-8524-716a587a9285' class='xr-section-summary-in' type='checkbox'  ><label for='section-0f1e19f1-dd20-48e2-8524-716a587a9285' class='xr-section-summary' >Data variables: <span>(109)</span></label><div class='xr-section-inline-details'></div><div class='xr-section-details'><ul class='xr-var-list'><li class='xr-var-item'><div class='xr-var-name'><span>volume_number</span></div><div class='xr-var-dims'>()</div><div class='xr-var-dtype'>float64</div><div class='xr-var-preview xr-preview'>...</div><input id='attrs-a1f04564-9364-4307-87dc-6a4d69fdd8ac' class='xr-var-attrs-in' type='checkbox' ><label for='attrs-a1f04564-9364-4307-87dc-6a4d69fdd8ac' title='Show/Hide attributes'><svg class='icon xr-icon-file-text2'><use xlink:href='#icon-file-text2'></use></svg></label><input id='data-255807d4-d39d-4966-ada3-a36d1323e947' class='xr-var-data-in' type='checkbox'><label for='data-255807d4-d39d-4966-ada3-a36d1323e947' title='Show/Hide data repr'><svg class='icon xr-icon-database'><use xlink:href='#icon-database'></use></svg></label><div class='xr-var-attrs'><dl class='xr-attrs'><dt><span>long_name :</span></dt><dd>data_volume_index_number</dd><dt><span>units :</span></dt><dd></dd></dl></div><div class='xr-var-data'><pre>[1 values with dtype=float64]</pre></div></li><li class='xr-var-item'><div class='xr-var-name'><span>platform_type</span></div><div class='xr-var-dims'>()</div><div class='xr-var-dtype'>|S32</div><div class='xr-var-preview xr-preview'>...</div><input id='attrs-bffe1e00-0c56-41f7-99f0-63accc9ba638' class='xr-var-attrs-in' type='checkbox' ><label for='attrs-bffe1e00-0c56-41f7-99f0-63accc9ba638' title='Show/Hide attributes'><svg class='icon xr-icon-file-text2'><use xlink:href='#icon-file-text2'></use></svg></label><input id='data-70a7dc51-d734-493e-b6c2-3baebebb81cc' class='xr-var-data-in' type='checkbox'><label for='data-70a7dc51-d734-493e-b6c2-3baebebb81cc' title='Show/Hide data repr'><svg class='icon xr-icon-database'><use xlink:href='#icon-database'></use></svg></label><div class='xr-var-attrs'><dl class='xr-attrs'><dt><span>long_name :</span></dt><dd>platform_type</dd><dt><span>options :</span></dt><dd>fixed, vehicle, ship, aircraft_fore, aircraft_aft, aircraft_tail, aircraft_belly, aircraft_roof, aircraft_nose, satellite_orbit, satellite_geostat</dd></dl></div><div class='xr-var-data'><pre>[1 values with dtype=|S32]</pre></div></li><li class='xr-var-item'><div class='xr-var-name'><span>primary_axis</span></div><div class='xr-var-dims'>()</div><div class='xr-var-dtype'>|S32</div><div class='xr-var-preview xr-preview'>...</div><input id='attrs-2e65be42-1a86-4ad5-bb43-df9ac2a9b2b6' class='xr-var-attrs-in' type='checkbox' ><label for='attrs-2e65be42-1a86-4ad5-bb43-df9ac2a9b2b6' title='Show/Hide attributes'><svg class='icon xr-icon-file-text2'><use xlink:href='#icon-file-text2'></use></svg></label><input id='data-fb2f3a97-2a29-4a1d-a38f-1f64f03caf9b' class='xr-var-data-in' type='checkbox'><label for='data-fb2f3a97-2a29-4a1d-a38f-1f64f03caf9b' title='Show/Hide data repr'><svg class='icon xr-icon-database'><use xlink:href='#icon-database'></use></svg></label><div class='xr-var-attrs'><dl class='xr-attrs'><dt><span>long_name :</span></dt><dd>primary_axis_of_rotation</dd><dt><span>options :</span></dt><dd>axis_z, axis_y, axis_x, axis_z_prime, axis_y_prime, axis_x_prime</dd></dl></div><div class='xr-var-data'><pre>[1 values with dtype=|S32]</pre></div></li><li class='xr-var-item'><div class='xr-var-name'><span>status_xml</span></div><div class='xr-var-dims'>()</div><div class='xr-var-dtype'>|S1</div><div class='xr-var-preview xr-preview'>...</div><input id='attrs-4fe3cbdd-e871-49ac-a6b9-c4e63bf2f477' class='xr-var-attrs-in' type='checkbox' ><label for='attrs-4fe3cbdd-e871-49ac-a6b9-c4e63bf2f477' title='Show/Hide attributes'><svg class='icon xr-icon-file-text2'><use xlink:href='#icon-file-text2'></use></svg></label><input id='data-6423101d-c97a-43f4-8b5a-05bf74e297c3' class='xr-var-data-in' type='checkbox'><label for='data-6423101d-c97a-43f4-8b5a-05bf74e297c3' title='Show/Hide data repr'><svg class='icon xr-icon-database'><use xlink:href='#icon-database'></use></svg></label><div class='xr-var-attrs'><dl class='xr-attrs'><dt><span>long_name :</span></dt><dd>status_of_instrument</dd></dl></div><div class='xr-var-data'><pre>[1 values with dtype=|S1]</pre></div></li><li class='xr-var-item'><div class='xr-var-name'><span>instrument_type</span></div><div class='xr-var-dims'>()</div><div class='xr-var-dtype'>|S32</div><div class='xr-var-preview xr-preview'>...</div><input id='attrs-37943db2-ae94-4ff7-9d6b-c9ce0dc9dd29' class='xr-var-attrs-in' type='checkbox' ><label for='attrs-37943db2-ae94-4ff7-9d6b-c9ce0dc9dd29' title='Show/Hide attributes'><svg class='icon xr-icon-file-text2'><use xlink:href='#icon-file-text2'></use></svg></label><input id='data-09bd2b4c-cdf3-474c-9e57-edea174e6a14' class='xr-var-data-in' type='checkbox'><label for='data-09bd2b4c-cdf3-474c-9e57-edea174e6a14' title='Show/Hide data repr'><svg class='icon xr-icon-database'><use xlink:href='#icon-database'></use></svg></label><div class='xr-var-attrs'><dl class='xr-attrs'><dt><span>long_name :</span></dt><dd>type_of_instrument</dd><dt><span>options :</span></dt><dd>radar, lidar</dd><dt><span>meta_group :</span></dt><dd>instrument_parameters</dd></dl></div><div class='xr-var-data'><pre>[1 values with dtype=|S32]</pre></div></li><li class='xr-var-item'><div class='xr-var-name'><span>radar_antenna_gain_h</span></div><div class='xr-var-dims'>()</div><div class='xr-var-dtype'>float32</div><div class='xr-var-preview xr-preview'>...</div><input id='attrs-4e26f656-a6a8-441c-b890-037997f89b19' class='xr-var-attrs-in' type='checkbox' ><label for='attrs-4e26f656-a6a8-441c-b890-037997f89b19' title='Show/Hide attributes'><svg class='icon xr-icon-file-text2'><use xlink:href='#icon-file-text2'></use></svg></label><input id='data-c4db9cba-ac25-4cdb-bb2d-59c5c237ea39' class='xr-var-data-in' type='checkbox'><label for='data-c4db9cba-ac25-4cdb-bb2d-59c5c237ea39' title='Show/Hide data repr'><svg class='icon xr-icon-database'><use xlink:href='#icon-database'></use></svg></label><div class='xr-var-attrs'><dl class='xr-attrs'><dt><span>long_name :</span></dt><dd>nominal_radar_antenna_gain_h_channel</dd><dt><span>units :</span></dt><dd>db</dd><dt><span>meta_group :</span></dt><dd>radar_parameters</dd></dl></div><div class='xr-var-data'><pre>[1 values with dtype=float32]</pre></div></li><li class='xr-var-item'><div class='xr-var-name'><span>radar_antenna_gain_v</span></div><div class='xr-var-dims'>()</div><div class='xr-var-dtype'>float32</div><div class='xr-var-preview xr-preview'>...</div><input id='attrs-7f94a681-cf3d-4dbf-b206-3ed10470f187' class='xr-var-attrs-in' type='checkbox' ><label for='attrs-7f94a681-cf3d-4dbf-b206-3ed10470f187' title='Show/Hide attributes'><svg class='icon xr-icon-file-text2'><use xlink:href='#icon-file-text2'></use></svg></label><input id='data-123b8385-1b2d-48c7-a25e-821f96c4c8a2' class='xr-var-data-in' type='checkbox'><label for='data-123b8385-1b2d-48c7-a25e-821f96c4c8a2' title='Show/Hide data repr'><svg class='icon xr-icon-database'><use xlink:href='#icon-database'></use></svg></label><div class='xr-var-attrs'><dl class='xr-attrs'><dt><span>long_name :</span></dt><dd>nominal_radar_antenna_gain_v_channel</dd><dt><span>units :</span></dt><dd>db</dd><dt><span>meta_group :</span></dt><dd>radar_parameters</dd></dl></div><div class='xr-var-data'><pre>[1 values with dtype=float32]</pre></div></li><li class='xr-var-item'><div class='xr-var-name'><span>radar_beam_width_h</span></div><div class='xr-var-dims'>()</div><div class='xr-var-dtype'>float32</div><div class='xr-var-preview xr-preview'>...</div><input id='attrs-69aee955-2c56-4e5b-927e-c77217570bf8' class='xr-var-attrs-in' type='checkbox' ><label for='attrs-69aee955-2c56-4e5b-927e-c77217570bf8' title='Show/Hide attributes'><svg class='icon xr-icon-file-text2'><use xlink:href='#icon-file-text2'></use></svg></label><input id='data-f01853e0-6841-4eb3-92d7-f1503700aefb' class='xr-var-data-in' type='checkbox'><label for='data-f01853e0-6841-4eb3-92d7-f1503700aefb' title='Show/Hide data repr'><svg class='icon xr-icon-database'><use xlink:href='#icon-database'></use></svg></label><div class='xr-var-attrs'><dl class='xr-attrs'><dt><span>long_name :</span></dt><dd>half_power_radar_beam_width_h_channel</dd><dt><span>units :</span></dt><dd>degrees</dd><dt><span>meta_group :</span></dt><dd>radar_parameters</dd></dl></div><div class='xr-var-data'><pre>[1 values with dtype=float32]</pre></div></li><li class='xr-var-item'><div class='xr-var-name'><span>radar_beam_width_v</span></div><div class='xr-var-dims'>()</div><div class='xr-var-dtype'>float32</div><div class='xr-var-preview xr-preview'>...</div><input id='attrs-c9c86b0b-5396-4cfe-aeee-f5098db421cb' class='xr-var-attrs-in' type='checkbox' ><label for='attrs-c9c86b0b-5396-4cfe-aeee-f5098db421cb' title='Show/Hide attributes'><svg class='icon xr-icon-file-text2'><use xlink:href='#icon-file-text2'></use></svg></label><input id='data-78df8c01-0586-4819-ac3f-13afc97aca03' class='xr-var-data-in' type='checkbox'><label for='data-78df8c01-0586-4819-ac3f-13afc97aca03' title='Show/Hide data repr'><svg class='icon xr-icon-database'><use xlink:href='#icon-database'></use></svg></label><div class='xr-var-attrs'><dl class='xr-attrs'><dt><span>long_name :</span></dt><dd>half_power_radar_beam_width_v_channel</dd><dt><span>units :</span></dt><dd>degrees</dd><dt><span>meta_group :</span></dt><dd>radar_parameters</dd></dl></div><div class='xr-var-data'><pre>[1 values with dtype=float32]</pre></div></li><li class='xr-var-item'><div class='xr-var-name'><span>radar_rx_bandwidth</span></div><div class='xr-var-dims'>()</div><div class='xr-var-dtype'>float32</div><div class='xr-var-preview xr-preview'>...</div><input id='attrs-1e2bf31c-dabc-4183-a00a-d0d6276c4534' class='xr-var-attrs-in' type='checkbox' ><label for='attrs-1e2bf31c-dabc-4183-a00a-d0d6276c4534' title='Show/Hide attributes'><svg class='icon xr-icon-file-text2'><use xlink:href='#icon-file-text2'></use></svg></label><input id='data-81aad0ab-33d4-4ac3-8a66-cfb582fcab53' class='xr-var-data-in' type='checkbox'><label for='data-81aad0ab-33d4-4ac3-8a66-cfb582fcab53' title='Show/Hide data repr'><svg class='icon xr-icon-database'><use xlink:href='#icon-database'></use></svg></label><div class='xr-var-attrs'><dl class='xr-attrs'><dt><span>long_name :</span></dt><dd>radar_receiver_bandwidth</dd><dt><span>units :</span></dt><dd>s-1</dd><dt><span>meta_group :</span></dt><dd>radar_parameters</dd></dl></div><div class='xr-var-data'><pre>[1 values with dtype=float32]</pre></div></li><li class='xr-var-item'><div class='xr-var-name'><span>time_coverage_start</span></div><div class='xr-var-dims'>()</div><div class='xr-var-dtype'>|S32</div><div class='xr-var-preview xr-preview'>...</div><input id='attrs-20fd4364-62c6-4fb8-96b1-7a90a331f050' class='xr-var-attrs-in' type='checkbox' ><label for='attrs-20fd4364-62c6-4fb8-96b1-7a90a331f050' title='Show/Hide attributes'><svg class='icon xr-icon-file-text2'><use xlink:href='#icon-file-text2'></use></svg></label><input id='data-e7f4999f-6b09-4508-a375-c53e5f77a8b1' class='xr-var-data-in' type='checkbox'><label for='data-e7f4999f-6b09-4508-a375-c53e5f77a8b1' title='Show/Hide data repr'><svg class='icon xr-icon-database'><use xlink:href='#icon-database'></use></svg></label><div class='xr-var-attrs'><dl class='xr-attrs'><dt><span>long_name :</span></dt><dd>data_volume_start_time_utc</dd><dt><span>comment :</span></dt><dd>ray times are relative to start time in secs</dd></dl></div><div class='xr-var-data'><pre>[1 values with dtype=|S32]</pre></div></li><li class='xr-var-item'><div class='xr-var-name'><span>time_coverage_end</span></div><div class='xr-var-dims'>()</div><div class='xr-var-dtype'>|S32</div><div class='xr-var-preview xr-preview'>...</div><input id='attrs-a21ba5d6-815b-439f-975e-c2648e984292' class='xr-var-attrs-in' type='checkbox' ><label for='attrs-a21ba5d6-815b-439f-975e-c2648e984292' title='Show/Hide attributes'><svg class='icon xr-icon-file-text2'><use xlink:href='#icon-file-text2'></use></svg></label><input id='data-b23dfd83-1038-4bec-852f-54a22198dff4' class='xr-var-data-in' type='checkbox'><label for='data-b23dfd83-1038-4bec-852f-54a22198dff4' title='Show/Hide data repr'><svg class='icon xr-icon-database'><use xlink:href='#icon-database'></use></svg></label><div class='xr-var-attrs'><dl class='xr-attrs'><dt><span>long_name :</span></dt><dd>data_volume_end_time_utc</dd></dl></div><div class='xr-var-data'><pre>[1 values with dtype=|S32]</pre></div></li><li class='xr-var-item'><div class='xr-var-name'><span>grid_mapping</span></div><div class='xr-var-dims'>()</div><div class='xr-var-dtype'>int32</div><div class='xr-var-preview xr-preview'>...</div><input id='attrs-4c1b020c-98c1-4333-b804-f6ec5ef1a120' class='xr-var-attrs-in' type='checkbox' ><label for='attrs-4c1b020c-98c1-4333-b804-f6ec5ef1a120' title='Show/Hide attributes'><svg class='icon xr-icon-file-text2'><use xlink:href='#icon-file-text2'></use></svg></label><input id='data-d816c227-bc23-4abd-a3f6-fbef013defef' class='xr-var-data-in' type='checkbox'><label for='data-d816c227-bc23-4abd-a3f6-fbef013defef' title='Show/Hide data repr'><svg class='icon xr-icon-database'><use xlink:href='#icon-database'></use></svg></label><div class='xr-var-attrs'><dl class='xr-attrs'><dt><span>grid_mapping_name :</span></dt><dd>radar_lidar_radial_scan</dd><dt><span>longitude_of_projection_origin :</span></dt><dd>-91.19110870361328</dd><dt><span>latitude_of_projection_origin :</span></dt><dd>43.822776794433594</dd><dt><span>altitude_of_projection_origin :</span></dt><dd>413.0</dd><dt><span>false_northing :</span></dt><dd>0.0</dd><dt><span>false_easting :</span></dt><dd>0.0</dd></dl></div><div class='xr-var-data'><pre>[1 values with dtype=int32]</pre></div></li><li class='xr-var-item'><div class='xr-var-name'><span>latitude</span></div><div class='xr-var-dims'>()</div><div class='xr-var-dtype'>float64</div><div class='xr-var-preview xr-preview'>...</div><input id='attrs-1cb72749-80a9-48c2-baf2-558ba14fac32' class='xr-var-attrs-in' type='checkbox' ><label for='attrs-1cb72749-80a9-48c2-baf2-558ba14fac32' title='Show/Hide attributes'><svg class='icon xr-icon-file-text2'><use xlink:href='#icon-file-text2'></use></svg></label><input id='data-0e4ef986-72db-440f-bfe8-4c334250a9ef' class='xr-var-data-in' type='checkbox'><label for='data-0e4ef986-72db-440f-bfe8-4c334250a9ef' title='Show/Hide data repr'><svg class='icon xr-icon-database'><use xlink:href='#icon-database'></use></svg></label><div class='xr-var-attrs'><dl class='xr-attrs'><dt><span>long_name :</span></dt><dd>latitude</dd><dt><span>units :</span></dt><dd>degrees_north</dd></dl></div><div class='xr-var-data'><pre>[1 values with dtype=float64]</pre></div></li><li class='xr-var-item'><div class='xr-var-name'><span>longitude</span></div><div class='xr-var-dims'>()</div><div class='xr-var-dtype'>float64</div><div class='xr-var-preview xr-preview'>...</div><input id='attrs-be2a1fa4-eeb6-4209-82a7-26165a001242' class='xr-var-attrs-in' type='checkbox' ><label for='attrs-be2a1fa4-eeb6-4209-82a7-26165a001242' title='Show/Hide attributes'><svg class='icon xr-icon-file-text2'><use xlink:href='#icon-file-text2'></use></svg></label><input id='data-e9b196c1-7cc6-44d0-8aab-4594cc4a9935' class='xr-var-data-in' type='checkbox'><label for='data-e9b196c1-7cc6-44d0-8aab-4594cc4a9935' title='Show/Hide data repr'><svg class='icon xr-icon-database'><use xlink:href='#icon-database'></use></svg></label><div class='xr-var-attrs'><dl class='xr-attrs'><dt><span>long_name :</span></dt><dd>longitude</dd><dt><span>units :</span></dt><dd>degrees_east</dd></dl></div><div class='xr-var-data'><pre>[1 values with dtype=float64]</pre></div></li><li class='xr-var-item'><div class='xr-var-name'><span>altitude</span></div><div class='xr-var-dims'>()</div><div class='xr-var-dtype'>float64</div><div class='xr-var-preview xr-preview'>...</div><input id='attrs-28609c2d-1af9-4bca-aade-0b779b753e18' class='xr-var-attrs-in' type='checkbox' ><label for='attrs-28609c2d-1af9-4bca-aade-0b779b753e18' title='Show/Hide attributes'><svg class='icon xr-icon-file-text2'><use xlink:href='#icon-file-text2'></use></svg></label><input id='data-8f45148e-0a76-4cee-a1e2-a8fc760e7edc' class='xr-var-data-in' type='checkbox'><label for='data-8f45148e-0a76-4cee-a1e2-a8fc760e7edc' title='Show/Hide data repr'><svg class='icon xr-icon-database'><use xlink:href='#icon-database'></use></svg></label><div class='xr-var-attrs'><dl class='xr-attrs'><dt><span>long_name :</span></dt><dd>altitude</dd><dt><span>units :</span></dt><dd>meters</dd><dt><span>positive :</span></dt><dd>up</dd></dl></div><div class='xr-var-data'><pre>[1 values with dtype=float64]</pre></div></li><li class='xr-var-item'><div class='xr-var-name'><span>altitude_agl</span></div><div class='xr-var-dims'>()</div><div class='xr-var-dtype'>float64</div><div class='xr-var-preview xr-preview'>...</div><input id='attrs-a49fe07d-3110-458a-9556-b7c166ff3506' class='xr-var-attrs-in' type='checkbox' ><label for='attrs-a49fe07d-3110-458a-9556-b7c166ff3506' title='Show/Hide attributes'><svg class='icon xr-icon-file-text2'><use xlink:href='#icon-file-text2'></use></svg></label><input id='data-6ce35346-d838-4083-9070-4dcfeb9a851f' class='xr-var-data-in' type='checkbox'><label for='data-6ce35346-d838-4083-9070-4dcfeb9a851f' title='Show/Hide data repr'><svg class='icon xr-icon-database'><use xlink:href='#icon-database'></use></svg></label><div class='xr-var-attrs'><dl class='xr-attrs'><dt><span>long_name :</span></dt><dd>altitude_above_ground_level</dd><dt><span>units :</span></dt><dd>meters</dd><dt><span>positive :</span></dt><dd>up</dd></dl></div><div class='xr-var-data'><pre>[1 values with dtype=float64]</pre></div></li><li class='xr-var-item'><div class='xr-var-name'><span>sweep_number</span></div><div class='xr-var-dims'>(sweep)</div><div class='xr-var-dtype'>float64</div><div class='xr-var-preview xr-preview'>...</div><input id='attrs-44e8cd25-c2dc-4c28-8b8c-51b0a54e45d3' class='xr-var-attrs-in' type='checkbox' ><label for='attrs-44e8cd25-c2dc-4c28-8b8c-51b0a54e45d3' title='Show/Hide attributes'><svg class='icon xr-icon-file-text2'><use xlink:href='#icon-file-text2'></use></svg></label><input id='data-196b18ea-0ab5-485b-a182-7d5749af1ca2' class='xr-var-data-in' type='checkbox'><label for='data-196b18ea-0ab5-485b-a182-7d5749af1ca2' title='Show/Hide data repr'><svg class='icon xr-icon-database'><use xlink:href='#icon-database'></use></svg></label><div class='xr-var-attrs'><dl class='xr-attrs'><dt><span>long_name :</span></dt><dd>sweep_index_number_0_based</dd><dt><span>units :</span></dt><dd></dd></dl></div><div class='xr-var-data'><pre>[5 values with dtype=float64]</pre></div></li><li class='xr-var-item'><div class='xr-var-name'><span>sweep_mode</span></div><div class='xr-var-dims'>(sweep)</div><div class='xr-var-dtype'>|S32</div><div class='xr-var-preview xr-preview'>...</div><input id='attrs-f1de6175-c50e-431a-8ffc-6bc3f2a0b8a5' class='xr-var-attrs-in' type='checkbox' ><label for='attrs-f1de6175-c50e-431a-8ffc-6bc3f2a0b8a5' title='Show/Hide attributes'><svg class='icon xr-icon-file-text2'><use xlink:href='#icon-file-text2'></use></svg></label><input id='data-82fc3793-d6ba-495d-997f-346c19bb5c4e' class='xr-var-data-in' type='checkbox'><label for='data-82fc3793-d6ba-495d-997f-346c19bb5c4e' title='Show/Hide data repr'><svg class='icon xr-icon-database'><use xlink:href='#icon-database'></use></svg></label><div class='xr-var-attrs'><dl class='xr-attrs'><dt><span>long_name :</span></dt><dd>scan_mode_for_sweep</dd><dt><span>options :</span></dt><dd>sector, coplane, rhi, vertical_pointing, idle, azimuth_surveillance, elevation_surveillance, sunscan, pointing, calibration, manual_ppi, manual_rhi, sunscan_rhi, doppler_beam_swinging, complex_trajectory, electronic_steering</dd></dl></div><div class='xr-var-data'><pre>[5 values with dtype=|S32]</pre></div></li><li class='xr-var-item'><div class='xr-var-name'><span>polarization_mode</span></div><div class='xr-var-dims'>(sweep)</div><div class='xr-var-dtype'>|S32</div><div class='xr-var-preview xr-preview'>...</div><input id='attrs-c3f26448-599d-44f9-8260-931ada453295' class='xr-var-attrs-in' type='checkbox' ><label for='attrs-c3f26448-599d-44f9-8260-931ada453295' title='Show/Hide attributes'><svg class='icon xr-icon-file-text2'><use xlink:href='#icon-file-text2'></use></svg></label><input id='data-6133f471-b0a4-4233-b9cf-41868e718637' class='xr-var-data-in' type='checkbox'><label for='data-6133f471-b0a4-4233-b9cf-41868e718637' title='Show/Hide data repr'><svg class='icon xr-icon-database'><use xlink:href='#icon-database'></use></svg></label><div class='xr-var-attrs'><dl class='xr-attrs'><dt><span>long_name :</span></dt><dd>polarization_mode_for_sweep</dd><dt><span>options :</span></dt><dd>horizontal, vertical, hv_alt, hv_sim, circular</dd><dt><span>meta_group :</span></dt><dd>radar_parameters</dd></dl></div><div class='xr-var-data'><pre>[5 values with dtype=|S32]</pre></div></li><li class='xr-var-item'><div class='xr-var-name'><span>prt_mode</span></div><div class='xr-var-dims'>(sweep)</div><div class='xr-var-dtype'>|S32</div><div class='xr-var-preview xr-preview'>...</div><input id='attrs-09ea1ada-6cb4-400e-951a-7c80e287b1ee' class='xr-var-attrs-in' type='checkbox' ><label for='attrs-09ea1ada-6cb4-400e-951a-7c80e287b1ee' title='Show/Hide attributes'><svg class='icon xr-icon-file-text2'><use xlink:href='#icon-file-text2'></use></svg></label><input id='data-525f7367-252a-4b53-a2e5-c9625fd54ed9' class='xr-var-data-in' type='checkbox'><label for='data-525f7367-252a-4b53-a2e5-c9625fd54ed9' title='Show/Hide data repr'><svg class='icon xr-icon-database'><use xlink:href='#icon-database'></use></svg></label><div class='xr-var-attrs'><dl class='xr-attrs'><dt><span>long_name :</span></dt><dd>transmit_pulse_mode</dd><dt><span>options :</span></dt><dd>fixed, staggered, dual</dd><dt><span>meta_group :</span></dt><dd>radar_parameters</dd></dl></div><div class='xr-var-data'><pre>[5 values with dtype=|S32]</pre></div></li><li class='xr-var-item'><div class='xr-var-name'><span>follow_mode</span></div><div class='xr-var-dims'>(sweep)</div><div class='xr-var-dtype'>|S32</div><div class='xr-var-preview xr-preview'>...</div><input id='attrs-51178a66-cd2b-482d-91b6-9452ed304443' class='xr-var-attrs-in' type='checkbox' ><label for='attrs-51178a66-cd2b-482d-91b6-9452ed304443' title='Show/Hide attributes'><svg class='icon xr-icon-file-text2'><use xlink:href='#icon-file-text2'></use></svg></label><input id='data-63aa910c-da42-4da1-b97b-b0dace67e68f' class='xr-var-data-in' type='checkbox'><label for='data-63aa910c-da42-4da1-b97b-b0dace67e68f' title='Show/Hide data repr'><svg class='icon xr-icon-database'><use xlink:href='#icon-database'></use></svg></label><div class='xr-var-attrs'><dl class='xr-attrs'><dt><span>long_name :</span></dt><dd>follow_mode_for_scan_strategy</dd><dt><span>options :</span></dt><dd>none, sun, vehicle, aircraft, target, manual</dd><dt><span>meta_group :</span></dt><dd>instrument_parameters</dd></dl></div><div class='xr-var-data'><pre>[5 values with dtype=|S32]</pre></div></li><li class='xr-var-item'><div class='xr-var-name'><span>fixed_angle</span></div><div class='xr-var-dims'>(sweep)</div><div class='xr-var-dtype'>float32</div><div class='xr-var-preview xr-preview'>...</div><input id='attrs-b4a12b32-776d-476a-a962-b5b552652d85' class='xr-var-attrs-in' type='checkbox' ><label for='attrs-b4a12b32-776d-476a-a962-b5b552652d85' title='Show/Hide attributes'><svg class='icon xr-icon-file-text2'><use xlink:href='#icon-file-text2'></use></svg></label><input id='data-393a1acb-bc89-484d-a608-7f53d4b827ed' class='xr-var-data-in' type='checkbox'><label for='data-393a1acb-bc89-484d-a608-7f53d4b827ed' title='Show/Hide data repr'><svg class='icon xr-icon-database'><use xlink:href='#icon-database'></use></svg></label><div class='xr-var-attrs'><dl class='xr-attrs'><dt><span>long_name :</span></dt><dd>ray_target_fixed_angle</dd><dt><span>units :</span></dt><dd>degrees</dd></dl></div><div class='xr-var-data'><pre>[5 values with dtype=float32]</pre></div></li><li class='xr-var-item'><div class='xr-var-name'><span>target_scan_rate</span></div><div class='xr-var-dims'>(sweep)</div><div class='xr-var-dtype'>float32</div><div class='xr-var-preview xr-preview'>...</div><input id='attrs-a7632dc0-66d2-4342-a41f-a4b3d0ae0488' class='xr-var-attrs-in' type='checkbox' ><label for='attrs-a7632dc0-66d2-4342-a41f-a4b3d0ae0488' title='Show/Hide attributes'><svg class='icon xr-icon-file-text2'><use xlink:href='#icon-file-text2'></use></svg></label><input id='data-85b29c2f-11c9-44f2-9616-73a2ebcab89f' class='xr-var-data-in' type='checkbox'><label for='data-85b29c2f-11c9-44f2-9616-73a2ebcab89f' title='Show/Hide data repr'><svg class='icon xr-icon-database'><use xlink:href='#icon-database'></use></svg></label><div class='xr-var-attrs'><dl class='xr-attrs'><dt><span>long_name :</span></dt><dd>target_scan_rate_for_sweep</dd><dt><span>units :</span></dt><dd>degrees per second</dd></dl></div><div class='xr-var-data'><pre>[5 values with dtype=float32]</pre></div></li><li class='xr-var-item'><div class='xr-var-name'><span>sweep_start_ray_index</span></div><div class='xr-var-dims'>(sweep)</div><div class='xr-var-dtype'>float64</div><div class='xr-var-preview xr-preview'>...</div><input id='attrs-a39d26cd-ed81-4e37-b182-e6765f802961' class='xr-var-attrs-in' type='checkbox' ><label for='attrs-a39d26cd-ed81-4e37-b182-e6765f802961' title='Show/Hide attributes'><svg class='icon xr-icon-file-text2'><use xlink:href='#icon-file-text2'></use></svg></label><input id='data-d013249f-c804-4d14-8933-d54cb2409a4c' class='xr-var-data-in' type='checkbox'><label for='data-d013249f-c804-4d14-8933-d54cb2409a4c' title='Show/Hide data repr'><svg class='icon xr-icon-database'><use xlink:href='#icon-database'></use></svg></label><div class='xr-var-attrs'><dl class='xr-attrs'><dt><span>long_name :</span></dt><dd>index_of_first_ray_in_sweep</dd><dt><span>units :</span></dt><dd></dd></dl></div><div class='xr-var-data'><pre>[5 values with dtype=float64]</pre></div></li><li class='xr-var-item'><div class='xr-var-name'><span>sweep_end_ray_index</span></div><div class='xr-var-dims'>(sweep)</div><div class='xr-var-dtype'>float64</div><div class='xr-var-preview xr-preview'>...</div><input id='attrs-e4e67a74-d8b5-4413-8901-91e0891b5f8e' class='xr-var-attrs-in' type='checkbox' ><label for='attrs-e4e67a74-d8b5-4413-8901-91e0891b5f8e' title='Show/Hide attributes'><svg class='icon xr-icon-file-text2'><use xlink:href='#icon-file-text2'></use></svg></label><input id='data-08ae188f-8f1a-41c9-a349-c18030a0ecbb' class='xr-var-data-in' type='checkbox'><label for='data-08ae188f-8f1a-41c9-a349-c18030a0ecbb' title='Show/Hide data repr'><svg class='icon xr-icon-database'><use xlink:href='#icon-database'></use></svg></label><div class='xr-var-attrs'><dl class='xr-attrs'><dt><span>long_name :</span></dt><dd>index_of_last_ray_in_sweep</dd><dt><span>units :</span></dt><dd></dd></dl></div><div class='xr-var-data'><pre>[5 values with dtype=float64]</pre></div></li><li class='xr-var-item'><div class='xr-var-name'><span>rays_are_indexed</span></div><div class='xr-var-dims'>(sweep)</div><div class='xr-var-dtype'>|S8</div><div class='xr-var-preview xr-preview'>...</div><input id='attrs-fef02dbe-b77a-49a0-9259-b5c2547eea6c' class='xr-var-attrs-in' type='checkbox' ><label for='attrs-fef02dbe-b77a-49a0-9259-b5c2547eea6c' title='Show/Hide attributes'><svg class='icon xr-icon-file-text2'><use xlink:href='#icon-file-text2'></use></svg></label><input id='data-3c756ef4-b3e3-46ab-9d17-227504831e72' class='xr-var-data-in' type='checkbox'><label for='data-3c756ef4-b3e3-46ab-9d17-227504831e72' title='Show/Hide data repr'><svg class='icon xr-icon-database'><use xlink:href='#icon-database'></use></svg></label><div class='xr-var-attrs'><dl class='xr-attrs'><dt><span>long_name :</span></dt><dd>flag_for_indexed_rays</dd></dl></div><div class='xr-var-data'><pre>[5 values with dtype=|S8]</pre></div></li><li class='xr-var-item'><div class='xr-var-name'><span>ray_angle_res</span></div><div class='xr-var-dims'>(sweep)</div><div class='xr-var-dtype'>float32</div><div class='xr-var-preview xr-preview'>...</div><input id='attrs-b55e07b4-e653-48b7-b2f9-429be8b83431' class='xr-var-attrs-in' type='checkbox' ><label for='attrs-b55e07b4-e653-48b7-b2f9-429be8b83431' title='Show/Hide attributes'><svg class='icon xr-icon-file-text2'><use xlink:href='#icon-file-text2'></use></svg></label><input id='data-97966d5e-8786-4bc1-b870-c87f346112be' class='xr-var-data-in' type='checkbox'><label for='data-97966d5e-8786-4bc1-b870-c87f346112be' title='Show/Hide data repr'><svg class='icon xr-icon-database'><use xlink:href='#icon-database'></use></svg></label><div class='xr-var-attrs'><dl class='xr-attrs'><dt><span>long_name :</span></dt><dd>angular_resolution_between_rays</dd><dt><span>units :</span></dt><dd>degrees</dd></dl></div><div class='xr-var-data'><pre>[5 values with dtype=float32]</pre></div></li><li class='xr-var-item'><div class='xr-var-name'><span>r_calib_time</span></div><div class='xr-var-dims'>(r_calib)</div><div class='xr-var-dtype'>|S32</div><div class='xr-var-preview xr-preview'>...</div><input id='attrs-3154675d-fc25-43f5-8263-d5451b891817' class='xr-var-attrs-in' type='checkbox' ><label for='attrs-3154675d-fc25-43f5-8263-d5451b891817' title='Show/Hide attributes'><svg class='icon xr-icon-file-text2'><use xlink:href='#icon-file-text2'></use></svg></label><input id='data-e4fff302-a841-428a-b045-328dca2abfa0' class='xr-var-data-in' type='checkbox'><label for='data-e4fff302-a841-428a-b045-328dca2abfa0' title='Show/Hide data repr'><svg class='icon xr-icon-database'><use xlink:href='#icon-database'></use></svg></label><div class='xr-var-attrs'><dl class='xr-attrs'><dt><span>long_name :</span></dt><dd>radar_calibration_time_utc</dd><dt><span>meta_group :</span></dt><dd>radar_calibration</dd></dl></div><div class='xr-var-data'><pre>[1 values with dtype=|S32]</pre></div></li><li class='xr-var-item'><div class='xr-var-name'><span>r_calib_pulse_width</span></div><div class='xr-var-dims'>(r_calib)</div><div class='xr-var-dtype'>timedelta64[ns]</div><div class='xr-var-preview xr-preview'>...</div><input id='attrs-c25462a8-9c6b-4b1d-be9a-d3b61b3155d3' class='xr-var-attrs-in' type='checkbox' ><label for='attrs-c25462a8-9c6b-4b1d-be9a-d3b61b3155d3' title='Show/Hide attributes'><svg class='icon xr-icon-file-text2'><use xlink:href='#icon-file-text2'></use></svg></label><input id='data-d64e0c69-a16f-4896-835c-f74cc950cdc0' class='xr-var-data-in' type='checkbox'><label for='data-d64e0c69-a16f-4896-835c-f74cc950cdc0' title='Show/Hide data repr'><svg class='icon xr-icon-database'><use xlink:href='#icon-database'></use></svg></label><div class='xr-var-attrs'><dl class='xr-attrs'><dt><span>long_name :</span></dt><dd>radar_calibration_pulse_width</dd><dt><span>meta_group :</span></dt><dd>radar_calibration</dd></dl></div><div class='xr-var-data'><pre>[1 values with dtype=timedelta64[ns]]</pre></div></li><li class='xr-var-item'><div class='xr-var-name'><span>r_calib_xmit_power_h</span></div><div class='xr-var-dims'>(r_calib)</div><div class='xr-var-dtype'>float32</div><div class='xr-var-preview xr-preview'>...</div><input id='attrs-147e8099-5d06-4bd5-9597-57318fb7e469' class='xr-var-attrs-in' type='checkbox' ><label for='attrs-147e8099-5d06-4bd5-9597-57318fb7e469' title='Show/Hide attributes'><svg class='icon xr-icon-file-text2'><use xlink:href='#icon-file-text2'></use></svg></label><input id='data-9f9769c1-854b-4dca-b240-5a4fbb9c32e5' class='xr-var-data-in' type='checkbox'><label for='data-9f9769c1-854b-4dca-b240-5a4fbb9c32e5' title='Show/Hide data repr'><svg class='icon xr-icon-database'><use xlink:href='#icon-database'></use></svg></label><div class='xr-var-attrs'><dl class='xr-attrs'><dt><span>long_name :</span></dt><dd>calibrated_radar_xmit_power_h_channel</dd><dt><span>units :</span></dt><dd>dBm</dd><dt><span>meta_group :</span></dt><dd>radar_calibration</dd></dl></div><div class='xr-var-data'><pre>[1 values with dtype=float32]</pre></div></li><li class='xr-var-item'><div class='xr-var-name'><span>r_calib_xmit_power_v</span></div><div class='xr-var-dims'>(r_calib)</div><div class='xr-var-dtype'>float32</div><div class='xr-var-preview xr-preview'>...</div><input id='attrs-ee3992ae-6666-4841-ba39-0cfaff47dd6a' class='xr-var-attrs-in' type='checkbox' ><label for='attrs-ee3992ae-6666-4841-ba39-0cfaff47dd6a' title='Show/Hide attributes'><svg class='icon xr-icon-file-text2'><use xlink:href='#icon-file-text2'></use></svg></label><input id='data-9197a2c9-0ae3-4b83-99d7-e7e014fd30e9' class='xr-var-data-in' type='checkbox'><label for='data-9197a2c9-0ae3-4b83-99d7-e7e014fd30e9' title='Show/Hide data repr'><svg class='icon xr-icon-database'><use xlink:href='#icon-database'></use></svg></label><div class='xr-var-attrs'><dl class='xr-attrs'><dt><span>long_name :</span></dt><dd>calibrated_radar_xmit_power_v_channel</dd><dt><span>units :</span></dt><dd>dBm</dd><dt><span>meta_group :</span></dt><dd>radar_calibration</dd></dl></div><div class='xr-var-data'><pre>[1 values with dtype=float32]</pre></div></li><li class='xr-var-item'><div class='xr-var-name'><span>r_calib_two_way_waveguide_loss_h</span></div><div class='xr-var-dims'>(r_calib)</div><div class='xr-var-dtype'>float32</div><div class='xr-var-preview xr-preview'>...</div><input id='attrs-ed43fc48-bed2-4e1f-8d95-fea2c416386b' class='xr-var-attrs-in' type='checkbox' ><label for='attrs-ed43fc48-bed2-4e1f-8d95-fea2c416386b' title='Show/Hide attributes'><svg class='icon xr-icon-file-text2'><use xlink:href='#icon-file-text2'></use></svg></label><input id='data-ac7b60c7-0009-4a73-997a-035c7fbddf76' class='xr-var-data-in' type='checkbox'><label for='data-ac7b60c7-0009-4a73-997a-035c7fbddf76' title='Show/Hide data repr'><svg class='icon xr-icon-database'><use xlink:href='#icon-database'></use></svg></label><div class='xr-var-attrs'><dl class='xr-attrs'><dt><span>long_name :</span></dt><dd>radar_calibration_two_way_waveguide_loss_h_channel</dd><dt><span>units :</span></dt><dd>db</dd><dt><span>meta_group :</span></dt><dd>radar_calibration</dd></dl></div><div class='xr-var-data'><pre>[1 values with dtype=float32]</pre></div></li><li class='xr-var-item'><div class='xr-var-name'><span>r_calib_two_way_waveguide_loss_v</span></div><div class='xr-var-dims'>(r_calib)</div><div class='xr-var-dtype'>float32</div><div class='xr-var-preview xr-preview'>...</div><input id='attrs-2e392b56-8335-46dc-b610-edd94d7d8847' class='xr-var-attrs-in' type='checkbox' ><label for='attrs-2e392b56-8335-46dc-b610-edd94d7d8847' title='Show/Hide attributes'><svg class='icon xr-icon-file-text2'><use xlink:href='#icon-file-text2'></use></svg></label><input id='data-33970546-18fe-42bc-b694-bf084b38cace' class='xr-var-data-in' type='checkbox'><label for='data-33970546-18fe-42bc-b694-bf084b38cace' title='Show/Hide data repr'><svg class='icon xr-icon-database'><use xlink:href='#icon-database'></use></svg></label><div class='xr-var-attrs'><dl class='xr-attrs'><dt><span>long_name :</span></dt><dd>radar_calibration_two_way_waveguide_loss_v_channel</dd><dt><span>units :</span></dt><dd>db</dd><dt><span>meta_group :</span></dt><dd>radar_calibration</dd></dl></div><div class='xr-var-data'><pre>[1 values with dtype=float32]</pre></div></li><li class='xr-var-item'><div class='xr-var-name'><span>r_calib_two_way_radome_loss_h</span></div><div class='xr-var-dims'>(r_calib)</div><div class='xr-var-dtype'>float32</div><div class='xr-var-preview xr-preview'>...</div><input id='attrs-fc555ff3-23b1-463e-b1bc-46625879d9c6' class='xr-var-attrs-in' type='checkbox' ><label for='attrs-fc555ff3-23b1-463e-b1bc-46625879d9c6' title='Show/Hide attributes'><svg class='icon xr-icon-file-text2'><use xlink:href='#icon-file-text2'></use></svg></label><input id='data-751b0a97-bcfd-42c1-955c-f8770f786aed' class='xr-var-data-in' type='checkbox'><label for='data-751b0a97-bcfd-42c1-955c-f8770f786aed' title='Show/Hide data repr'><svg class='icon xr-icon-database'><use xlink:href='#icon-database'></use></svg></label><div class='xr-var-attrs'><dl class='xr-attrs'><dt><span>long_name :</span></dt><dd>radar_calibration_two_way_radome_loss_h_channel</dd><dt><span>units :</span></dt><dd>db</dd><dt><span>meta_group :</span></dt><dd>radar_calibration</dd></dl></div><div class='xr-var-data'><pre>[1 values with dtype=float32]</pre></div></li><li class='xr-var-item'><div class='xr-var-name'><span>r_calib_two_way_radome_loss_v</span></div><div class='xr-var-dims'>(r_calib)</div><div class='xr-var-dtype'>float32</div><div class='xr-var-preview xr-preview'>...</div><input id='attrs-1e0ef9f9-5200-4972-bbcc-3fa8dc9d505a' class='xr-var-attrs-in' type='checkbox' ><label for='attrs-1e0ef9f9-5200-4972-bbcc-3fa8dc9d505a' title='Show/Hide attributes'><svg class='icon xr-icon-file-text2'><use xlink:href='#icon-file-text2'></use></svg></label><input id='data-9a907857-2652-4c19-90b2-75b3cb682537' class='xr-var-data-in' type='checkbox'><label for='data-9a907857-2652-4c19-90b2-75b3cb682537' title='Show/Hide data repr'><svg class='icon xr-icon-database'><use xlink:href='#icon-database'></use></svg></label><div class='xr-var-attrs'><dl class='xr-attrs'><dt><span>long_name :</span></dt><dd>radar_calibration_two_way_radome_loss_v_channel</dd><dt><span>units :</span></dt><dd>db</dd><dt><span>meta_group :</span></dt><dd>radar_calibration</dd></dl></div><div class='xr-var-data'><pre>[1 values with dtype=float32]</pre></div></li><li class='xr-var-item'><div class='xr-var-name'><span>r_calib_receiver_mismatch_loss</span></div><div class='xr-var-dims'>(r_calib)</div><div class='xr-var-dtype'>float32</div><div class='xr-var-preview xr-preview'>...</div><input id='attrs-29442caf-6366-4dda-abfd-5e3bb9c1fd50' class='xr-var-attrs-in' type='checkbox' ><label for='attrs-29442caf-6366-4dda-abfd-5e3bb9c1fd50' title='Show/Hide attributes'><svg class='icon xr-icon-file-text2'><use xlink:href='#icon-file-text2'></use></svg></label><input id='data-1d221a24-6a38-49d1-bf4d-7068659e4ca8' class='xr-var-data-in' type='checkbox'><label for='data-1d221a24-6a38-49d1-bf4d-7068659e4ca8' title='Show/Hide data repr'><svg class='icon xr-icon-database'><use xlink:href='#icon-database'></use></svg></label><div class='xr-var-attrs'><dl class='xr-attrs'><dt><span>long_name :</span></dt><dd>radar_calibration_receiver_mismatch_loss</dd><dt><span>units :</span></dt><dd>db</dd><dt><span>meta_group :</span></dt><dd>radar_calibration</dd></dl></div><div class='xr-var-data'><pre>[1 values with dtype=float32]</pre></div></li><li class='xr-var-item'><div class='xr-var-name'><span>r_calib_k_squared_water</span></div><div class='xr-var-dims'>(r_calib)</div><div class='xr-var-dtype'>float32</div><div class='xr-var-preview xr-preview'>...</div><input id='attrs-7be55237-8ea1-47f8-a560-0d2fa638e7ec' class='xr-var-attrs-in' type='checkbox' ><label for='attrs-7be55237-8ea1-47f8-a560-0d2fa638e7ec' title='Show/Hide attributes'><svg class='icon xr-icon-file-text2'><use xlink:href='#icon-file-text2'></use></svg></label><input id='data-fa5b0e31-b3b9-40d3-bc36-6755bf778732' class='xr-var-data-in' type='checkbox'><label for='data-fa5b0e31-b3b9-40d3-bc36-6755bf778732' title='Show/Hide data repr'><svg class='icon xr-icon-database'><use xlink:href='#icon-database'></use></svg></label><div class='xr-var-attrs'><dl class='xr-attrs'><dt><span>long_name :</span></dt><dd>r_calib_k_squared_water</dd><dt><span>units :</span></dt><dd></dd><dt><span>meta_group :</span></dt><dd>radar_calibration</dd></dl></div><div class='xr-var-data'><pre>[1 values with dtype=float32]</pre></div></li><li class='xr-var-item'><div class='xr-var-name'><span>r_calib_radar_constant_h</span></div><div class='xr-var-dims'>(r_calib)</div><div class='xr-var-dtype'>float32</div><div class='xr-var-preview xr-preview'>...</div><input id='attrs-46548515-d133-4bf8-a4e3-285f05194960' class='xr-var-attrs-in' type='checkbox' ><label for='attrs-46548515-d133-4bf8-a4e3-285f05194960' title='Show/Hide attributes'><svg class='icon xr-icon-file-text2'><use xlink:href='#icon-file-text2'></use></svg></label><input id='data-d04067c9-1dcf-47a6-beb1-ca88a7369e9f' class='xr-var-data-in' type='checkbox'><label for='data-d04067c9-1dcf-47a6-beb1-ca88a7369e9f' title='Show/Hide data repr'><svg class='icon xr-icon-database'><use xlink:href='#icon-database'></use></svg></label><div class='xr-var-attrs'><dl class='xr-attrs'><dt><span>long_name :</span></dt><dd>calibrated_radar_constant_h_channel</dd><dt><span>units :</span></dt><dd>db</dd><dt><span>meta_group :</span></dt><dd>radar_calibration</dd></dl></div><div class='xr-var-data'><pre>[1 values with dtype=float32]</pre></div></li><li class='xr-var-item'><div class='xr-var-name'><span>r_calib_radar_constant_v</span></div><div class='xr-var-dims'>(r_calib)</div><div class='xr-var-dtype'>float32</div><div class='xr-var-preview xr-preview'>...</div><input id='attrs-8312ccf5-063f-4899-ba94-1726281a908a' class='xr-var-attrs-in' type='checkbox' ><label for='attrs-8312ccf5-063f-4899-ba94-1726281a908a' title='Show/Hide attributes'><svg class='icon xr-icon-file-text2'><use xlink:href='#icon-file-text2'></use></svg></label><input id='data-ec2bf327-3c0b-4945-b3f7-ab2782e2ae57' class='xr-var-data-in' type='checkbox'><label for='data-ec2bf327-3c0b-4945-b3f7-ab2782e2ae57' title='Show/Hide data repr'><svg class='icon xr-icon-database'><use xlink:href='#icon-database'></use></svg></label><div class='xr-var-attrs'><dl class='xr-attrs'><dt><span>long_name :</span></dt><dd>calibrated_radar_constant_v_channel</dd><dt><span>units :</span></dt><dd>db</dd><dt><span>meta_group :</span></dt><dd>radar_calibration</dd></dl></div><div class='xr-var-data'><pre>[1 values with dtype=float32]</pre></div></li><li class='xr-var-item'><div class='xr-var-name'><span>r_calib_antenna_gain_h</span></div><div class='xr-var-dims'>(r_calib)</div><div class='xr-var-dtype'>float32</div><div class='xr-var-preview xr-preview'>...</div><input id='attrs-865da02d-dd8c-430b-82e8-96dcfa91a998' class='xr-var-attrs-in' type='checkbox' ><label for='attrs-865da02d-dd8c-430b-82e8-96dcfa91a998' title='Show/Hide attributes'><svg class='icon xr-icon-file-text2'><use xlink:href='#icon-file-text2'></use></svg></label><input id='data-2f206f53-409d-4c0a-aeee-297d13b54732' class='xr-var-data-in' type='checkbox'><label for='data-2f206f53-409d-4c0a-aeee-297d13b54732' title='Show/Hide data repr'><svg class='icon xr-icon-database'><use xlink:href='#icon-database'></use></svg></label><div class='xr-var-attrs'><dl class='xr-attrs'><dt><span>long_name :</span></dt><dd>calibrated_radar_antenna_gain_h_channel</dd><dt><span>units :</span></dt><dd>db</dd><dt><span>meta_group :</span></dt><dd>radar_calibration</dd></dl></div><div class='xr-var-data'><pre>[1 values with dtype=float32]</pre></div></li><li class='xr-var-item'><div class='xr-var-name'><span>r_calib_antenna_gain_v</span></div><div class='xr-var-dims'>(r_calib)</div><div class='xr-var-dtype'>float32</div><div class='xr-var-preview xr-preview'>...</div><input id='attrs-77605541-0971-4071-b7a0-e06582e15ca0' class='xr-var-attrs-in' type='checkbox' ><label for='attrs-77605541-0971-4071-b7a0-e06582e15ca0' title='Show/Hide attributes'><svg class='icon xr-icon-file-text2'><use xlink:href='#icon-file-text2'></use></svg></label><input id='data-018c3e25-0ee0-419c-91ec-829aa5bbded4' class='xr-var-data-in' type='checkbox'><label for='data-018c3e25-0ee0-419c-91ec-829aa5bbded4' title='Show/Hide data repr'><svg class='icon xr-icon-database'><use xlink:href='#icon-database'></use></svg></label><div class='xr-var-attrs'><dl class='xr-attrs'><dt><span>long_name :</span></dt><dd>calibrated_radar_antenna_gain_v_channel</dd><dt><span>units :</span></dt><dd>db</dd><dt><span>meta_group :</span></dt><dd>radar_calibration</dd></dl></div><div class='xr-var-data'><pre>[1 values with dtype=float32]</pre></div></li><li class='xr-var-item'><div class='xr-var-name'><span>r_calib_noise_hc</span></div><div class='xr-var-dims'>(r_calib)</div><div class='xr-var-dtype'>float32</div><div class='xr-var-preview xr-preview'>...</div><input id='attrs-5a66e6d1-4717-4bff-8aef-0ebac715b084' class='xr-var-attrs-in' type='checkbox' ><label for='attrs-5a66e6d1-4717-4bff-8aef-0ebac715b084' title='Show/Hide attributes'><svg class='icon xr-icon-file-text2'><use xlink:href='#icon-file-text2'></use></svg></label><input id='data-ab1eb8af-482f-4714-a889-a2b338dead1a' class='xr-var-data-in' type='checkbox'><label for='data-ab1eb8af-482f-4714-a889-a2b338dead1a' title='Show/Hide data repr'><svg class='icon xr-icon-database'><use xlink:href='#icon-database'></use></svg></label><div class='xr-var-attrs'><dl class='xr-attrs'><dt><span>long_name :</span></dt><dd>calibrated_radar_receiver_noise_h_co_polar_channel</dd><dt><span>units :</span></dt><dd>dBm</dd><dt><span>meta_group :</span></dt><dd>radar_calibration</dd></dl></div><div class='xr-var-data'><pre>[1 values with dtype=float32]</pre></div></li><li class='xr-var-item'><div class='xr-var-name'><span>r_calib_noise_vc</span></div><div class='xr-var-dims'>(r_calib)</div><div class='xr-var-dtype'>float32</div><div class='xr-var-preview xr-preview'>...</div><input id='attrs-a2e62afd-72cc-4748-883e-9e9efe974620' class='xr-var-attrs-in' type='checkbox' ><label for='attrs-a2e62afd-72cc-4748-883e-9e9efe974620' title='Show/Hide attributes'><svg class='icon xr-icon-file-text2'><use xlink:href='#icon-file-text2'></use></svg></label><input id='data-70096a01-4061-4fc9-85c7-c84e7939ab2d' class='xr-var-data-in' type='checkbox'><label for='data-70096a01-4061-4fc9-85c7-c84e7939ab2d' title='Show/Hide data repr'><svg class='icon xr-icon-database'><use xlink:href='#icon-database'></use></svg></label><div class='xr-var-attrs'><dl class='xr-attrs'><dt><span>long_name :</span></dt><dd>calibrated_radar_receiver_noise_v_co_polar_channel</dd><dt><span>units :</span></dt><dd>dBm</dd><dt><span>meta_group :</span></dt><dd>radar_calibration</dd></dl></div><div class='xr-var-data'><pre>[1 values with dtype=float32]</pre></div></li><li class='xr-var-item'><div class='xr-var-name'><span>r_calib_noise_hx</span></div><div class='xr-var-dims'>(r_calib)</div><div class='xr-var-dtype'>float32</div><div class='xr-var-preview xr-preview'>...</div><input id='attrs-1e698c9b-4b64-4bf3-be0b-57df1f87f57d' class='xr-var-attrs-in' type='checkbox' ><label for='attrs-1e698c9b-4b64-4bf3-be0b-57df1f87f57d' title='Show/Hide attributes'><svg class='icon xr-icon-file-text2'><use xlink:href='#icon-file-text2'></use></svg></label><input id='data-ca00bb66-396a-478a-9405-bf73995b2f2c' class='xr-var-data-in' type='checkbox'><label for='data-ca00bb66-396a-478a-9405-bf73995b2f2c' title='Show/Hide data repr'><svg class='icon xr-icon-database'><use xlink:href='#icon-database'></use></svg></label><div class='xr-var-attrs'><dl class='xr-attrs'><dt><span>long_name :</span></dt><dd>calibrated_radar_receiver_noise_h_cross_polar_channel</dd><dt><span>units :</span></dt><dd>dBm</dd><dt><span>meta_group :</span></dt><dd>radar_calibration</dd></dl></div><div class='xr-var-data'><pre>[1 values with dtype=float32]</pre></div></li><li class='xr-var-item'><div class='xr-var-name'><span>r_calib_noise_vx</span></div><div class='xr-var-dims'>(r_calib)</div><div class='xr-var-dtype'>float32</div><div class='xr-var-preview xr-preview'>...</div><input id='attrs-56663186-309e-45ca-86cc-23d9abbd121a' class='xr-var-attrs-in' type='checkbox' ><label for='attrs-56663186-309e-45ca-86cc-23d9abbd121a' title='Show/Hide attributes'><svg class='icon xr-icon-file-text2'><use xlink:href='#icon-file-text2'></use></svg></label><input id='data-09237904-d496-4cb0-bd44-0b0020a13b4d' class='xr-var-data-in' type='checkbox'><label for='data-09237904-d496-4cb0-bd44-0b0020a13b4d' title='Show/Hide data repr'><svg class='icon xr-icon-database'><use xlink:href='#icon-database'></use></svg></label><div class='xr-var-attrs'><dl class='xr-attrs'><dt><span>long_name :</span></dt><dd>calibrated_radar_receiver_noise_v_cross_polar_channel</dd><dt><span>units :</span></dt><dd>dBm</dd><dt><span>meta_group :</span></dt><dd>radar_calibration</dd></dl></div><div class='xr-var-data'><pre>[1 values with dtype=float32]</pre></div></li><li class='xr-var-item'><div class='xr-var-name'><span>r_calib_i0_dbm_hc</span></div><div class='xr-var-dims'>(r_calib)</div><div class='xr-var-dtype'>float32</div><div class='xr-var-preview xr-preview'>...</div><input id='attrs-815aceda-ec71-4cc0-96cf-58ebcc442583' class='xr-var-attrs-in' type='checkbox' ><label for='attrs-815aceda-ec71-4cc0-96cf-58ebcc442583' title='Show/Hide attributes'><svg class='icon xr-icon-file-text2'><use xlink:href='#icon-file-text2'></use></svg></label><input id='data-c22889ab-43ea-4229-aac6-cb2527a695c0' class='xr-var-data-in' type='checkbox'><label for='data-c22889ab-43ea-4229-aac6-cb2527a695c0' title='Show/Hide data repr'><svg class='icon xr-icon-database'><use xlink:href='#icon-database'></use></svg></label><div class='xr-var-attrs'><dl class='xr-attrs'><dt><span>long_name :</span></dt><dd>r_calib_i0_dbm_hc</dd><dt><span>units :</span></dt><dd>dBm</dd><dt><span>meta_group :</span></dt><dd>radar_calibration</dd></dl></div><div class='xr-var-data'><pre>[1 values with dtype=float32]</pre></div></li><li class='xr-var-item'><div class='xr-var-name'><span>r_calib_i0_dbm_vc</span></div><div class='xr-var-dims'>(r_calib)</div><div class='xr-var-dtype'>float32</div><div class='xr-var-preview xr-preview'>...</div><input id='attrs-ea5080b9-5aa5-48c4-af01-c59713e6a7b0' class='xr-var-attrs-in' type='checkbox' ><label for='attrs-ea5080b9-5aa5-48c4-af01-c59713e6a7b0' title='Show/Hide attributes'><svg class='icon xr-icon-file-text2'><use xlink:href='#icon-file-text2'></use></svg></label><input id='data-4b702d7f-818c-496a-9355-66d85ce7454e' class='xr-var-data-in' type='checkbox'><label for='data-4b702d7f-818c-496a-9355-66d85ce7454e' title='Show/Hide data repr'><svg class='icon xr-icon-database'><use xlink:href='#icon-database'></use></svg></label><div class='xr-var-attrs'><dl class='xr-attrs'><dt><span>long_name :</span></dt><dd>r_calib_i0_dbm_vc</dd><dt><span>units :</span></dt><dd>dBm</dd><dt><span>meta_group :</span></dt><dd>radar_calibration</dd></dl></div><div class='xr-var-data'><pre>[1 values with dtype=float32]</pre></div></li><li class='xr-var-item'><div class='xr-var-name'><span>r_calib_i0_dbm_hx</span></div><div class='xr-var-dims'>(r_calib)</div><div class='xr-var-dtype'>float32</div><div class='xr-var-preview xr-preview'>...</div><input id='attrs-addfb250-a10f-4368-bd35-ee871885832d' class='xr-var-attrs-in' type='checkbox' ><label for='attrs-addfb250-a10f-4368-bd35-ee871885832d' title='Show/Hide attributes'><svg class='icon xr-icon-file-text2'><use xlink:href='#icon-file-text2'></use></svg></label><input id='data-1749a45a-33b3-46bc-85c3-eb07643b6bc5' class='xr-var-data-in' type='checkbox'><label for='data-1749a45a-33b3-46bc-85c3-eb07643b6bc5' title='Show/Hide data repr'><svg class='icon xr-icon-database'><use xlink:href='#icon-database'></use></svg></label><div class='xr-var-attrs'><dl class='xr-attrs'><dt><span>long_name :</span></dt><dd>r_calib_i0_dbm_hx</dd><dt><span>units :</span></dt><dd>dBm</dd><dt><span>meta_group :</span></dt><dd>radar_calibration</dd></dl></div><div class='xr-var-data'><pre>[1 values with dtype=float32]</pre></div></li><li class='xr-var-item'><div class='xr-var-name'><span>r_calib_i0_dbm_vx</span></div><div class='xr-var-dims'>(r_calib)</div><div class='xr-var-dtype'>float32</div><div class='xr-var-preview xr-preview'>...</div><input id='attrs-69265e39-0839-473f-818d-fb48b052b93a' class='xr-var-attrs-in' type='checkbox' ><label for='attrs-69265e39-0839-473f-818d-fb48b052b93a' title='Show/Hide attributes'><svg class='icon xr-icon-file-text2'><use xlink:href='#icon-file-text2'></use></svg></label><input id='data-01349355-50d6-4fac-b263-c529ff5531cc' class='xr-var-data-in' type='checkbox'><label for='data-01349355-50d6-4fac-b263-c529ff5531cc' title='Show/Hide data repr'><svg class='icon xr-icon-database'><use xlink:href='#icon-database'></use></svg></label><div class='xr-var-attrs'><dl class='xr-attrs'><dt><span>long_name :</span></dt><dd>r_calib_i0_dbm_vx</dd><dt><span>units :</span></dt><dd>dBm</dd><dt><span>meta_group :</span></dt><dd>radar_calibration</dd></dl></div><div class='xr-var-data'><pre>[1 values with dtype=float32]</pre></div></li><li class='xr-var-item'><div class='xr-var-name'><span>r_calib_receiver_gain_hc</span></div><div class='xr-var-dims'>(r_calib)</div><div class='xr-var-dtype'>float32</div><div class='xr-var-preview xr-preview'>...</div><input id='attrs-e2fb0b82-2bcb-4319-8665-7ed1f9e10383' class='xr-var-attrs-in' type='checkbox' ><label for='attrs-e2fb0b82-2bcb-4319-8665-7ed1f9e10383' title='Show/Hide attributes'><svg class='icon xr-icon-file-text2'><use xlink:href='#icon-file-text2'></use></svg></label><input id='data-12fc9e78-7931-47aa-92b9-468eb93ba80a' class='xr-var-data-in' type='checkbox'><label for='data-12fc9e78-7931-47aa-92b9-468eb93ba80a' title='Show/Hide data repr'><svg class='icon xr-icon-database'><use xlink:href='#icon-database'></use></svg></label><div class='xr-var-attrs'><dl class='xr-attrs'><dt><span>long_name :</span></dt><dd>calibrated_radar_receiver_gain_h_co_polar_channel</dd><dt><span>units :</span></dt><dd>db</dd><dt><span>meta_group :</span></dt><dd>radar_calibration</dd></dl></div><div class='xr-var-data'><pre>[1 values with dtype=float32]</pre></div></li><li class='xr-var-item'><div class='xr-var-name'><span>r_calib_receiver_gain_vc</span></div><div class='xr-var-dims'>(r_calib)</div><div class='xr-var-dtype'>float32</div><div class='xr-var-preview xr-preview'>...</div><input id='attrs-cd407c95-f298-446d-95db-91b4e59832a1' class='xr-var-attrs-in' type='checkbox' ><label for='attrs-cd407c95-f298-446d-95db-91b4e59832a1' title='Show/Hide attributes'><svg class='icon xr-icon-file-text2'><use xlink:href='#icon-file-text2'></use></svg></label><input id='data-a1c46b9e-26d2-4bc5-bc52-eb6d1ef945b2' class='xr-var-data-in' type='checkbox'><label for='data-a1c46b9e-26d2-4bc5-bc52-eb6d1ef945b2' title='Show/Hide data repr'><svg class='icon xr-icon-database'><use xlink:href='#icon-database'></use></svg></label><div class='xr-var-attrs'><dl class='xr-attrs'><dt><span>long_name :</span></dt><dd>calibrated_radar_receiver_gain_v_co_polar_channel</dd><dt><span>units :</span></dt><dd>db</dd><dt><span>meta_group :</span></dt><dd>radar_calibration</dd></dl></div><div class='xr-var-data'><pre>[1 values with dtype=float32]</pre></div></li><li class='xr-var-item'><div class='xr-var-name'><span>r_calib_receiver_gain_hx</span></div><div class='xr-var-dims'>(r_calib)</div><div class='xr-var-dtype'>float32</div><div class='xr-var-preview xr-preview'>...</div><input id='attrs-9264d4bc-34bd-45cb-a8f7-d72d177de01f' class='xr-var-attrs-in' type='checkbox' ><label for='attrs-9264d4bc-34bd-45cb-a8f7-d72d177de01f' title='Show/Hide attributes'><svg class='icon xr-icon-file-text2'><use xlink:href='#icon-file-text2'></use></svg></label><input id='data-020aa54c-3d68-4a73-adcb-c6b7155da0fb' class='xr-var-data-in' type='checkbox'><label for='data-020aa54c-3d68-4a73-adcb-c6b7155da0fb' title='Show/Hide data repr'><svg class='icon xr-icon-database'><use xlink:href='#icon-database'></use></svg></label><div class='xr-var-attrs'><dl class='xr-attrs'><dt><span>long_name :</span></dt><dd>calibrated_radar_receiver_gain_h_cross_polar_channel</dd><dt><span>units :</span></dt><dd>db</dd><dt><span>meta_group :</span></dt><dd>radar_calibration</dd></dl></div><div class='xr-var-data'><pre>[1 values with dtype=float32]</pre></div></li><li class='xr-var-item'><div class='xr-var-name'><span>r_calib_receiver_gain_vx</span></div><div class='xr-var-dims'>(r_calib)</div><div class='xr-var-dtype'>float32</div><div class='xr-var-preview xr-preview'>...</div><input id='attrs-24f9f539-da6f-4644-a5b3-904475accf0e' class='xr-var-attrs-in' type='checkbox' ><label for='attrs-24f9f539-da6f-4644-a5b3-904475accf0e' title='Show/Hide attributes'><svg class='icon xr-icon-file-text2'><use xlink:href='#icon-file-text2'></use></svg></label><input id='data-128f4944-6c1e-45e4-ba8a-7cd5b4851c19' class='xr-var-data-in' type='checkbox'><label for='data-128f4944-6c1e-45e4-ba8a-7cd5b4851c19' title='Show/Hide data repr'><svg class='icon xr-icon-database'><use xlink:href='#icon-database'></use></svg></label><div class='xr-var-attrs'><dl class='xr-attrs'><dt><span>long_name :</span></dt><dd>calibrated_radar_receiver_gain_v_cross_polar_channel</dd><dt><span>units :</span></dt><dd>db</dd><dt><span>meta_group :</span></dt><dd>radar_calibration</dd></dl></div><div class='xr-var-data'><pre>[1 values with dtype=float32]</pre></div></li><li class='xr-var-item'><div class='xr-var-name'><span>r_calib_receiver_slope_hc</span></div><div class='xr-var-dims'>(r_calib)</div><div class='xr-var-dtype'>float32</div><div class='xr-var-preview xr-preview'>...</div><input id='attrs-4b1d1910-2d0e-4a6d-9c74-2e73586222f9' class='xr-var-attrs-in' type='checkbox' ><label for='attrs-4b1d1910-2d0e-4a6d-9c74-2e73586222f9' title='Show/Hide attributes'><svg class='icon xr-icon-file-text2'><use xlink:href='#icon-file-text2'></use></svg></label><input id='data-1ebc360b-d773-407a-bfd6-54e2f24861ce' class='xr-var-data-in' type='checkbox'><label for='data-1ebc360b-d773-407a-bfd6-54e2f24861ce' title='Show/Hide data repr'><svg class='icon xr-icon-database'><use xlink:href='#icon-database'></use></svg></label><div class='xr-var-attrs'><dl class='xr-attrs'><dt><span>long_name :</span></dt><dd>calibrated_radar_receiver_slope_h_co_polar_channel</dd><dt><span>units :</span></dt><dd></dd><dt><span>meta_group :</span></dt><dd>radar_calibration</dd></dl></div><div class='xr-var-data'><pre>[1 values with dtype=float32]</pre></div></li><li class='xr-var-item'><div class='xr-var-name'><span>r_calib_receiver_slope_vc</span></div><div class='xr-var-dims'>(r_calib)</div><div class='xr-var-dtype'>float32</div><div class='xr-var-preview xr-preview'>...</div><input id='attrs-6dab3e7d-8e64-43a4-8e9a-53185af21915' class='xr-var-attrs-in' type='checkbox' ><label for='attrs-6dab3e7d-8e64-43a4-8e9a-53185af21915' title='Show/Hide attributes'><svg class='icon xr-icon-file-text2'><use xlink:href='#icon-file-text2'></use></svg></label><input id='data-f0cc9e78-6cbb-480f-aac1-5ea477acfe6a' class='xr-var-data-in' type='checkbox'><label for='data-f0cc9e78-6cbb-480f-aac1-5ea477acfe6a' title='Show/Hide data repr'><svg class='icon xr-icon-database'><use xlink:href='#icon-database'></use></svg></label><div class='xr-var-attrs'><dl class='xr-attrs'><dt><span>long_name :</span></dt><dd>calibrated_radar_receiver_slope_v_co_polar_channel</dd><dt><span>units :</span></dt><dd></dd><dt><span>meta_group :</span></dt><dd>radar_calibration</dd></dl></div><div class='xr-var-data'><pre>[1 values with dtype=float32]</pre></div></li><li class='xr-var-item'><div class='xr-var-name'><span>r_calib_receiver_slope_hx</span></div><div class='xr-var-dims'>(r_calib)</div><div class='xr-var-dtype'>float32</div><div class='xr-var-preview xr-preview'>...</div><input id='attrs-c5683de6-4def-456a-8c19-96c43515a865' class='xr-var-attrs-in' type='checkbox' ><label for='attrs-c5683de6-4def-456a-8c19-96c43515a865' title='Show/Hide attributes'><svg class='icon xr-icon-file-text2'><use xlink:href='#icon-file-text2'></use></svg></label><input id='data-0e8b9709-f493-4f06-a6ff-063e892a7c13' class='xr-var-data-in' type='checkbox'><label for='data-0e8b9709-f493-4f06-a6ff-063e892a7c13' title='Show/Hide data repr'><svg class='icon xr-icon-database'><use xlink:href='#icon-database'></use></svg></label><div class='xr-var-attrs'><dl class='xr-attrs'><dt><span>long_name :</span></dt><dd>calibrated_radar_receiver_slope_h_cross_polar_channel</dd><dt><span>units :</span></dt><dd></dd><dt><span>meta_group :</span></dt><dd>radar_calibration</dd></dl></div><div class='xr-var-data'><pre>[1 values with dtype=float32]</pre></div></li><li class='xr-var-item'><div class='xr-var-name'><span>r_calib_receiver_slope_vx</span></div><div class='xr-var-dims'>(r_calib)</div><div class='xr-var-dtype'>float32</div><div class='xr-var-preview xr-preview'>...</div><input id='attrs-0c2b6b45-5752-4d9b-982e-2c516b58306f' class='xr-var-attrs-in' type='checkbox' ><label for='attrs-0c2b6b45-5752-4d9b-982e-2c516b58306f' title='Show/Hide attributes'><svg class='icon xr-icon-file-text2'><use xlink:href='#icon-file-text2'></use></svg></label><input id='data-05726b0e-cf48-48d9-993c-d19295dfcaff' class='xr-var-data-in' type='checkbox'><label for='data-05726b0e-cf48-48d9-993c-d19295dfcaff' title='Show/Hide data repr'><svg class='icon xr-icon-database'><use xlink:href='#icon-database'></use></svg></label><div class='xr-var-attrs'><dl class='xr-attrs'><dt><span>long_name :</span></dt><dd>calibrated_radar_receiver_slope_v_cross_polar_channel</dd><dt><span>units :</span></dt><dd></dd><dt><span>meta_group :</span></dt><dd>radar_calibration</dd></dl></div><div class='xr-var-data'><pre>[1 values with dtype=float32]</pre></div></li><li class='xr-var-item'><div class='xr-var-name'><span>r_calib_dynamic_range_db_hc</span></div><div class='xr-var-dims'>(r_calib)</div><div class='xr-var-dtype'>float32</div><div class='xr-var-preview xr-preview'>...</div><input id='attrs-59e97aec-6e96-4bc5-8b4d-7cf1dbd84334' class='xr-var-attrs-in' type='checkbox' ><label for='attrs-59e97aec-6e96-4bc5-8b4d-7cf1dbd84334' title='Show/Hide attributes'><svg class='icon xr-icon-file-text2'><use xlink:href='#icon-file-text2'></use></svg></label><input id='data-12bafb3b-ab44-433c-96ea-0d67902f92aa' class='xr-var-data-in' type='checkbox'><label for='data-12bafb3b-ab44-433c-96ea-0d67902f92aa' title='Show/Hide data repr'><svg class='icon xr-icon-database'><use xlink:href='#icon-database'></use></svg></label><div class='xr-var-attrs'><dl class='xr-attrs'><dt><span>long_name :</span></dt><dd>r_calib_dynamic_range_db_hc</dd><dt><span>units :</span></dt><dd>db</dd><dt><span>meta_group :</span></dt><dd>radar_calibration</dd></dl></div><div class='xr-var-data'><pre>[1 values with dtype=float32]</pre></div></li><li class='xr-var-item'><div class='xr-var-name'><span>r_calib_dynamic_range_db_vc</span></div><div class='xr-var-dims'>(r_calib)</div><div class='xr-var-dtype'>float32</div><div class='xr-var-preview xr-preview'>...</div><input id='attrs-c0365487-602a-4b21-a8e0-665d2399ec79' class='xr-var-attrs-in' type='checkbox' ><label for='attrs-c0365487-602a-4b21-a8e0-665d2399ec79' title='Show/Hide attributes'><svg class='icon xr-icon-file-text2'><use xlink:href='#icon-file-text2'></use></svg></label><input id='data-6132a990-eccf-45be-9eae-7b9488d56a38' class='xr-var-data-in' type='checkbox'><label for='data-6132a990-eccf-45be-9eae-7b9488d56a38' title='Show/Hide data repr'><svg class='icon xr-icon-database'><use xlink:href='#icon-database'></use></svg></label><div class='xr-var-attrs'><dl class='xr-attrs'><dt><span>long_name :</span></dt><dd>r_calib_dynamic_range_db_vc</dd><dt><span>units :</span></dt><dd>db</dd><dt><span>meta_group :</span></dt><dd>radar_calibration</dd></dl></div><div class='xr-var-data'><pre>[1 values with dtype=float32]</pre></div></li><li class='xr-var-item'><div class='xr-var-name'><span>r_calib_dynamic_range_db_hx</span></div><div class='xr-var-dims'>(r_calib)</div><div class='xr-var-dtype'>float32</div><div class='xr-var-preview xr-preview'>...</div><input id='attrs-435bae7d-ec94-45f2-a68e-8bdca435035c' class='xr-var-attrs-in' type='checkbox' ><label for='attrs-435bae7d-ec94-45f2-a68e-8bdca435035c' title='Show/Hide attributes'><svg class='icon xr-icon-file-text2'><use xlink:href='#icon-file-text2'></use></svg></label><input id='data-97d048e0-fa0b-42f5-b372-dce6d034efb2' class='xr-var-data-in' type='checkbox'><label for='data-97d048e0-fa0b-42f5-b372-dce6d034efb2' title='Show/Hide data repr'><svg class='icon xr-icon-database'><use xlink:href='#icon-database'></use></svg></label><div class='xr-var-attrs'><dl class='xr-attrs'><dt><span>long_name :</span></dt><dd>r_calib_dynamic_range_db_hx</dd><dt><span>units :</span></dt><dd>db</dd><dt><span>meta_group :</span></dt><dd>radar_calibration</dd></dl></div><div class='xr-var-data'><pre>[1 values with dtype=float32]</pre></div></li><li class='xr-var-item'><div class='xr-var-name'><span>r_calib_dynamic_range_db_vx</span></div><div class='xr-var-dims'>(r_calib)</div><div class='xr-var-dtype'>float32</div><div class='xr-var-preview xr-preview'>...</div><input id='attrs-72dcaac9-4668-4bb2-8c12-38b6bdd3f2c9' class='xr-var-attrs-in' type='checkbox' ><label for='attrs-72dcaac9-4668-4bb2-8c12-38b6bdd3f2c9' title='Show/Hide attributes'><svg class='icon xr-icon-file-text2'><use xlink:href='#icon-file-text2'></use></svg></label><input id='data-48c0152b-57b3-4a59-8486-aca390311ac6' class='xr-var-data-in' type='checkbox'><label for='data-48c0152b-57b3-4a59-8486-aca390311ac6' title='Show/Hide data repr'><svg class='icon xr-icon-database'><use xlink:href='#icon-database'></use></svg></label><div class='xr-var-attrs'><dl class='xr-attrs'><dt><span>long_name :</span></dt><dd>r_calib_dynamic_range_db_vx</dd><dt><span>units :</span></dt><dd>db</dd><dt><span>meta_group :</span></dt><dd>radar_calibration</dd></dl></div><div class='xr-var-data'><pre>[1 values with dtype=float32]</pre></div></li><li class='xr-var-item'><div class='xr-var-name'><span>r_calib_base_dbz_1km_hc</span></div><div class='xr-var-dims'>(r_calib)</div><div class='xr-var-dtype'>float32</div><div class='xr-var-preview xr-preview'>...</div><input id='attrs-69f25582-b37d-4710-96e5-7d1ec64cbad2' class='xr-var-attrs-in' type='checkbox' ><label for='attrs-69f25582-b37d-4710-96e5-7d1ec64cbad2' title='Show/Hide attributes'><svg class='icon xr-icon-file-text2'><use xlink:href='#icon-file-text2'></use></svg></label><input id='data-962abb12-892c-4770-a4b2-b2d5ae05b618' class='xr-var-data-in' type='checkbox'><label for='data-962abb12-892c-4770-a4b2-b2d5ae05b618' title='Show/Hide data repr'><svg class='icon xr-icon-database'><use xlink:href='#icon-database'></use></svg></label><div class='xr-var-attrs'><dl class='xr-attrs'><dt><span>long_name :</span></dt><dd>radar_reflectivity_at_1km_at_zero_snr_h_co_polar_channel</dd><dt><span>units :</span></dt><dd>dBZ</dd><dt><span>meta_group :</span></dt><dd>radar_calibration</dd></dl></div><div class='xr-var-data'><pre>[1 values with dtype=float32]</pre></div></li><li class='xr-var-item'><div class='xr-var-name'><span>r_calib_base_dbz_1km_vc</span></div><div class='xr-var-dims'>(r_calib)</div><div class='xr-var-dtype'>float32</div><div class='xr-var-preview xr-preview'>...</div><input id='attrs-421f8571-9171-4bca-a20b-2716f4d83920' class='xr-var-attrs-in' type='checkbox' ><label for='attrs-421f8571-9171-4bca-a20b-2716f4d83920' title='Show/Hide attributes'><svg class='icon xr-icon-file-text2'><use xlink:href='#icon-file-text2'></use></svg></label><input id='data-5f547654-4f79-464d-b3e3-5c2f318b59f3' class='xr-var-data-in' type='checkbox'><label for='data-5f547654-4f79-464d-b3e3-5c2f318b59f3' title='Show/Hide data repr'><svg class='icon xr-icon-database'><use xlink:href='#icon-database'></use></svg></label><div class='xr-var-attrs'><dl class='xr-attrs'><dt><span>long_name :</span></dt><dd>radar_reflectivity_at_1km_at_zero_snr_v_co_polar_channel</dd><dt><span>units :</span></dt><dd>dBZ</dd><dt><span>meta_group :</span></dt><dd>radar_calibration</dd></dl></div><div class='xr-var-data'><pre>[1 values with dtype=float32]</pre></div></li><li class='xr-var-item'><div class='xr-var-name'><span>r_calib_base_dbz_1km_hx</span></div><div class='xr-var-dims'>(r_calib)</div><div class='xr-var-dtype'>float32</div><div class='xr-var-preview xr-preview'>...</div><input id='attrs-257d9284-0257-4f7f-b75f-76ce6b1c7125' class='xr-var-attrs-in' type='checkbox' ><label for='attrs-257d9284-0257-4f7f-b75f-76ce6b1c7125' title='Show/Hide attributes'><svg class='icon xr-icon-file-text2'><use xlink:href='#icon-file-text2'></use></svg></label><input id='data-c3664fc5-1d2d-4e88-a354-a04dcb66884c' class='xr-var-data-in' type='checkbox'><label for='data-c3664fc5-1d2d-4e88-a354-a04dcb66884c' title='Show/Hide data repr'><svg class='icon xr-icon-database'><use xlink:href='#icon-database'></use></svg></label><div class='xr-var-attrs'><dl class='xr-attrs'><dt><span>long_name :</span></dt><dd>radar_reflectivity_at_1km_at_zero_snr_h_cross_polar_channel</dd><dt><span>units :</span></dt><dd>dBZ</dd><dt><span>meta_group :</span></dt><dd>radar_calibration</dd></dl></div><div class='xr-var-data'><pre>[1 values with dtype=float32]</pre></div></li><li class='xr-var-item'><div class='xr-var-name'><span>r_calib_base_dbz_1km_vx</span></div><div class='xr-var-dims'>(r_calib)</div><div class='xr-var-dtype'>float32</div><div class='xr-var-preview xr-preview'>...</div><input id='attrs-cfd6c8c5-a471-4ad0-b352-3b4eec05a592' class='xr-var-attrs-in' type='checkbox' ><label for='attrs-cfd6c8c5-a471-4ad0-b352-3b4eec05a592' title='Show/Hide attributes'><svg class='icon xr-icon-file-text2'><use xlink:href='#icon-file-text2'></use></svg></label><input id='data-9c3cc89c-3386-443b-9bfe-204b921f2902' class='xr-var-data-in' type='checkbox'><label for='data-9c3cc89c-3386-443b-9bfe-204b921f2902' title='Show/Hide data repr'><svg class='icon xr-icon-database'><use xlink:href='#icon-database'></use></svg></label><div class='xr-var-attrs'><dl class='xr-attrs'><dt><span>long_name :</span></dt><dd>radar_reflectivity_at_1km_at_zero_snr_v_cross_polar_channel</dd><dt><span>units :</span></dt><dd>dBZ</dd><dt><span>meta_group :</span></dt><dd>radar_calibration</dd></dl></div><div class='xr-var-data'><pre>[1 values with dtype=float32]</pre></div></li><li class='xr-var-item'><div class='xr-var-name'><span>r_calib_sun_power_hc</span></div><div class='xr-var-dims'>(r_calib)</div><div class='xr-var-dtype'>float32</div><div class='xr-var-preview xr-preview'>...</div><input id='attrs-db912a74-baff-471f-988d-743ffdde3e45' class='xr-var-attrs-in' type='checkbox' ><label for='attrs-db912a74-baff-471f-988d-743ffdde3e45' title='Show/Hide attributes'><svg class='icon xr-icon-file-text2'><use xlink:href='#icon-file-text2'></use></svg></label><input id='data-e51705df-3e65-48a4-a76a-34ec9a09b58a' class='xr-var-data-in' type='checkbox'><label for='data-e51705df-3e65-48a4-a76a-34ec9a09b58a' title='Show/Hide data repr'><svg class='icon xr-icon-database'><use xlink:href='#icon-database'></use></svg></label><div class='xr-var-attrs'><dl class='xr-attrs'><dt><span>long_name :</span></dt><dd>calibrated_radar_sun_power_h_co_polar_channel</dd><dt><span>units :</span></dt><dd>dBm</dd><dt><span>meta_group :</span></dt><dd>radar_calibration</dd></dl></div><div class='xr-var-data'><pre>[1 values with dtype=float32]</pre></div></li><li class='xr-var-item'><div class='xr-var-name'><span>r_calib_sun_power_vc</span></div><div class='xr-var-dims'>(r_calib)</div><div class='xr-var-dtype'>float32</div><div class='xr-var-preview xr-preview'>...</div><input id='attrs-d4bcda61-fb6b-4419-b5d0-ec3c6194f176' class='xr-var-attrs-in' type='checkbox' ><label for='attrs-d4bcda61-fb6b-4419-b5d0-ec3c6194f176' title='Show/Hide attributes'><svg class='icon xr-icon-file-text2'><use xlink:href='#icon-file-text2'></use></svg></label><input id='data-c076eaf3-e250-4efa-8c18-d0446aa4779c' class='xr-var-data-in' type='checkbox'><label for='data-c076eaf3-e250-4efa-8c18-d0446aa4779c' title='Show/Hide data repr'><svg class='icon xr-icon-database'><use xlink:href='#icon-database'></use></svg></label><div class='xr-var-attrs'><dl class='xr-attrs'><dt><span>long_name :</span></dt><dd>calibrated_radar_sun_power_v_co_polar_channel</dd><dt><span>units :</span></dt><dd>dBm</dd><dt><span>meta_group :</span></dt><dd>radar_calibration</dd></dl></div><div class='xr-var-data'><pre>[1 values with dtype=float32]</pre></div></li><li class='xr-var-item'><div class='xr-var-name'><span>r_calib_sun_power_hx</span></div><div class='xr-var-dims'>(r_calib)</div><div class='xr-var-dtype'>float32</div><div class='xr-var-preview xr-preview'>...</div><input id='attrs-907b7b11-73c5-4006-806f-984a2355ef9f' class='xr-var-attrs-in' type='checkbox' ><label for='attrs-907b7b11-73c5-4006-806f-984a2355ef9f' title='Show/Hide attributes'><svg class='icon xr-icon-file-text2'><use xlink:href='#icon-file-text2'></use></svg></label><input id='data-346cc4e6-da4f-4a08-887a-a56a4abb8e1b' class='xr-var-data-in' type='checkbox'><label for='data-346cc4e6-da4f-4a08-887a-a56a4abb8e1b' title='Show/Hide data repr'><svg class='icon xr-icon-database'><use xlink:href='#icon-database'></use></svg></label><div class='xr-var-attrs'><dl class='xr-attrs'><dt><span>long_name :</span></dt><dd>calibrated_radar_sun_power_h_cross_polar_channel</dd><dt><span>units :</span></dt><dd>dBm</dd><dt><span>meta_group :</span></dt><dd>radar_calibration</dd></dl></div><div class='xr-var-data'><pre>[1 values with dtype=float32]</pre></div></li><li class='xr-var-item'><div class='xr-var-name'><span>r_calib_sun_power_vx</span></div><div class='xr-var-dims'>(r_calib)</div><div class='xr-var-dtype'>float32</div><div class='xr-var-preview xr-preview'>...</div><input id='attrs-7ec1fc5f-9721-4590-bc0b-8f4b8e5070ef' class='xr-var-attrs-in' type='checkbox' ><label for='attrs-7ec1fc5f-9721-4590-bc0b-8f4b8e5070ef' title='Show/Hide attributes'><svg class='icon xr-icon-file-text2'><use xlink:href='#icon-file-text2'></use></svg></label><input id='data-7c2e610a-e159-42a8-9e97-e5e8cf0903e2' class='xr-var-data-in' type='checkbox'><label for='data-7c2e610a-e159-42a8-9e97-e5e8cf0903e2' title='Show/Hide data repr'><svg class='icon xr-icon-database'><use xlink:href='#icon-database'></use></svg></label><div class='xr-var-attrs'><dl class='xr-attrs'><dt><span>long_name :</span></dt><dd>calibrated_radar_sun_power_v_cross_polar_channel</dd><dt><span>units :</span></dt><dd>dBm</dd><dt><span>meta_group :</span></dt><dd>radar_calibration</dd></dl></div><div class='xr-var-data'><pre>[1 values with dtype=float32]</pre></div></li><li class='xr-var-item'><div class='xr-var-name'><span>r_calib_noise_source_power_h</span></div><div class='xr-var-dims'>(r_calib)</div><div class='xr-var-dtype'>float32</div><div class='xr-var-preview xr-preview'>...</div><input id='attrs-eb9e4a08-5927-4a03-b4aa-fdbd2371c5b5' class='xr-var-attrs-in' type='checkbox' ><label for='attrs-eb9e4a08-5927-4a03-b4aa-fdbd2371c5b5' title='Show/Hide attributes'><svg class='icon xr-icon-file-text2'><use xlink:href='#icon-file-text2'></use></svg></label><input id='data-073c8087-e3ba-4f2a-8ee7-f39b4225e546' class='xr-var-data-in' type='checkbox'><label for='data-073c8087-e3ba-4f2a-8ee7-f39b4225e546' title='Show/Hide data repr'><svg class='icon xr-icon-database'><use xlink:href='#icon-database'></use></svg></label><div class='xr-var-attrs'><dl class='xr-attrs'><dt><span>long_name :</span></dt><dd>radar_calibration_noise_source_power_h_channel</dd><dt><span>units :</span></dt><dd>dBm</dd><dt><span>meta_group :</span></dt><dd>radar_calibration</dd></dl></div><div class='xr-var-data'><pre>[1 values with dtype=float32]</pre></div></li><li class='xr-var-item'><div class='xr-var-name'><span>r_calib_noise_source_power_v</span></div><div class='xr-var-dims'>(r_calib)</div><div class='xr-var-dtype'>float32</div><div class='xr-var-preview xr-preview'>...</div><input id='attrs-671137be-e102-45ea-9621-b6dc0d8d321d' class='xr-var-attrs-in' type='checkbox' ><label for='attrs-671137be-e102-45ea-9621-b6dc0d8d321d' title='Show/Hide attributes'><svg class='icon xr-icon-file-text2'><use xlink:href='#icon-file-text2'></use></svg></label><input id='data-7959a915-b401-4580-b8b7-9b26c824d227' class='xr-var-data-in' type='checkbox'><label for='data-7959a915-b401-4580-b8b7-9b26c824d227' title='Show/Hide data repr'><svg class='icon xr-icon-database'><use xlink:href='#icon-database'></use></svg></label><div class='xr-var-attrs'><dl class='xr-attrs'><dt><span>long_name :</span></dt><dd>radar_calibration_noise_source_power_v_channel</dd><dt><span>units :</span></dt><dd>dBm</dd><dt><span>meta_group :</span></dt><dd>radar_calibration</dd></dl></div><div class='xr-var-data'><pre>[1 values with dtype=float32]</pre></div></li><li class='xr-var-item'><div class='xr-var-name'><span>r_calib_power_measure_loss_h</span></div><div class='xr-var-dims'>(r_calib)</div><div class='xr-var-dtype'>float32</div><div class='xr-var-preview xr-preview'>...</div><input id='attrs-312bc93b-f700-4315-a596-3015f45c8056' class='xr-var-attrs-in' type='checkbox' ><label for='attrs-312bc93b-f700-4315-a596-3015f45c8056' title='Show/Hide attributes'><svg class='icon xr-icon-file-text2'><use xlink:href='#icon-file-text2'></use></svg></label><input id='data-0f9de5c7-4fe5-452b-9d8f-5b990e3a5e6a' class='xr-var-data-in' type='checkbox'><label for='data-0f9de5c7-4fe5-452b-9d8f-5b990e3a5e6a' title='Show/Hide data repr'><svg class='icon xr-icon-database'><use xlink:href='#icon-database'></use></svg></label><div class='xr-var-attrs'><dl class='xr-attrs'><dt><span>long_name :</span></dt><dd>radar_calibration_power_measurement_loss_h_channel</dd><dt><span>units :</span></dt><dd>db</dd><dt><span>meta_group :</span></dt><dd>radar_calibration</dd></dl></div><div class='xr-var-data'><pre>[1 values with dtype=float32]</pre></div></li><li class='xr-var-item'><div class='xr-var-name'><span>r_calib_power_measure_loss_v</span></div><div class='xr-var-dims'>(r_calib)</div><div class='xr-var-dtype'>float32</div><div class='xr-var-preview xr-preview'>...</div><input id='attrs-eeb704dc-1bb2-41cb-8444-ee8a3550f013' class='xr-var-attrs-in' type='checkbox' ><label for='attrs-eeb704dc-1bb2-41cb-8444-ee8a3550f013' title='Show/Hide attributes'><svg class='icon xr-icon-file-text2'><use xlink:href='#icon-file-text2'></use></svg></label><input id='data-c32a4f2a-7ef1-476a-a32e-cda0445a8df8' class='xr-var-data-in' type='checkbox'><label for='data-c32a4f2a-7ef1-476a-a32e-cda0445a8df8' title='Show/Hide data repr'><svg class='icon xr-icon-database'><use xlink:href='#icon-database'></use></svg></label><div class='xr-var-attrs'><dl class='xr-attrs'><dt><span>long_name :</span></dt><dd>radar_calibration_power_measurement_loss_v_channel</dd><dt><span>units :</span></dt><dd>db</dd><dt><span>meta_group :</span></dt><dd>radar_calibration</dd></dl></div><div class='xr-var-data'><pre>[1 values with dtype=float32]</pre></div></li><li class='xr-var-item'><div class='xr-var-name'><span>r_calib_coupler_forward_loss_h</span></div><div class='xr-var-dims'>(r_calib)</div><div class='xr-var-dtype'>float32</div><div class='xr-var-preview xr-preview'>...</div><input id='attrs-b0f8e919-359a-4c1b-bce2-fdaf46acad7d' class='xr-var-attrs-in' type='checkbox' ><label for='attrs-b0f8e919-359a-4c1b-bce2-fdaf46acad7d' title='Show/Hide attributes'><svg class='icon xr-icon-file-text2'><use xlink:href='#icon-file-text2'></use></svg></label><input id='data-d9d7c881-3502-4d3f-903f-ac148b36e87b' class='xr-var-data-in' type='checkbox'><label for='data-d9d7c881-3502-4d3f-903f-ac148b36e87b' title='Show/Hide data repr'><svg class='icon xr-icon-database'><use xlink:href='#icon-database'></use></svg></label><div class='xr-var-attrs'><dl class='xr-attrs'><dt><span>long_name :</span></dt><dd>radar_calibration_coupler_forward_loss_h_channel</dd><dt><span>units :</span></dt><dd>db</dd><dt><span>meta_group :</span></dt><dd>radar_calibration</dd></dl></div><div class='xr-var-data'><pre>[1 values with dtype=float32]</pre></div></li><li class='xr-var-item'><div class='xr-var-name'><span>r_calib_coupler_forward_loss_v</span></div><div class='xr-var-dims'>(r_calib)</div><div class='xr-var-dtype'>float32</div><div class='xr-var-preview xr-preview'>...</div><input id='attrs-62d553ef-5a5f-4800-820c-184563d3ace1' class='xr-var-attrs-in' type='checkbox' ><label for='attrs-62d553ef-5a5f-4800-820c-184563d3ace1' title='Show/Hide attributes'><svg class='icon xr-icon-file-text2'><use xlink:href='#icon-file-text2'></use></svg></label><input id='data-1e9b62e8-860c-4fe3-9d3e-56d9222b1613' class='xr-var-data-in' type='checkbox'><label for='data-1e9b62e8-860c-4fe3-9d3e-56d9222b1613' title='Show/Hide data repr'><svg class='icon xr-icon-database'><use xlink:href='#icon-database'></use></svg></label><div class='xr-var-attrs'><dl class='xr-attrs'><dt><span>long_name :</span></dt><dd>radar_calibration_coupler_forward_loss_v_channel</dd><dt><span>units :</span></dt><dd>db</dd><dt><span>meta_group :</span></dt><dd>radar_calibration</dd></dl></div><div class='xr-var-data'><pre>[1 values with dtype=float32]</pre></div></li><li class='xr-var-item'><div class='xr-var-name'><span>r_calib_dbz_correction</span></div><div class='xr-var-dims'>(r_calib)</div><div class='xr-var-dtype'>float32</div><div class='xr-var-preview xr-preview'>...</div><input id='attrs-9627262c-51d4-4801-80e5-24d5b962c2ff' class='xr-var-attrs-in' type='checkbox' ><label for='attrs-9627262c-51d4-4801-80e5-24d5b962c2ff' title='Show/Hide attributes'><svg class='icon xr-icon-file-text2'><use xlink:href='#icon-file-text2'></use></svg></label><input id='data-258fdeb3-a3df-434e-a1d1-56c229a0af13' class='xr-var-data-in' type='checkbox'><label for='data-258fdeb3-a3df-434e-a1d1-56c229a0af13' title='Show/Hide data repr'><svg class='icon xr-icon-database'><use xlink:href='#icon-database'></use></svg></label><div class='xr-var-attrs'><dl class='xr-attrs'><dt><span>long_name :</span></dt><dd>calibrated_radar_dbz_correction</dd><dt><span>units :</span></dt><dd>db</dd><dt><span>meta_group :</span></dt><dd>radar_calibration</dd></dl></div><div class='xr-var-data'><pre>[1 values with dtype=float32]</pre></div></li><li class='xr-var-item'><div class='xr-var-name'><span>r_calib_zdr_correction</span></div><div class='xr-var-dims'>(r_calib)</div><div class='xr-var-dtype'>float32</div><div class='xr-var-preview xr-preview'>...</div><input id='attrs-a5d0a4e7-dc34-4149-a410-f9d7d6786978' class='xr-var-attrs-in' type='checkbox' ><label for='attrs-a5d0a4e7-dc34-4149-a410-f9d7d6786978' title='Show/Hide attributes'><svg class='icon xr-icon-file-text2'><use xlink:href='#icon-file-text2'></use></svg></label><input id='data-c8de75ec-1b6d-4285-889f-db92b40adcfd' class='xr-var-data-in' type='checkbox'><label for='data-c8de75ec-1b6d-4285-889f-db92b40adcfd' title='Show/Hide data repr'><svg class='icon xr-icon-database'><use xlink:href='#icon-database'></use></svg></label><div class='xr-var-attrs'><dl class='xr-attrs'><dt><span>long_name :</span></dt><dd>calibrated_radar_zdr_correction</dd><dt><span>units :</span></dt><dd>db</dd><dt><span>meta_group :</span></dt><dd>radar_calibration</dd></dl></div><div class='xr-var-data'><pre>[1 values with dtype=float32]</pre></div></li><li class='xr-var-item'><div class='xr-var-name'><span>r_calib_ldr_correction_h</span></div><div class='xr-var-dims'>(r_calib)</div><div class='xr-var-dtype'>float32</div><div class='xr-var-preview xr-preview'>...</div><input id='attrs-e71978c0-bb7c-49e1-976b-244cb6a88bdb' class='xr-var-attrs-in' type='checkbox' ><label for='attrs-e71978c0-bb7c-49e1-976b-244cb6a88bdb' title='Show/Hide attributes'><svg class='icon xr-icon-file-text2'><use xlink:href='#icon-file-text2'></use></svg></label><input id='data-1583b55b-9f90-4840-a743-b53062cc330b' class='xr-var-data-in' type='checkbox'><label for='data-1583b55b-9f90-4840-a743-b53062cc330b' title='Show/Hide data repr'><svg class='icon xr-icon-database'><use xlink:href='#icon-database'></use></svg></label><div class='xr-var-attrs'><dl class='xr-attrs'><dt><span>long_name :</span></dt><dd>calibrated_radar_ldr_correction_h_channel</dd><dt><span>units :</span></dt><dd>db</dd><dt><span>meta_group :</span></dt><dd>radar_calibration</dd></dl></div><div class='xr-var-data'><pre>[1 values with dtype=float32]</pre></div></li><li class='xr-var-item'><div class='xr-var-name'><span>r_calib_ldr_correction_v</span></div><div class='xr-var-dims'>(r_calib)</div><div class='xr-var-dtype'>float32</div><div class='xr-var-preview xr-preview'>...</div><input id='attrs-d408827c-5d2d-49bb-9175-533555804f91' class='xr-var-attrs-in' type='checkbox' ><label for='attrs-d408827c-5d2d-49bb-9175-533555804f91' title='Show/Hide attributes'><svg class='icon xr-icon-file-text2'><use xlink:href='#icon-file-text2'></use></svg></label><input id='data-e8286a2f-06d5-4627-85b1-ed8ce4993861' class='xr-var-data-in' type='checkbox'><label for='data-e8286a2f-06d5-4627-85b1-ed8ce4993861' title='Show/Hide data repr'><svg class='icon xr-icon-database'><use xlink:href='#icon-database'></use></svg></label><div class='xr-var-attrs'><dl class='xr-attrs'><dt><span>long_name :</span></dt><dd>calibrated_radar_ldr_correction_v_channel</dd><dt><span>units :</span></dt><dd>db</dd><dt><span>meta_group :</span></dt><dd>radar_calibration</dd></dl></div><div class='xr-var-data'><pre>[1 values with dtype=float32]</pre></div></li><li class='xr-var-item'><div class='xr-var-name'><span>r_calib_system_phidp</span></div><div class='xr-var-dims'>(r_calib)</div><div class='xr-var-dtype'>float32</div><div class='xr-var-preview xr-preview'>...</div><input id='attrs-766aff6a-e11d-4a84-94bb-a1b4742883a4' class='xr-var-attrs-in' type='checkbox' ><label for='attrs-766aff6a-e11d-4a84-94bb-a1b4742883a4' title='Show/Hide attributes'><svg class='icon xr-icon-file-text2'><use xlink:href='#icon-file-text2'></use></svg></label><input id='data-a51b920f-d0e4-44af-aacf-d21ea8e74745' class='xr-var-data-in' type='checkbox'><label for='data-a51b920f-d0e4-44af-aacf-d21ea8e74745' title='Show/Hide data repr'><svg class='icon xr-icon-database'><use xlink:href='#icon-database'></use></svg></label><div class='xr-var-attrs'><dl class='xr-attrs'><dt><span>long_name :</span></dt><dd>calibrated_radar_system_phidp</dd><dt><span>units :</span></dt><dd>degrees</dd><dt><span>meta_group :</span></dt><dd>radar_calibration</dd></dl></div><div class='xr-var-data'><pre>[1 values with dtype=float32]</pre></div></li><li class='xr-var-item'><div class='xr-var-name'><span>r_calib_test_power_h</span></div><div class='xr-var-dims'>(r_calib)</div><div class='xr-var-dtype'>float32</div><div class='xr-var-preview xr-preview'>...</div><input id='attrs-65231067-6b61-4f6a-84d0-f0be60c2709d' class='xr-var-attrs-in' type='checkbox' ><label for='attrs-65231067-6b61-4f6a-84d0-f0be60c2709d' title='Show/Hide attributes'><svg class='icon xr-icon-file-text2'><use xlink:href='#icon-file-text2'></use></svg></label><input id='data-51e108cc-5eab-4063-bbfa-08c7a473089d' class='xr-var-data-in' type='checkbox'><label for='data-51e108cc-5eab-4063-bbfa-08c7a473089d' title='Show/Hide data repr'><svg class='icon xr-icon-database'><use xlink:href='#icon-database'></use></svg></label><div class='xr-var-attrs'><dl class='xr-attrs'><dt><span>long_name :</span></dt><dd>radar_calibration_test_power_h_channel</dd><dt><span>units :</span></dt><dd>dBm</dd><dt><span>meta_group :</span></dt><dd>radar_calibration</dd></dl></div><div class='xr-var-data'><pre>[1 values with dtype=float32]</pre></div></li><li class='xr-var-item'><div class='xr-var-name'><span>r_calib_test_power_v</span></div><div class='xr-var-dims'>(r_calib)</div><div class='xr-var-dtype'>float32</div><div class='xr-var-preview xr-preview'>...</div><input id='attrs-72816832-1861-4f0d-b5db-5c6b891bcbc6' class='xr-var-attrs-in' type='checkbox' ><label for='attrs-72816832-1861-4f0d-b5db-5c6b891bcbc6' title='Show/Hide attributes'><svg class='icon xr-icon-file-text2'><use xlink:href='#icon-file-text2'></use></svg></label><input id='data-8d46074c-151d-42d4-884a-3d763346c8cf' class='xr-var-data-in' type='checkbox'><label for='data-8d46074c-151d-42d4-884a-3d763346c8cf' title='Show/Hide data repr'><svg class='icon xr-icon-database'><use xlink:href='#icon-database'></use></svg></label><div class='xr-var-attrs'><dl class='xr-attrs'><dt><span>long_name :</span></dt><dd>radar_calibration_test_power_v_channel</dd><dt><span>units :</span></dt><dd>dBm</dd><dt><span>meta_group :</span></dt><dd>radar_calibration</dd></dl></div><div class='xr-var-data'><pre>[1 values with dtype=float32]</pre></div></li><li class='xr-var-item'><div class='xr-var-name'><span>ray_n_gates</span></div><div class='xr-var-dims'>(time)</div><div class='xr-var-dtype'>float64</div><div class='xr-var-preview xr-preview'>...</div><input id='attrs-861f16d0-dd5c-49ff-a949-5dcb47dd3c58' class='xr-var-attrs-in' type='checkbox' ><label for='attrs-861f16d0-dd5c-49ff-a949-5dcb47dd3c58' title='Show/Hide attributes'><svg class='icon xr-icon-file-text2'><use xlink:href='#icon-file-text2'></use></svg></label><input id='data-ab9d59bd-90e4-46eb-8e16-0c1be267bf78' class='xr-var-data-in' type='checkbox'><label for='data-ab9d59bd-90e4-46eb-8e16-0c1be267bf78' title='Show/Hide data repr'><svg class='icon xr-icon-database'><use xlink:href='#icon-database'></use></svg></label><div class='xr-var-attrs'><dl class='xr-attrs'><dt><span>long_name :</span></dt><dd>number_of_gates</dd><dt><span>units :</span></dt><dd></dd></dl></div><div class='xr-var-data'><pre>[2880 values with dtype=float64]</pre></div></li><li class='xr-var-item'><div class='xr-var-name'><span>ray_start_index</span></div><div class='xr-var-dims'>(time)</div><div class='xr-var-dtype'>float64</div><div class='xr-var-preview xr-preview'>...</div><input id='attrs-aaa6036f-149a-4d8a-ac41-ad1e57a28591' class='xr-var-attrs-in' type='checkbox' ><label for='attrs-aaa6036f-149a-4d8a-ac41-ad1e57a28591' title='Show/Hide attributes'><svg class='icon xr-icon-file-text2'><use xlink:href='#icon-file-text2'></use></svg></label><input id='data-f2558ec2-805f-4482-a990-bbb163367bc3' class='xr-var-data-in' type='checkbox'><label for='data-f2558ec2-805f-4482-a990-bbb163367bc3' title='Show/Hide data repr'><svg class='icon xr-icon-database'><use xlink:href='#icon-database'></use></svg></label><div class='xr-var-attrs'><dl class='xr-attrs'><dt><span>long_name :</span></dt><dd>array_index_to_start_of_ray</dd><dt><span>units :</span></dt><dd></dd></dl></div><div class='xr-var-data'><pre>[2880 values with dtype=float64]</pre></div></li><li class='xr-var-item'><div class='xr-var-name'><span>ray_start_range</span></div><div class='xr-var-dims'>(time)</div><div class='xr-var-dtype'>float32</div><div class='xr-var-preview xr-preview'>...</div><input id='attrs-55b28ca0-081c-4d91-ae2f-35623756b957' class='xr-var-attrs-in' type='checkbox' ><label for='attrs-55b28ca0-081c-4d91-ae2f-35623756b957' title='Show/Hide attributes'><svg class='icon xr-icon-file-text2'><use xlink:href='#icon-file-text2'></use></svg></label><input id='data-016d16d1-993e-45af-b103-4634d4b0a2f6' class='xr-var-data-in' type='checkbox'><label for='data-016d16d1-993e-45af-b103-4634d4b0a2f6' title='Show/Hide data repr'><svg class='icon xr-icon-database'><use xlink:href='#icon-database'></use></svg></label><div class='xr-var-attrs'><dl class='xr-attrs'><dt><span>long_name :</span></dt><dd>start_range_for_ray</dd><dt><span>units :</span></dt><dd>meters</dd></dl></div><div class='xr-var-data'><pre>[2880 values with dtype=float32]</pre></div></li><li class='xr-var-item'><div class='xr-var-name'><span>ray_gate_spacing</span></div><div class='xr-var-dims'>(time)</div><div class='xr-var-dtype'>float32</div><div class='xr-var-preview xr-preview'>...</div><input id='attrs-b093b2ca-2fa5-4dac-b29e-a10bdde37f4f' class='xr-var-attrs-in' type='checkbox' ><label for='attrs-b093b2ca-2fa5-4dac-b29e-a10bdde37f4f' title='Show/Hide attributes'><svg class='icon xr-icon-file-text2'><use xlink:href='#icon-file-text2'></use></svg></label><input id='data-9adbc856-7573-4eec-80e9-6dd56f91c1d3' class='xr-var-data-in' type='checkbox'><label for='data-9adbc856-7573-4eec-80e9-6dd56f91c1d3' title='Show/Hide data repr'><svg class='icon xr-icon-database'><use xlink:href='#icon-database'></use></svg></label><div class='xr-var-attrs'><dl class='xr-attrs'><dt><span>long_name :</span></dt><dd>gate_spacing_for_ray</dd><dt><span>units :</span></dt><dd>meters</dd></dl></div><div class='xr-var-data'><pre>[2880 values with dtype=float32]</pre></div></li><li class='xr-var-item'><div class='xr-var-name'><span>azimuth</span></div><div class='xr-var-dims'>(time)</div><div class='xr-var-dtype'>float32</div><div class='xr-var-preview xr-preview'>...</div><input id='attrs-115bb64f-6235-4762-abe8-15744e306c32' class='xr-var-attrs-in' type='checkbox' ><label for='attrs-115bb64f-6235-4762-abe8-15744e306c32' title='Show/Hide attributes'><svg class='icon xr-icon-file-text2'><use xlink:href='#icon-file-text2'></use></svg></label><input id='data-7867c7ce-bd89-47aa-847e-f2f37a57370f' class='xr-var-data-in' type='checkbox'><label for='data-7867c7ce-bd89-47aa-847e-f2f37a57370f' title='Show/Hide data repr'><svg class='icon xr-icon-database'><use xlink:href='#icon-database'></use></svg></label><div class='xr-var-attrs'><dl class='xr-attrs'><dt><span>long_name :</span></dt><dd>ray_azimuth_angle</dd><dt><span>units :</span></dt><dd>degrees</dd></dl></div><div class='xr-var-data'><pre>[2880 values with dtype=float32]</pre></div></li><li class='xr-var-item'><div class='xr-var-name'><span>elevation</span></div><div class='xr-var-dims'>(time)</div><div class='xr-var-dtype'>float32</div><div class='xr-var-preview xr-preview'>...</div><input id='attrs-b45c0d79-7f1c-411a-bb9f-58f2324d8aee' class='xr-var-attrs-in' type='checkbox' ><label for='attrs-b45c0d79-7f1c-411a-bb9f-58f2324d8aee' title='Show/Hide attributes'><svg class='icon xr-icon-file-text2'><use xlink:href='#icon-file-text2'></use></svg></label><input id='data-56127c69-3393-4bbb-bb97-a5c2e332736d' class='xr-var-data-in' type='checkbox'><label for='data-56127c69-3393-4bbb-bb97-a5c2e332736d' title='Show/Hide data repr'><svg class='icon xr-icon-database'><use xlink:href='#icon-database'></use></svg></label><div class='xr-var-attrs'><dl class='xr-attrs'><dt><span>long_name :</span></dt><dd>ray_elevation_angle</dd><dt><span>units :</span></dt><dd>degrees</dd><dt><span>positive :</span></dt><dd>up</dd></dl></div><div class='xr-var-data'><pre>[2880 values with dtype=float32]</pre></div></li><li class='xr-var-item'><div class='xr-var-name'><span>pulse_width</span></div><div class='xr-var-dims'>(time)</div><div class='xr-var-dtype'>timedelta64[ns]</div><div class='xr-var-preview xr-preview'>...</div><input id='attrs-dbbdf8d3-3593-460c-93aa-33c3cfcae8b9' class='xr-var-attrs-in' type='checkbox' ><label for='attrs-dbbdf8d3-3593-460c-93aa-33c3cfcae8b9' title='Show/Hide attributes'><svg class='icon xr-icon-file-text2'><use xlink:href='#icon-file-text2'></use></svg></label><input id='data-29ac11b4-bba3-409d-b617-a5dbadf8ba50' class='xr-var-data-in' type='checkbox'><label for='data-29ac11b4-bba3-409d-b617-a5dbadf8ba50' title='Show/Hide data repr'><svg class='icon xr-icon-database'><use xlink:href='#icon-database'></use></svg></label><div class='xr-var-attrs'><dl class='xr-attrs'><dt><span>long_name :</span></dt><dd>transmitter_pulse_width</dd><dt><span>meta_group :</span></dt><dd>instrument_parameters</dd></dl></div><div class='xr-var-data'><pre>[2880 values with dtype=timedelta64[ns]]</pre></div></li><li class='xr-var-item'><div class='xr-var-name'><span>prt</span></div><div class='xr-var-dims'>(time)</div><div class='xr-var-dtype'>timedelta64[ns]</div><div class='xr-var-preview xr-preview'>...</div><input id='attrs-11166a61-1a59-4f58-bd2c-0bfc62761c0b' class='xr-var-attrs-in' type='checkbox' ><label for='attrs-11166a61-1a59-4f58-bd2c-0bfc62761c0b' title='Show/Hide attributes'><svg class='icon xr-icon-file-text2'><use xlink:href='#icon-file-text2'></use></svg></label><input id='data-00b00767-1268-4d2f-951f-bbcb92bd8807' class='xr-var-data-in' type='checkbox'><label for='data-00b00767-1268-4d2f-951f-bbcb92bd8807' title='Show/Hide data repr'><svg class='icon xr-icon-database'><use xlink:href='#icon-database'></use></svg></label><div class='xr-var-attrs'><dl class='xr-attrs'><dt><span>long_name :</span></dt><dd>pulse_repetition_time</dd><dt><span>meta_group :</span></dt><dd>instrument_parameters</dd></dl></div><div class='xr-var-data'><pre>[2880 values with dtype=timedelta64[ns]]</pre></div></li><li class='xr-var-item'><div class='xr-var-name'><span>prt_ratio</span></div><div class='xr-var-dims'>(time)</div><div class='xr-var-dtype'>timedelta64[ns]</div><div class='xr-var-preview xr-preview'>...</div><input id='attrs-a377f656-43c9-4c1e-941b-47da995ca0dd' class='xr-var-attrs-in' type='checkbox' ><label for='attrs-a377f656-43c9-4c1e-941b-47da995ca0dd' title='Show/Hide attributes'><svg class='icon xr-icon-file-text2'><use xlink:href='#icon-file-text2'></use></svg></label><input id='data-bff047d9-5bff-446c-b0bc-a5832c55fc29' class='xr-var-data-in' type='checkbox'><label for='data-bff047d9-5bff-446c-b0bc-a5832c55fc29' title='Show/Hide data repr'><svg class='icon xr-icon-database'><use xlink:href='#icon-database'></use></svg></label><div class='xr-var-attrs'><dl class='xr-attrs'><dt><span>long_name :</span></dt><dd>pulse_repetition_frequency_ratio</dd><dt><span>meta_group :</span></dt><dd>instrument_parameters</dd></dl></div><div class='xr-var-data'><pre>[2880 values with dtype=timedelta64[ns]]</pre></div></li><li class='xr-var-item'><div class='xr-var-name'><span>nyquist_velocity</span></div><div class='xr-var-dims'>(time)</div><div class='xr-var-dtype'>float32</div><div class='xr-var-preview xr-preview'>...</div><input id='attrs-3633e152-a901-46dc-9054-3c0e4655b769' class='xr-var-attrs-in' type='checkbox' ><label for='attrs-3633e152-a901-46dc-9054-3c0e4655b769' title='Show/Hide attributes'><svg class='icon xr-icon-file-text2'><use xlink:href='#icon-file-text2'></use></svg></label><input id='data-9694d832-8874-46f7-b554-d1355fafba54' class='xr-var-data-in' type='checkbox'><label for='data-9694d832-8874-46f7-b554-d1355fafba54' title='Show/Hide data repr'><svg class='icon xr-icon-database'><use xlink:href='#icon-database'></use></svg></label><div class='xr-var-attrs'><dl class='xr-attrs'><dt><span>long_name :</span></dt><dd>unambiguous_doppler_velocity</dd><dt><span>units :</span></dt><dd>meters per second</dd><dt><span>meta_group :</span></dt><dd>instrument_parameters</dd></dl></div><div class='xr-var-data'><pre>[2880 values with dtype=float32]</pre></div></li><li class='xr-var-item'><div class='xr-var-name'><span>unambiguous_range</span></div><div class='xr-var-dims'>(time)</div><div class='xr-var-dtype'>float32</div><div class='xr-var-preview xr-preview'>...</div><input id='attrs-1e142380-542a-4324-95aa-a797d8648325' class='xr-var-attrs-in' type='checkbox' ><label for='attrs-1e142380-542a-4324-95aa-a797d8648325' title='Show/Hide attributes'><svg class='icon xr-icon-file-text2'><use xlink:href='#icon-file-text2'></use></svg></label><input id='data-d06e6e48-da4b-49a0-ad69-805d7bdaab44' class='xr-var-data-in' type='checkbox'><label for='data-d06e6e48-da4b-49a0-ad69-805d7bdaab44' title='Show/Hide data repr'><svg class='icon xr-icon-database'><use xlink:href='#icon-database'></use></svg></label><div class='xr-var-attrs'><dl class='xr-attrs'><dt><span>long_name :</span></dt><dd>unambiguous_range</dd><dt><span>units :</span></dt><dd>meters</dd><dt><span>meta_group :</span></dt><dd>instrument_parameters</dd></dl></div><div class='xr-var-data'><pre>[2880 values with dtype=float32]</pre></div></li><li class='xr-var-item'><div class='xr-var-name'><span>antenna_transition</span></div><div class='xr-var-dims'>(time)</div><div class='xr-var-dtype'>float32</div><div class='xr-var-preview xr-preview'>...</div><input id='attrs-5a309705-c4ff-454b-ae81-329d9a7b6599' class='xr-var-attrs-in' type='checkbox' ><label for='attrs-5a309705-c4ff-454b-ae81-329d9a7b6599' title='Show/Hide attributes'><svg class='icon xr-icon-file-text2'><use xlink:href='#icon-file-text2'></use></svg></label><input id='data-b94b716c-e0af-4714-bc8f-faf393a34e76' class='xr-var-data-in' type='checkbox'><label for='data-b94b716c-e0af-4714-bc8f-faf393a34e76' title='Show/Hide data repr'><svg class='icon xr-icon-database'><use xlink:href='#icon-database'></use></svg></label><div class='xr-var-attrs'><dl class='xr-attrs'><dt><span>long_name :</span></dt><dd>antenna_is_in_transition_between_sweeps</dd><dt><span>units :</span></dt><dd></dd><dt><span>comment :</span></dt><dd>1 if antenna is in transition, 0 otherwise</dd></dl></div><div class='xr-var-data'><pre>[2880 values with dtype=float32]</pre></div></li><li class='xr-var-item'><div class='xr-var-name'><span>n_samples</span></div><div class='xr-var-dims'>(time)</div><div class='xr-var-dtype'>float64</div><div class='xr-var-preview xr-preview'>...</div><input id='attrs-70318d22-fdb9-4a9d-8c3f-996dcf41ae8b' class='xr-var-attrs-in' type='checkbox' ><label for='attrs-70318d22-fdb9-4a9d-8c3f-996dcf41ae8b' title='Show/Hide attributes'><svg class='icon xr-icon-file-text2'><use xlink:href='#icon-file-text2'></use></svg></label><input id='data-de7928b0-fca0-4649-a8b0-f49b14f03398' class='xr-var-data-in' type='checkbox'><label for='data-de7928b0-fca0-4649-a8b0-f49b14f03398' title='Show/Hide data repr'><svg class='icon xr-icon-database'><use xlink:href='#icon-database'></use></svg></label><div class='xr-var-attrs'><dl class='xr-attrs'><dt><span>long_name :</span></dt><dd>number_of_samples_used_to_compute_moments</dd><dt><span>units :</span></dt><dd></dd><dt><span>meta_group :</span></dt><dd>instrument_parameters</dd></dl></div><div class='xr-var-data'><pre>[2880 values with dtype=float64]</pre></div></li><li class='xr-var-item'><div class='xr-var-name'><span>r_calib_index</span></div><div class='xr-var-dims'>(time)</div><div class='xr-var-dtype'>float64</div><div class='xr-var-preview xr-preview'>...</div><input id='attrs-6741715f-82a9-4569-988b-7c0d96da10b9' class='xr-var-attrs-in' type='checkbox' ><label for='attrs-6741715f-82a9-4569-988b-7c0d96da10b9' title='Show/Hide attributes'><svg class='icon xr-icon-file-text2'><use xlink:href='#icon-file-text2'></use></svg></label><input id='data-7a64538b-01d9-42cb-b63d-7bf7ff32d636' class='xr-var-data-in' type='checkbox'><label for='data-7a64538b-01d9-42cb-b63d-7bf7ff32d636' title='Show/Hide data repr'><svg class='icon xr-icon-database'><use xlink:href='#icon-database'></use></svg></label><div class='xr-var-attrs'><dl class='xr-attrs'><dt><span>long_name :</span></dt><dd>calibration_data_array_index_per_ray</dd><dt><span>units :</span></dt><dd></dd><dt><span>meta_group :</span></dt><dd>radar_calibration</dd><dt><span>comment :</span></dt><dd>This is the index for the calibration which applies to this ray</dd></dl></div><div class='xr-var-data'><pre>[2880 values with dtype=float64]</pre></div></li><li class='xr-var-item'><div class='xr-var-name'><span>measured_transmit_power_h</span></div><div class='xr-var-dims'>(time)</div><div class='xr-var-dtype'>float32</div><div class='xr-var-preview xr-preview'>...</div><input id='attrs-51a8e9b6-9cf9-4706-af09-834487afd8c8' class='xr-var-attrs-in' type='checkbox' ><label for='attrs-51a8e9b6-9cf9-4706-af09-834487afd8c8' title='Show/Hide attributes'><svg class='icon xr-icon-file-text2'><use xlink:href='#icon-file-text2'></use></svg></label><input id='data-634a401c-78e3-4817-b431-b4ad50198110' class='xr-var-data-in' type='checkbox'><label for='data-634a401c-78e3-4817-b431-b4ad50198110' title='Show/Hide data repr'><svg class='icon xr-icon-database'><use xlink:href='#icon-database'></use></svg></label><div class='xr-var-attrs'><dl class='xr-attrs'><dt><span>long_name :</span></dt><dd>measured_radar_transmit_power_h_channel</dd><dt><span>units :</span></dt><dd>dBm</dd><dt><span>meta_group :</span></dt><dd>radar_parameters</dd></dl></div><div class='xr-var-data'><pre>[2880 values with dtype=float32]</pre></div></li><li class='xr-var-item'><div class='xr-var-name'><span>measured_transmit_power_v</span></div><div class='xr-var-dims'>(time)</div><div class='xr-var-dtype'>float32</div><div class='xr-var-preview xr-preview'>...</div><input id='attrs-22400c37-9515-4a37-9fca-e22aeff49f7c' class='xr-var-attrs-in' type='checkbox' ><label for='attrs-22400c37-9515-4a37-9fca-e22aeff49f7c' title='Show/Hide attributes'><svg class='icon xr-icon-file-text2'><use xlink:href='#icon-file-text2'></use></svg></label><input id='data-54ab8a6a-1633-4a9e-9c1f-fd1b65ce111a' class='xr-var-data-in' type='checkbox'><label for='data-54ab8a6a-1633-4a9e-9c1f-fd1b65ce111a' title='Show/Hide data repr'><svg class='icon xr-icon-database'><use xlink:href='#icon-database'></use></svg></label><div class='xr-var-attrs'><dl class='xr-attrs'><dt><span>long_name :</span></dt><dd>measured_radar_transmit_power_v_channel</dd><dt><span>units :</span></dt><dd>dBm</dd><dt><span>meta_group :</span></dt><dd>radar_parameters</dd></dl></div><div class='xr-var-data'><pre>[2880 values with dtype=float32]</pre></div></li><li class='xr-var-item'><div class='xr-var-name'><span>scan_rate</span></div><div class='xr-var-dims'>(time)</div><div class='xr-var-dtype'>float32</div><div class='xr-var-preview xr-preview'>...</div><input id='attrs-6b7734d7-dc36-47ce-9617-c08ba832404e' class='xr-var-attrs-in' type='checkbox' ><label for='attrs-6b7734d7-dc36-47ce-9617-c08ba832404e' title='Show/Hide attributes'><svg class='icon xr-icon-file-text2'><use xlink:href='#icon-file-text2'></use></svg></label><input id='data-2018ba2c-e8a1-475d-b07c-400ee83d0f9d' class='xr-var-data-in' type='checkbox'><label for='data-2018ba2c-e8a1-475d-b07c-400ee83d0f9d' title='Show/Hide data repr'><svg class='icon xr-icon-database'><use xlink:href='#icon-database'></use></svg></label><div class='xr-var-attrs'><dl class='xr-attrs'><dt><span>long_name :</span></dt><dd>antenna_angle_scan_rate</dd><dt><span>units :</span></dt><dd>degrees per second</dd><dt><span>meta_group :</span></dt><dd>instrument_parameters</dd></dl></div><div class='xr-var-data'><pre>[2880 values with dtype=float32]</pre></div></li><li class='xr-var-item'><div class='xr-var-name'><span>REF</span></div><div class='xr-var-dims'>(n_points)</div><div class='xr-var-dtype'>float32</div><div class='xr-var-preview xr-preview'>...</div><input id='attrs-4d4b7a10-e367-468f-b6a7-a23e1bde5b78' class='xr-var-attrs-in' type='checkbox' ><label for='attrs-4d4b7a10-e367-468f-b6a7-a23e1bde5b78' title='Show/Hide attributes'><svg class='icon xr-icon-file-text2'><use xlink:href='#icon-file-text2'></use></svg></label><input id='data-22791fc6-c62f-43aa-8f77-5d922950e79d' class='xr-var-data-in' type='checkbox'><label for='data-22791fc6-c62f-43aa-8f77-5d922950e79d' title='Show/Hide data repr'><svg class='icon xr-icon-database'><use xlink:href='#icon-database'></use></svg></label><div class='xr-var-attrs'><dl class='xr-attrs'><dt><span>long_name :</span></dt><dd>radar_reflectivity</dd><dt><span>standard_name :</span></dt><dd>equivalent_reflectivity_factor</dd><dt><span>units :</span></dt><dd>dBZ</dd><dt><span>sampling_ratio :</span></dt><dd>1.0</dd><dt><span>grid_mapping :</span></dt><dd>grid_mapping</dd></dl></div><div class='xr-var-data'><pre>[4165920 values with dtype=float32]</pre></div></li><li class='xr-var-item'><div class='xr-var-name'><span>VEL</span></div><div class='xr-var-dims'>(n_points)</div><div class='xr-var-dtype'>float32</div><div class='xr-var-preview xr-preview'>...</div><input id='attrs-c45f9972-98dd-4b95-8dcf-87c3b32963b3' class='xr-var-attrs-in' type='checkbox' ><label for='attrs-c45f9972-98dd-4b95-8dcf-87c3b32963b3' title='Show/Hide attributes'><svg class='icon xr-icon-file-text2'><use xlink:href='#icon-file-text2'></use></svg></label><input id='data-ce7d5a9a-9c46-4956-aa67-35b6124efd0a' class='xr-var-data-in' type='checkbox'><label for='data-ce7d5a9a-9c46-4956-aa67-35b6124efd0a' title='Show/Hide data repr'><svg class='icon xr-icon-database'><use xlink:href='#icon-database'></use></svg></label><div class='xr-var-attrs'><dl class='xr-attrs'><dt><span>long_name :</span></dt><dd>radial_velocity</dd><dt><span>standard_name :</span></dt><dd>radial_velocity_of_scatterers_away_from_instrument</dd><dt><span>units :</span></dt><dd>m/s</dd><dt><span>sampling_ratio :</span></dt><dd>1.0</dd><dt><span>grid_mapping :</span></dt><dd>grid_mapping</dd></dl></div><div class='xr-var-data'><pre>[4165920 values with dtype=float32]</pre></div></li><li class='xr-var-item'><div class='xr-var-name'><span>SW</span></div><div class='xr-var-dims'>(n_points)</div><div class='xr-var-dtype'>float32</div><div class='xr-var-preview xr-preview'>...</div><input id='attrs-7c393d2b-cea8-4c2c-ae0d-a3be46a3962b' class='xr-var-attrs-in' type='checkbox' ><label for='attrs-7c393d2b-cea8-4c2c-ae0d-a3be46a3962b' title='Show/Hide attributes'><svg class='icon xr-icon-file-text2'><use xlink:href='#icon-file-text2'></use></svg></label><input id='data-eb4df074-5f71-4e64-b0fa-f5c3a8bfdb46' class='xr-var-data-in' type='checkbox'><label for='data-eb4df074-5f71-4e64-b0fa-f5c3a8bfdb46' title='Show/Hide data repr'><svg class='icon xr-icon-database'><use xlink:href='#icon-database'></use></svg></label><div class='xr-var-attrs'><dl class='xr-attrs'><dt><span>long_name :</span></dt><dd>spectrum_width</dd><dt><span>standard_name :</span></dt><dd>doppler_spectrum_width</dd><dt><span>units :</span></dt><dd>m/s</dd><dt><span>sampling_ratio :</span></dt><dd>1.0</dd><dt><span>grid_mapping :</span></dt><dd>grid_mapping</dd></dl></div><div class='xr-var-data'><pre>[4165920 values with dtype=float32]</pre></div></li><li class='xr-var-item'><div class='xr-var-name'><span>ZDR</span></div><div class='xr-var-dims'>(n_points)</div><div class='xr-var-dtype'>float32</div><div class='xr-var-preview xr-preview'>...</div><input id='attrs-3bb66fb5-915d-4574-8dfb-52b731f927a5' class='xr-var-attrs-in' type='checkbox' ><label for='attrs-3bb66fb5-915d-4574-8dfb-52b731f927a5' title='Show/Hide attributes'><svg class='icon xr-icon-file-text2'><use xlink:href='#icon-file-text2'></use></svg></label><input id='data-ef54c06f-75d1-4196-abec-2842ff792ba6' class='xr-var-data-in' type='checkbox'><label for='data-ef54c06f-75d1-4196-abec-2842ff792ba6' title='Show/Hide data repr'><svg class='icon xr-icon-database'><use xlink:href='#icon-database'></use></svg></label><div class='xr-var-attrs'><dl class='xr-attrs'><dt><span>long_name :</span></dt><dd>differential_reflectivity</dd><dt><span>standard_name :</span></dt><dd>log_differential_reflectivity_hv</dd><dt><span>units :</span></dt><dd>dB</dd><dt><span>sampling_ratio :</span></dt><dd>1.0</dd><dt><span>grid_mapping :</span></dt><dd>grid_mapping</dd></dl></div><div class='xr-var-data'><pre>[4165920 values with dtype=float32]</pre></div></li><li class='xr-var-item'><div class='xr-var-name'><span>PHI</span></div><div class='xr-var-dims'>(n_points)</div><div class='xr-var-dtype'>float32</div><div class='xr-var-preview xr-preview'>...</div><input id='attrs-1fa8f73a-9cd0-41c1-a1e3-9d5c5e43316a' class='xr-var-attrs-in' type='checkbox' ><label for='attrs-1fa8f73a-9cd0-41c1-a1e3-9d5c5e43316a' title='Show/Hide attributes'><svg class='icon xr-icon-file-text2'><use xlink:href='#icon-file-text2'></use></svg></label><input id='data-e62515ff-07e2-4c44-8808-90b8122cd643' class='xr-var-data-in' type='checkbox'><label for='data-e62515ff-07e2-4c44-8808-90b8122cd643' title='Show/Hide data repr'><svg class='icon xr-icon-database'><use xlink:href='#icon-database'></use></svg></label><div class='xr-var-attrs'><dl class='xr-attrs'><dt><span>long_name :</span></dt><dd>differential_phase</dd><dt><span>standard_name :</span></dt><dd>differential_phase_hv</dd><dt><span>units :</span></dt><dd>deg</dd><dt><span>sampling_ratio :</span></dt><dd>1.0</dd><dt><span>grid_mapping :</span></dt><dd>grid_mapping</dd></dl></div><div class='xr-var-data'><pre>[4165920 values with dtype=float32]</pre></div></li><li class='xr-var-item'><div class='xr-var-name'><span>RHO</span></div><div class='xr-var-dims'>(n_points)</div><div class='xr-var-dtype'>float32</div><div class='xr-var-preview xr-preview'>...</div><input id='attrs-6a917cdf-0412-43e5-bd07-62f8ee75d8f1' class='xr-var-attrs-in' type='checkbox' ><label for='attrs-6a917cdf-0412-43e5-bd07-62f8ee75d8f1' title='Show/Hide attributes'><svg class='icon xr-icon-file-text2'><use xlink:href='#icon-file-text2'></use></svg></label><input id='data-f3009690-16bd-4e12-aa67-b23d51700907' class='xr-var-data-in' type='checkbox'><label for='data-f3009690-16bd-4e12-aa67-b23d51700907' title='Show/Hide data repr'><svg class='icon xr-icon-database'><use xlink:href='#icon-database'></use></svg></label><div class='xr-var-attrs'><dl class='xr-attrs'><dt><span>long_name :</span></dt><dd>cross_correlation</dd><dt><span>standard_name :</span></dt><dd>cross_correlation_ratio_hv</dd><dt><span>units :</span></dt><dd></dd><dt><span>sampling_ratio :</span></dt><dd>1.0</dd><dt><span>grid_mapping :</span></dt><dd>grid_mapping</dd></dl></div><div class='xr-var-data'><pre>[4165920 values with dtype=float32]</pre></div></li><li class='xr-var-item'><div class='xr-var-name'><span>REF_s1</span></div><div class='xr-var-dims'>(n_points)</div><div class='xr-var-dtype'>float32</div><div class='xr-var-preview xr-preview'>...</div><input id='attrs-dd473bcd-7985-486b-9f40-e0991e74738a' class='xr-var-attrs-in' type='checkbox' ><label for='attrs-dd473bcd-7985-486b-9f40-e0991e74738a' title='Show/Hide attributes'><svg class='icon xr-icon-file-text2'><use xlink:href='#icon-file-text2'></use></svg></label><input id='data-5c36fd3a-fc58-47af-9580-daa4431aae7e' class='xr-var-data-in' type='checkbox'><label for='data-5c36fd3a-fc58-47af-9580-daa4431aae7e' title='Show/Hide data repr'><svg class='icon xr-icon-database'><use xlink:href='#icon-database'></use></svg></label><div class='xr-var-attrs'><dl class='xr-attrs'><dt><span>long_name :</span></dt><dd>radar_reflectivity</dd><dt><span>standard_name :</span></dt><dd>equivalent_reflectivity_factor</dd><dt><span>units :</span></dt><dd>dBZ</dd><dt><span>sampling_ratio :</span></dt><dd>1.0</dd><dt><span>grid_mapping :</span></dt><dd>grid_mapping</dd></dl></div><div class='xr-var-data'><pre>[4165920 values with dtype=float32]</pre></div></li><li class='xr-var-item'><div class='xr-var-name'><span>REF_s3</span></div><div class='xr-var-dims'>(n_points)</div><div class='xr-var-dtype'>float32</div><div class='xr-var-preview xr-preview'>...</div><input id='attrs-fb1ca92d-fe65-445a-894a-8016b95c115c' class='xr-var-attrs-in' type='checkbox' ><label for='attrs-fb1ca92d-fe65-445a-894a-8016b95c115c' title='Show/Hide attributes'><svg class='icon xr-icon-file-text2'><use xlink:href='#icon-file-text2'></use></svg></label><input id='data-947417bd-31f2-43bd-afe8-2f400ab19609' class='xr-var-data-in' type='checkbox'><label for='data-947417bd-31f2-43bd-afe8-2f400ab19609' title='Show/Hide data repr'><svg class='icon xr-icon-database'><use xlink:href='#icon-database'></use></svg></label><div class='xr-var-attrs'><dl class='xr-attrs'><dt><span>long_name :</span></dt><dd>radar_reflectivity</dd><dt><span>standard_name :</span></dt><dd>equivalent_reflectivity_factor</dd><dt><span>units :</span></dt><dd>dBZ</dd><dt><span>sampling_ratio :</span></dt><dd>1.0</dd><dt><span>grid_mapping :</span></dt><dd>grid_mapping</dd></dl></div><div class='xr-var-data'><pre>[4165920 values with dtype=float32]</pre></div></li><li class='xr-var-item'><div class='xr-var-name'><span>REF_s5</span></div><div class='xr-var-dims'>(n_points)</div><div class='xr-var-dtype'>float32</div><div class='xr-var-preview xr-preview'>...</div><input id='attrs-58e98013-66ad-4ba4-8f28-c32838ea6897' class='xr-var-attrs-in' type='checkbox' ><label for='attrs-58e98013-66ad-4ba4-8f28-c32838ea6897' title='Show/Hide attributes'><svg class='icon xr-icon-file-text2'><use xlink:href='#icon-file-text2'></use></svg></label><input id='data-17f10501-64eb-431b-a808-3ef172ba437f' class='xr-var-data-in' type='checkbox'><label for='data-17f10501-64eb-431b-a808-3ef172ba437f' title='Show/Hide data repr'><svg class='icon xr-icon-database'><use xlink:href='#icon-database'></use></svg></label><div class='xr-var-attrs'><dl class='xr-attrs'><dt><span>long_name :</span></dt><dd>radar_reflectivity</dd><dt><span>standard_name :</span></dt><dd>equivalent_reflectivity_factor</dd><dt><span>units :</span></dt><dd>dBZ</dd><dt><span>sampling_ratio :</span></dt><dd>1.0</dd><dt><span>grid_mapping :</span></dt><dd>grid_mapping</dd></dl></div><div class='xr-var-data'><pre>[4165920 values with dtype=float32]</pre></div></li></ul></div></li><li class='xr-section-item'><input id='section-8cad8df6-a82a-4d67-897b-2d651665ddcf' class='xr-section-summary-in' type='checkbox'  ><label for='section-8cad8df6-a82a-4d67-897b-2d651665ddcf' class='xr-section-summary' >Indexes: <span>(3)</span></label><div class='xr-section-inline-details'></div><div class='xr-section-details'><ul class='xr-var-list'><li class='xr-var-item'><div class='xr-index-name'><div>frequency</div></div><div class='xr-index-preview'>PandasIndex</div><div></div><input id='index-babbb176-b565-4f6e-825c-4d19d4e83a9b' class='xr-index-data-in' type='checkbox'/><label for='index-babbb176-b565-4f6e-825c-4d19d4e83a9b' title='Show/Hide index repr'><svg class='icon xr-icon-database'><use xlink:href='#icon-database'></use></svg></label><div class='xr-index-data'><pre>PandasIndex(Index([2770000000.0], dtype=&#x27;float32&#x27;, name=&#x27;frequency&#x27;))</pre></div></li><li class='xr-var-item'><div class='xr-index-name'><div>time</div></div><div class='xr-index-preview'>PandasIndex</div><div></div><input id='index-ea0908c8-e9a3-4505-a15a-f3eced7c6f40' class='xr-index-data-in' type='checkbox'/><label for='index-ea0908c8-e9a3-4505-a15a-f3eced7c6f40' title='Show/Hide index repr'><svg class='icon xr-icon-database'><use xlink:href='#icon-database'></use></svg></label><div class='xr-index-data'><pre>PandasIndex(DatetimeIndex([&#x27;2017-04-08 00:14:52.962000&#x27;, &#x27;2017-04-08 00:14:53.065000&#x27;,\n",
       "               &#x27;2017-04-08 00:14:53.155000&#x27;, &#x27;2017-04-08 00:14:53.260000&#x27;,\n",
       "               &#x27;2017-04-08 00:14:53.363000&#x27;, &#x27;2017-04-08 00:14:53.466000&#x27;,\n",
       "               &#x27;2017-04-08 00:14:53.553000&#x27;, &#x27;2017-04-08 00:14:53.661000&#x27;,\n",
       "               &#x27;2017-04-08 00:14:53.753000&#x27;, &#x27;2017-04-08 00:14:53.858000&#x27;,\n",
       "               ...\n",
       "               &#x27;2017-04-08 00:23:19.155000&#x27;, &#x27;2017-04-08 00:23:19.361000&#x27;,\n",
       "               &#x27;2017-04-08 00:23:19.558000&#x27;, &#x27;2017-04-08 00:23:19.762000&#x27;,\n",
       "               &#x27;2017-04-08 00:23:19.957000&#x27;, &#x27;2017-04-08 00:23:20.154000&#x27;,\n",
       "               &#x27;2017-04-08 00:23:20.358000&#x27;, &#x27;2017-04-08 00:23:20.548000&#x27;,\n",
       "               &#x27;2017-04-08 00:23:20.745000&#x27;, &#x27;2017-04-08 00:23:20.954000&#x27;],\n",
       "              dtype=&#x27;datetime64[ns]&#x27;, name=&#x27;time&#x27;, length=2880, freq=None))</pre></div></li><li class='xr-var-item'><div class='xr-index-name'><div>range</div></div><div class='xr-index-preview'>PandasIndex</div><div></div><input id='index-bef27a88-0fe8-4ef8-9bae-b44840df657c' class='xr-index-data-in' type='checkbox'/><label for='index-bef27a88-0fe8-4ef8-9bae-b44840df657c' title='Show/Hide index repr'><svg class='icon xr-icon-database'><use xlink:href='#icon-database'></use></svg></label><div class='xr-index-data'><pre>PandasIndex(Index([  2125.0,   2375.0,   2625.0,   2875.0,   3125.0,   3375.0,   3625.0,\n",
       "         3875.0,   4125.0,   4375.0,\n",
       "       ...\n",
       "       457625.0, 457875.0, 458125.0, 458375.0, 458625.0, 458875.0, 459125.0,\n",
       "       459375.0, 459625.0, 459875.0],\n",
       "      dtype=&#x27;float32&#x27;, name=&#x27;range&#x27;, length=1832))</pre></div></li></ul></div></li><li class='xr-section-item'><input id='section-d885e3d4-f204-4242-b13a-050efb622de8' class='xr-section-summary-in' type='checkbox'  ><label for='section-d885e3d4-f204-4242-b13a-050efb622de8' class='xr-section-summary' >Attributes: <span>(25)</span></label><div class='xr-section-inline-details'></div><div class='xr-section-details'><dl class='xr-attrs'><dt><span>Conventions :</span></dt><dd>CF-1.7</dd><dt><span>Sub_conventions :</span></dt><dd>CF-Radial instrument_parameters radar_parameters radar_calibration</dd><dt><span>version :</span></dt><dd>CF-Radial-1.4</dd><dt><span>title :</span></dt><dd></dd><dt><span>institution :</span></dt><dd></dd><dt><span>references :</span></dt><dd></dd><dt><span>source :</span></dt><dd>ARCHIVE 2 data</dd><dt><span>history :</span></dt><dd></dd><dt><span>comment :</span></dt><dd></dd><dt><span>original_format :</span></dt><dd>NEXRAD</dd><dt><span>driver :</span></dt><dd>RadxConvert(NCAR)</dd><dt><span>created :</span></dt><dd>2019/07/01 19:57:10.145</dd><dt><span>start_datetime :</span></dt><dd>2017-04-08T00:14:52Z</dd><dt><span>time_coverage_start :</span></dt><dd>2017-04-08T00:14:52Z</dd><dt><span>start_time :</span></dt><dd>2017-04-08 00:14:52.962</dd><dt><span>end_datetime :</span></dt><dd>2017-04-08T00:23:20Z</dd><dt><span>time_coverage_end :</span></dt><dd>2017-04-08T00:23:20Z</dd><dt><span>end_time :</span></dt><dd>2017-04-08 00:23:20.954</dd><dt><span>instrument_name :</span></dt><dd>KARX</dd><dt><span>site_name :</span></dt><dd></dd><dt><span>scan_name :</span></dt><dd>Surveillance</dd><dt><span>scan_id :</span></dt><dd>31</dd><dt><span>platform_is_mobile :</span></dt><dd>false</dd><dt><span>n_gates_vary :</span></dt><dd>true</dd><dt><span>ray_times_increase :</span></dt><dd>true</dd></dl></div></li></ul></div></div>"
      ],
      "text/plain": [
       "<xarray.Dataset>\n",
       "Dimensions:                           (frequency: 1, sweep: 5, r_calib: 1,\n",
       "                                       time: 2880, range: 1832,\n",
       "                                       n_points: 4165920)\n",
       "Coordinates:\n",
       "  * frequency                         (frequency) float32 2.77e+09\n",
       "  * time                              (time) datetime64[ns] 2017-04-08T00:14:...\n",
       "  * range                             (range) float32 2.125e+03 ... 4.599e+05\n",
       "Dimensions without coordinates: sweep, r_calib, n_points\n",
       "Data variables: (12/109)\n",
       "    volume_number                     float64 ...\n",
       "    platform_type                     |S32 ...\n",
       "    primary_axis                      |S32 ...\n",
       "    status_xml                        |S1 ...\n",
       "    instrument_type                   |S32 ...\n",
       "    radar_antenna_gain_h              float32 ...\n",
       "    ...                                ...\n",
       "    ZDR                               (n_points) float32 ...\n",
       "    PHI                               (n_points) float32 ...\n",
       "    RHO                               (n_points) float32 ...\n",
       "    REF_s1                            (n_points) float32 ...\n",
       "    REF_s3                            (n_points) float32 ...\n",
       "    REF_s5                            (n_points) float32 ...\n",
       "Attributes: (12/25)\n",
       "    Conventions:          CF-1.7\n",
       "    Sub_conventions:      CF-Radial instrument_parameters radar_parameters ra...\n",
       "    version:              CF-Radial-1.4\n",
       "    title:                \n",
       "    institution:          \n",
       "    references:           \n",
       "    ...                   ...\n",
       "    site_name:            \n",
       "    scan_name:            Surveillance\n",
       "    scan_id:              31\n",
       "    platform_is_mobile:   false\n",
       "    n_gates_vary:         true\n",
       "    ray_times_increase:   true"
      ]
     },
     "metadata": {},
     "output_type": "display_data"
    }
   ],
   "source": [
    "# read datase\n",
    "#ds = xr.open_dataset(\"/Users/brenda/data/mdv/mrms_3d/20150626/20150626_230012.mdv.nc\")\n",
    "ds = xr.open_dataset(\"/Users/brenda/data/cfrad.20170408_001452.962_to_20170408_002320.954_KARX_Surveillance_SUR.nc\")\n",
    "\n",
    "# df = local_dataset.to_dataframe()  # convert to dataframe\n",
    "display(ds)"
   ]
  },
  {
   "cell_type": "code",
   "execution_count": null,
   "id": "58b4d3e6-88ed-4932-8e0c-a0f5c02e8beb",
   "metadata": {},
   "outputs": [],
   "source": [
    "center = (52.204793, 360.121558)\n",
    "\n",
    "m = Map(basemap=basemaps.CartoDB.Positron, center=center, zoom=10)\n",
    "\n",
    "marker = Marker(location=center, draggable=True)\n",
    "m.add(marker);\n",
    "\n",
    "display(m)"
   ]
  },
  {
   "cell_type": "code",
   "execution_count": 165,
   "id": "792371ff-ad5f-4f33-b31e-6c2424cee1c6",
   "metadata": {},
   "outputs": [
    {
     "data": {
      "text/plain": [
       "['REF', 'VEL', 'SW', 'ZDR', 'PHI', 'RHO', 'REF_s1', 'REF_s3', 'REF_s5']"
      ]
     },
     "execution_count": 165,
     "metadata": {},
     "output_type": "execute_result"
    }
   ],
   "source": [
    "ds.REF\n",
    "ds.frequency\n",
    "ds.attrs\n",
    "vars = ds.data_vars\n",
    "type(vars)\n",
    "#len(vars['REF'])\n",
    "# get the moments by mapping a length function across the dataset variables\n",
    "# a variable is a moment if it has length equal to the number of points\n",
    "#list(map(type, list(vars.values()))) # they are all of type xarray.core.dataarray.DataArray\n",
    "#list(len(vars.values()))     # list(map(len, vars.values()))\n",
    "\n",
    "#vl = list(vars.values())\n",
    "#vars['REF'].size\n",
    "#list(ds.keys())\n",
    "\n",
    "\n",
    "\n",
    "# map function across dataset\n",
    "def right_size(var):\n",
    "    if var.size == 4165920:\n",
    "        return True\n",
    "    return False\n",
    "\n",
    "def right_dim(var):\n",
    "    if len(var.dims) > 2:\n",
    "        return True\n",
    "    return False\n",
    "\n",
    "#mylist = ds.map(right_size)\n",
    "\n",
    "#mylist.reduce()\n",
    "\n",
    "\n",
    "#myvars  = ds.data_vars  # returns a dictionary of DataArray objects\n",
    "#my_dictionary = dict(map(lambda item: (item[0], right_size(item[1])), myvars.items()))\n",
    "\n",
    "# alright, I am getting mideval, I am using a for loop to grab the field names with the desired dimension.\n",
    "# TODO: replace the for loop with a map/reduce thingy.\n",
    "moments = list([k for (k, v) in myvars.items() if right_size(v)])\n",
    "moments\n"
   ]
  },
  {
   "cell_type": "code",
   "execution_count": 110,
   "id": "abaae31d-653b-47c4-9dac-b48e722e5405",
   "metadata": {},
   "outputs": [
    {
     "data": {
      "application/vnd.jupyter.widget-view+json": {
       "model_id": "6e58c8e1a05646ab8de3644e1bf05a05",
       "version_major": 2,
       "version_minor": 0
      },
      "text/plain": [
       "Dropdown(description='Moments:', options=('REF', 'VEL', 'SW', 'ZDR', 'PHI', 'RHO', 'REF_s1', 'REF_s3', 'REF_s5…"
      ]
     },
     "metadata": {},
     "output_type": "display_data"
    },
    {
     "data": {
      "application/vnd.jupyter.widget-view+json": {
       "model_id": "7d74f14cf2754910bebf7a3b45562b31",
       "version_major": 2,
       "version_minor": 0
      },
      "text/plain": [
       "Output()"
      ]
     },
     "metadata": {},
     "output_type": "display_data"
    }
   ],
   "source": [
    "import ipywidgets as widgets\n",
    "fieldlistview = widgets.widgets.Dropdown(\n",
    "    options=moments,  # [('One', 1), ('Two', 2), ('Three', 3)],\n",
    "    value=moments[0],\n",
    "    description='Moments:',\n",
    ")\n",
    "output = widgets.Output()\n",
    "\n",
    "display(fieldlistview, output)\n",
    "\n",
    "\n",
    "#def on_button_clicked(b):\n",
    "#    with output:\n",
    "#        print(\"Button clicked. zoom level \")\n",
    "#    with m:\n",
    "#        # m.zoom = 8\n",
    "#        m = Map(center=(35, -92), zoom=8)\n",
    "        \n",
    "\n",
    "#button.on_click(on_button_clicked)\n",
    "\n",
    "#output2 = widgets.Output()\n",
    "\n",
    "\n",
    "#def on_value_change(change):\n",
    "#    with output2:\n",
    "#        print(change['new'])\n",
    "\n",
    "#m.observe(on_value_change, names='zoom')\n",
    "\n",
    "#def on_field_selected(change):\n",
    "#    with output2:\n",
    "#        print(change['new'])\n",
    "        \n",
    "#field_list = widgets.Select(\n",
    "#    options=  # ['DBZ', 'VEL', '??'],\n",
    "#    value='DBZ',\n",
    "#    # rows=10,\n",
    "#    description='moment or field to display:',\n",
    "#    disabled=False\n",
    "#)"
   ]
  },
  {
   "cell_type": "code",
   "execution_count": 138,
   "id": "3aa52aa2-9c30-4cc6-8876-fb7b45718a20",
   "metadata": {},
   "outputs": [],
   "source": [
    "\n",
    "def raw_to_masked_float(var, data):\n",
    "    # Values come back signed. If the _Unsigned attribute is set, we need to convert\n",
    "    # from the range [-127, 128] to [0, 255].\n",
    "    if var._Unsigned:\n",
    "        data = data & 255\n",
    "\n",
    "    # Mask missing points\n",
    "    data = np.ma.array(data, mask=data==0)\n",
    "\n",
    "    # Convert to float using the scale and offset\n",
    "    return data * var.scale_factor + var.add_offset\n",
    "\n",
    "def polar_to_cartesian(az, rng):\n",
    "    az_rad = np.deg2rad(az)[:, None]\n",
    "    x = rng * np.sin(az_rad)\n",
    "    y = rng * np.cos(az_rad)\n",
    "    return x, y"
   ]
  },
  {
   "cell_type": "code",
   "execution_count": 164,
   "id": "f263e4fb-6b40-456b-a913-00fc545caec5",
   "metadata": {},
   "outputs": [
    {
     "data": {
      "text/plain": [
       "Data variables:\n",
       "    start_time      (time) datetime64[ns] ...\n",
       "    stop_time       (time) datetime64[ns] ...\n",
       "    time_bounds     (time, bounds) datetime64[ns] ...\n",
       "    grid_mapping_0  int32 ...\n",
       "    REF             (time, z0, y0, x0) float32 ...\n",
       "    VEL             (time, z0, y0, x0) float32 ...\n",
       "    SW              (time, z0, y0, x0) float32 ...\n",
       "    ZDR             (time, z0, y0, x0) float32 ...\n",
       "    PHI             (time, z0, y0, x0) float32 ...\n",
       "    RHO             (time, z0, y0, x0) float32 ...\n",
       "    PURPLE_HAZE     (time, z0, y0, x0) float32 ..."
      ]
     },
     "metadata": {},
     "output_type": "display_data"
    }
   ],
   "source": [
    "sweep = 0\n",
    "#ref_var = data.variables['Reflectivity_HI']\n",
    "ref_var = ds.variables['REF']\n",
    "ref_data = ref_var[0:15]\n",
    "ref_data.data\n",
    "#rng = data.variables['distanceR_HI'][:]\n",
    "#az = data.variables['azimuthR_HI'][sweep]\n",
    "\n",
    "az = vars['azimuth']\n",
    "az = az[0:15]\n",
    "az.data\n",
    "\n",
    "# range = ds.range\n",
    "# display(range.data.size, az.data.size)\n",
    "\n",
    "## Then convert the raw data to floating point values and the polar coordinates to Cartesian.\n",
    "\n",
    "# ref = raw_to_masked_float(ref_var, ref_data)\n",
    "#x, y = polar_to_cartesian(az, rng)\n",
    "\n",
    "ds_cart = xr.open_dataset(\"/Users/brenda/data/for_mica/ncf_20161006_191339.nc\")\n",
    "\n",
    "# df = local_dataset.to_dataframe()  # convert to dataframe\n",
    "#display(ds_cart)\n",
    "display(ds_cart.data_vars)"
   ]
  },
  {
   "cell_type": "code",
   "execution_count": 167,
   "id": "05219eae-e002-40ab-992e-3d3bf5732294",
   "metadata": {},
   "outputs": [
    {
     "data": {
      "application/vnd.jupyter.widget-view+json": {
       "model_id": "6687aeb8eff34f6bb2a8f4a79c14c5f7",
       "version_major": 2,
       "version_minor": 0
      },
      "text/plain": [
       "Dropdown(description='Moments:', options=('REF', 'VEL', 'SW', 'ZDR', 'PHI', 'RHO', 'PURPLE_HAZE'), value='REF'…"
      ]
     },
     "metadata": {},
     "output_type": "display_data"
    },
    {
     "data": {
      "application/vnd.jupyter.widget-view+json": {
       "model_id": "409c45d79e1d4595a8b1678d4a9a239a",
       "version_major": 2,
       "version_minor": 0
      },
      "text/plain": [
       "Output()"
      ]
     },
     "metadata": {},
     "output_type": "display_data"
    }
   ],
   "source": [
    "rho = ds_cart.RHO\n",
    "len(rho.dims)\n",
    "\n",
    "moments_cart = list([k for (k, v) in ds_cart.data_vars.items() if right_dim(v)])\n",
    "moments_cart\n",
    "\n",
    "fieldlistviewcart = widgets.widgets.Dropdown(\n",
    "    options=moments_cart,  # [('One', 1), ('Two', 2), ('Three', 3)],\n",
    "    value=moments[0],\n",
    "    description='Moments:',\n",
    ")\n",
    "output = widgets.Output()\n",
    "\n",
    "display(fieldlistviewcart, output)\n",
    "\n",
    "##ds.x0[0]\n",
    "#xy = np.meshgrid(ds.x0, ds.y0)\n",
    "#xy"
   ]
  },
  {
   "cell_type": "code",
   "execution_count": 5,
   "id": "ac34af0c-d79b-4fc1-b925-e39197008f3c",
   "metadata": {},
   "outputs": [
    {
     "data": {
      "text/plain": [
       "<matplotlib.collections.QuadMesh at 0x1685340e0>"
      ]
     },
     "execution_count": 5,
     "metadata": {},
     "output_type": "execute_result"
    },
    {
     "data": {
      "image/png": "[encoded data removed]",
      "text/plain": [
       "<Figure size 640x480 with 2 Axes>"
      ]
     },
     "metadata": {},
     "output_type": "display_data"
    }
   ],
   "source": [
    "ds.DBZ[0,0,:,:].plot()\n",
    "# uses very basic matplotlib plot operation. "
   ]
  },
  {
   "cell_type": "code",
   "execution_count": 9,
   "id": "1da3e560-d5e3-4c49-9594-f4f00c226b2b",
   "metadata": {},
   "outputs": [
    {
     "data": {
      "text/plain": [
       "(1505, 2005)"
      ]
     },
     "metadata": {},
     "output_type": "display_data"
    }
   ],
   "source": [
    "dbz = ds.DBZ\n",
    "# dbz = df[\"DBZ\"]\n",
    "\n",
    "#dbz.index\n",
    "\n",
    "#dbz2 = local_dataset[\"DBZ\"]\n",
    "#display(dbz)\n",
    "# (time, z0, y0, x0)\n",
    "dbzt0z0 = dbz[0,0,:,:]\n",
    "dbz_xy = np.squeeze(dbzt0z0).shape\n",
    "display(dbz_xy)\n",
    "#dbznp = dbzt0z0.tolist()\n",
    "\n",
    "#display(dbznp[3017524])\n",
    "#dbz[1,1]\n",
    "\n",
    "# lats = f1.variables[\"y0\"][:]\n",
    "# lons = f1.variables[\"x0\"][:]\n",
    "# time = f1.variables[\"time\"]"
   ]
  },
  {
   "cell_type": "code",
   "execution_count": 10,
   "id": "d1f93036-e2ac-4b4a-81af-517938ce8148",
   "metadata": {},
   "outputs": [
    {
     "data": {
      "text/plain": [
       "3017525"
      ]
     },
     "execution_count": 10,
     "metadata": {},
     "output_type": "execute_result"
    }
   ],
   "source": [
    "#                      (time, z0, y0, x0)\n",
    "time_i = 0\n",
    "z0_i = 0\n",
    "y0_i = 0\n",
    "dbz = np.array(np.squeeze(ds.DBZ[time_i,z0_i,:,:])).reshape(-1)\n",
    "#dbz = np.squeeze(ds.DBZ[time_i,z0_i,0:1505:500,0:2004:80])\n",
    "#dbz_sample = dbz * -1/10 # [0:5, 0:5]  dbz has two dimensions: x0, y0!!! try .to_stacked_array \n",
    "#type(dbz_sample.to_numpy().tolist())\n",
    "#dbz_sample.to_numpy().tolist()\n",
    "len(dbz)"
   ]
  },
  {
   "cell_type": "code",
   "execution_count": null,
   "id": "5808109b-be70-4c17-8223-f15043f2cf11",
   "metadata": {},
   "outputs": [],
   "source": [
    "a = np.array((1,2,3))\n",
    "b = np.array((82,83,84))\n",
    "np.column_stack((a,b)).tolist()\n",
    "av = np.array(np.meshgrid(a,b)).T.reshape(-1,2)\n",
    "av\n",
    "# the grid is rectangular (x0 and y0 have different lengths\n",
    "#x0y0 = np.column_stack((ds.x0,ds.y0)).tolist()  \n",
    "\n",
    "t = ((11,21),(12,22),(13,23))\n",
    "type(t)\n",
    "\n",
    "g = np.random.uniform(-80, 80, (n, 2))\n",
    "type(g)\n",
    "np.column_stack((g,b)).tolist()\n",
    "# print(dbz[110,50].values)\n",
    "#somedata = np.random.uniform(-80, 80, (25, 2))\n",
    "#display(somedata)"
   ]
  },
  {
   "cell_type": "code",
   "execution_count": null,
   "id": "f7381bef-f311-4309-bf82-b5e8e1cc273b",
   "metadata": {},
   "outputs": [],
   "source": [
    "n = 3\n",
    "h = np.random.uniform(-80, 80, (n, 2))\n",
    "h\n",
    "#np.column_stack( h, [0,1,3])"
   ]
  },
  {
   "cell_type": "code",
   "execution_count": null,
   "id": "5fe6ffc0-cc8f-452a-aae2-0ba048748595",
   "metadata": {},
   "outputs": [],
   "source": [
    "bx = [0, 2, 4, 6]\n",
    "by = [0,-2,-4,-6]\n",
    "yx = np.array(np.meshgrid(by, bx)).T.reshape(-1,2)\n",
    "yx"
   ]
  },
  {
   "cell_type": "code",
   "execution_count": 11,
   "id": "01e0a94c-c516-4268-a0b6-6d1c75beff89",
   "metadata": {},
   "outputs": [
    {
     "data": {
      "text/plain": [
       "array([[  29.984999, -110.015015],\n",
       "       [  29.984999, -110.00501 ],\n",
       "       [  29.984999, -109.99502 ],\n",
       "       ...,\n",
       "       [  45.024998,  -89.99501 ],\n",
       "       [  45.024998,  -89.985016],\n",
       "       [  45.024998,  -89.97501 ]], dtype=float32)"
      ]
     },
     "execution_count": 11,
     "metadata": {},
     "output_type": "execute_result"
    }
   ],
   "source": [
    "#a = np.array((1,2,3))\n",
    "#b = np.array((82,83,84))\n",
    "#np.column_stack((a,b)).tolist()\n",
    "\n",
    "av = np.array(np.meshgrid(ds.y0,ds.x0)).T.reshape(-1,2)\n",
    "av_sample = av   # [0:1000:40]  \n",
    "av_sample\n",
    "#av_sample.tolist()\n",
    "#av.size\n",
    "#ds.x0.size * ds.y0.size\n",
    "# the grid is rectangular (x0 and y0 have different lengths\n",
    "#x0y0 = np.column_stack((ds.x0,ds.y0)).tolist()  "
   ]
  },
  {
   "cell_type": "code",
   "execution_count": 12,
   "id": "06e10092-fa0b-454c-b9a5-681c00665eec",
   "metadata": {},
   "outputs": [],
   "source": [
    "class MdvMap:\n",
    "    def __init__(self, points, values, radius=20):\n",
    "        self.points = points\n",
    "        self.values = values\n",
    "        self.radius = radius\n",
    "\n",
    "    @property\n",
    "    def data(self):\n",
    "        return np.column_stack((self.points, self.values))\n",
    "\n",
    "    def as_leaflet_layer(self):\n",
    "        from ipyleaflet import Heatmap\n",
    "        return Heatmap(\n",
    "            locations=self.data.tolist(),\n",
    "            radius=self.radius, blur=0, gradient={0.4: \"blue\", 0.6: \"cyan\", 0.7: \"lime\", 0.8: \"yellow\", 1.0: \"red\"}\n",
    "        )"
   ]
  },
  {
   "cell_type": "code",
   "execution_count": null,
   "id": "d0efaeb2-0d01-41a4-9610-0f181724defc",
   "metadata": {},
   "outputs": [],
   "source": [
    "b.size"
   ]
  },
  {
   "cell_type": "code",
   "execution_count": 13,
   "id": "2894297e-41b9-4ef0-af2b-e4d1ab4cf9f0",
   "metadata": {},
   "outputs": [
    {
     "ename": "NameError",
     "evalue": "name 'widgets' is not defined",
     "output_type": "error",
     "traceback": [
      "\u001b[0;31m---------------------------------------------------------------------------\u001b[0m",
      "\u001b[0;31mNameError\u001b[0m                                 Traceback (most recent call last)",
      "Cell \u001b[0;32mIn[13], line 35\u001b[0m\n\u001b[1;32m     26\u001b[0m my_zoom_control \u001b[38;5;241m=\u001b[39m ZoomControl(position\u001b[38;5;241m=\u001b[39m\u001b[38;5;124m'\u001b[39m\u001b[38;5;124mtopright\u001b[39m\u001b[38;5;124m'\u001b[39m)\n\u001b[1;32m     28\u001b[0m \u001b[38;5;66;03m# ipywidgets is powered by traitlets, this brings an observer pattern implementation \u001b[39;00m\n\u001b[1;32m     29\u001b[0m \u001b[38;5;66;03m# which allows you to react on widget attribute changes.\u001b[39;00m\n\u001b[1;32m     30\u001b[0m \n\u001b[0;32m   (...)\u001b[0m\n\u001b[1;32m     33\u001b[0m \u001b[38;5;66;03m#    pass\u001b[39;00m\n\u001b[1;32m     34\u001b[0m \u001b[38;5;66;03m# marker.observe(on_location_changed, 'location')\u001b[39;00m\n\u001b[0;32m---> 35\u001b[0m caption \u001b[38;5;241m=\u001b[39m \u001b[43mwidgets\u001b[49m\u001b[38;5;241m.\u001b[39mLabel(value\u001b[38;5;241m=\u001b[39m\u001b[38;5;124m'\u001b[39m\u001b[38;5;124mThe slider value is in its initial position.\u001b[39m\u001b[38;5;124m'\u001b[39m)\n\u001b[1;32m     36\u001b[0m \u001b[38;5;28;01mdef\u001b[39;00m \u001b[38;5;21mon_zoom_level_changed\u001b[39m(event):\n\u001b[1;32m     37\u001b[0m     \u001b[38;5;66;03m# Adjust the radius and the sample spacing; get zoom level from event['new']\u001b[39;00m\n\u001b[1;32m     38\u001b[0m     caption\u001b[38;5;241m.\u001b[39mvalue \u001b[38;5;241m=\u001b[39m \u001b[38;5;124m'\u001b[39m\u001b[38;5;124mThe zoom level is \u001b[39m\u001b[38;5;124m'\u001b[39m \u001b[38;5;241m+\u001b[39m event\u001b[38;5;241m.\u001b[39mnew\n",
      "\u001b[0;31mNameError\u001b[0m: name 'widgets' is not defined"
     ]
    }
   ],
   "source": [
    "from ipyleaflet import Map, ZoomControl\n",
    "\n",
    "#n = 1000\n",
    "#data = MdvMap(\n",
    "#    np.random.uniform(-80, 80, (n, 2)), # generates 1000 * 2 points (i.e. 1000 x,y coordinates)\n",
    "#    np.random.uniform(0, 1000, n),\n",
    "#)\n",
    "#data = MdvMap(av, dbz)\n",
    "zoom_range = 12\n",
    "zoom_level = 2\n",
    "radius = zoom_level\n",
    "npoints = 100\n",
    "ncoords = len(av_sample)\n",
    "ndata = len(dbz)\n",
    "data_sample_scale = (zoom_range + 1 - zoom_level) / zoom_range\n",
    "nsamples = ncoords / 3\n",
    "everyn = int( ncoords / nsamples )\n",
    "everyn\n",
    "\n",
    "#subset = av_sample[0:ncoords:5] # everyn]\n",
    "#subset\n",
    "#zoom_level / zoom_range\n",
    "\n",
    "data = MdvMap(av_sample[0:ncoords:everyn], dbz[0:ndata:everyn], radius)\n",
    "\n",
    "my_zoom_control = ZoomControl(position='topright')\n",
    "\n",
    "# ipywidgets is powered by traitlets, this brings an observer pattern implementation \n",
    "# which allows you to react on widget attribute changes.\n",
    "\n",
    "#def on_location_changed(event):\n",
    "#    # Do some computation given the new marker location, accessible from `event['new']`\n",
    "#    pass\n",
    "# marker.observe(on_location_changed, 'location')\n",
    "caption = widgets.Label(value='The slider value is in its initial position.')\n",
    "def on_zoom_level_changed(event):\n",
    "    # Adjust the radius and the sample spacing; get zoom level from event['new']\n",
    "    caption.value = 'The zoom level is ' + event.new\n",
    "    pass\n",
    "\n",
    "#caption = widgets.Label(value='The slider value is in its initial position.')\n",
    "#slider = widgets.IntSlider(min=-5, max=5, value=1, description='Slider')\n",
    "\n",
    "#def handle_slider_change(change):\n",
    "#    caption.value = 'The slider value is ' + (\n",
    "#        'negative' if change.new < 0 else 'nonnegative'\n",
    "#    )\n",
    "\n",
    "#slider.observe(handle_slider_change, names='value')\n",
    "#display(caption, slider)\n",
    " \n",
    "\n",
    "# my_zoom_control.observe(on_zoom_level_changed, names='zoom')\n",
    "#display(caption, my_zoom_control)\n",
    "m = Map(center=(35, -92), zoom=zoom_level) #, zoom_control=False)\n",
    "# m.add(my_zoom_control)\n",
    "m.add(data)\n",
    "#display(m)\n"
   ]
  },
  {
   "cell_type": "code",
   "execution_count": 44,
   "id": "bfb61fd4-863f-4e82-b776-21e8f52a930f",
   "metadata": {},
   "outputs": [
    {
     "data": {
      "application/vnd.jupyter.widget-view+json": {
       "model_id": "e4a3964e2a7649b1a2e986dde5ce1462",
       "version_major": 2,
       "version_minor": 0
      },
      "text/plain": [
       "Button(description='Click Me!', style=ButtonStyle())"
      ]
     },
     "metadata": {},
     "output_type": "display_data"
    },
    {
     "data": {
      "application/vnd.jupyter.widget-view+json": {
       "model_id": "972f39c0d14e4e958ab35714a6dbf70b",
       "version_major": 2,
       "version_minor": 0
      },
      "text/plain": [
       "Output()"
      ]
     },
     "metadata": {},
     "output_type": "display_data"
    },
    {
     "data": {
      "application/vnd.jupyter.widget-view+json": {
       "model_id": "69374544302e48128665764e4c6230aa",
       "version_major": 2,
       "version_minor": 0
      },
      "text/plain": [
       "Map(bottom=1822.0, center=[35, -92], controls=(ZoomControl(options=['position', 'zoom_in_text', 'zoom_in_title…"
      ]
     },
     "metadata": {},
     "output_type": "display_data"
    },
    {
     "data": {
      "application/vnd.jupyter.widget-view+json": {
       "model_id": "948b869840f6453293f966c3dd5af881",
       "version_major": 2,
       "version_minor": 0
      },
      "text/plain": [
       "Output()"
      ]
     },
     "metadata": {},
     "output_type": "display_data"
    },
    {
     "data": {
      "application/vnd.jupyter.widget-view+json": {
       "model_id": "26263af2d7c049e9afb15f2d445440b6",
       "version_major": 2,
       "version_minor": 0
      },
      "text/plain": [
       "Select(description='moment or field to display:', options=('DBZ', 'VEL', '??'), value='DBZ')"
      ]
     },
     "metadata": {},
     "output_type": "display_data"
    }
   ],
   "source": [
    "import ipywidgets as widgets\n",
    "button = widgets.Button(description=\"Click Me!\")\n",
    "output = widgets.Output()\n",
    "\n",
    "display(button, output)\n",
    "\n",
    "\n",
    "def on_button_clicked(b):\n",
    "    with output:\n",
    "        print(\"Button clicked. zoom level \")\n",
    "    with m:\n",
    "        # m.zoom = 8\n",
    "        m = Map(center=(35, -92), zoom=8)\n",
    "        \n",
    "\n",
    "button.on_click(on_button_clicked)\n",
    "\n",
    "output2 = widgets.Output()\n",
    "\n",
    "\n",
    "def on_value_change(change):\n",
    "    with output2:\n",
    "        print(change['new'])\n",
    "\n",
    "m.observe(on_value_change, names='zoom')\n",
    "\n",
    "def on_field_selected(change):\n",
    "    with output2:\n",
    "        print(change['new'])\n",
    "        \n",
    "field_list = widgets.Select(\n",
    "    options=  # ['DBZ', 'VEL', '??'],\n",
    "    value='DBZ',\n",
    "    # rows=10,\n",
    "    description='moment or field to display:',\n",
    "    disabled=False\n",
    ")\n",
    "field_list.observe(on_field_selected)\n",
    "m.add(field_list) # I don't think this does anything??\n",
    "display(m, output2, field_list)"
   ]
  },
  {
   "cell_type": "code",
   "execution_count": 42,
   "id": "07866c7c-ecf1-461e-94a7-51aa40a75315",
   "metadata": {},
   "outputs": [
    {
     "data": {
      "text/plain": [
       "(ZoomControl(options=['position', 'zoom_in_text', 'zoom_in_title', 'zoom_out_text', 'zoom_out_title']),\n",
       " AttributionControl(options=['position', 'prefix'], position='bottomright'))"
      ]
     },
     "execution_count": 42,
     "metadata": {},
     "output_type": "execute_result"
    }
   ],
   "source": [
    "m.controls"
   ]
  },
  {
   "cell_type": "code",
   "execution_count": 1,
   "id": "b4dff999-0060-4a19-9058-b4da70a07458",
   "metadata": {},
   "outputs": [
    {
     "name": "stdout",
     "output_type": "stream",
     "text": [
      "Setup a handler to be called when a trait changes.\n",
      "\n",
      "        This is used to setup dynamic notifications of trait changes.\n",
      "\n",
      "        Parameters\n",
      "        ----------\n",
      "        handler : callable\n",
      "            A callable that is called when a trait changes. Its\n",
      "            signature should be ``handler(change)``, where ``change`` is a\n",
      "            dictionary. The change dictionary at least holds a 'type' key.\n",
      "            * ``type``: the type of notification.\n",
      "            Other keys may be passed depending on the value of 'type'. In the\n",
      "            case where type is 'change', we also have the following keys:\n",
      "            * ``owner`` : the HasTraits instance\n",
      "            * ``old`` : the old value of the modified trait attribute\n",
      "            * ``new`` : the new value of the modified trait attribute\n",
      "            * ``name`` : the name of the modified trait attribute.\n",
      "        names : list, str, All\n",
      "            If names is All, the handler will apply to all traits.  If a list\n",
      "            of str, handler will apply to all names in the list.  If a\n",
      "            str, the handler will apply just to that name.\n",
      "        type : str, All (default: 'change')\n",
      "            The type of notification to filter by. If equal to All, then all\n",
      "            notifications are passed to the observe handler.\n",
      "        \n"
     ]
    },
    {
     "data": {
      "application/vnd.jupyter.widget-view+json": {
       "model_id": "1c8a342f167c45979ee8c30eaadf1e4f",
       "version_major": 2,
       "version_minor": 0
      },
      "text/plain": [
       "Label(value='The slider value is in its initial position.')"
      ]
     },
     "metadata": {},
     "output_type": "display_data"
    },
    {
     "data": {
      "application/vnd.jupyter.widget-view+json": {
       "model_id": "88dd6ea0508d4b8db4e252dbe20c3298",
       "version_major": 2,
       "version_minor": 0
      },
      "text/plain": [
       "IntSlider(value=1, description='Slider', max=5, min=-5)"
      ]
     },
     "metadata": {},
     "output_type": "display_data"
    }
   ],
   "source": [
    "import ipywidgets as widgets\n",
    "from ipyleaflet import ZoomControl\n",
    "# print(widgets.Widget.observe.__doc__)\n",
    "print(ZoomControl.observe.__doc__)\n",
    "\n",
    "\n",
    "caption = widgets.Label(value='The slider value is in its initial position.')\n",
    "slider = widgets.IntSlider(min=-5, max=5, value=1, description='Slider')\n",
    "\n",
    "def handle_slider_change(change):\n",
    "    caption.value = 'The slider value is ' + (\n",
    "        'negative' if change.new < 0 else 'nonnegative'\n",
    "    )\n",
    "\n",
    "slider.observe(handle_slider_change, names='value')\n",
    "\n",
    "display(caption, slider)"
   ]
  },
  {
   "cell_type": "code",
   "execution_count": 35,
   "id": "6000f30a-494f-498f-b3a1-dce45561178c",
   "metadata": {},
   "outputs": [
    {
     "ename": "TypeError",
     "evalue": "Dimensions of C (1505, 2005) should be one smaller than X(1505) and Y(2005) while using shading='flat' see help(pcolormesh)",
     "output_type": "error",
     "traceback": [
      "\u001b[0;31m---------------------------------------------------------------------------\u001b[0m",
      "\u001b[0;31mTypeError\u001b[0m                                 Traceback (most recent call last)",
      "Cell \u001b[0;32mIn[35], line 6\u001b[0m\n\u001b[1;32m      4\u001b[0m x \u001b[38;5;241m=\u001b[39m dbz[:,\u001b[38;5;241m0\u001b[39m]\n\u001b[1;32m      5\u001b[0m y \u001b[38;5;241m=\u001b[39m dbz[\u001b[38;5;241m0\u001b[39m,:]\n\u001b[0;32m----> 6\u001b[0m im \u001b[38;5;241m=\u001b[39m \u001b[43max\u001b[49m\u001b[38;5;241;43m.\u001b[39;49m\u001b[43mpcolormesh\u001b[49m\u001b[43m(\u001b[49m\u001b[43mdbz\u001b[49m\u001b[43m[\u001b[49m\u001b[43m:\u001b[49m\u001b[43m,\u001b[49m\u001b[38;5;241;43m0\u001b[39;49m\u001b[43m]\u001b[49m\u001b[43m,\u001b[49m\u001b[43m \u001b[49m\u001b[43mdbz\u001b[49m\u001b[43m[\u001b[49m\u001b[38;5;241;43m0\u001b[39;49m\u001b[43m,\u001b[49m\u001b[43m:\u001b[49m\u001b[43m]\u001b[49m\u001b[43m,\u001b[49m\u001b[43m \u001b[49m\u001b[43mdbz\u001b[49m\u001b[43m)\u001b[49m\n\u001b[1;32m      7\u001b[0m \u001b[38;5;66;03m# add a color bar\u001b[39;00m\n\u001b[1;32m      8\u001b[0m fig\u001b[38;5;241m.\u001b[39mcolorbar(im, ax\u001b[38;5;241m=\u001b[39max)\n",
      "File \u001b[0;32m~/miniforge3/envs/leaflet/lib/python3.12/site-packages/matplotlib/__init__.py:1465\u001b[0m, in \u001b[0;36m_preprocess_data.<locals>.inner\u001b[0;34m(ax, data, *args, **kwargs)\u001b[0m\n\u001b[1;32m   1462\u001b[0m \u001b[38;5;129m@functools\u001b[39m\u001b[38;5;241m.\u001b[39mwraps(func)\n\u001b[1;32m   1463\u001b[0m \u001b[38;5;28;01mdef\u001b[39;00m \u001b[38;5;21minner\u001b[39m(ax, \u001b[38;5;241m*\u001b[39margs, data\u001b[38;5;241m=\u001b[39m\u001b[38;5;28;01mNone\u001b[39;00m, \u001b[38;5;241m*\u001b[39m\u001b[38;5;241m*\u001b[39mkwargs):\n\u001b[1;32m   1464\u001b[0m     \u001b[38;5;28;01mif\u001b[39;00m data \u001b[38;5;129;01mis\u001b[39;00m \u001b[38;5;28;01mNone\u001b[39;00m:\n\u001b[0;32m-> 1465\u001b[0m         \u001b[38;5;28;01mreturn\u001b[39;00m \u001b[43mfunc\u001b[49m\u001b[43m(\u001b[49m\u001b[43max\u001b[49m\u001b[43m,\u001b[49m\u001b[43m \u001b[49m\u001b[38;5;241;43m*\u001b[39;49m\u001b[38;5;28;43mmap\u001b[39;49m\u001b[43m(\u001b[49m\u001b[43msanitize_sequence\u001b[49m\u001b[43m,\u001b[49m\u001b[43m \u001b[49m\u001b[43margs\u001b[49m\u001b[43m)\u001b[49m\u001b[43m,\u001b[49m\u001b[43m \u001b[49m\u001b[38;5;241;43m*\u001b[39;49m\u001b[38;5;241;43m*\u001b[39;49m\u001b[43mkwargs\u001b[49m\u001b[43m)\u001b[49m\n\u001b[1;32m   1467\u001b[0m     bound \u001b[38;5;241m=\u001b[39m new_sig\u001b[38;5;241m.\u001b[39mbind(ax, \u001b[38;5;241m*\u001b[39margs, \u001b[38;5;241m*\u001b[39m\u001b[38;5;241m*\u001b[39mkwargs)\n\u001b[1;32m   1468\u001b[0m     auto_label \u001b[38;5;241m=\u001b[39m (bound\u001b[38;5;241m.\u001b[39marguments\u001b[38;5;241m.\u001b[39mget(label_namer)\n\u001b[1;32m   1469\u001b[0m                   \u001b[38;5;129;01mor\u001b[39;00m bound\u001b[38;5;241m.\u001b[39mkwargs\u001b[38;5;241m.\u001b[39mget(label_namer))\n",
      "File \u001b[0;32m~/miniforge3/envs/leaflet/lib/python3.12/site-packages/matplotlib/axes/_axes.py:6289\u001b[0m, in \u001b[0;36mAxes.pcolormesh\u001b[0;34m(self, alpha, norm, cmap, vmin, vmax, shading, antialiased, *args, **kwargs)\u001b[0m\n\u001b[1;32m   6286\u001b[0m shading \u001b[38;5;241m=\u001b[39m shading\u001b[38;5;241m.\u001b[39mlower()\n\u001b[1;32m   6287\u001b[0m kwargs\u001b[38;5;241m.\u001b[39msetdefault(\u001b[38;5;124m'\u001b[39m\u001b[38;5;124medgecolors\u001b[39m\u001b[38;5;124m'\u001b[39m, \u001b[38;5;124m'\u001b[39m\u001b[38;5;124mnone\u001b[39m\u001b[38;5;124m'\u001b[39m)\n\u001b[0;32m-> 6289\u001b[0m X, Y, C, shading \u001b[38;5;241m=\u001b[39m \u001b[38;5;28;43mself\u001b[39;49m\u001b[38;5;241;43m.\u001b[39;49m\u001b[43m_pcolorargs\u001b[49m\u001b[43m(\u001b[49m\u001b[38;5;124;43m'\u001b[39;49m\u001b[38;5;124;43mpcolormesh\u001b[39;49m\u001b[38;5;124;43m'\u001b[39;49m\u001b[43m,\u001b[49m\u001b[43m \u001b[49m\u001b[38;5;241;43m*\u001b[39;49m\u001b[43margs\u001b[49m\u001b[43m,\u001b[49m\n\u001b[1;32m   6290\u001b[0m \u001b[43m                                    \u001b[49m\u001b[43mshading\u001b[49m\u001b[38;5;241;43m=\u001b[39;49m\u001b[43mshading\u001b[49m\u001b[43m,\u001b[49m\u001b[43m \u001b[49m\u001b[43mkwargs\u001b[49m\u001b[38;5;241;43m=\u001b[39;49m\u001b[43mkwargs\u001b[49m\u001b[43m)\u001b[49m\n\u001b[1;32m   6291\u001b[0m coords \u001b[38;5;241m=\u001b[39m np\u001b[38;5;241m.\u001b[39mstack([X, Y], axis\u001b[38;5;241m=\u001b[39m\u001b[38;5;241m-\u001b[39m\u001b[38;5;241m1\u001b[39m)\n\u001b[1;32m   6293\u001b[0m kwargs\u001b[38;5;241m.\u001b[39msetdefault(\u001b[38;5;124m'\u001b[39m\u001b[38;5;124msnap\u001b[39m\u001b[38;5;124m'\u001b[39m, mpl\u001b[38;5;241m.\u001b[39mrcParams[\u001b[38;5;124m'\u001b[39m\u001b[38;5;124mpcolormesh.snap\u001b[39m\u001b[38;5;124m'\u001b[39m])\n",
      "File \u001b[0;32m~/miniforge3/envs/leaflet/lib/python3.12/site-packages/matplotlib/axes/_axes.py:5836\u001b[0m, in \u001b[0;36mAxes._pcolorargs\u001b[0;34m(self, funcname, shading, *args, **kwargs)\u001b[0m\n\u001b[1;32m   5834\u001b[0m \u001b[38;5;28;01mif\u001b[39;00m shading \u001b[38;5;241m==\u001b[39m \u001b[38;5;124m'\u001b[39m\u001b[38;5;124mflat\u001b[39m\u001b[38;5;124m'\u001b[39m:\n\u001b[1;32m   5835\u001b[0m     \u001b[38;5;28;01mif\u001b[39;00m (Nx, Ny) \u001b[38;5;241m!=\u001b[39m (ncols \u001b[38;5;241m+\u001b[39m \u001b[38;5;241m1\u001b[39m, nrows \u001b[38;5;241m+\u001b[39m \u001b[38;5;241m1\u001b[39m):\n\u001b[0;32m-> 5836\u001b[0m         \u001b[38;5;28;01mraise\u001b[39;00m \u001b[38;5;167;01mTypeError\u001b[39;00m(\u001b[38;5;124mf\u001b[39m\u001b[38;5;124m\"\u001b[39m\u001b[38;5;124mDimensions of C \u001b[39m\u001b[38;5;132;01m{\u001b[39;00mC\u001b[38;5;241m.\u001b[39mshape\u001b[38;5;132;01m}\u001b[39;00m\u001b[38;5;124m should\u001b[39m\u001b[38;5;124m\"\u001b[39m\n\u001b[1;32m   5837\u001b[0m                         \u001b[38;5;124mf\u001b[39m\u001b[38;5;124m\"\u001b[39m\u001b[38;5;124m be one smaller than X(\u001b[39m\u001b[38;5;132;01m{\u001b[39;00mNx\u001b[38;5;132;01m}\u001b[39;00m\u001b[38;5;124m) and Y(\u001b[39m\u001b[38;5;132;01m{\u001b[39;00mNy\u001b[38;5;132;01m}\u001b[39;00m\u001b[38;5;124m)\u001b[39m\u001b[38;5;124m\"\u001b[39m\n\u001b[1;32m   5838\u001b[0m                         \u001b[38;5;124mf\u001b[39m\u001b[38;5;124m\"\u001b[39m\u001b[38;5;124m while using shading=\u001b[39m\u001b[38;5;124m'\u001b[39m\u001b[38;5;124mflat\u001b[39m\u001b[38;5;124m'\u001b[39m\u001b[38;5;124m\"\u001b[39m\n\u001b[1;32m   5839\u001b[0m                         \u001b[38;5;124mf\u001b[39m\u001b[38;5;124m\"\u001b[39m\u001b[38;5;124m see help(\u001b[39m\u001b[38;5;132;01m{\u001b[39;00mfuncname\u001b[38;5;132;01m}\u001b[39;00m\u001b[38;5;124m)\u001b[39m\u001b[38;5;124m\"\u001b[39m)\n\u001b[1;32m   5840\u001b[0m \u001b[38;5;28;01melse\u001b[39;00m:    \u001b[38;5;66;03m# ['nearest', 'gouraud']:\u001b[39;00m\n\u001b[1;32m   5841\u001b[0m     \u001b[38;5;28;01mif\u001b[39;00m (Nx, Ny) \u001b[38;5;241m!=\u001b[39m (ncols, nrows):\n",
      "\u001b[0;31mTypeError\u001b[0m: Dimensions of C (1505, 2005) should be one smaller than X(1505) and Y(2005) while using shading='flat' see help(pcolormesh)"
     ]
    },
    {
     "data": {
      "image/png": "[encoded data removed]",
      "text/plain": [
       "<Figure size 640x480 with 1 Axes>"
      ]
     },
     "metadata": {},
     "output_type": "display_data"
    }
   ],
   "source": [
    "import matplotlib.pyplot as plt\n",
    "fig, ax = plt.subplots()\n",
    "# generate the image, i.e. plot\n",
    "x = dbz[:,0]\n",
    "y = dbz[0,:]\n",
    "im = ax.pcolormesh(dbz[:,0], dbz[0,:], dbz)\n",
    "# add a color bar\n",
    "fig.colorbar(im, ax=ax)"
   ]
  },
  {
   "cell_type": "code",
   "execution_count": 7,
   "id": "b07b4c4a-5bf3-46cc-b53e-234b8e8134b6",
   "metadata": {},
   "outputs": [
    {
     "name": "stdout",
     "output_type": "stream",
     "text": [
      "2015-06-26 23:00:12\n"
     ]
    }
   ],
   "source": [
    "dates = num2date(time[:], time.units)\n",
    "time_of_day = dates[0].strftime(\"%Y-%m-%d %H:%M:%S\")\n",
    "print(time_of_day)"
   ]
  },
  {
   "cell_type": "code",
   "execution_count": 15,
   "id": "e64b05d6-f2d4-447c-93dd-e726b7be9bf0",
   "metadata": {},
   "outputs": [
    {
     "ename": "NameError",
     "evalue": "name 'f1' is not defined",
     "output_type": "error",
     "traceback": [
      "\u001b[0;31m---------------------------------------------------------------------------\u001b[0m",
      "\u001b[0;31mNameError\u001b[0m                                 Traceback (most recent call last)",
      "Cell \u001b[0;32mIn[15], line 1\u001b[0m\n\u001b[0;32m----> 1\u001b[0m dbz \u001b[38;5;241m=\u001b[39m \u001b[43mf1\u001b[49m\u001b[38;5;241m.\u001b[39mvariables[\u001b[38;5;124m\"\u001b[39m\u001b[38;5;124mDBZ\u001b[39m\u001b[38;5;124m\"\u001b[39m]\n\u001b[1;32m      2\u001b[0m dbz_dimensions \u001b[38;5;241m=\u001b[39m f1\u001b[38;5;241m.\u001b[39mvariables[\u001b[38;5;124m\"\u001b[39m\u001b[38;5;124mDBZ\u001b[39m\u001b[38;5;124m\"\u001b[39m]\u001b[38;5;241m.\u001b[39mdimensions\n\u001b[1;32m      3\u001b[0m \u001b[38;5;28mprint\u001b[39m(dbz_dimensions)\n",
      "\u001b[0;31mNameError\u001b[0m: name 'f1' is not defined"
     ]
    }
   ],
   "source": [
    "dbz = f1.variables[\"DBZ\"]\n",
    "dbz_dimensions = f1.variables[\"DBZ\"].dimensions\n",
    "print(dbz_dimensions)\n",
    "print(dbz[0,18,10,10])\n",
    "type(dbz)\n",
    "print(f1.variables.keys())\n",
    "print(dbz)\n",
    "print(len(lats), len(lons))"
   ]
  },
  {
   "cell_type": "code",
   "execution_count": 11,
   "id": "e6a166fa-b90d-4ebb-a6b9-347b41700707",
   "metadata": {},
   "outputs": [
    {
     "name": "stdout",
     "output_type": "stream",
     "text": [
      "29.984999 -110.015015\n"
     ]
    }
   ],
   "source": [
    "print(lats[0], lons[0])"
   ]
  },
  {
   "cell_type": "code",
   "execution_count": 29,
   "id": "e9969d38-a421-41a9-9a36-ba17902d9a7e",
   "metadata": {},
   "outputs": [
    {
     "data": {
      "application/vnd.jupyter.widget-view+json": {
       "model_id": "060eb07069f0447f9545a94cfb777446",
       "version_major": 2,
       "version_minor": 0
      },
      "text/plain": [
       "Map(center=[29.984999, -110.015015], controls=(ZoomControl(options=['position', 'zoom_in_text', 'zoom_in_title…"
      ]
     },
     "metadata": {},
     "output_type": "display_data"
    }
   ],
   "source": [
    "center = (lats[0], lons[0])\n",
    "\n",
    "\n",
    "\n",
    "m = Map(basemap=basemaps.CartoDB.Positron, center=center, zoom=10)\n",
    "\n",
    "marker = Marker(location=center, draggable=True)\n",
    "m.add(marker);\n",
    "\n",
    "polysize_x = abs(lats[15] - lats[14]) / 0.5\n",
    "polysize_y = abs(lons[15] - lons[14]) / 0.5\n",
    "for ix in range(10, 30, 3):\n",
    "    for iy in range(10,30, 3):\n",
    "        x = lats[ix]\n",
    "        y = lons[iy]\n",
    "        polygon = Polygon(\n",
    "            locations=[(x, y), (x+polysize_x, y), (x, y-polysize_y)],\n",
    "            color=\"green\",\n",
    "            fill_color=\"green\"\n",
    "        )\n",
    "        m.add(polygon);\n",
    "\n",
    "# color scale using a choropleth layer?\n",
    "layer = ipyleaflet.Choropleth(\n",
    "    geo_data=geo_json_data,\n",
    "    choro_data=unemployment,\n",
    "    colormap=linear.YlOrRd_04,\n",
    "    border_color='black',\n",
    "    style={'fillOpacity': 0.8, 'dashArray': '5, 5'})\n",
    "\n",
    "m = ipyleaflet.Map(center = (43,-100), zoom = 4)\n",
    "m.add(layer)\n",
    "\n",
    "\n",
    "display(m)"
   ]
  },
  {
   "cell_type": "code",
   "execution_count": 2,
   "id": "f9a1627f-f7e8-4241-a3ef-8745199414f8",
   "metadata": {},
   "outputs": [
    {
     "data": {
      "application/vnd.jupyter.widget-view+json": {
       "model_id": "180cf82113b240698df4f20c74c57b1e",
       "version_major": 2,
       "version_minor": 0
      },
      "text/plain": [
       "IntSlider(value=0)"
      ]
     },
     "metadata": {},
     "output_type": "display_data"
    }
   ],
   "source": [
    "import ipywidgets as widgets\n",
    "w = widgets.IntSlider()\n",
    "display(w)"
   ]
  },
  {
   "cell_type": "code",
   "execution_count": 3,
   "id": "72c06fa9-158b-4462-86a3-473a4d70c090",
   "metadata": {},
   "outputs": [
    {
     "data": {
      "text/plain": [
       "17"
      ]
     },
     "execution_count": 3,
     "metadata": {},
     "output_type": "execute_result"
    }
   ],
   "source": [
    "w.value"
   ]
  },
  {
   "cell_type": "code",
   "execution_count": 4,
   "id": "cddde2b1-440f-4c06-a422-f2113610582f",
   "metadata": {},
   "outputs": [],
   "source": [
    "w.value = 8"
   ]
  },
  {
   "cell_type": "code",
   "execution_count": 5,
   "id": "190dcf3c-36df-4179-95f2-09d67a8909a2",
   "metadata": {},
   "outputs": [
    {
     "data": {
      "text/plain": [
       "['_dom_classes',\n",
       " '_model_module',\n",
       " '_model_module_version',\n",
       " '_model_name',\n",
       " '_view_count',\n",
       " '_view_module',\n",
       " '_view_module_version',\n",
       " '_view_name',\n",
       " 'behavior',\n",
       " 'continuous_update',\n",
       " 'description',\n",
       " 'description_allow_html',\n",
       " 'disabled',\n",
       " 'layout',\n",
       " 'max',\n",
       " 'min',\n",
       " 'orientation',\n",
       " 'readout',\n",
       " 'readout_format',\n",
       " 'step',\n",
       " 'style',\n",
       " 'tabbable',\n",
       " 'tooltip',\n",
       " 'value']"
      ]
     },
     "execution_count": 5,
     "metadata": {},
     "output_type": "execute_result"
    }
   ],
   "source": [
    "w.keys"
   ]
  },
  {
   "cell_type": "code",
   "execution_count": 6,
   "id": "12658593-82c0-4614-b86d-405d17002d73",
   "metadata": {},
   "outputs": [
    {
     "data": {
      "application/vnd.jupyter.widget-view+json": {
       "model_id": "e927603b7e414dd1a3664dd9f2335c70",
       "version_major": 2,
       "version_minor": 0
      },
      "text/plain": [
       "FloatText(value=0.0)"
      ]
     },
     "metadata": {},
     "output_type": "display_data"
    },
    {
     "data": {
      "application/vnd.jupyter.widget-view+json": {
       "model_id": "2f14879de95d44ae88d3058c5ccec42e",
       "version_major": 2,
       "version_minor": 0
      },
      "text/plain": [
       "FloatSlider(value=0.0)"
      ]
     },
     "metadata": {},
     "output_type": "display_data"
    }
   ],
   "source": [
    "a = widgets.FloatText()\n",
    "b = widgets.FloatSlider()\n",
    "display(a,b)\n",
    "# link the callbacks and events on the browser side with jslink\n",
    "mylink = widgets.jslink((a, 'value'), (b, 'value'))"
   ]
  },
  {
   "cell_type": "code",
   "execution_count": null,
   "id": "b3170c68-5572-4189-b07d-3d714ac8f835",
   "metadata": {},
   "outputs": [],
   "source": [
    "# link a widget and the map"
   ]
  }
 ],
 "metadata": {
  "kernelspec": {
   "display_name": "Python 3 (ipykernel)",
   "language": "python",
   "name": "python3"
  },
  "language_info": {
   "codemirror_mode": {
    "name": "ipython",
    "version": 3
   },
   "file_extension": ".py",
   "mimetype": "text/x-python",
   "name": "python",
   "nbconvert_exporter": "python",
   "pygments_lexer": "ipython3",
   "version": "3.12.0"
  }
 },
 "nbformat": 4,
 "nbformat_minor": 5
}
