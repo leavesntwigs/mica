{
 "cells": [
  {
   "cell_type": "code",
   "execution_count": 24,
   "id": "387cb2b0-047f-4dc4-bceb-df802539c1a7",
   "metadata": {},
   "outputs": [],
   "source": [
    "from ipyleaflet import Map, Marker, Polygon, basemaps"
   ]
  },
  {
   "cell_type": "code",
   "execution_count": 2,
   "id": "58b4d3e6-88ed-4932-8e0c-a0f5c02e8beb",
   "metadata": {},
   "outputs": [
    {
     "data": {
      "application/vnd.jupyter.widget-view+json": {
       "model_id": "16ea562a4a2045dfb472222a4e1b9133",
       "version_major": 2,
       "version_minor": 0
      },
      "text/plain": [
       "Map(center=[52.204793, 360.121558], controls=(ZoomControl(options=['position', 'zoom_in_text', 'zoom_in_title'…"
      ]
     },
     "metadata": {},
     "output_type": "display_data"
    }
   ],
   "source": [
    "center = (52.204793, 360.121558)\n",
    "\n",
    "m = Map(basemap=basemaps.CartoDB.Positron, center=center, zoom=10)\n",
    "\n",
    "marker = Marker(location=center, draggable=True)\n",
    "m.add(marker);\n",
    "\n",
    "display(m)"
   ]
  },
  {
   "cell_type": "code",
   "execution_count": 1,
   "id": "2787eb42-bc86-4333-8f01-4e5b55944ea3",
   "metadata": {},
   "outputs": [],
   "source": [
    "from netCDF4 import Dataset, num2date"
   ]
  },
  {
   "cell_type": "code",
   "execution_count": 2,
   "id": "b15430e6-f2d0-4ff9-ae2b-4612e0a17a79",
   "metadata": {},
   "outputs": [],
   "source": [
    "import numpy as np\n",
    "import xarray as xr"
   ]
  },
  {
   "cell_type": "code",
   "execution_count": 5,
   "id": "a7a64aae-fe63-4d4b-9fc0-5648319f791b",
   "metadata": {},
   "outputs": [],
   "source": [
    "# f1 = Dataset(\"/Users/brenda/data/mdv/mrms_3d/20150626/20150626_230012.mdv.nc\")"
   ]
  },
  {
   "cell_type": "code",
   "execution_count": 4,
   "id": "705d483f-4477-4caa-9709-f760fc2c4139",
   "metadata": {},
   "outputs": [],
   "source": [
    "# read dataset\n",
    "local_dataset = xr.open_dataset(\"/Users/brenda/data/mdv/mrms_3d/20150626/20150626_230012.mdv.nc\")\n",
    "df = local_dataset.to_dataframe()  # convert to dataframe"
   ]
  },
  {
   "cell_type": "code",
   "execution_count": 19,
   "id": "1da3e560-d5e3-4c49-9594-f4f00c226b2b",
   "metadata": {},
   "outputs": [
    {
     "ename": "SyntaxError",
     "evalue": "invalid syntax (141544420.py, line 6)",
     "output_type": "error",
     "traceback": [
      "\u001b[0;36m  Cell \u001b[0;32mIn[19], line 6\u001b[0;36m\u001b[0m\n\u001b[0;31m    print(dbz2(0,0,:,:))\u001b[0m\n\u001b[0m                   ^\u001b[0m\n\u001b[0;31mSyntaxError\u001b[0m\u001b[0;31m:\u001b[0m invalid syntax\n"
     ]
    }
   ],
   "source": [
    "dbz = df[\"DBZ\"]\n",
    "\n",
    "#dbz.index\n",
    "\n",
    "dbz2 = local_dataset[\"DBZ\"]\n",
    "print(dbz2(0,0,:,:))\n",
    "\n",
    "# lats = f1.variables[\"y0\"][:]\n",
    "# lons = f1.variables[\"x0\"][:]\n",
    "# time = f1.variables[\"time\"]"
   ]
  },
  {
   "cell_type": "code",
   "execution_count": 7,
   "id": "b07b4c4a-5bf3-46cc-b53e-234b8e8134b6",
   "metadata": {},
   "outputs": [
    {
     "name": "stdout",
     "output_type": "stream",
     "text": [
      "2015-06-26 23:00:12\n"
     ]
    }
   ],
   "source": [
    "dates = num2date(time[:], time.units)\n",
    "time_of_day = dates[0].strftime(\"%Y-%m-%d %H:%M:%S\")\n",
    "print(time_of_day)"
   ]
  },
  {
   "cell_type": "code",
   "execution_count": 22,
   "id": "e64b05d6-f2d4-447c-93dd-e726b7be9bf0",
   "metadata": {},
   "outputs": [
    {
     "name": "stdout",
     "output_type": "stream",
     "text": [
      "('time', 'z0', 'y0', 'x0')\n",
      "-99.00217\n",
      "dict_keys(['time', 'forecast_reference_time', 'forecast_period', 'start_time', 'stop_time', 'x0', 'y0', 'z0', 'grid_mapping_0', 'mdv_master_header', 'DBZ'])\n",
      "<class 'netCDF4._netCDF4.Variable'>\n",
      "int16 DBZ(time, z0, y0, x0)\n",
      "    scale_factor: 0.016244275\n",
      "    add_offset: -467.0487\n",
      "    valid_min: -32767\n",
      "    valid_max: 32767\n",
      "    _FillValue: -32768\n",
      "    standard_name: DBZ\n",
      "    long_name: All Radar 3D Reflectivty Mosaic\n",
      "    units: dBZ\n",
      "    mdv_field_code: 1\n",
      "    mdv_user_time_1: 0\n",
      "    mdv_user_time_2: 0\n",
      "    mdv_user_time_3: 0\n",
      "    mdv_user_time_4: 0\n",
      "    mdv_user_data_si32_0: 0\n",
      "    mdv_user_data_si32_1: 0\n",
      "    mdv_user_data_si32_2: 0\n",
      "    mdv_user_data_si32_3: 0\n",
      "    mdv_user_data_si32_4: 0\n",
      "    mdv_user_data_si32_5: 0\n",
      "    mdv_user_data_si32_6: 0\n",
      "    mdv_user_data_si32_7: 0\n",
      "    mdv_user_data_si32_8: 0\n",
      "    mdv_user_data_si32_9: 0\n",
      "    mdv_user_data_fl32_0: 0.0\n",
      "    mdv_user_data_fl32_1: 0.0\n",
      "    mdv_user_data_fl32_2: 0.0\n",
      "    mdv_user_data_fl32_3: 0.0\n",
      "    mdv_proj_type: 0\n",
      "    mdv_proj_origin_lat: 20.005\n",
      "    mdv_proj_origin_lon: -129.99501\n",
      "    mdv_transform_type: 0\n",
      "    mdv_vlevel_type: 4\n",
      "    mdv_native_vlevel_type: 4\n",
      "    mdv_transform: \n",
      "unlimited dimensions: \n",
      "current shape = (1, 33, 1505, 2005)\n",
      "filling on\n",
      "1505 2005\n"
     ]
    }
   ],
   "source": [
    "dbz = f1.variables[\"DBZ\"]\n",
    "dbz_dimensions = f1.variables[\"DBZ\"].dimensions\n",
    "print(dbz_dimensions)\n",
    "print(dbz[0,18,10,10])\n",
    "type(dbz)\n",
    "print(f1.variables.keys())\n",
    "print(dbz)\n",
    "print(len(lats), len(lons))"
   ]
  },
  {
   "cell_type": "code",
   "execution_count": 11,
   "id": "e6a166fa-b90d-4ebb-a6b9-347b41700707",
   "metadata": {},
   "outputs": [
    {
     "name": "stdout",
     "output_type": "stream",
     "text": [
      "29.984999 -110.015015\n"
     ]
    }
   ],
   "source": [
    "print(lats[0], lons[0])"
   ]
  },
  {
   "cell_type": "code",
   "execution_count": 29,
   "id": "e9969d38-a421-41a9-9a36-ba17902d9a7e",
   "metadata": {},
   "outputs": [
    {
     "data": {
      "application/vnd.jupyter.widget-view+json": {
       "model_id": "060eb07069f0447f9545a94cfb777446",
       "version_major": 2,
       "version_minor": 0
      },
      "text/plain": [
       "Map(center=[29.984999, -110.015015], controls=(ZoomControl(options=['position', 'zoom_in_text', 'zoom_in_title…"
      ]
     },
     "metadata": {},
     "output_type": "display_data"
    }
   ],
   "source": [
    "center = (lats[0], lons[0])\n",
    "\n",
    "\n",
    "\n",
    "m = Map(basemap=basemaps.CartoDB.Positron, center=center, zoom=10)\n",
    "\n",
    "marker = Marker(location=center, draggable=True)\n",
    "m.add(marker);\n",
    "\n",
    "polysize_x = abs(lats[15] - lats[14]) / 0.5\n",
    "polysize_y = abs(lons[15] - lons[14]) / 0.5\n",
    "for ix in range(10, 30, 3):\n",
    "    for iy in range(10,30, 3):\n",
    "        x = lats[ix]\n",
    "        y = lons[iy]\n",
    "        polygon = Polygon(\n",
    "            locations=[(x, y), (x+polysize_x, y), (x, y-polysize_y)],\n",
    "            color=\"green\",\n",
    "            fill_color=\"green\"\n",
    "        )\n",
    "        m.add(polygon);\n",
    "\n",
    "# color scale using a choropleth layer?\n",
    "layer = ipyleaflet.Choropleth(\n",
    "    geo_data=geo_json_data,\n",
    "    choro_data=unemployment,\n",
    "    colormap=linear.YlOrRd_04,\n",
    "    border_color='black',\n",
    "    style={'fillOpacity': 0.8, 'dashArray': '5, 5'})\n",
    "\n",
    "m = ipyleaflet.Map(center = (43,-100), zoom = 4)\n",
    "m.add(layer)\n",
    "\n",
    "\n",
    "display(m)"
   ]
  },
  {
   "cell_type": "code",
   "execution_count": null,
   "id": "f9a1627f-f7e8-4241-a3ef-8745199414f8",
   "metadata": {},
   "outputs": [],
   "source": []
  }
 ],
 "metadata": {
  "kernelspec": {
   "display_name": "Python 3 (ipykernel)",
   "language": "python",
   "name": "python3"
  },
  "language_info": {
   "codemirror_mode": {
    "name": "ipython",
    "version": 3
   },
   "file_extension": ".py",
   "mimetype": "text/x-python",
   "name": "python",
   "nbconvert_exporter": "python",
   "pygments_lexer": "ipython3",
   "version": "3.12.0"
  }
 },
 "nbformat": 4,
 "nbformat_minor": 5
}
