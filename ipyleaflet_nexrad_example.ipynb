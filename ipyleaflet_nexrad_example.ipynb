{
 "cells": [
  {
   "cell_type": "code",
   "execution_count": 1,
   "id": "1e536e27-2053-4938-9e13-3c865dcb26da",
   "metadata": {},
   "outputs": [
    {
     "data": {
      "application/vnd.jupyter.widget-view+json": {
       "model_id": "9642b4b20d634c4eb195114640947219",
       "version_major": 2,
       "version_minor": 0
      },
      "text/plain": [
       "Map(center=[38.491, -95.712], controls=(ZoomControl(options=['position', 'zoom_in_text', 'zoom_in_title', 'zoo…"
      ]
     },
     "execution_count": 1,
     "metadata": {},
     "output_type": "execute_result"
    }
   ],
   "source": [
    "from ipyleaflet import Map, WMSLayer, basemaps\n",
    "\n",
    "wms = WMSLayer(\n",
    "    url='http://mesonet.agron.iastate.edu/cgi-bin/wms/nexrad/n0r.cgi',\n",
    "    layers='nexrad-n0r-900913',\n",
    "    format='image/png',\n",
    "    transparent=True,\n",
    "    attribution='Weather data © 2012 IEM Nexrad'\n",
    ")\n",
    "\n",
    "m = Map(basemap=basemaps.CartoDB.Positron, center=(38.491, -95.712), zoom=4)\n",
    "\n",
    "m.add(wms)\n",
    "\n",
    "m"
   ]
  },
  {
   "cell_type": "code",
   "execution_count": 2,
   "id": "c7fd9582-24c7-4c3f-ae94-9880acbf163b",
   "metadata": {},
   "outputs": [
    {
     "data": {
      "application/vnd.jupyter.widget-view+json": {
       "model_id": "f05b2b5014474af7852d01e5f9b977e3",
       "version_major": 2,
       "version_minor": 0
      },
      "text/plain": [
       "Map(center=[30.661, -88.645], controls=(ZoomControl(options=['position', 'zoom_in_text', 'zoom_in_title', 'zoo…"
      ]
     },
     "execution_count": 2,
     "metadata": {},
     "output_type": "execute_result"
    }
   ],
   "source": [
    "from traitlets import Unicode\n",
    "\n",
    "\n",
    "class TimeWMSLayer(WMSLayer):\n",
    "\n",
    "    time = Unicode('').tag(sync=True, o=True)\n",
    "\n",
    "\n",
    "time_wms = TimeWMSLayer(\n",
    "    url='https://mesonet.agron.iastate.edu/cgi-bin/wms/nexrad/n0r-t.cgi?',\n",
    "    layers='nexrad-n0r-wmst',\n",
    "    time='2005-08-29T13:00:00Z',\n",
    "    format='image/png',\n",
    "    transparent=True,\n",
    "    attribution='Weather data © 2012 IEM Nexrad'\n",
    ")\n",
    "\n",
    "m2 = Map(basemap=basemaps.CartoDB.Positron, center=(30.661, -88.645), zoom=5)\n",
    "\n",
    "m2.add(time_wms)\n",
    "\n",
    "m2"
   ]
  },
  {
   "cell_type": "code",
   "execution_count": 3,
   "id": "eb9e1bbc-551e-4cba-bf39-3f878dc29d2e",
   "metadata": {},
   "outputs": [],
   "source": [
    "# This will redraw the layer dynamically\n",
    "time_wms.time = '2005-08-29T14:00'"
   ]
  },
  {
   "cell_type": "code",
   "execution_count": 4,
   "id": "4f164fe1-5a59-446c-937c-0b5280984b2e",
   "metadata": {},
   "outputs": [
    {
     "data": {
      "application/vnd.jupyter.widget-view+json": {
       "model_id": "b5fbe4bb425e40bfa16f7f2a2b268624",
       "version_major": 2,
       "version_minor": 0
      },
      "text/plain": [
       "SelectionSlider(description='Time:', options=('13:00', '13:30', '14:00', '14:30', '15:00', '15:30', '16:00', '…"
      ]
     },
     "execution_count": 4,
     "metadata": {},
     "output_type": "execute_result"
    }
   ],
   "source": [
    "from ipywidgets import SelectionSlider\n",
    "\n",
    "time_options = [\n",
    "    '13:00', '13:30',\n",
    "    '14:00', '14:30',\n",
    "    '15:00', '15:30',\n",
    "    '16:00', '16:30'\n",
    "]\n",
    "\n",
    "slider = SelectionSlider(description='Time:', options=time_options)\n",
    "\n",
    "def update_wms(change):\n",
    "    time_wms.time = '2005-08-29T{}'.format(slider.value)\n",
    "\n",
    "slider.observe(update_wms, 'value')\n",
    "\n",
    "slider"
   ]
  },
  {
   "cell_type": "code",
   "execution_count": 5,
   "id": "71ada8d7-4762-44cb-830e-12429da5d699",
   "metadata": {},
   "outputs": [
    {
     "data": {
      "application/vnd.jupyter.widget-view+json": {
       "model_id": "a40c8c3ec9554e948c618667ebd48e97",
       "version_major": 2,
       "version_minor": 0
      },
      "text/plain": [
       "Map(center=[25, -115], controls=(ZoomControl(options=['position', 'zoom_in_text', 'zoom_in_title', 'zoom_out_t…"
      ]
     },
     "execution_count": 5,
     "metadata": {},
     "output_type": "execute_result"
    }
   ],
   "source": [
    "# image overlay\n",
    "from ipyleaflet import Map, ImageOverlay\n",
    "\n",
    "m = Map(center=(25, -115), zoom=4)\n",
    "\n",
    "image = ImageOverlay(\n",
    "    url=\"https://i.imgur.com/06Q1fSz.png\",\n",
    "    # url='../06Q1fSz.png',\n",
    "    bounds=((13, -130), (32, -100))\n",
    ")\n",
    "\n",
    "m.add(image);\n",
    "m"
   ]
  },
  {
   "cell_type": "code",
   "execution_count": null,
   "id": "c1759638-e330-47d0-ab61-d67ae237f232",
   "metadata": {},
   "outputs": [],
   "source": []
  }
 ],
 "metadata": {
  "kernelspec": {
   "display_name": "Python 3 (ipykernel)",
   "language": "python",
   "name": "python3"
  },
  "language_info": {
   "codemirror_mode": {
    "name": "ipython",
    "version": 3
   },
   "file_extension": ".py",
   "mimetype": "text/x-python",
   "name": "python",
   "nbconvert_exporter": "python",
   "pygments_lexer": "ipython3",
   "version": "3.12.0"
  }
 },
 "nbformat": 4,
 "nbformat_minor": 5
}
