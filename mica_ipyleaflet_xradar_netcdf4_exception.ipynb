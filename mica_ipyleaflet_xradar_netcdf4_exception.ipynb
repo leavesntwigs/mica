{
 "cells": [
  {
   "cell_type": "code",
   "execution_count": null,
   "id": "387cb2b0-047f-4dc4-bceb-df802539c1a7",
   "metadata": {},
   "outputs": [],
   "source": [
    "from ipyleaflet import Map, Marker, Polygon, basemaps"
   ]
  },
  {
   "cell_type": "code",
   "execution_count": null,
   "id": "58b4d3e6-88ed-4932-8e0c-a0f5c02e8beb",
   "metadata": {},
   "outputs": [],
   "source": [
    "center = (52.204793, 360.121558)\n",
    "\n",
    "m = Map(basemap=basemaps.CartoDB.Positron, center=center, zoom=10)\n",
    "\n",
    "marker = Marker(location=center, draggable=True)\n",
    "m.add(marker);\n",
    "\n",
    "display(m)"
   ]
  },
  {
   "cell_type": "code",
   "execution_count": null,
   "id": "2787eb42-bc86-4333-8f01-4e5b55944ea3",
   "metadata": {},
   "outputs": [],
   "source": [
    "from netCDF4 import Dataset, num2date"
   ]
  },
  {
   "cell_type": "code",
   "execution_count": null,
   "id": "b15430e6-f2d0-4ff9-ae2b-4612e0a17a79",
   "metadata": {},
   "outputs": [],
   "source": [
    "import numpy as np\n",
    "import xarray as xr\n",
    "import xradar as xd"
   ]
  },
  {
   "cell_type": "code",
   "execution_count": null,
   "id": "a7a64aae-fe63-4d4b-9fc0-5648319f791b",
   "metadata": {},
   "outputs": [],
   "source": [
    "# f1 = Dataset(\"/Users/brenda/data/mdv/mrms_3d/20150626/20150626_230012.mdv.nc\")"
   ]
  },
  {
   "cell_type": "code",
   "execution_count": null,
   "id": "705d483f-4477-4caa-9709-f760fc2c4139",
   "metadata": {},
   "outputs": [],
   "source": [
    "# read dataset\n",
    "ds = xr.open_dataset(\"/Users/brenda/data/mdv/mrms_3d/20150626/20150626_230012.mdv.nc\")\n",
    "# df = local_dataset.to_dataframe()  # convert to dataframe\n",
    "display(ds)"
   ]
  },
  {
   "cell_type": "code",
   "execution_count": null,
   "id": "05219eae-e002-40ab-992e-3d3bf5732294",
   "metadata": {},
   "outputs": [],
   "source": [
    "ds.x0[0]\n",
    "xy = np.meshgrid(ds.x0, ds.y0)\n",
    "xy"
   ]
  },
  {
   "cell_type": "code",
   "execution_count": null,
   "id": "ac34af0c-d79b-4fc1-b925-e39197008f3c",
   "metadata": {},
   "outputs": [],
   "source": [
    "ds.DBZ[0,0,:,:].plot()\n",
    "# uses very basic matplotlib plot operation. "
   ]
  },
  {
   "cell_type": "code",
   "execution_count": null,
   "id": "1da3e560-d5e3-4c49-9594-f4f00c226b2b",
   "metadata": {},
   "outputs": [],
   "source": [
    "dbz = ds.DBZ\n",
    "# dbz = df[\"DBZ\"]\n",
    "\n",
    "#dbz.index\n",
    "\n",
    "#dbz2 = local_dataset[\"DBZ\"]\n",
    "#display(dbz)\n",
    "# (time, z0, y0, x0)\n",
    "dbzt0z0 = dbz[0,0,:,:]\n",
    "dbz_xy = np.squeeze(dbzt0z0).shape\n",
    "display(dbz_xy)\n",
    "#dbznp = dbzt0z0.tolist()\n",
    "\n",
    "#display(dbznp[3017524])\n",
    "#dbz[1,1]\n",
    "\n",
    "# lats = f1.variables[\"y0\"][:]\n",
    "# lons = f1.variables[\"x0\"][:]\n",
    "# time = f1.variables[\"time\"]"
   ]
  },
  {
   "cell_type": "code",
   "execution_count": null,
   "id": "d1f93036-e2ac-4b4a-81af-517938ce8148",
   "metadata": {},
   "outputs": [],
   "source": [
    "#                      (time, z0, y0, x0)\n",
    "time_i = 0\n",
    "z0_i = 0\n",
    "y0_i = 0\n",
    "dbz = np.array(np.squeeze(ds.DBZ[time_i,z0_i,:,:])).reshape(-1)\n",
    "#dbz = np.squeeze(ds.DBZ[time_i,z0_i,0:1505:500,0:2004:80])\n",
    "#dbz_sample = dbz * -1/10 # [0:5, 0:5]  dbz has two dimensions: x0, y0!!! try .to_stacked_array \n",
    "#type(dbz_sample.to_numpy().tolist())\n",
    "#dbz_sample.to_numpy().tolist()\n",
    "len(dbz)"
   ]
  },
  {
   "cell_type": "code",
   "execution_count": null,
   "id": "5808109b-be70-4c17-8223-f15043f2cf11",
   "metadata": {},
   "outputs": [],
   "source": [
    "a = np.array((1,2,3))\n",
    "b = np.array((82,83,84))\n",
    "np.column_stack((a,b)).tolist()\n",
    "av = np.array(np.meshgrid(a,b)).T.reshape(-1,2)\n",
    "av\n",
    "# the grid is rectangular (x0 and y0 have different lengths\n",
    "#x0y0 = np.column_stack((ds.x0,ds.y0)).tolist()  \n",
    "\n",
    "t = ((11,21),(12,22),(13,23))\n",
    "type(t)\n",
    "\n",
    "g = np.random.uniform(-80, 80, (n, 2))\n",
    "type(g)\n",
    "np.column_stack((g,b)).tolist()\n",
    "# print(dbz[110,50].values)\n",
    "#somedata = np.random.uniform(-80, 80, (25, 2))\n",
    "#display(somedata)"
   ]
  },
  {
   "cell_type": "code",
   "execution_count": null,
   "id": "f7381bef-f311-4309-bf82-b5e8e1cc273b",
   "metadata": {},
   "outputs": [],
   "source": [
    "n = 3\n",
    "h = np.random.uniform(-80, 80, (n, 2))\n",
    "h\n",
    "#np.column_stack( h, [0,1,3])"
   ]
  },
  {
   "cell_type": "code",
   "execution_count": null,
   "id": "5fe6ffc0-cc8f-452a-aae2-0ba048748595",
   "metadata": {},
   "outputs": [],
   "source": [
    "bx = [0, 2, 4, 6]\n",
    "by = [0,-2,-4,-6]\n",
    "yx = np.array(np.meshgrid(by, bx)).T.reshape(-1,2)\n",
    "yx"
   ]
  },
  {
   "cell_type": "code",
   "execution_count": null,
   "id": "01e0a94c-c516-4268-a0b6-6d1c75beff89",
   "metadata": {},
   "outputs": [],
   "source": [
    "#a = np.array((1,2,3))\n",
    "#b = np.array((82,83,84))\n",
    "#np.column_stack((a,b)).tolist()\n",
    "\n",
    "av = np.array(np.meshgrid(ds.y0,ds.x0)).T.reshape(-1,2)\n",
    "av_sample = av   # [0:1000:40]  \n",
    "av_sample\n",
    "#av_sample.tolist()\n",
    "#av.size\n",
    "#ds.x0.size * ds.y0.size\n",
    "# the grid is rectangular (x0 and y0 have different lengths\n",
    "#x0y0 = np.column_stack((ds.x0,ds.y0)).tolist()  "
   ]
  },
  {
   "cell_type": "code",
   "execution_count": null,
   "id": "06e10092-fa0b-454c-b9a5-681c00665eec",
   "metadata": {},
   "outputs": [],
   "source": [
    "class MdvMap:\n",
    "    def __init__(self, points, values, radius=20):\n",
    "        self.points = points\n",
    "        self.values = values\n",
    "        self.radius = radius\n",
    "\n",
    "    @property\n",
    "    def data(self):\n",
    "        return np.column_stack((self.points, self.values))\n",
    "\n",
    "    def as_leaflet_layer(self):\n",
    "        from ipyleaflet import Heatmap\n",
    "        return Heatmap(\n",
    "            locations=self.data.tolist(),\n",
    "            radius=self.radius, blur=0, gradient={0.4: \"blue\", 0.6: \"cyan\", 0.7: \"lime\", 0.8: \"yellow\", 1.0: \"red\"}\n",
    "        )"
   ]
  },
  {
   "cell_type": "code",
   "execution_count": null,
   "id": "d0efaeb2-0d01-41a4-9610-0f181724defc",
   "metadata": {},
   "outputs": [],
   "source": [
    "b.size"
   ]
  },
  {
   "cell_type": "code",
   "execution_count": null,
   "id": "2894297e-41b9-4ef0-af2b-e4d1ab4cf9f0",
   "metadata": {},
   "outputs": [],
   "source": [
    "from ipyleaflet import Map, ZoomControl\n",
    "\n",
    "#n = 1000\n",
    "#data = MdvMap(\n",
    "#    np.random.uniform(-80, 80, (n, 2)), # generates 1000 * 2 points (i.e. 1000 x,y coordinates)\n",
    "#    np.random.uniform(0, 1000, n),\n",
    "#)\n",
    "#data = MdvMap(av, dbz)\n",
    "zoom_range = 12\n",
    "zoom_level = 2\n",
    "radius = zoom_level\n",
    "npoints = 100\n",
    "ncoords = len(av_sample)\n",
    "ndata = len(dbz)\n",
    "data_sample_scale = (zoom_range + 1 - zoom_level) / zoom_range\n",
    "nsamples = ncoords / 3\n",
    "everyn = int( ncoords / nsamples )\n",
    "everyn\n",
    "\n",
    "#subset = av_sample[0:ncoords:5] # everyn]\n",
    "#subset\n",
    "#zoom_level / zoom_range\n",
    "\n",
    "data = MdvMap(av_sample[0:ncoords:everyn], dbz[0:ndata:everyn], radius)\n",
    "\n",
    "my_zoom_control = ZoomControl(position='topright')\n",
    "\n",
    "# ipywidgets is powered by traitlets, this brings an observer pattern implementation \n",
    "# which allows you to react on widget attribute changes.\n",
    "\n",
    "#def on_location_changed(event):\n",
    "#    # Do some computation given the new marker location, accessible from `event['new']`\n",
    "#    pass\n",
    "# marker.observe(on_location_changed, 'location')\n",
    "caption = widgets.Label(value='The slider value is in its initial position.')\n",
    "def on_zoom_level_changed(event):\n",
    "    # Adjust the radius and the sample spacing; get zoom level from event['new']\n",
    "    caption.value = 'The zoom level is ' + event.new\n",
    "    pass\n",
    "\n",
    "#caption = widgets.Label(value='The slider value is in its initial position.')\n",
    "#slider = widgets.IntSlider(min=-5, max=5, value=1, description='Slider')\n",
    "\n",
    "#def handle_slider_change(change):\n",
    "#    caption.value = 'The slider value is ' + (\n",
    "#        'negative' if change.new < 0 else 'nonnegative'\n",
    "#    )\n",
    "\n",
    "#slider.observe(handle_slider_change, names='value')\n",
    "#display(caption, slider)\n",
    " \n",
    "\n",
    "# my_zoom_control.observe(on_zoom_level_changed, names='zoom')\n",
    "#display(caption, my_zoom_control)\n",
    "m = Map(center=(35, -92), zoom=zoom_level, zoom_control=False)\n",
    "m.add(my_zoom_control)\n",
    "m.add(data)\n",
    "m\n"
   ]
  },
  {
   "cell_type": "code",
   "execution_count": null,
   "id": "b4dff999-0060-4a19-9058-b4da70a07458",
   "metadata": {},
   "outputs": [],
   "source": [
    "import ipywidgets as widgets\n",
    "from ipyleaflet import ZoomControl\n",
    "# print(widgets.Widget.observe.__doc__)\n",
    "print(ZoomControl.observe.__doc__)\n",
    "\n",
    "\n",
    "caption = widgets.Label(value='The slider value is in its initial position.')\n",
    "slider = widgets.IntSlider(min=-5, max=5, value=1, description='Slider')\n",
    "\n",
    "def handle_slider_change(change):\n",
    "    caption.value = 'The slider value is ' + (\n",
    "        'negative' if change.new < 0 else 'nonnegative'\n",
    "    )\n",
    "\n",
    "slider.observe(handle_slider_change, names='value')\n",
    "\n",
    "display(caption, slider)"
   ]
  },
  {
   "cell_type": "code",
   "execution_count": 35,
   "id": "6000f30a-494f-498f-b3a1-dce45561178c",
   "metadata": {},
   "outputs": [
    {
     "ename": "TypeError",
     "evalue": "Dimensions of C (1505, 2005) should be one smaller than X(1505) and Y(2005) while using shading='flat' see help(pcolormesh)",
     "output_type": "error",
     "traceback": [
      "\u001b[0;31m---------------------------------------------------------------------------\u001b[0m",
      "\u001b[0;31mTypeError\u001b[0m                                 Traceback (most recent call last)",
      "Cell \u001b[0;32mIn[35], line 6\u001b[0m\n\u001b[1;32m      4\u001b[0m x \u001b[38;5;241m=\u001b[39m dbz[:,\u001b[38;5;241m0\u001b[39m]\n\u001b[1;32m      5\u001b[0m y \u001b[38;5;241m=\u001b[39m dbz[\u001b[38;5;241m0\u001b[39m,:]\n\u001b[0;32m----> 6\u001b[0m im \u001b[38;5;241m=\u001b[39m \u001b[43max\u001b[49m\u001b[38;5;241;43m.\u001b[39;49m\u001b[43mpcolormesh\u001b[49m\u001b[43m(\u001b[49m\u001b[43mdbz\u001b[49m\u001b[43m[\u001b[49m\u001b[43m:\u001b[49m\u001b[43m,\u001b[49m\u001b[38;5;241;43m0\u001b[39;49m\u001b[43m]\u001b[49m\u001b[43m,\u001b[49m\u001b[43m \u001b[49m\u001b[43mdbz\u001b[49m\u001b[43m[\u001b[49m\u001b[38;5;241;43m0\u001b[39;49m\u001b[43m,\u001b[49m\u001b[43m:\u001b[49m\u001b[43m]\u001b[49m\u001b[43m,\u001b[49m\u001b[43m \u001b[49m\u001b[43mdbz\u001b[49m\u001b[43m)\u001b[49m\n\u001b[1;32m      7\u001b[0m \u001b[38;5;66;03m# add a color bar\u001b[39;00m\n\u001b[1;32m      8\u001b[0m fig\u001b[38;5;241m.\u001b[39mcolorbar(im, ax\u001b[38;5;241m=\u001b[39max)\n",
      "File \u001b[0;32m~/miniforge3/envs/leaflet/lib/python3.12/site-packages/matplotlib/__init__.py:1465\u001b[0m, in \u001b[0;36m_preprocess_data.<locals>.inner\u001b[0;34m(ax, data, *args, **kwargs)\u001b[0m\n\u001b[1;32m   1462\u001b[0m \u001b[38;5;129m@functools\u001b[39m\u001b[38;5;241m.\u001b[39mwraps(func)\n\u001b[1;32m   1463\u001b[0m \u001b[38;5;28;01mdef\u001b[39;00m \u001b[38;5;21minner\u001b[39m(ax, \u001b[38;5;241m*\u001b[39margs, data\u001b[38;5;241m=\u001b[39m\u001b[38;5;28;01mNone\u001b[39;00m, \u001b[38;5;241m*\u001b[39m\u001b[38;5;241m*\u001b[39mkwargs):\n\u001b[1;32m   1464\u001b[0m     \u001b[38;5;28;01mif\u001b[39;00m data \u001b[38;5;129;01mis\u001b[39;00m \u001b[38;5;28;01mNone\u001b[39;00m:\n\u001b[0;32m-> 1465\u001b[0m         \u001b[38;5;28;01mreturn\u001b[39;00m \u001b[43mfunc\u001b[49m\u001b[43m(\u001b[49m\u001b[43max\u001b[49m\u001b[43m,\u001b[49m\u001b[43m \u001b[49m\u001b[38;5;241;43m*\u001b[39;49m\u001b[38;5;28;43mmap\u001b[39;49m\u001b[43m(\u001b[49m\u001b[43msanitize_sequence\u001b[49m\u001b[43m,\u001b[49m\u001b[43m \u001b[49m\u001b[43margs\u001b[49m\u001b[43m)\u001b[49m\u001b[43m,\u001b[49m\u001b[43m \u001b[49m\u001b[38;5;241;43m*\u001b[39;49m\u001b[38;5;241;43m*\u001b[39;49m\u001b[43mkwargs\u001b[49m\u001b[43m)\u001b[49m\n\u001b[1;32m   1467\u001b[0m     bound \u001b[38;5;241m=\u001b[39m new_sig\u001b[38;5;241m.\u001b[39mbind(ax, \u001b[38;5;241m*\u001b[39margs, \u001b[38;5;241m*\u001b[39m\u001b[38;5;241m*\u001b[39mkwargs)\n\u001b[1;32m   1468\u001b[0m     auto_label \u001b[38;5;241m=\u001b[39m (bound\u001b[38;5;241m.\u001b[39marguments\u001b[38;5;241m.\u001b[39mget(label_namer)\n\u001b[1;32m   1469\u001b[0m                   \u001b[38;5;129;01mor\u001b[39;00m bound\u001b[38;5;241m.\u001b[39mkwargs\u001b[38;5;241m.\u001b[39mget(label_namer))\n",
      "File \u001b[0;32m~/miniforge3/envs/leaflet/lib/python3.12/site-packages/matplotlib/axes/_axes.py:6289\u001b[0m, in \u001b[0;36mAxes.pcolormesh\u001b[0;34m(self, alpha, norm, cmap, vmin, vmax, shading, antialiased, *args, **kwargs)\u001b[0m\n\u001b[1;32m   6286\u001b[0m shading \u001b[38;5;241m=\u001b[39m shading\u001b[38;5;241m.\u001b[39mlower()\n\u001b[1;32m   6287\u001b[0m kwargs\u001b[38;5;241m.\u001b[39msetdefault(\u001b[38;5;124m'\u001b[39m\u001b[38;5;124medgecolors\u001b[39m\u001b[38;5;124m'\u001b[39m, \u001b[38;5;124m'\u001b[39m\u001b[38;5;124mnone\u001b[39m\u001b[38;5;124m'\u001b[39m)\n\u001b[0;32m-> 6289\u001b[0m X, Y, C, shading \u001b[38;5;241m=\u001b[39m \u001b[38;5;28;43mself\u001b[39;49m\u001b[38;5;241;43m.\u001b[39;49m\u001b[43m_pcolorargs\u001b[49m\u001b[43m(\u001b[49m\u001b[38;5;124;43m'\u001b[39;49m\u001b[38;5;124;43mpcolormesh\u001b[39;49m\u001b[38;5;124;43m'\u001b[39;49m\u001b[43m,\u001b[49m\u001b[43m \u001b[49m\u001b[38;5;241;43m*\u001b[39;49m\u001b[43margs\u001b[49m\u001b[43m,\u001b[49m\n\u001b[1;32m   6290\u001b[0m \u001b[43m                                    \u001b[49m\u001b[43mshading\u001b[49m\u001b[38;5;241;43m=\u001b[39;49m\u001b[43mshading\u001b[49m\u001b[43m,\u001b[49m\u001b[43m \u001b[49m\u001b[43mkwargs\u001b[49m\u001b[38;5;241;43m=\u001b[39;49m\u001b[43mkwargs\u001b[49m\u001b[43m)\u001b[49m\n\u001b[1;32m   6291\u001b[0m coords \u001b[38;5;241m=\u001b[39m np\u001b[38;5;241m.\u001b[39mstack([X, Y], axis\u001b[38;5;241m=\u001b[39m\u001b[38;5;241m-\u001b[39m\u001b[38;5;241m1\u001b[39m)\n\u001b[1;32m   6293\u001b[0m kwargs\u001b[38;5;241m.\u001b[39msetdefault(\u001b[38;5;124m'\u001b[39m\u001b[38;5;124msnap\u001b[39m\u001b[38;5;124m'\u001b[39m, mpl\u001b[38;5;241m.\u001b[39mrcParams[\u001b[38;5;124m'\u001b[39m\u001b[38;5;124mpcolormesh.snap\u001b[39m\u001b[38;5;124m'\u001b[39m])\n",
      "File \u001b[0;32m~/miniforge3/envs/leaflet/lib/python3.12/site-packages/matplotlib/axes/_axes.py:5836\u001b[0m, in \u001b[0;36mAxes._pcolorargs\u001b[0;34m(self, funcname, shading, *args, **kwargs)\u001b[0m\n\u001b[1;32m   5834\u001b[0m \u001b[38;5;28;01mif\u001b[39;00m shading \u001b[38;5;241m==\u001b[39m \u001b[38;5;124m'\u001b[39m\u001b[38;5;124mflat\u001b[39m\u001b[38;5;124m'\u001b[39m:\n\u001b[1;32m   5835\u001b[0m     \u001b[38;5;28;01mif\u001b[39;00m (Nx, Ny) \u001b[38;5;241m!=\u001b[39m (ncols \u001b[38;5;241m+\u001b[39m \u001b[38;5;241m1\u001b[39m, nrows \u001b[38;5;241m+\u001b[39m \u001b[38;5;241m1\u001b[39m):\n\u001b[0;32m-> 5836\u001b[0m         \u001b[38;5;28;01mraise\u001b[39;00m \u001b[38;5;167;01mTypeError\u001b[39;00m(\u001b[38;5;124mf\u001b[39m\u001b[38;5;124m\"\u001b[39m\u001b[38;5;124mDimensions of C \u001b[39m\u001b[38;5;132;01m{\u001b[39;00mC\u001b[38;5;241m.\u001b[39mshape\u001b[38;5;132;01m}\u001b[39;00m\u001b[38;5;124m should\u001b[39m\u001b[38;5;124m\"\u001b[39m\n\u001b[1;32m   5837\u001b[0m                         \u001b[38;5;124mf\u001b[39m\u001b[38;5;124m\"\u001b[39m\u001b[38;5;124m be one smaller than X(\u001b[39m\u001b[38;5;132;01m{\u001b[39;00mNx\u001b[38;5;132;01m}\u001b[39;00m\u001b[38;5;124m) and Y(\u001b[39m\u001b[38;5;132;01m{\u001b[39;00mNy\u001b[38;5;132;01m}\u001b[39;00m\u001b[38;5;124m)\u001b[39m\u001b[38;5;124m\"\u001b[39m\n\u001b[1;32m   5838\u001b[0m                         \u001b[38;5;124mf\u001b[39m\u001b[38;5;124m\"\u001b[39m\u001b[38;5;124m while using shading=\u001b[39m\u001b[38;5;124m'\u001b[39m\u001b[38;5;124mflat\u001b[39m\u001b[38;5;124m'\u001b[39m\u001b[38;5;124m\"\u001b[39m\n\u001b[1;32m   5839\u001b[0m                         \u001b[38;5;124mf\u001b[39m\u001b[38;5;124m\"\u001b[39m\u001b[38;5;124m see help(\u001b[39m\u001b[38;5;132;01m{\u001b[39;00mfuncname\u001b[38;5;132;01m}\u001b[39;00m\u001b[38;5;124m)\u001b[39m\u001b[38;5;124m\"\u001b[39m)\n\u001b[1;32m   5840\u001b[0m \u001b[38;5;28;01melse\u001b[39;00m:    \u001b[38;5;66;03m# ['nearest', 'gouraud']:\u001b[39;00m\n\u001b[1;32m   5841\u001b[0m     \u001b[38;5;28;01mif\u001b[39;00m (Nx, Ny) \u001b[38;5;241m!=\u001b[39m (ncols, nrows):\n",
      "\u001b[0;31mTypeError\u001b[0m: Dimensions of C (1505, 2005) should be one smaller than X(1505) and Y(2005) while using shading='flat' see help(pcolormesh)"
     ]
    },
    {
     "data": {
      "image/png": "[encoded data removed]",
      "text/plain": [
       "<Figure size 640x480 with 1 Axes>"
      ]
     },
     "metadata": {},
     "output_type": "display_data"
    }
   ],
   "source": [
    "import matplotlib.pyplot as plt\n",
    "fig, ax = plt.subplots()\n",
    "# generate the image, i.e. plot\n",
    "x = dbz[:,0]\n",
    "y = dbz[0,:]\n",
    "im = ax.pcolormesh(dbz[:,0], dbz[0,:], dbz)\n",
    "# add a color bar\n",
    "fig.colorbar(im, ax=ax)"
   ]
  },
  {
   "cell_type": "code",
   "execution_count": 7,
   "id": "b07b4c4a-5bf3-46cc-b53e-234b8e8134b6",
   "metadata": {},
   "outputs": [
    {
     "name": "stdout",
     "output_type": "stream",
     "text": [
      "2015-06-26 23:00:12\n"
     ]
    }
   ],
   "source": [
    "dates = num2date(time[:], time.units)\n",
    "time_of_day = dates[0].strftime(\"%Y-%m-%d %H:%M:%S\")\n",
    "print(time_of_day)"
   ]
  },
  {
   "cell_type": "code",
   "execution_count": 22,
   "id": "e64b05d6-f2d4-447c-93dd-e726b7be9bf0",
   "metadata": {},
   "outputs": [
    {
     "name": "stdout",
     "output_type": "stream",
     "text": [
      "('time', 'z0', 'y0', 'x0')\n",
      "-99.00217\n",
      "dict_keys(['time', 'forecast_reference_time', 'forecast_period', 'start_time', 'stop_time', 'x0', 'y0', 'z0', 'grid_mapping_0', 'mdv_master_header', 'DBZ'])\n",
      "<class 'netCDF4._netCDF4.Variable'>\n",
      "int16 DBZ(time, z0, y0, x0)\n",
      "    scale_factor: 0.016244275\n",
      "    add_offset: -467.0487\n",
      "    valid_min: -32767\n",
      "    valid_max: 32767\n",
      "    _FillValue: -32768\n",
      "    standard_name: DBZ\n",
      "    long_name: All Radar 3D Reflectivty Mosaic\n",
      "    units: dBZ\n",
      "    mdv_field_code: 1\n",
      "    mdv_user_time_1: 0\n",
      "    mdv_user_time_2: 0\n",
      "    mdv_user_time_3: 0\n",
      "    mdv_user_time_4: 0\n",
      "    mdv_user_data_si32_0: 0\n",
      "    mdv_user_data_si32_1: 0\n",
      "    mdv_user_data_si32_2: 0\n",
      "    mdv_user_data_si32_3: 0\n",
      "    mdv_user_data_si32_4: 0\n",
      "    mdv_user_data_si32_5: 0\n",
      "    mdv_user_data_si32_6: 0\n",
      "    mdv_user_data_si32_7: 0\n",
      "    mdv_user_data_si32_8: 0\n",
      "    mdv_user_data_si32_9: 0\n",
      "    mdv_user_data_fl32_0: 0.0\n",
      "    mdv_user_data_fl32_1: 0.0\n",
      "    mdv_user_data_fl32_2: 0.0\n",
      "    mdv_user_data_fl32_3: 0.0\n",
      "    mdv_proj_type: 0\n",
      "    mdv_proj_origin_lat: 20.005\n",
      "    mdv_proj_origin_lon: -129.99501\n",
      "    mdv_transform_type: 0\n",
      "    mdv_vlevel_type: 4\n",
      "    mdv_native_vlevel_type: 4\n",
      "    mdv_transform: \n",
      "unlimited dimensions: \n",
      "current shape = (1, 33, 1505, 2005)\n",
      "filling on\n",
      "1505 2005\n"
     ]
    }
   ],
   "source": [
    "dbz = f1.variables[\"DBZ\"]\n",
    "dbz_dimensions = f1.variables[\"DBZ\"].dimensions\n",
    "print(dbz_dimensions)\n",
    "print(dbz[0,18,10,10])\n",
    "type(dbz)\n",
    "print(f1.variables.keys())\n",
    "print(dbz)\n",
    "print(len(lats), len(lons))"
   ]
  },
  {
   "cell_type": "code",
   "execution_count": 11,
   "id": "e6a166fa-b90d-4ebb-a6b9-347b41700707",
   "metadata": {},
   "outputs": [
    {
     "name": "stdout",
     "output_type": "stream",
     "text": [
      "29.984999 -110.015015\n"
     ]
    }
   ],
   "source": [
    "print(lats[0], lons[0])"
   ]
  },
  {
   "cell_type": "code",
   "execution_count": 29,
   "id": "e9969d38-a421-41a9-9a36-ba17902d9a7e",
   "metadata": {},
   "outputs": [
    {
     "data": {
      "application/vnd.jupyter.widget-view+json": {
       "model_id": "060eb07069f0447f9545a94cfb777446",
       "version_major": 2,
       "version_minor": 0
      },
      "text/plain": [
       "Map(center=[29.984999, -110.015015], controls=(ZoomControl(options=['position', 'zoom_in_text', 'zoom_in_title…"
      ]
     },
     "metadata": {},
     "output_type": "display_data"
    }
   ],
   "source": [
    "center = (lats[0], lons[0])\n",
    "\n",
    "\n",
    "\n",
    "m = Map(basemap=basemaps.CartoDB.Positron, center=center, zoom=10)\n",
    "\n",
    "marker = Marker(location=center, draggable=True)\n",
    "m.add(marker);\n",
    "\n",
    "polysize_x = abs(lats[15] - lats[14]) / 0.5\n",
    "polysize_y = abs(lons[15] - lons[14]) / 0.5\n",
    "for ix in range(10, 30, 3):\n",
    "    for iy in range(10,30, 3):\n",
    "        x = lats[ix]\n",
    "        y = lons[iy]\n",
    "        polygon = Polygon(\n",
    "            locations=[(x, y), (x+polysize_x, y), (x, y-polysize_y)],\n",
    "            color=\"green\",\n",
    "            fill_color=\"green\"\n",
    "        )\n",
    "        m.add(polygon);\n",
    "\n",
    "# color scale using a choropleth layer?\n",
    "layer = ipyleaflet.Choropleth(\n",
    "    geo_data=geo_json_data,\n",
    "    choro_data=unemployment,\n",
    "    colormap=linear.YlOrRd_04,\n",
    "    border_color='black',\n",
    "    style={'fillOpacity': 0.8, 'dashArray': '5, 5'})\n",
    "\n",
    "m = ipyleaflet.Map(center = (43,-100), zoom = 4)\n",
    "m.add(layer)\n",
    "\n",
    "\n",
    "display(m)"
   ]
  },
  {
   "cell_type": "code",
   "execution_count": null,
   "id": "f9a1627f-f7e8-4241-a3ef-8745199414f8",
   "metadata": {},
   "outputs": [],
   "source": []
  }
 ],
 "metadata": {
  "kernelspec": {
   "display_name": "Python 3 (ipykernel)",
   "language": "python",
   "name": "python3"
  },
  "language_info": {
   "codemirror_mode": {
    "name": "ipython",
    "version": 3
   },
   "file_extension": ".py",
   "mimetype": "text/x-python",
   "name": "python",
   "nbconvert_exporter": "python",
   "pygments_lexer": "ipython3",
   "version": "3.12.0"
  }
 },
 "nbformat": 4,
 "nbformat_minor": 5
}
