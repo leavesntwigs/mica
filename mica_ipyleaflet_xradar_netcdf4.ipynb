{
 "cells": [
  {
   "cell_type": "code",
   "execution_count": 1,
   "id": "387cb2b0-047f-4dc4-bceb-df802539c1a7",
   "metadata": {},
   "outputs": [],
   "source": [
    "from ipyleaflet import Map, Marker, Polygon, basemaps"
   ]
  },
  {
   "cell_type": "code",
   "execution_count": null,
   "id": "58b4d3e6-88ed-4932-8e0c-a0f5c02e8beb",
   "metadata": {},
   "outputs": [],
   "source": [
    "center = (52.204793, 360.121558)\n",
    "\n",
    "m = Map(basemap=basemaps.CartoDB.Positron, center=center, zoom=10)\n",
    "\n",
    "marker = Marker(location=center, draggable=True)\n",
    "m.add(marker);\n",
    "\n",
    "display(m)"
   ]
  },
  {
   "cell_type": "code",
   "execution_count": 2,
   "id": "2787eb42-bc86-4333-8f01-4e5b55944ea3",
   "metadata": {},
   "outputs": [],
   "source": [
    "from netCDF4 import Dataset, num2date"
   ]
  },
  {
   "cell_type": "code",
   "execution_count": 3,
   "id": "b15430e6-f2d0-4ff9-ae2b-4612e0a17a79",
   "metadata": {},
   "outputs": [],
   "source": [
    "import numpy as np\n",
    "import xarray as xr\n",
    "import xradar as xd"
   ]
  },
  {
   "cell_type": "code",
   "execution_count": null,
   "id": "a7a64aae-fe63-4d4b-9fc0-5648319f791b",
   "metadata": {},
   "outputs": [],
   "source": [
    "# f1 = Dataset(\"/Users/brenda/data/mdv/mrms_3d/20150626/20150626_230012.mdv.nc\")"
   ]
  },
  {
   "cell_type": "code",
   "execution_count": 4,
   "id": "705d483f-4477-4caa-9709-f760fc2c4139",
   "metadata": {},
   "outputs": [
    {
     "data": {
      "text/html": [
       "<div><svg style=\"position: absolute; width: 0; height: 0; overflow: hidden\">\n",
       "<defs>\n",
       "<symbol id=\"icon-database\" viewBox=\"0 0 32 32\">\n",
       "<path d=\"M16 0c-8.837 0-16 2.239-16 5v4c0 2.761 7.163 5 16 5s16-2.239 16-5v-4c0-2.761-7.163-5-16-5z\"></path>\n",
       "<path d=\"M16 17c-8.837 0-16-2.239-16-5v6c0 2.761 7.163 5 16 5s16-2.239 16-5v-6c0 2.761-7.163 5-16 5z\"></path>\n",
       "<path d=\"M16 26c-8.837 0-16-2.239-16-5v6c0 2.761 7.163 5 16 5s16-2.239 16-5v-6c0 2.761-7.163 5-16 5z\"></path>\n",
       "</symbol>\n",
       "<symbol id=\"icon-file-text2\" viewBox=\"0 0 32 32\">\n",
       "<path d=\"M28.681 7.159c-0.694-0.947-1.662-2.053-2.724-3.116s-2.169-2.030-3.116-2.724c-1.612-1.182-2.393-1.319-2.841-1.319h-15.5c-1.378 0-2.5 1.121-2.5 2.5v27c0 1.378 1.122 2.5 2.5 2.5h23c1.378 0 2.5-1.122 2.5-2.5v-19.5c0-0.448-0.137-1.23-1.319-2.841zM24.543 5.457c0.959 0.959 1.712 1.825 2.268 2.543h-4.811v-4.811c0.718 0.556 1.584 1.309 2.543 2.268zM28 29.5c0 0.271-0.229 0.5-0.5 0.5h-23c-0.271 0-0.5-0.229-0.5-0.5v-27c0-0.271 0.229-0.5 0.5-0.5 0 0 15.499-0 15.5 0v7c0 0.552 0.448 1 1 1h7v19.5z\"></path>\n",
       "<path d=\"M23 26h-14c-0.552 0-1-0.448-1-1s0.448-1 1-1h14c0.552 0 1 0.448 1 1s-0.448 1-1 1z\"></path>\n",
       "<path d=\"M23 22h-14c-0.552 0-1-0.448-1-1s0.448-1 1-1h14c0.552 0 1 0.448 1 1s-0.448 1-1 1z\"></path>\n",
       "<path d=\"M23 18h-14c-0.552 0-1-0.448-1-1s0.448-1 1-1h14c0.552 0 1 0.448 1 1s-0.448 1-1 1z\"></path>\n",
       "</symbol>\n",
       "</defs>\n",
       "</svg>\n",
       "<style>/* CSS stylesheet for displaying xarray objects in jupyterlab.\n",
       " *\n",
       " */\n",
       "\n",
       ":root {\n",
       "  --xr-font-color0: var(--jp-content-font-color0, rgba(0, 0, 0, 1));\n",
       "  --xr-font-color2: var(--jp-content-font-color2, rgba(0, 0, 0, 0.54));\n",
       "  --xr-font-color3: var(--jp-content-font-color3, rgba(0, 0, 0, 0.38));\n",
       "  --xr-border-color: var(--jp-border-color2, #e0e0e0);\n",
       "  --xr-disabled-color: var(--jp-layout-color3, #bdbdbd);\n",
       "  --xr-background-color: var(--jp-layout-color0, white);\n",
       "  --xr-background-color-row-even: var(--jp-layout-color1, white);\n",
       "  --xr-background-color-row-odd: var(--jp-layout-color2, #eeeeee);\n",
       "}\n",
       "\n",
       "html[theme=dark],\n",
       "body[data-theme=dark],\n",
       "body.vscode-dark {\n",
       "  --xr-font-color0: rgba(255, 255, 255, 1);\n",
       "  --xr-font-color2: rgba(255, 255, 255, 0.54);\n",
       "  --xr-font-color3: rgba(255, 255, 255, 0.38);\n",
       "  --xr-border-color: #1F1F1F;\n",
       "  --xr-disabled-color: #515151;\n",
       "  --xr-background-color: #111111;\n",
       "  --xr-background-color-row-even: #111111;\n",
       "  --xr-background-color-row-odd: #313131;\n",
       "}\n",
       "\n",
       ".xr-wrap {\n",
       "  display: block !important;\n",
       "  min-width: 300px;\n",
       "  max-width: 700px;\n",
       "}\n",
       "\n",
       ".xr-text-repr-fallback {\n",
       "  /* fallback to plain text repr when CSS is not injected (untrusted notebook) */\n",
       "  display: none;\n",
       "}\n",
       "\n",
       ".xr-header {\n",
       "  padding-top: 6px;\n",
       "  padding-bottom: 6px;\n",
       "  margin-bottom: 4px;\n",
       "  border-bottom: solid 1px var(--xr-border-color);\n",
       "}\n",
       "\n",
       ".xr-header > div,\n",
       ".xr-header > ul {\n",
       "  display: inline;\n",
       "  margin-top: 0;\n",
       "  margin-bottom: 0;\n",
       "}\n",
       "\n",
       ".xr-obj-type,\n",
       ".xr-array-name {\n",
       "  margin-left: 2px;\n",
       "  margin-right: 10px;\n",
       "}\n",
       "\n",
       ".xr-obj-type {\n",
       "  color: var(--xr-font-color2);\n",
       "}\n",
       "\n",
       ".xr-sections {\n",
       "  padding-left: 0 !important;\n",
       "  display: grid;\n",
       "  grid-template-columns: 150px auto auto 1fr 20px 20px;\n",
       "}\n",
       "\n",
       ".xr-section-item {\n",
       "  display: contents;\n",
       "}\n",
       "\n",
       ".xr-section-item input {\n",
       "  display: none;\n",
       "}\n",
       "\n",
       ".xr-section-item input + label {\n",
       "  color: var(--xr-disabled-color);\n",
       "}\n",
       "\n",
       ".xr-section-item input:enabled + label {\n",
       "  cursor: pointer;\n",
       "  color: var(--xr-font-color2);\n",
       "}\n",
       "\n",
       ".xr-section-item input:enabled + label:hover {\n",
       "  color: var(--xr-font-color0);\n",
       "}\n",
       "\n",
       ".xr-section-summary {\n",
       "  grid-column: 1;\n",
       "  color: var(--xr-font-color2);\n",
       "  font-weight: 500;\n",
       "}\n",
       "\n",
       ".xr-section-summary > span {\n",
       "  display: inline-block;\n",
       "  padding-left: 0.5em;\n",
       "}\n",
       "\n",
       ".xr-section-summary-in:disabled + label {\n",
       "  color: var(--xr-font-color2);\n",
       "}\n",
       "\n",
       ".xr-section-summary-in + label:before {\n",
       "  display: inline-block;\n",
       "  content: '►';\n",
       "  font-size: 11px;\n",
       "  width: 15px;\n",
       "  text-align: center;\n",
       "}\n",
       "\n",
       ".xr-section-summary-in:disabled + label:before {\n",
       "  color: var(--xr-disabled-color);\n",
       "}\n",
       "\n",
       ".xr-section-summary-in:checked + label:before {\n",
       "  content: '▼';\n",
       "}\n",
       "\n",
       ".xr-section-summary-in:checked + label > span {\n",
       "  display: none;\n",
       "}\n",
       "\n",
       ".xr-section-summary,\n",
       ".xr-section-inline-details {\n",
       "  padding-top: 4px;\n",
       "  padding-bottom: 4px;\n",
       "}\n",
       "\n",
       ".xr-section-inline-details {\n",
       "  grid-column: 2 / -1;\n",
       "}\n",
       "\n",
       ".xr-section-details {\n",
       "  display: none;\n",
       "  grid-column: 1 / -1;\n",
       "  margin-bottom: 5px;\n",
       "}\n",
       "\n",
       ".xr-section-summary-in:checked ~ .xr-section-details {\n",
       "  display: contents;\n",
       "}\n",
       "\n",
       ".xr-array-wrap {\n",
       "  grid-column: 1 / -1;\n",
       "  display: grid;\n",
       "  grid-template-columns: 20px auto;\n",
       "}\n",
       "\n",
       ".xr-array-wrap > label {\n",
       "  grid-column: 1;\n",
       "  vertical-align: top;\n",
       "}\n",
       "\n",
       ".xr-preview {\n",
       "  color: var(--xr-font-color3);\n",
       "}\n",
       "\n",
       ".xr-array-preview,\n",
       ".xr-array-data {\n",
       "  padding: 0 5px !important;\n",
       "  grid-column: 2;\n",
       "}\n",
       "\n",
       ".xr-array-data,\n",
       ".xr-array-in:checked ~ .xr-array-preview {\n",
       "  display: none;\n",
       "}\n",
       "\n",
       ".xr-array-in:checked ~ .xr-array-data,\n",
       ".xr-array-preview {\n",
       "  display: inline-block;\n",
       "}\n",
       "\n",
       ".xr-dim-list {\n",
       "  display: inline-block !important;\n",
       "  list-style: none;\n",
       "  padding: 0 !important;\n",
       "  margin: 0;\n",
       "}\n",
       "\n",
       ".xr-dim-list li {\n",
       "  display: inline-block;\n",
       "  padding: 0;\n",
       "  margin: 0;\n",
       "}\n",
       "\n",
       ".xr-dim-list:before {\n",
       "  content: '(';\n",
       "}\n",
       "\n",
       ".xr-dim-list:after {\n",
       "  content: ')';\n",
       "}\n",
       "\n",
       ".xr-dim-list li:not(:last-child):after {\n",
       "  content: ',';\n",
       "  padding-right: 5px;\n",
       "}\n",
       "\n",
       ".xr-has-index {\n",
       "  font-weight: bold;\n",
       "}\n",
       "\n",
       ".xr-var-list,\n",
       ".xr-var-item {\n",
       "  display: contents;\n",
       "}\n",
       "\n",
       ".xr-var-item > div,\n",
       ".xr-var-item label,\n",
       ".xr-var-item > .xr-var-name span {\n",
       "  background-color: var(--xr-background-color-row-even);\n",
       "  margin-bottom: 0;\n",
       "}\n",
       "\n",
       ".xr-var-item > .xr-var-name:hover span {\n",
       "  padding-right: 5px;\n",
       "}\n",
       "\n",
       ".xr-var-list > li:nth-child(odd) > div,\n",
       ".xr-var-list > li:nth-child(odd) > label,\n",
       ".xr-var-list > li:nth-child(odd) > .xr-var-name span {\n",
       "  background-color: var(--xr-background-color-row-odd);\n",
       "}\n",
       "\n",
       ".xr-var-name {\n",
       "  grid-column: 1;\n",
       "}\n",
       "\n",
       ".xr-var-dims {\n",
       "  grid-column: 2;\n",
       "}\n",
       "\n",
       ".xr-var-dtype {\n",
       "  grid-column: 3;\n",
       "  text-align: right;\n",
       "  color: var(--xr-font-color2);\n",
       "}\n",
       "\n",
       ".xr-var-preview {\n",
       "  grid-column: 4;\n",
       "}\n",
       "\n",
       ".xr-index-preview {\n",
       "  grid-column: 2 / 5;\n",
       "  color: var(--xr-font-color2);\n",
       "}\n",
       "\n",
       ".xr-var-name,\n",
       ".xr-var-dims,\n",
       ".xr-var-dtype,\n",
       ".xr-preview,\n",
       ".xr-attrs dt {\n",
       "  white-space: nowrap;\n",
       "  overflow: hidden;\n",
       "  text-overflow: ellipsis;\n",
       "  padding-right: 10px;\n",
       "}\n",
       "\n",
       ".xr-var-name:hover,\n",
       ".xr-var-dims:hover,\n",
       ".xr-var-dtype:hover,\n",
       ".xr-attrs dt:hover {\n",
       "  overflow: visible;\n",
       "  width: auto;\n",
       "  z-index: 1;\n",
       "}\n",
       "\n",
       ".xr-var-attrs,\n",
       ".xr-var-data,\n",
       ".xr-index-data {\n",
       "  display: none;\n",
       "  background-color: var(--xr-background-color) !important;\n",
       "  padding-bottom: 5px !important;\n",
       "}\n",
       "\n",
       ".xr-var-attrs-in:checked ~ .xr-var-attrs,\n",
       ".xr-var-data-in:checked ~ .xr-var-data,\n",
       ".xr-index-data-in:checked ~ .xr-index-data {\n",
       "  display: block;\n",
       "}\n",
       "\n",
       ".xr-var-data > table {\n",
       "  float: right;\n",
       "}\n",
       "\n",
       ".xr-var-name span,\n",
       ".xr-var-data,\n",
       ".xr-index-name div,\n",
       ".xr-index-data,\n",
       ".xr-attrs {\n",
       "  padding-left: 25px !important;\n",
       "}\n",
       "\n",
       ".xr-attrs,\n",
       ".xr-var-attrs,\n",
       ".xr-var-data,\n",
       ".xr-index-data {\n",
       "  grid-column: 1 / -1;\n",
       "}\n",
       "\n",
       "dl.xr-attrs {\n",
       "  padding: 0;\n",
       "  margin: 0;\n",
       "  display: grid;\n",
       "  grid-template-columns: 125px auto;\n",
       "}\n",
       "\n",
       ".xr-attrs dt,\n",
       ".xr-attrs dd {\n",
       "  padding: 0;\n",
       "  margin: 0;\n",
       "  float: left;\n",
       "  padding-right: 10px;\n",
       "  width: auto;\n",
       "}\n",
       "\n",
       ".xr-attrs dt {\n",
       "  font-weight: normal;\n",
       "  grid-column: 1;\n",
       "}\n",
       "\n",
       ".xr-attrs dt:hover span {\n",
       "  display: inline-block;\n",
       "  background: var(--xr-background-color);\n",
       "  padding-right: 10px;\n",
       "}\n",
       "\n",
       ".xr-attrs dd {\n",
       "  grid-column: 2;\n",
       "  white-space: pre-wrap;\n",
       "  word-break: break-all;\n",
       "}\n",
       "\n",
       ".xr-icon-database,\n",
       ".xr-icon-file-text2,\n",
       ".xr-no-icon {\n",
       "  display: inline-block;\n",
       "  vertical-align: middle;\n",
       "  width: 1em;\n",
       "  height: 1.5em !important;\n",
       "  stroke-width: 0;\n",
       "  stroke: currentColor;\n",
       "  fill: currentColor;\n",
       "}\n",
       "</style><pre class='xr-text-repr-fallback'>&lt;xarray.Dataset&gt;\n",
       "Dimensions:                  (time: 1, x0: 2005, y0: 1505, z0: 33)\n",
       "Coordinates:\n",
       "  * time                     (time) datetime64[ns] 2015-06-26T23:00:12\n",
       "  * x0                       (x0) float32 -110.0 -110.0 -110.0 ... -89.99 -89.98\n",
       "  * y0                       (y0) float32 29.98 29.99 30.0 ... 45.0 45.01 45.02\n",
       "  * z0                       (z0) float32 0.5 0.75 1.0 1.25 ... 17.0 18.0 19.0\n",
       "Data variables:\n",
       "    forecast_reference_time  (time) datetime64[ns] ...\n",
       "    forecast_period          (time) timedelta64[ns] ...\n",
       "    start_time               (time) datetime64[ns] ...\n",
       "    stop_time                (time) datetime64[ns] ...\n",
       "    grid_mapping_0           int32 ...\n",
       "    mdv_master_header        (time) int32 ...\n",
       "    DBZ                      (time, z0, y0, x0) float32 ...\n",
       "Attributes:\n",
       "    Conventions:  CF-1.0\n",
       "    source:       NOAA NEXRAD radars\n",
       "    title:        NOAA MRMS NEXRAD radar mosaic.\n",
       "    comment:      </pre><div class='xr-wrap' style='display:none'><div class='xr-header'><div class='xr-obj-type'>xarray.Dataset</div></div><ul class='xr-sections'><li class='xr-section-item'><input id='section-7d9c02e1-cea1-4c74-950f-3a5f433b5071' class='xr-section-summary-in' type='checkbox' disabled ><label for='section-7d9c02e1-cea1-4c74-950f-3a5f433b5071' class='xr-section-summary'  title='Expand/collapse section'>Dimensions:</label><div class='xr-section-inline-details'><ul class='xr-dim-list'><li><span class='xr-has-index'>time</span>: 1</li><li><span class='xr-has-index'>x0</span>: 2005</li><li><span class='xr-has-index'>y0</span>: 1505</li><li><span class='xr-has-index'>z0</span>: 33</li></ul></div><div class='xr-section-details'></div></li><li class='xr-section-item'><input id='section-a4dd59d4-74e0-44ff-9c7f-2362b04e8860' class='xr-section-summary-in' type='checkbox'  checked><label for='section-a4dd59d4-74e0-44ff-9c7f-2362b04e8860' class='xr-section-summary' >Coordinates: <span>(4)</span></label><div class='xr-section-inline-details'></div><div class='xr-section-details'><ul class='xr-var-list'><li class='xr-var-item'><div class='xr-var-name'><span class='xr-has-index'>time</span></div><div class='xr-var-dims'>(time)</div><div class='xr-var-dtype'>datetime64[ns]</div><div class='xr-var-preview xr-preview'>2015-06-26T23:00:12</div><input id='attrs-be9e064d-480e-4b8a-a2b4-2b25dbb36ace' class='xr-var-attrs-in' type='checkbox' ><label for='attrs-be9e064d-480e-4b8a-a2b4-2b25dbb36ace' title='Show/Hide attributes'><svg class='icon xr-icon-file-text2'><use xlink:href='#icon-file-text2'></use></svg></label><input id='data-7cd47fe4-d6b9-4e04-aa14-d124a8671f98' class='xr-var-data-in' type='checkbox'><label for='data-7cd47fe4-d6b9-4e04-aa14-d124a8671f98' title='Show/Hide data repr'><svg class='icon xr-icon-database'><use xlink:href='#icon-database'></use></svg></label><div class='xr-var-attrs'><dl class='xr-attrs'><dt><span>standard_name :</span></dt><dd>time</dd><dt><span>long_name :</span></dt><dd>Data time</dd><dt><span>axis :</span></dt><dd>T</dd><dt><span>bounds :</span></dt><dd>time_bounds</dd><dt><span>comment :</span></dt><dd>2015-06-26T23:00:12Z</dd></dl></div><div class='xr-var-data'><pre>array([&#x27;2015-06-26T23:00:12.000000000&#x27;], dtype=&#x27;datetime64[ns]&#x27;)</pre></div></li><li class='xr-var-item'><div class='xr-var-name'><span class='xr-has-index'>x0</span></div><div class='xr-var-dims'>(x0)</div><div class='xr-var-dtype'>float32</div><div class='xr-var-preview xr-preview'>-110.0 -110.0 ... -89.99 -89.98</div><input id='attrs-04342ba5-76ce-4025-a111-2eff0a8fb9cf' class='xr-var-attrs-in' type='checkbox' ><label for='attrs-04342ba5-76ce-4025-a111-2eff0a8fb9cf' title='Show/Hide attributes'><svg class='icon xr-icon-file-text2'><use xlink:href='#icon-file-text2'></use></svg></label><input id='data-459bbff3-f086-4b12-a05b-344248408bbf' class='xr-var-data-in' type='checkbox'><label for='data-459bbff3-f086-4b12-a05b-344248408bbf' title='Show/Hide data repr'><svg class='icon xr-icon-database'><use xlink:href='#icon-database'></use></svg></label><div class='xr-var-attrs'><dl class='xr-attrs'><dt><span>standard_name :</span></dt><dd>longitude</dd><dt><span>long_name :</span></dt><dd>longitude</dd><dt><span>units :</span></dt><dd>degrees_east</dd><dt><span>axis :</span></dt><dd>X</dd></dl></div><div class='xr-var-data'><pre>array([-110.015015, -110.00501 , -109.99502 , ...,  -89.99501 ,  -89.985016,\n",
       "        -89.97501 ], dtype=float32)</pre></div></li><li class='xr-var-item'><div class='xr-var-name'><span class='xr-has-index'>y0</span></div><div class='xr-var-dims'>(y0)</div><div class='xr-var-dtype'>float32</div><div class='xr-var-preview xr-preview'>29.98 29.99 30.0 ... 45.01 45.02</div><input id='attrs-82b7ac61-75bd-4339-99c2-ab3c80b8a40a' class='xr-var-attrs-in' type='checkbox' ><label for='attrs-82b7ac61-75bd-4339-99c2-ab3c80b8a40a' title='Show/Hide attributes'><svg class='icon xr-icon-file-text2'><use xlink:href='#icon-file-text2'></use></svg></label><input id='data-4d5ab7a4-4278-47c7-a04c-3f604791c1d9' class='xr-var-data-in' type='checkbox'><label for='data-4d5ab7a4-4278-47c7-a04c-3f604791c1d9' title='Show/Hide data repr'><svg class='icon xr-icon-database'><use xlink:href='#icon-database'></use></svg></label><div class='xr-var-attrs'><dl class='xr-attrs'><dt><span>standard_name :</span></dt><dd>latitude</dd><dt><span>long_name :</span></dt><dd>latitude</dd><dt><span>units :</span></dt><dd>degrees_north</dd><dt><span>axis :</span></dt><dd>Y</dd></dl></div><div class='xr-var-data'><pre>array([29.984999, 29.994999, 30.005   , ..., 45.004997, 45.015   , 45.024998],\n",
       "      dtype=float32)</pre></div></li><li class='xr-var-item'><div class='xr-var-name'><span class='xr-has-index'>z0</span></div><div class='xr-var-dims'>(z0)</div><div class='xr-var-dtype'>float32</div><div class='xr-var-preview xr-preview'>0.5 0.75 1.0 ... 17.0 18.0 19.0</div><input id='attrs-78e1ccf5-e946-43e8-a247-daece7f4f706' class='xr-var-attrs-in' type='checkbox' ><label for='attrs-78e1ccf5-e946-43e8-a247-daece7f4f706' title='Show/Hide attributes'><svg class='icon xr-icon-file-text2'><use xlink:href='#icon-file-text2'></use></svg></label><input id='data-1e0b9ac0-7096-4b67-88a4-09bab0545ec5' class='xr-var-data-in' type='checkbox'><label for='data-1e0b9ac0-7096-4b67-88a4-09bab0545ec5' title='Show/Hide data repr'><svg class='icon xr-icon-database'><use xlink:href='#icon-database'></use></svg></label><div class='xr-var-attrs'><dl class='xr-attrs'><dt><span>standard_name :</span></dt><dd>altitude</dd><dt><span>long_name :</span></dt><dd>constant altitude levels</dd><dt><span>units :</span></dt><dd>km</dd><dt><span>positive :</span></dt><dd>up</dd><dt><span>axis :</span></dt><dd>Z</dd></dl></div><div class='xr-var-data'><pre>array([ 0.5 ,  0.75,  1.  ,  1.25,  1.5 ,  1.75,  2.  ,  2.25,  2.5 ,  2.75,\n",
       "        3.  ,  3.5 ,  4.  ,  4.5 ,  5.  ,  5.5 ,  6.  ,  6.5 ,  7.  ,  7.5 ,\n",
       "        8.  ,  8.5 ,  9.  , 10.  , 11.  , 12.  , 13.  , 14.  , 15.  , 16.  ,\n",
       "       17.  , 18.  , 19.  ], dtype=float32)</pre></div></li></ul></div></li><li class='xr-section-item'><input id='section-aec3c534-fb19-4489-9ea0-7b7f114c5adb' class='xr-section-summary-in' type='checkbox'  checked><label for='section-aec3c534-fb19-4489-9ea0-7b7f114c5adb' class='xr-section-summary' >Data variables: <span>(7)</span></label><div class='xr-section-inline-details'></div><div class='xr-section-details'><ul class='xr-var-list'><li class='xr-var-item'><div class='xr-var-name'><span>forecast_reference_time</span></div><div class='xr-var-dims'>(time)</div><div class='xr-var-dtype'>datetime64[ns]</div><div class='xr-var-preview xr-preview'>...</div><input id='attrs-dd2d7989-6d27-4816-afe4-acb075a577b8' class='xr-var-attrs-in' type='checkbox' ><label for='attrs-dd2d7989-6d27-4816-afe4-acb075a577b8' title='Show/Hide attributes'><svg class='icon xr-icon-file-text2'><use xlink:href='#icon-file-text2'></use></svg></label><input id='data-28cb4911-4ef7-4aa3-9aee-bf170f903a60' class='xr-var-data-in' type='checkbox'><label for='data-28cb4911-4ef7-4aa3-9aee-bf170f903a60' title='Show/Hide data repr'><svg class='icon xr-icon-database'><use xlink:href='#icon-database'></use></svg></label><div class='xr-var-attrs'><dl class='xr-attrs'><dt><span>standard_name :</span></dt><dd>forecast_reference_time</dd><dt><span>long_name :</span></dt><dd>Data generation time</dd><dt><span>comment :</span></dt><dd>2015-06-26T23:00:12Z</dd></dl></div><div class='xr-var-data'><pre>[1 values with dtype=datetime64[ns]]</pre></div></li><li class='xr-var-item'><div class='xr-var-name'><span>forecast_period</span></div><div class='xr-var-dims'>(time)</div><div class='xr-var-dtype'>timedelta64[ns]</div><div class='xr-var-preview xr-preview'>...</div><input id='attrs-e1c306a9-7e12-41e4-9910-adc23f1452fc' class='xr-var-attrs-in' type='checkbox' ><label for='attrs-e1c306a9-7e12-41e4-9910-adc23f1452fc' title='Show/Hide attributes'><svg class='icon xr-icon-file-text2'><use xlink:href='#icon-file-text2'></use></svg></label><input id='data-7190fe3c-7322-4e71-9102-af0afa8669d1' class='xr-var-data-in' type='checkbox'><label for='data-7190fe3c-7322-4e71-9102-af0afa8669d1' title='Show/Hide data repr'><svg class='icon xr-icon-database'><use xlink:href='#icon-database'></use></svg></label><div class='xr-var-attrs'><dl class='xr-attrs'><dt><span>standard_name :</span></dt><dd>forecast_period</dd><dt><span>long_name :</span></dt><dd>forecast_period</dd></dl></div><div class='xr-var-data'><pre>[1 values with dtype=timedelta64[ns]]</pre></div></li><li class='xr-var-item'><div class='xr-var-name'><span>start_time</span></div><div class='xr-var-dims'>(time)</div><div class='xr-var-dtype'>datetime64[ns]</div><div class='xr-var-preview xr-preview'>...</div><input id='attrs-b2c221a0-d3ac-4990-b24a-bd8476266773' class='xr-var-attrs-in' type='checkbox' ><label for='attrs-b2c221a0-d3ac-4990-b24a-bd8476266773' title='Show/Hide attributes'><svg class='icon xr-icon-file-text2'><use xlink:href='#icon-file-text2'></use></svg></label><input id='data-b5866453-6ab9-41bd-b0a1-179474d0a654' class='xr-var-data-in' type='checkbox'><label for='data-b5866453-6ab9-41bd-b0a1-179474d0a654' title='Show/Hide data repr'><svg class='icon xr-icon-database'><use xlink:href='#icon-database'></use></svg></label><div class='xr-var-attrs'><dl class='xr-attrs'><dt><span>comment :</span></dt><dd>2015-06-26T23:00:12Z</dd></dl></div><div class='xr-var-data'><pre>[1 values with dtype=datetime64[ns]]</pre></div></li><li class='xr-var-item'><div class='xr-var-name'><span>stop_time</span></div><div class='xr-var-dims'>(time)</div><div class='xr-var-dtype'>datetime64[ns]</div><div class='xr-var-preview xr-preview'>...</div><input id='attrs-09f1a247-8e60-493c-b935-6555922c0b83' class='xr-var-attrs-in' type='checkbox' ><label for='attrs-09f1a247-8e60-493c-b935-6555922c0b83' title='Show/Hide attributes'><svg class='icon xr-icon-file-text2'><use xlink:href='#icon-file-text2'></use></svg></label><input id='data-1aacd42f-3e9e-4fa6-a567-6ed915ddf232' class='xr-var-data-in' type='checkbox'><label for='data-1aacd42f-3e9e-4fa6-a567-6ed915ddf232' title='Show/Hide data repr'><svg class='icon xr-icon-database'><use xlink:href='#icon-database'></use></svg></label><div class='xr-var-attrs'><dl class='xr-attrs'><dt><span>comment :</span></dt><dd>2015-06-26T23:00:12Z</dd></dl></div><div class='xr-var-data'><pre>[1 values with dtype=datetime64[ns]]</pre></div></li><li class='xr-var-item'><div class='xr-var-name'><span>grid_mapping_0</span></div><div class='xr-var-dims'>()</div><div class='xr-var-dtype'>int32</div><div class='xr-var-preview xr-preview'>...</div><input id='attrs-ed9cc966-ae57-41ae-a10c-e0ff442d58a7' class='xr-var-attrs-in' type='checkbox' ><label for='attrs-ed9cc966-ae57-41ae-a10c-e0ff442d58a7' title='Show/Hide attributes'><svg class='icon xr-icon-file-text2'><use xlink:href='#icon-file-text2'></use></svg></label><input id='data-1be6dfd7-731a-444c-b852-e9a5214cd25c' class='xr-var-data-in' type='checkbox'><label for='data-1be6dfd7-731a-444c-b852-e9a5214cd25c' title='Show/Hide data repr'><svg class='icon xr-icon-database'><use xlink:href='#icon-database'></use></svg></label><div class='xr-var-attrs'><dl class='xr-attrs'><dt><span>grid_mapping_name :</span></dt><dd>latitude_longitude</dd></dl></div><div class='xr-var-data'><pre>[1 values with dtype=int32]</pre></div></li><li class='xr-var-item'><div class='xr-var-name'><span>mdv_master_header</span></div><div class='xr-var-dims'>(time)</div><div class='xr-var-dtype'>int32</div><div class='xr-var-preview xr-preview'>...</div><input id='attrs-9c2e220b-87c1-45a4-86ae-023ff30854b0' class='xr-var-attrs-in' type='checkbox' ><label for='attrs-9c2e220b-87c1-45a4-86ae-023ff30854b0' title='Show/Hide attributes'><svg class='icon xr-icon-file-text2'><use xlink:href='#icon-file-text2'></use></svg></label><input id='data-fa14acfe-2229-4174-ba8c-f6900cf7d97c' class='xr-var-data-in' type='checkbox'><label for='data-fa14acfe-2229-4174-ba8c-f6900cf7d97c' title='Show/Hide data repr'><svg class='icon xr-icon-database'><use xlink:href='#icon-database'></use></svg></label><div class='xr-var-attrs'><dl class='xr-attrs'><dt><span>mdv_revision_number :</span></dt><dd>1</dd><dt><span>mdv_epoch :</span></dt><dd>0</dd><dt><span>mdv_time_centroid :</span></dt><dd>1435359612.0</dd><dt><span>mdv_time_gen :</span></dt><dd>1435359612.0</dd><dt><span>mdv_time_begin :</span></dt><dd>1435359612.0</dd><dt><span>mdv_time_end :</span></dt><dd>1435359612.0</dd><dt><span>mdv_user_time :</span></dt><dd>0.0</dd><dt><span>mdv_time_expire :</span></dt><dd>1435359612.0</dd><dt><span>mdv_time_written :</span></dt><dd>0.0</dd><dt><span>mdv_forecast_time :</span></dt><dd>0.0</dd><dt><span>mdv_forecast_delta :</span></dt><dd>0.0</dd><dt><span>mdv_data_collection_type :</span></dt><dd>2</dd><dt><span>mdv_user_data :</span></dt><dd>0</dd><dt><span>mdv_vlevel_type :</span></dt><dd>4</dd><dt><span>mdv_native_vlevel_type :</span></dt><dd>4</dd><dt><span>mdv_user_data_si32_0 :</span></dt><dd>0</dd><dt><span>mdv_user_data_si32_1 :</span></dt><dd>0</dd><dt><span>mdv_user_data_si32_2 :</span></dt><dd>0</dd><dt><span>mdv_user_data_si32_3 :</span></dt><dd>0</dd><dt><span>mdv_user_data_si32_4 :</span></dt><dd>0</dd><dt><span>mdv_user_data_si32_5 :</span></dt><dd>0</dd><dt><span>mdv_user_data_si32_6 :</span></dt><dd>0</dd><dt><span>mdv_user_data_si32_7 :</span></dt><dd>0</dd><dt><span>mdv_user_data_fl32_0 :</span></dt><dd>0.0</dd><dt><span>mdv_user_data_fl32_1 :</span></dt><dd>0.0</dd><dt><span>mdv_user_data_fl32_2 :</span></dt><dd>0.0</dd><dt><span>mdv_user_data_fl32_3 :</span></dt><dd>0.0</dd><dt><span>mdv_user_data_fl32_4 :</span></dt><dd>0.0</dd><dt><span>mdv_user_data_fl32_5 :</span></dt><dd>0.0</dd><dt><span>mdv_sensor_lon :</span></dt><dd>0.0</dd><dt><span>mdv_sensor_lat :</span></dt><dd>0.0</dd><dt><span>mdv_sensor_alt :</span></dt><dd>0.0</dd></dl></div><div class='xr-var-data'><pre>[1 values with dtype=int32]</pre></div></li><li class='xr-var-item'><div class='xr-var-name'><span>DBZ</span></div><div class='xr-var-dims'>(time, z0, y0, x0)</div><div class='xr-var-dtype'>float32</div><div class='xr-var-preview xr-preview'>...</div><input id='attrs-0052b396-cf96-4b8e-8f75-bae74ed2a38a' class='xr-var-attrs-in' type='checkbox' ><label for='attrs-0052b396-cf96-4b8e-8f75-bae74ed2a38a' title='Show/Hide attributes'><svg class='icon xr-icon-file-text2'><use xlink:href='#icon-file-text2'></use></svg></label><input id='data-83b41cfd-6864-44e9-b1f1-c6e93ff51966' class='xr-var-data-in' type='checkbox'><label for='data-83b41cfd-6864-44e9-b1f1-c6e93ff51966' title='Show/Hide data repr'><svg class='icon xr-icon-database'><use xlink:href='#icon-database'></use></svg></label><div class='xr-var-attrs'><dl class='xr-attrs'><dt><span>valid_min :</span></dt><dd>-32767</dd><dt><span>valid_max :</span></dt><dd>32767</dd><dt><span>standard_name :</span></dt><dd>DBZ</dd><dt><span>long_name :</span></dt><dd>All Radar 3D Reflectivty Mosaic</dd><dt><span>units :</span></dt><dd>dBZ</dd><dt><span>mdv_field_code :</span></dt><dd>1</dd><dt><span>mdv_user_time_1 :</span></dt><dd>0</dd><dt><span>mdv_user_time_2 :</span></dt><dd>0</dd><dt><span>mdv_user_time_3 :</span></dt><dd>0</dd><dt><span>mdv_user_time_4 :</span></dt><dd>0</dd><dt><span>mdv_user_data_si32_0 :</span></dt><dd>0</dd><dt><span>mdv_user_data_si32_1 :</span></dt><dd>0</dd><dt><span>mdv_user_data_si32_2 :</span></dt><dd>0</dd><dt><span>mdv_user_data_si32_3 :</span></dt><dd>0</dd><dt><span>mdv_user_data_si32_4 :</span></dt><dd>0</dd><dt><span>mdv_user_data_si32_5 :</span></dt><dd>0</dd><dt><span>mdv_user_data_si32_6 :</span></dt><dd>0</dd><dt><span>mdv_user_data_si32_7 :</span></dt><dd>0</dd><dt><span>mdv_user_data_si32_8 :</span></dt><dd>0</dd><dt><span>mdv_user_data_si32_9 :</span></dt><dd>0</dd><dt><span>mdv_user_data_fl32_0 :</span></dt><dd>0.0</dd><dt><span>mdv_user_data_fl32_1 :</span></dt><dd>0.0</dd><dt><span>mdv_user_data_fl32_2 :</span></dt><dd>0.0</dd><dt><span>mdv_user_data_fl32_3 :</span></dt><dd>0.0</dd><dt><span>mdv_proj_type :</span></dt><dd>0</dd><dt><span>mdv_proj_origin_lat :</span></dt><dd>20.005</dd><dt><span>mdv_proj_origin_lon :</span></dt><dd>-129.99501</dd><dt><span>mdv_transform_type :</span></dt><dd>0</dd><dt><span>mdv_vlevel_type :</span></dt><dd>4</dd><dt><span>mdv_native_vlevel_type :</span></dt><dd>4</dd><dt><span>mdv_transform :</span></dt><dd></dd></dl></div><div class='xr-var-data'><pre>[99578325 values with dtype=float32]</pre></div></li></ul></div></li><li class='xr-section-item'><input id='section-c1b83903-5b4c-4fe6-a876-e66c89be8cc0' class='xr-section-summary-in' type='checkbox'  ><label for='section-c1b83903-5b4c-4fe6-a876-e66c89be8cc0' class='xr-section-summary' >Indexes: <span>(4)</span></label><div class='xr-section-inline-details'></div><div class='xr-section-details'><ul class='xr-var-list'><li class='xr-var-item'><div class='xr-index-name'><div>time</div></div><div class='xr-index-preview'>PandasIndex</div><div></div><input id='index-9693f47d-b1ad-4596-a62f-44625a89e6b9' class='xr-index-data-in' type='checkbox'/><label for='index-9693f47d-b1ad-4596-a62f-44625a89e6b9' title='Show/Hide index repr'><svg class='icon xr-icon-database'><use xlink:href='#icon-database'></use></svg></label><div class='xr-index-data'><pre>PandasIndex(DatetimeIndex([&#x27;2015-06-26 23:00:12&#x27;], dtype=&#x27;datetime64[ns]&#x27;, name=&#x27;time&#x27;, freq=None))</pre></div></li><li class='xr-var-item'><div class='xr-index-name'><div>x0</div></div><div class='xr-index-preview'>PandasIndex</div><div></div><input id='index-2730d967-d238-474b-bf14-2c32991efff4' class='xr-index-data-in' type='checkbox'/><label for='index-2730d967-d238-474b-bf14-2c32991efff4' title='Show/Hide index repr'><svg class='icon xr-icon-database'><use xlink:href='#icon-database'></use></svg></label><div class='xr-index-data'><pre>PandasIndex(Index([ -110.0150146484375, -110.00501251220703,  -109.9950180053711,\n",
       "       -109.98501586914062, -109.97501373291016, -109.96501159667969,\n",
       "       -109.95501708984375, -109.94501495361328, -109.93501281738281,\n",
       "       -109.92501831054688,\n",
       "       ...\n",
       "        -90.06501770019531,  -90.05501556396484,  -90.04501342773438,\n",
       "        -90.03501892089844,  -90.02501678466797,   -90.0150146484375,\n",
       "        -90.00501251220703,  -89.99501037597656,  -89.98501586914062,\n",
       "        -89.97501373291016],\n",
       "      dtype=&#x27;float32&#x27;, name=&#x27;x0&#x27;, length=2005))</pre></div></li><li class='xr-var-item'><div class='xr-index-name'><div>y0</div></div><div class='xr-index-preview'>PandasIndex</div><div></div><input id='index-8dfcba9a-ff7e-4ca8-9897-d3859e8eba66' class='xr-index-data-in' type='checkbox'/><label for='index-8dfcba9a-ff7e-4ca8-9897-d3859e8eba66' title='Show/Hide index repr'><svg class='icon xr-icon-database'><use xlink:href='#icon-database'></use></svg></label><div class='xr-index-data'><pre>PandasIndex(Index([ 29.98499870300293, 29.994998931884766,   30.0049991607666,\n",
       "       30.014999389648438, 30.024999618530273, 30.034997940063477,\n",
       "       30.044998168945312,  30.05499839782715, 30.064998626708984,\n",
       "        30.07499885559082,\n",
       "       ...\n",
       "        44.93499755859375,  44.94499969482422,  44.95499801635742,\n",
       "       44.964996337890625, 44.974998474121094,  44.98500061035156,\n",
       "       44.994998931884766,  45.00499725341797,  45.01499938964844,\n",
       "        45.02499771118164],\n",
       "      dtype=&#x27;float32&#x27;, name=&#x27;y0&#x27;, length=1505))</pre></div></li><li class='xr-var-item'><div class='xr-index-name'><div>z0</div></div><div class='xr-index-preview'>PandasIndex</div><div></div><input id='index-05a40285-7c1b-4c2c-92d3-36208d88066b' class='xr-index-data-in' type='checkbox'/><label for='index-05a40285-7c1b-4c2c-92d3-36208d88066b' title='Show/Hide index repr'><svg class='icon xr-icon-database'><use xlink:href='#icon-database'></use></svg></label><div class='xr-index-data'><pre>PandasIndex(Index([ 0.5, 0.75,  1.0, 1.25,  1.5, 1.75,  2.0, 2.25,  2.5, 2.75,  3.0,  3.5,\n",
       "        4.0,  4.5,  5.0,  5.5,  6.0,  6.5,  7.0,  7.5,  8.0,  8.5,  9.0, 10.0,\n",
       "       11.0, 12.0, 13.0, 14.0, 15.0, 16.0, 17.0, 18.0, 19.0],\n",
       "      dtype=&#x27;float32&#x27;, name=&#x27;z0&#x27;))</pre></div></li></ul></div></li><li class='xr-section-item'><input id='section-c17c8594-c060-4e31-b4c9-b16c58d53843' class='xr-section-summary-in' type='checkbox'  checked><label for='section-c17c8594-c060-4e31-b4c9-b16c58d53843' class='xr-section-summary' >Attributes: <span>(4)</span></label><div class='xr-section-inline-details'></div><div class='xr-section-details'><dl class='xr-attrs'><dt><span>Conventions :</span></dt><dd>CF-1.0</dd><dt><span>source :</span></dt><dd>NOAA NEXRAD radars</dd><dt><span>title :</span></dt><dd>NOAA MRMS NEXRAD radar mosaic.</dd><dt><span>comment :</span></dt><dd></dd></dl></div></li></ul></div></div>"
      ],
      "text/plain": [
       "<xarray.Dataset>\n",
       "Dimensions:                  (time: 1, x0: 2005, y0: 1505, z0: 33)\n",
       "Coordinates:\n",
       "  * time                     (time) datetime64[ns] 2015-06-26T23:00:12\n",
       "  * x0                       (x0) float32 -110.0 -110.0 -110.0 ... -89.99 -89.98\n",
       "  * y0                       (y0) float32 29.98 29.99 30.0 ... 45.0 45.01 45.02\n",
       "  * z0                       (z0) float32 0.5 0.75 1.0 1.25 ... 17.0 18.0 19.0\n",
       "Data variables:\n",
       "    forecast_reference_time  (time) datetime64[ns] ...\n",
       "    forecast_period          (time) timedelta64[ns] ...\n",
       "    start_time               (time) datetime64[ns] ...\n",
       "    stop_time                (time) datetime64[ns] ...\n",
       "    grid_mapping_0           int32 ...\n",
       "    mdv_master_header        (time) int32 ...\n",
       "    DBZ                      (time, z0, y0, x0) float32 ...\n",
       "Attributes:\n",
       "    Conventions:  CF-1.0\n",
       "    source:       NOAA NEXRAD radars\n",
       "    title:        NOAA MRMS NEXRAD radar mosaic.\n",
       "    comment:      "
      ]
     },
     "metadata": {},
     "output_type": "display_data"
    }
   ],
   "source": [
    "# read dataset\n",
    "ds = xr.open_dataset(\"/Users/brenda/data/mdv/mrms_3d/20150626/20150626_230012.mdv.nc\")\n",
    "# df = local_dataset.to_dataframe()  # convert to dataframe\n",
    "display(ds)"
   ]
  },
  {
   "cell_type": "code",
   "execution_count": null,
   "id": "05219eae-e002-40ab-992e-3d3bf5732294",
   "metadata": {},
   "outputs": [],
   "source": [
    "ds.x0[0]\n",
    "xy = np.meshgrid(ds.x0, ds.y0)\n",
    "xy"
   ]
  },
  {
   "cell_type": "code",
   "execution_count": 5,
   "id": "ac34af0c-d79b-4fc1-b925-e39197008f3c",
   "metadata": {},
   "outputs": [
    {
     "data": {
      "text/plain": [
       "<matplotlib.collections.QuadMesh at 0x1685340e0>"
      ]
     },
     "execution_count": 5,
     "metadata": {},
     "output_type": "execute_result"
    },
    {
     "data": {
      "image/png": "[encoded data removed]",
      "text/plain": [
       "<Figure size 640x480 with 2 Axes>"
      ]
     },
     "metadata": {},
     "output_type": "display_data"
    }
   ],
   "source": [
    "ds.DBZ[0,0,:,:].plot()\n",
    "# uses very basic matplotlib plot operation. "
   ]
  },
  {
   "cell_type": "code",
   "execution_count": 9,
   "id": "1da3e560-d5e3-4c49-9594-f4f00c226b2b",
   "metadata": {},
   "outputs": [
    {
     "data": {
      "text/plain": [
       "(1505, 2005)"
      ]
     },
     "metadata": {},
     "output_type": "display_data"
    }
   ],
   "source": [
    "dbz = ds.DBZ\n",
    "# dbz = df[\"DBZ\"]\n",
    "\n",
    "#dbz.index\n",
    "\n",
    "#dbz2 = local_dataset[\"DBZ\"]\n",
    "#display(dbz)\n",
    "# (time, z0, y0, x0)\n",
    "dbzt0z0 = dbz[0,0,:,:]\n",
    "dbz_xy = np.squeeze(dbzt0z0).shape\n",
    "display(dbz_xy)\n",
    "#dbznp = dbzt0z0.tolist()\n",
    "\n",
    "#display(dbznp[3017524])\n",
    "#dbz[1,1]\n",
    "\n",
    "# lats = f1.variables[\"y0\"][:]\n",
    "# lons = f1.variables[\"x0\"][:]\n",
    "# time = f1.variables[\"time\"]"
   ]
  },
  {
   "cell_type": "code",
   "execution_count": 10,
   "id": "d1f93036-e2ac-4b4a-81af-517938ce8148",
   "metadata": {},
   "outputs": [
    {
     "data": {
      "text/plain": [
       "3017525"
      ]
     },
     "execution_count": 10,
     "metadata": {},
     "output_type": "execute_result"
    }
   ],
   "source": [
    "#                      (time, z0, y0, x0)\n",
    "time_i = 0\n",
    "z0_i = 0\n",
    "y0_i = 0\n",
    "dbz = np.array(np.squeeze(ds.DBZ[time_i,z0_i,:,:])).reshape(-1)\n",
    "#dbz = np.squeeze(ds.DBZ[time_i,z0_i,0:1505:500,0:2004:80])\n",
    "#dbz_sample = dbz * -1/10 # [0:5, 0:5]  dbz has two dimensions: x0, y0!!! try .to_stacked_array \n",
    "#type(dbz_sample.to_numpy().tolist())\n",
    "#dbz_sample.to_numpy().tolist()\n",
    "len(dbz)"
   ]
  },
  {
   "cell_type": "code",
   "execution_count": null,
   "id": "5808109b-be70-4c17-8223-f15043f2cf11",
   "metadata": {},
   "outputs": [],
   "source": [
    "a = np.array((1,2,3))\n",
    "b = np.array((82,83,84))\n",
    "np.column_stack((a,b)).tolist()\n",
    "av = np.array(np.meshgrid(a,b)).T.reshape(-1,2)\n",
    "av\n",
    "# the grid is rectangular (x0 and y0 have different lengths\n",
    "#x0y0 = np.column_stack((ds.x0,ds.y0)).tolist()  \n",
    "\n",
    "t = ((11,21),(12,22),(13,23))\n",
    "type(t)\n",
    "\n",
    "g = np.random.uniform(-80, 80, (n, 2))\n",
    "type(g)\n",
    "np.column_stack((g,b)).tolist()\n",
    "# print(dbz[110,50].values)\n",
    "#somedata = np.random.uniform(-80, 80, (25, 2))\n",
    "#display(somedata)"
   ]
  },
  {
   "cell_type": "code",
   "execution_count": null,
   "id": "f7381bef-f311-4309-bf82-b5e8e1cc273b",
   "metadata": {},
   "outputs": [],
   "source": [
    "n = 3\n",
    "h = np.random.uniform(-80, 80, (n, 2))\n",
    "h\n",
    "#np.column_stack( h, [0,1,3])"
   ]
  },
  {
   "cell_type": "code",
   "execution_count": null,
   "id": "5fe6ffc0-cc8f-452a-aae2-0ba048748595",
   "metadata": {},
   "outputs": [],
   "source": [
    "bx = [0, 2, 4, 6]\n",
    "by = [0,-2,-4,-6]\n",
    "yx = np.array(np.meshgrid(by, bx)).T.reshape(-1,2)\n",
    "yx"
   ]
  },
  {
   "cell_type": "code",
   "execution_count": 11,
   "id": "01e0a94c-c516-4268-a0b6-6d1c75beff89",
   "metadata": {},
   "outputs": [
    {
     "data": {
      "text/plain": [
       "array([[  29.984999, -110.015015],\n",
       "       [  29.984999, -110.00501 ],\n",
       "       [  29.984999, -109.99502 ],\n",
       "       ...,\n",
       "       [  45.024998,  -89.99501 ],\n",
       "       [  45.024998,  -89.985016],\n",
       "       [  45.024998,  -89.97501 ]], dtype=float32)"
      ]
     },
     "execution_count": 11,
     "metadata": {},
     "output_type": "execute_result"
    }
   ],
   "source": [
    "#a = np.array((1,2,3))\n",
    "#b = np.array((82,83,84))\n",
    "#np.column_stack((a,b)).tolist()\n",
    "\n",
    "av = np.array(np.meshgrid(ds.y0,ds.x0)).T.reshape(-1,2)\n",
    "av_sample = av   # [0:1000:40]  \n",
    "av_sample\n",
    "#av_sample.tolist()\n",
    "#av.size\n",
    "#ds.x0.size * ds.y0.size\n",
    "# the grid is rectangular (x0 and y0 have different lengths\n",
    "#x0y0 = np.column_stack((ds.x0,ds.y0)).tolist()  "
   ]
  },
  {
   "cell_type": "code",
   "execution_count": 12,
   "id": "06e10092-fa0b-454c-b9a5-681c00665eec",
   "metadata": {},
   "outputs": [],
   "source": [
    "class MdvMap:\n",
    "    def __init__(self, points, values, radius=20):\n",
    "        self.points = points\n",
    "        self.values = values\n",
    "        self.radius = radius\n",
    "\n",
    "    @property\n",
    "    def data(self):\n",
    "        return np.column_stack((self.points, self.values))\n",
    "\n",
    "    def as_leaflet_layer(self):\n",
    "        from ipyleaflet import Heatmap\n",
    "        return Heatmap(\n",
    "            locations=self.data.tolist(),\n",
    "            radius=self.radius, blur=0, gradient={0.4: \"blue\", 0.6: \"cyan\", 0.7: \"lime\", 0.8: \"yellow\", 1.0: \"red\"}\n",
    "        )"
   ]
  },
  {
   "cell_type": "code",
   "execution_count": null,
   "id": "d0efaeb2-0d01-41a4-9610-0f181724defc",
   "metadata": {},
   "outputs": [],
   "source": [
    "b.size"
   ]
  },
  {
   "cell_type": "code",
   "execution_count": 13,
   "id": "2894297e-41b9-4ef0-af2b-e4d1ab4cf9f0",
   "metadata": {},
   "outputs": [
    {
     "ename": "NameError",
     "evalue": "name 'widgets' is not defined",
     "output_type": "error",
     "traceback": [
      "\u001b[0;31m---------------------------------------------------------------------------\u001b[0m",
      "\u001b[0;31mNameError\u001b[0m                                 Traceback (most recent call last)",
      "Cell \u001b[0;32mIn[13], line 35\u001b[0m\n\u001b[1;32m     26\u001b[0m my_zoom_control \u001b[38;5;241m=\u001b[39m ZoomControl(position\u001b[38;5;241m=\u001b[39m\u001b[38;5;124m'\u001b[39m\u001b[38;5;124mtopright\u001b[39m\u001b[38;5;124m'\u001b[39m)\n\u001b[1;32m     28\u001b[0m \u001b[38;5;66;03m# ipywidgets is powered by traitlets, this brings an observer pattern implementation \u001b[39;00m\n\u001b[1;32m     29\u001b[0m \u001b[38;5;66;03m# which allows you to react on widget attribute changes.\u001b[39;00m\n\u001b[1;32m     30\u001b[0m \n\u001b[0;32m   (...)\u001b[0m\n\u001b[1;32m     33\u001b[0m \u001b[38;5;66;03m#    pass\u001b[39;00m\n\u001b[1;32m     34\u001b[0m \u001b[38;5;66;03m# marker.observe(on_location_changed, 'location')\u001b[39;00m\n\u001b[0;32m---> 35\u001b[0m caption \u001b[38;5;241m=\u001b[39m \u001b[43mwidgets\u001b[49m\u001b[38;5;241m.\u001b[39mLabel(value\u001b[38;5;241m=\u001b[39m\u001b[38;5;124m'\u001b[39m\u001b[38;5;124mThe slider value is in its initial position.\u001b[39m\u001b[38;5;124m'\u001b[39m)\n\u001b[1;32m     36\u001b[0m \u001b[38;5;28;01mdef\u001b[39;00m \u001b[38;5;21mon_zoom_level_changed\u001b[39m(event):\n\u001b[1;32m     37\u001b[0m     \u001b[38;5;66;03m# Adjust the radius and the sample spacing; get zoom level from event['new']\u001b[39;00m\n\u001b[1;32m     38\u001b[0m     caption\u001b[38;5;241m.\u001b[39mvalue \u001b[38;5;241m=\u001b[39m \u001b[38;5;124m'\u001b[39m\u001b[38;5;124mThe zoom level is \u001b[39m\u001b[38;5;124m'\u001b[39m \u001b[38;5;241m+\u001b[39m event\u001b[38;5;241m.\u001b[39mnew\n",
      "\u001b[0;31mNameError\u001b[0m: name 'widgets' is not defined"
     ]
    }
   ],
   "source": [
    "from ipyleaflet import Map, ZoomControl\n",
    "\n",
    "#n = 1000\n",
    "#data = MdvMap(\n",
    "#    np.random.uniform(-80, 80, (n, 2)), # generates 1000 * 2 points (i.e. 1000 x,y coordinates)\n",
    "#    np.random.uniform(0, 1000, n),\n",
    "#)\n",
    "#data = MdvMap(av, dbz)\n",
    "zoom_range = 12\n",
    "zoom_level = 2\n",
    "radius = zoom_level\n",
    "npoints = 100\n",
    "ncoords = len(av_sample)\n",
    "ndata = len(dbz)\n",
    "data_sample_scale = (zoom_range + 1 - zoom_level) / zoom_range\n",
    "nsamples = ncoords / 3\n",
    "everyn = int( ncoords / nsamples )\n",
    "everyn\n",
    "\n",
    "#subset = av_sample[0:ncoords:5] # everyn]\n",
    "#subset\n",
    "#zoom_level / zoom_range\n",
    "\n",
    "data = MdvMap(av_sample[0:ncoords:everyn], dbz[0:ndata:everyn], radius)\n",
    "\n",
    "my_zoom_control = ZoomControl(position='topright')\n",
    "\n",
    "# ipywidgets is powered by traitlets, this brings an observer pattern implementation \n",
    "# which allows you to react on widget attribute changes.\n",
    "\n",
    "#def on_location_changed(event):\n",
    "#    # Do some computation given the new marker location, accessible from `event['new']`\n",
    "#    pass\n",
    "# marker.observe(on_location_changed, 'location')\n",
    "caption = widgets.Label(value='The slider value is in its initial position.')\n",
    "def on_zoom_level_changed(event):\n",
    "    # Adjust the radius and the sample spacing; get zoom level from event['new']\n",
    "    caption.value = 'The zoom level is ' + event.new\n",
    "    pass\n",
    "\n",
    "#caption = widgets.Label(value='The slider value is in its initial position.')\n",
    "#slider = widgets.IntSlider(min=-5, max=5, value=1, description='Slider')\n",
    "\n",
    "#def handle_slider_change(change):\n",
    "#    caption.value = 'The slider value is ' + (\n",
    "#        'negative' if change.new < 0 else 'nonnegative'\n",
    "#    )\n",
    "\n",
    "#slider.observe(handle_slider_change, names='value')\n",
    "#display(caption, slider)\n",
    " \n",
    "\n",
    "# my_zoom_control.observe(on_zoom_level_changed, names='zoom')\n",
    "#display(caption, my_zoom_control)\n",
    "m = Map(center=(35, -92), zoom=zoom_level) #, zoom_control=False)\n",
    "# m.add(my_zoom_control)\n",
    "m.add(data)\n",
    "#display(m)\n"
   ]
  },
  {
   "cell_type": "code",
   "execution_count": 44,
   "id": "bfb61fd4-863f-4e82-b776-21e8f52a930f",
   "metadata": {},
   "outputs": [
    {
     "data": {
      "application/vnd.jupyter.widget-view+json": {
       "model_id": "e4a3964e2a7649b1a2e986dde5ce1462",
       "version_major": 2,
       "version_minor": 0
      },
      "text/plain": [
       "Button(description='Click Me!', style=ButtonStyle())"
      ]
     },
     "metadata": {},
     "output_type": "display_data"
    },
    {
     "data": {
      "application/vnd.jupyter.widget-view+json": {
       "model_id": "972f39c0d14e4e958ab35714a6dbf70b",
       "version_major": 2,
       "version_minor": 0
      },
      "text/plain": [
       "Output()"
      ]
     },
     "metadata": {},
     "output_type": "display_data"
    },
    {
     "data": {
      "application/vnd.jupyter.widget-view+json": {
       "model_id": "69374544302e48128665764e4c6230aa",
       "version_major": 2,
       "version_minor": 0
      },
      "text/plain": [
       "Map(bottom=1822.0, center=[35, -92], controls=(ZoomControl(options=['position', 'zoom_in_text', 'zoom_in_title…"
      ]
     },
     "metadata": {},
     "output_type": "display_data"
    },
    {
     "data": {
      "application/vnd.jupyter.widget-view+json": {
       "model_id": "948b869840f6453293f966c3dd5af881",
       "version_major": 2,
       "version_minor": 0
      },
      "text/plain": [
       "Output()"
      ]
     },
     "metadata": {},
     "output_type": "display_data"
    },
    {
     "data": {
      "application/vnd.jupyter.widget-view+json": {
       "model_id": "26263af2d7c049e9afb15f2d445440b6",
       "version_major": 2,
       "version_minor": 0
      },
      "text/plain": [
       "Select(description='moment or field to display:', options=('DBZ', 'VEL', '??'), value='DBZ')"
      ]
     },
     "metadata": {},
     "output_type": "display_data"
    }
   ],
   "source": [
    "import ipywidgets as widgets\n",
    "button = widgets.Button(description=\"Click Me!\")\n",
    "output = widgets.Output()\n",
    "\n",
    "display(button, output)\n",
    "\n",
    "\n",
    "def on_button_clicked(b):\n",
    "    with output:\n",
    "        print(\"Button clicked. zoom level \")\n",
    "    with m:\n",
    "        # m.zoom = 8\n",
    "        m = Map(center=(35, -92), zoom=8)\n",
    "        \n",
    "\n",
    "button.on_click(on_button_clicked)\n",
    "\n",
    "output2 = widgets.Output()\n",
    "\n",
    "\n",
    "def on_value_change(change):\n",
    "    with output2:\n",
    "        print(change['new'])\n",
    "\n",
    "m.observe(on_value_change, names='zoom')\n",
    "\n",
    "def on_field_selected(change):\n",
    "    with output2:\n",
    "        print(change['new'])\n",
    "        \n",
    "field_list = widgets.Select(\n",
    "    options=['DBZ', 'VEL', '??'],\n",
    "    value='DBZ',\n",
    "    # rows=10,\n",
    "    description='moment or field to display:',\n",
    "    disabled=False\n",
    ")\n",
    "field_list.observe(on_field_selected)\n",
    "m.add(field_list) # I don't think this does anything??\n",
    "display(m, output2, field_list)"
   ]
  },
  {
   "cell_type": "code",
   "execution_count": 42,
   "id": "07866c7c-ecf1-461e-94a7-51aa40a75315",
   "metadata": {},
   "outputs": [
    {
     "data": {
      "text/plain": [
       "(ZoomControl(options=['position', 'zoom_in_text', 'zoom_in_title', 'zoom_out_text', 'zoom_out_title']),\n",
       " AttributionControl(options=['position', 'prefix'], position='bottomright'))"
      ]
     },
     "execution_count": 42,
     "metadata": {},
     "output_type": "execute_result"
    }
   ],
   "source": [
    "m.controls"
   ]
  },
  {
   "cell_type": "code",
   "execution_count": 1,
   "id": "b4dff999-0060-4a19-9058-b4da70a07458",
   "metadata": {},
   "outputs": [
    {
     "name": "stdout",
     "output_type": "stream",
     "text": [
      "Setup a handler to be called when a trait changes.\n",
      "\n",
      "        This is used to setup dynamic notifications of trait changes.\n",
      "\n",
      "        Parameters\n",
      "        ----------\n",
      "        handler : callable\n",
      "            A callable that is called when a trait changes. Its\n",
      "            signature should be ``handler(change)``, where ``change`` is a\n",
      "            dictionary. The change dictionary at least holds a 'type' key.\n",
      "            * ``type``: the type of notification.\n",
      "            Other keys may be passed depending on the value of 'type'. In the\n",
      "            case where type is 'change', we also have the following keys:\n",
      "            * ``owner`` : the HasTraits instance\n",
      "            * ``old`` : the old value of the modified trait attribute\n",
      "            * ``new`` : the new value of the modified trait attribute\n",
      "            * ``name`` : the name of the modified trait attribute.\n",
      "        names : list, str, All\n",
      "            If names is All, the handler will apply to all traits.  If a list\n",
      "            of str, handler will apply to all names in the list.  If a\n",
      "            str, the handler will apply just to that name.\n",
      "        type : str, All (default: 'change')\n",
      "            The type of notification to filter by. If equal to All, then all\n",
      "            notifications are passed to the observe handler.\n",
      "        \n"
     ]
    },
    {
     "data": {
      "application/vnd.jupyter.widget-view+json": {
       "model_id": "1c8a342f167c45979ee8c30eaadf1e4f",
       "version_major": 2,
       "version_minor": 0
      },
      "text/plain": [
       "Label(value='The slider value is in its initial position.')"
      ]
     },
     "metadata": {},
     "output_type": "display_data"
    },
    {
     "data": {
      "application/vnd.jupyter.widget-view+json": {
       "model_id": "88dd6ea0508d4b8db4e252dbe20c3298",
       "version_major": 2,
       "version_minor": 0
      },
      "text/plain": [
       "IntSlider(value=1, description='Slider', max=5, min=-5)"
      ]
     },
     "metadata": {},
     "output_type": "display_data"
    }
   ],
   "source": [
    "import ipywidgets as widgets\n",
    "from ipyleaflet import ZoomControl\n",
    "# print(widgets.Widget.observe.__doc__)\n",
    "print(ZoomControl.observe.__doc__)\n",
    "\n",
    "\n",
    "caption = widgets.Label(value='The slider value is in its initial position.')\n",
    "slider = widgets.IntSlider(min=-5, max=5, value=1, description='Slider')\n",
    "\n",
    "def handle_slider_change(change):\n",
    "    caption.value = 'The slider value is ' + (\n",
    "        'negative' if change.new < 0 else 'nonnegative'\n",
    "    )\n",
    "\n",
    "slider.observe(handle_slider_change, names='value')\n",
    "\n",
    "display(caption, slider)"
   ]
  },
  {
   "cell_type": "code",
   "execution_count": 35,
   "id": "6000f30a-494f-498f-b3a1-dce45561178c",
   "metadata": {},
   "outputs": [
    {
     "ename": "TypeError",
     "evalue": "Dimensions of C (1505, 2005) should be one smaller than X(1505) and Y(2005) while using shading='flat' see help(pcolormesh)",
     "output_type": "error",
     "traceback": [
      "\u001b[0;31m---------------------------------------------------------------------------\u001b[0m",
      "\u001b[0;31mTypeError\u001b[0m                                 Traceback (most recent call last)",
      "Cell \u001b[0;32mIn[35], line 6\u001b[0m\n\u001b[1;32m      4\u001b[0m x \u001b[38;5;241m=\u001b[39m dbz[:,\u001b[38;5;241m0\u001b[39m]\n\u001b[1;32m      5\u001b[0m y \u001b[38;5;241m=\u001b[39m dbz[\u001b[38;5;241m0\u001b[39m,:]\n\u001b[0;32m----> 6\u001b[0m im \u001b[38;5;241m=\u001b[39m \u001b[43max\u001b[49m\u001b[38;5;241;43m.\u001b[39;49m\u001b[43mpcolormesh\u001b[49m\u001b[43m(\u001b[49m\u001b[43mdbz\u001b[49m\u001b[43m[\u001b[49m\u001b[43m:\u001b[49m\u001b[43m,\u001b[49m\u001b[38;5;241;43m0\u001b[39;49m\u001b[43m]\u001b[49m\u001b[43m,\u001b[49m\u001b[43m \u001b[49m\u001b[43mdbz\u001b[49m\u001b[43m[\u001b[49m\u001b[38;5;241;43m0\u001b[39;49m\u001b[43m,\u001b[49m\u001b[43m:\u001b[49m\u001b[43m]\u001b[49m\u001b[43m,\u001b[49m\u001b[43m \u001b[49m\u001b[43mdbz\u001b[49m\u001b[43m)\u001b[49m\n\u001b[1;32m      7\u001b[0m \u001b[38;5;66;03m# add a color bar\u001b[39;00m\n\u001b[1;32m      8\u001b[0m fig\u001b[38;5;241m.\u001b[39mcolorbar(im, ax\u001b[38;5;241m=\u001b[39max)\n",
      "File \u001b[0;32m~/miniforge3/envs/leaflet/lib/python3.12/site-packages/matplotlib/__init__.py:1465\u001b[0m, in \u001b[0;36m_preprocess_data.<locals>.inner\u001b[0;34m(ax, data, *args, **kwargs)\u001b[0m\n\u001b[1;32m   1462\u001b[0m \u001b[38;5;129m@functools\u001b[39m\u001b[38;5;241m.\u001b[39mwraps(func)\n\u001b[1;32m   1463\u001b[0m \u001b[38;5;28;01mdef\u001b[39;00m \u001b[38;5;21minner\u001b[39m(ax, \u001b[38;5;241m*\u001b[39margs, data\u001b[38;5;241m=\u001b[39m\u001b[38;5;28;01mNone\u001b[39;00m, \u001b[38;5;241m*\u001b[39m\u001b[38;5;241m*\u001b[39mkwargs):\n\u001b[1;32m   1464\u001b[0m     \u001b[38;5;28;01mif\u001b[39;00m data \u001b[38;5;129;01mis\u001b[39;00m \u001b[38;5;28;01mNone\u001b[39;00m:\n\u001b[0;32m-> 1465\u001b[0m         \u001b[38;5;28;01mreturn\u001b[39;00m \u001b[43mfunc\u001b[49m\u001b[43m(\u001b[49m\u001b[43max\u001b[49m\u001b[43m,\u001b[49m\u001b[43m \u001b[49m\u001b[38;5;241;43m*\u001b[39;49m\u001b[38;5;28;43mmap\u001b[39;49m\u001b[43m(\u001b[49m\u001b[43msanitize_sequence\u001b[49m\u001b[43m,\u001b[49m\u001b[43m \u001b[49m\u001b[43margs\u001b[49m\u001b[43m)\u001b[49m\u001b[43m,\u001b[49m\u001b[43m \u001b[49m\u001b[38;5;241;43m*\u001b[39;49m\u001b[38;5;241;43m*\u001b[39;49m\u001b[43mkwargs\u001b[49m\u001b[43m)\u001b[49m\n\u001b[1;32m   1467\u001b[0m     bound \u001b[38;5;241m=\u001b[39m new_sig\u001b[38;5;241m.\u001b[39mbind(ax, \u001b[38;5;241m*\u001b[39margs, \u001b[38;5;241m*\u001b[39m\u001b[38;5;241m*\u001b[39mkwargs)\n\u001b[1;32m   1468\u001b[0m     auto_label \u001b[38;5;241m=\u001b[39m (bound\u001b[38;5;241m.\u001b[39marguments\u001b[38;5;241m.\u001b[39mget(label_namer)\n\u001b[1;32m   1469\u001b[0m                   \u001b[38;5;129;01mor\u001b[39;00m bound\u001b[38;5;241m.\u001b[39mkwargs\u001b[38;5;241m.\u001b[39mget(label_namer))\n",
      "File \u001b[0;32m~/miniforge3/envs/leaflet/lib/python3.12/site-packages/matplotlib/axes/_axes.py:6289\u001b[0m, in \u001b[0;36mAxes.pcolormesh\u001b[0;34m(self, alpha, norm, cmap, vmin, vmax, shading, antialiased, *args, **kwargs)\u001b[0m\n\u001b[1;32m   6286\u001b[0m shading \u001b[38;5;241m=\u001b[39m shading\u001b[38;5;241m.\u001b[39mlower()\n\u001b[1;32m   6287\u001b[0m kwargs\u001b[38;5;241m.\u001b[39msetdefault(\u001b[38;5;124m'\u001b[39m\u001b[38;5;124medgecolors\u001b[39m\u001b[38;5;124m'\u001b[39m, \u001b[38;5;124m'\u001b[39m\u001b[38;5;124mnone\u001b[39m\u001b[38;5;124m'\u001b[39m)\n\u001b[0;32m-> 6289\u001b[0m X, Y, C, shading \u001b[38;5;241m=\u001b[39m \u001b[38;5;28;43mself\u001b[39;49m\u001b[38;5;241;43m.\u001b[39;49m\u001b[43m_pcolorargs\u001b[49m\u001b[43m(\u001b[49m\u001b[38;5;124;43m'\u001b[39;49m\u001b[38;5;124;43mpcolormesh\u001b[39;49m\u001b[38;5;124;43m'\u001b[39;49m\u001b[43m,\u001b[49m\u001b[43m \u001b[49m\u001b[38;5;241;43m*\u001b[39;49m\u001b[43margs\u001b[49m\u001b[43m,\u001b[49m\n\u001b[1;32m   6290\u001b[0m \u001b[43m                                    \u001b[49m\u001b[43mshading\u001b[49m\u001b[38;5;241;43m=\u001b[39;49m\u001b[43mshading\u001b[49m\u001b[43m,\u001b[49m\u001b[43m \u001b[49m\u001b[43mkwargs\u001b[49m\u001b[38;5;241;43m=\u001b[39;49m\u001b[43mkwargs\u001b[49m\u001b[43m)\u001b[49m\n\u001b[1;32m   6291\u001b[0m coords \u001b[38;5;241m=\u001b[39m np\u001b[38;5;241m.\u001b[39mstack([X, Y], axis\u001b[38;5;241m=\u001b[39m\u001b[38;5;241m-\u001b[39m\u001b[38;5;241m1\u001b[39m)\n\u001b[1;32m   6293\u001b[0m kwargs\u001b[38;5;241m.\u001b[39msetdefault(\u001b[38;5;124m'\u001b[39m\u001b[38;5;124msnap\u001b[39m\u001b[38;5;124m'\u001b[39m, mpl\u001b[38;5;241m.\u001b[39mrcParams[\u001b[38;5;124m'\u001b[39m\u001b[38;5;124mpcolormesh.snap\u001b[39m\u001b[38;5;124m'\u001b[39m])\n",
      "File \u001b[0;32m~/miniforge3/envs/leaflet/lib/python3.12/site-packages/matplotlib/axes/_axes.py:5836\u001b[0m, in \u001b[0;36mAxes._pcolorargs\u001b[0;34m(self, funcname, shading, *args, **kwargs)\u001b[0m\n\u001b[1;32m   5834\u001b[0m \u001b[38;5;28;01mif\u001b[39;00m shading \u001b[38;5;241m==\u001b[39m \u001b[38;5;124m'\u001b[39m\u001b[38;5;124mflat\u001b[39m\u001b[38;5;124m'\u001b[39m:\n\u001b[1;32m   5835\u001b[0m     \u001b[38;5;28;01mif\u001b[39;00m (Nx, Ny) \u001b[38;5;241m!=\u001b[39m (ncols \u001b[38;5;241m+\u001b[39m \u001b[38;5;241m1\u001b[39m, nrows \u001b[38;5;241m+\u001b[39m \u001b[38;5;241m1\u001b[39m):\n\u001b[0;32m-> 5836\u001b[0m         \u001b[38;5;28;01mraise\u001b[39;00m \u001b[38;5;167;01mTypeError\u001b[39;00m(\u001b[38;5;124mf\u001b[39m\u001b[38;5;124m\"\u001b[39m\u001b[38;5;124mDimensions of C \u001b[39m\u001b[38;5;132;01m{\u001b[39;00mC\u001b[38;5;241m.\u001b[39mshape\u001b[38;5;132;01m}\u001b[39;00m\u001b[38;5;124m should\u001b[39m\u001b[38;5;124m\"\u001b[39m\n\u001b[1;32m   5837\u001b[0m                         \u001b[38;5;124mf\u001b[39m\u001b[38;5;124m\"\u001b[39m\u001b[38;5;124m be one smaller than X(\u001b[39m\u001b[38;5;132;01m{\u001b[39;00mNx\u001b[38;5;132;01m}\u001b[39;00m\u001b[38;5;124m) and Y(\u001b[39m\u001b[38;5;132;01m{\u001b[39;00mNy\u001b[38;5;132;01m}\u001b[39;00m\u001b[38;5;124m)\u001b[39m\u001b[38;5;124m\"\u001b[39m\n\u001b[1;32m   5838\u001b[0m                         \u001b[38;5;124mf\u001b[39m\u001b[38;5;124m\"\u001b[39m\u001b[38;5;124m while using shading=\u001b[39m\u001b[38;5;124m'\u001b[39m\u001b[38;5;124mflat\u001b[39m\u001b[38;5;124m'\u001b[39m\u001b[38;5;124m\"\u001b[39m\n\u001b[1;32m   5839\u001b[0m                         \u001b[38;5;124mf\u001b[39m\u001b[38;5;124m\"\u001b[39m\u001b[38;5;124m see help(\u001b[39m\u001b[38;5;132;01m{\u001b[39;00mfuncname\u001b[38;5;132;01m}\u001b[39;00m\u001b[38;5;124m)\u001b[39m\u001b[38;5;124m\"\u001b[39m)\n\u001b[1;32m   5840\u001b[0m \u001b[38;5;28;01melse\u001b[39;00m:    \u001b[38;5;66;03m# ['nearest', 'gouraud']:\u001b[39;00m\n\u001b[1;32m   5841\u001b[0m     \u001b[38;5;28;01mif\u001b[39;00m (Nx, Ny) \u001b[38;5;241m!=\u001b[39m (ncols, nrows):\n",
      "\u001b[0;31mTypeError\u001b[0m: Dimensions of C (1505, 2005) should be one smaller than X(1505) and Y(2005) while using shading='flat' see help(pcolormesh)"
     ]
    },
    {
     "data": {
      "image/png": "[encoded data removed]",
      "text/plain": [
       "<Figure size 640x480 with 1 Axes>"
      ]
     },
     "metadata": {},
     "output_type": "display_data"
    }
   ],
   "source": [
    "import matplotlib.pyplot as plt\n",
    "fig, ax = plt.subplots()\n",
    "# generate the image, i.e. plot\n",
    "x = dbz[:,0]\n",
    "y = dbz[0,:]\n",
    "im = ax.pcolormesh(dbz[:,0], dbz[0,:], dbz)\n",
    "# add a color bar\n",
    "fig.colorbar(im, ax=ax)"
   ]
  },
  {
   "cell_type": "code",
   "execution_count": 7,
   "id": "b07b4c4a-5bf3-46cc-b53e-234b8e8134b6",
   "metadata": {},
   "outputs": [
    {
     "name": "stdout",
     "output_type": "stream",
     "text": [
      "2015-06-26 23:00:12\n"
     ]
    }
   ],
   "source": [
    "dates = num2date(time[:], time.units)\n",
    "time_of_day = dates[0].strftime(\"%Y-%m-%d %H:%M:%S\")\n",
    "print(time_of_day)"
   ]
  },
  {
   "cell_type": "code",
   "execution_count": 15,
   "id": "e64b05d6-f2d4-447c-93dd-e726b7be9bf0",
   "metadata": {},
   "outputs": [
    {
     "ename": "NameError",
     "evalue": "name 'f1' is not defined",
     "output_type": "error",
     "traceback": [
      "\u001b[0;31m---------------------------------------------------------------------------\u001b[0m",
      "\u001b[0;31mNameError\u001b[0m                                 Traceback (most recent call last)",
      "Cell \u001b[0;32mIn[15], line 1\u001b[0m\n\u001b[0;32m----> 1\u001b[0m dbz \u001b[38;5;241m=\u001b[39m \u001b[43mf1\u001b[49m\u001b[38;5;241m.\u001b[39mvariables[\u001b[38;5;124m\"\u001b[39m\u001b[38;5;124mDBZ\u001b[39m\u001b[38;5;124m\"\u001b[39m]\n\u001b[1;32m      2\u001b[0m dbz_dimensions \u001b[38;5;241m=\u001b[39m f1\u001b[38;5;241m.\u001b[39mvariables[\u001b[38;5;124m\"\u001b[39m\u001b[38;5;124mDBZ\u001b[39m\u001b[38;5;124m\"\u001b[39m]\u001b[38;5;241m.\u001b[39mdimensions\n\u001b[1;32m      3\u001b[0m \u001b[38;5;28mprint\u001b[39m(dbz_dimensions)\n",
      "\u001b[0;31mNameError\u001b[0m: name 'f1' is not defined"
     ]
    }
   ],
   "source": [
    "dbz = f1.variables[\"DBZ\"]\n",
    "dbz_dimensions = f1.variables[\"DBZ\"].dimensions\n",
    "print(dbz_dimensions)\n",
    "print(dbz[0,18,10,10])\n",
    "type(dbz)\n",
    "print(f1.variables.keys())\n",
    "print(dbz)\n",
    "print(len(lats), len(lons))"
   ]
  },
  {
   "cell_type": "code",
   "execution_count": 11,
   "id": "e6a166fa-b90d-4ebb-a6b9-347b41700707",
   "metadata": {},
   "outputs": [
    {
     "name": "stdout",
     "output_type": "stream",
     "text": [
      "29.984999 -110.015015\n"
     ]
    }
   ],
   "source": [
    "print(lats[0], lons[0])"
   ]
  },
  {
   "cell_type": "code",
   "execution_count": 29,
   "id": "e9969d38-a421-41a9-9a36-ba17902d9a7e",
   "metadata": {},
   "outputs": [
    {
     "data": {
      "application/vnd.jupyter.widget-view+json": {
       "model_id": "060eb07069f0447f9545a94cfb777446",
       "version_major": 2,
       "version_minor": 0
      },
      "text/plain": [
       "Map(center=[29.984999, -110.015015], controls=(ZoomControl(options=['position', 'zoom_in_text', 'zoom_in_title…"
      ]
     },
     "metadata": {},
     "output_type": "display_data"
    }
   ],
   "source": [
    "center = (lats[0], lons[0])\n",
    "\n",
    "\n",
    "\n",
    "m = Map(basemap=basemaps.CartoDB.Positron, center=center, zoom=10)\n",
    "\n",
    "marker = Marker(location=center, draggable=True)\n",
    "m.add(marker);\n",
    "\n",
    "polysize_x = abs(lats[15] - lats[14]) / 0.5\n",
    "polysize_y = abs(lons[15] - lons[14]) / 0.5\n",
    "for ix in range(10, 30, 3):\n",
    "    for iy in range(10,30, 3):\n",
    "        x = lats[ix]\n",
    "        y = lons[iy]\n",
    "        polygon = Polygon(\n",
    "            locations=[(x, y), (x+polysize_x, y), (x, y-polysize_y)],\n",
    "            color=\"green\",\n",
    "            fill_color=\"green\"\n",
    "        )\n",
    "        m.add(polygon);\n",
    "\n",
    "# color scale using a choropleth layer?\n",
    "layer = ipyleaflet.Choropleth(\n",
    "    geo_data=geo_json_data,\n",
    "    choro_data=unemployment,\n",
    "    colormap=linear.YlOrRd_04,\n",
    "    border_color='black',\n",
    "    style={'fillOpacity': 0.8, 'dashArray': '5, 5'})\n",
    "\n",
    "m = ipyleaflet.Map(center = (43,-100), zoom = 4)\n",
    "m.add(layer)\n",
    "\n",
    "\n",
    "display(m)"
   ]
  },
  {
   "cell_type": "code",
   "execution_count": 2,
   "id": "f9a1627f-f7e8-4241-a3ef-8745199414f8",
   "metadata": {},
   "outputs": [
    {
     "data": {
      "application/vnd.jupyter.widget-view+json": {
       "model_id": "180cf82113b240698df4f20c74c57b1e",
       "version_major": 2,
       "version_minor": 0
      },
      "text/plain": [
       "IntSlider(value=0)"
      ]
     },
     "metadata": {},
     "output_type": "display_data"
    }
   ],
   "source": [
    "import ipywidgets as widgets\n",
    "w = widgets.IntSlider()\n",
    "display(w)"
   ]
  },
  {
   "cell_type": "code",
   "execution_count": 3,
   "id": "72c06fa9-158b-4462-86a3-473a4d70c090",
   "metadata": {},
   "outputs": [
    {
     "data": {
      "text/plain": [
       "17"
      ]
     },
     "execution_count": 3,
     "metadata": {},
     "output_type": "execute_result"
    }
   ],
   "source": [
    "w.value"
   ]
  },
  {
   "cell_type": "code",
   "execution_count": 4,
   "id": "cddde2b1-440f-4c06-a422-f2113610582f",
   "metadata": {},
   "outputs": [],
   "source": [
    "w.value = 8"
   ]
  },
  {
   "cell_type": "code",
   "execution_count": 5,
   "id": "190dcf3c-36df-4179-95f2-09d67a8909a2",
   "metadata": {},
   "outputs": [
    {
     "data": {
      "text/plain": [
       "['_dom_classes',\n",
       " '_model_module',\n",
       " '_model_module_version',\n",
       " '_model_name',\n",
       " '_view_count',\n",
       " '_view_module',\n",
       " '_view_module_version',\n",
       " '_view_name',\n",
       " 'behavior',\n",
       " 'continuous_update',\n",
       " 'description',\n",
       " 'description_allow_html',\n",
       " 'disabled',\n",
       " 'layout',\n",
       " 'max',\n",
       " 'min',\n",
       " 'orientation',\n",
       " 'readout',\n",
       " 'readout_format',\n",
       " 'step',\n",
       " 'style',\n",
       " 'tabbable',\n",
       " 'tooltip',\n",
       " 'value']"
      ]
     },
     "execution_count": 5,
     "metadata": {},
     "output_type": "execute_result"
    }
   ],
   "source": [
    "w.keys"
   ]
  },
  {
   "cell_type": "code",
   "execution_count": 6,
   "id": "12658593-82c0-4614-b86d-405d17002d73",
   "metadata": {},
   "outputs": [
    {
     "data": {
      "application/vnd.jupyter.widget-view+json": {
       "model_id": "e927603b7e414dd1a3664dd9f2335c70",
       "version_major": 2,
       "version_minor": 0
      },
      "text/plain": [
       "FloatText(value=0.0)"
      ]
     },
     "metadata": {},
     "output_type": "display_data"
    },
    {
     "data": {
      "application/vnd.jupyter.widget-view+json": {
       "model_id": "2f14879de95d44ae88d3058c5ccec42e",
       "version_major": 2,
       "version_minor": 0
      },
      "text/plain": [
       "FloatSlider(value=0.0)"
      ]
     },
     "metadata": {},
     "output_type": "display_data"
    }
   ],
   "source": [
    "a = widgets.FloatText()\n",
    "b = widgets.FloatSlider()\n",
    "display(a,b)\n",
    "# link the callbacks and events on the browser side with jslink\n",
    "mylink = widgets.jslink((a, 'value'), (b, 'value'))"
   ]
  },
  {
   "cell_type": "code",
   "execution_count": null,
   "id": "b3170c68-5572-4189-b07d-3d714ac8f835",
   "metadata": {},
   "outputs": [],
   "source": [
    "# link a widget and the map"
   ]
  }
 ],
 "metadata": {
  "kernelspec": {
   "display_name": "Python 3 (ipykernel)",
   "language": "python",
   "name": "python3"
  },
  "language_info": {
   "codemirror_mode": {
    "name": "ipython",
    "version": 3
   },
   "file_extension": ".py",
   "mimetype": "text/x-python",
   "name": "python",
   "nbconvert_exporter": "python",
   "pygments_lexer": "ipython3",
   "version": "3.12.0"
  }
 },
 "nbformat": 4,
 "nbformat_minor": 5
}
