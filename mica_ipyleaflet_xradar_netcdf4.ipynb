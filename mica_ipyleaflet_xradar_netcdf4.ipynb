{
 "cells": [
  {
   "cell_type": "code",
   "execution_count": 1,
   "id": "387cb2b0-047f-4dc4-bceb-df802539c1a7",
   "metadata": {},
   "outputs": [],
   "source": [
    "from ipyleaflet import Map, Marker, Polygon, basemaps"
   ]
  },
  {
   "cell_type": "code",
   "execution_count": null,
   "id": "58b4d3e6-88ed-4932-8e0c-a0f5c02e8beb",
   "metadata": {},
   "outputs": [],
   "source": [
    "center = (52.204793, 360.121558)\n",
    "\n",
    "m = Map(basemap=basemaps.CartoDB.Positron, center=center, zoom=10)\n",
    "\n",
    "marker = Marker(location=center, draggable=True)\n",
    "m.add(marker);\n",
    "\n",
    "display(m)"
   ]
  },
  {
   "cell_type": "code",
   "execution_count": 2,
   "id": "2787eb42-bc86-4333-8f01-4e5b55944ea3",
   "metadata": {},
   "outputs": [],
   "source": [
    "from netCDF4 import Dataset, num2date"
   ]
  },
  {
   "cell_type": "code",
   "execution_count": 2,
   "id": "b15430e6-f2d0-4ff9-ae2b-4612e0a17a79",
   "metadata": {},
   "outputs": [],
   "source": [
    "import numpy as np\n",
    "import xarray as xr\n",
    "import xradar as xd"
   ]
  },
  {
   "cell_type": "code",
   "execution_count": null,
   "id": "a7a64aae-fe63-4d4b-9fc0-5648319f791b",
   "metadata": {},
   "outputs": [],
   "source": [
    "# f1 = Dataset(\"/Users/brenda/data/mdv/mrms_3d/20150626/20150626_230012.mdv.nc\")"
   ]
  },
  {
   "cell_type": "code",
   "execution_count": 6,
   "id": "705d483f-4477-4caa-9709-f760fc2c4139",
   "metadata": {},
   "outputs": [
    {
     "data": {
      "text/html": [
       "<div><svg style=\"position: absolute; width: 0; height: 0; overflow: hidden\">\n",
       "<defs>\n",
       "<symbol id=\"icon-database\" viewBox=\"0 0 32 32\">\n",
       "<path d=\"M16 0c-8.837 0-16 2.239-16 5v4c0 2.761 7.163 5 16 5s16-2.239 16-5v-4c0-2.761-7.163-5-16-5z\"></path>\n",
       "<path d=\"M16 17c-8.837 0-16-2.239-16-5v6c0 2.761 7.163 5 16 5s16-2.239 16-5v-6c0 2.761-7.163 5-16 5z\"></path>\n",
       "<path d=\"M16 26c-8.837 0-16-2.239-16-5v6c0 2.761 7.163 5 16 5s16-2.239 16-5v-6c0 2.761-7.163 5-16 5z\"></path>\n",
       "</symbol>\n",
       "<symbol id=\"icon-file-text2\" viewBox=\"0 0 32 32\">\n",
       "<path d=\"M28.681 7.159c-0.694-0.947-1.662-2.053-2.724-3.116s-2.169-2.030-3.116-2.724c-1.612-1.182-2.393-1.319-2.841-1.319h-15.5c-1.378 0-2.5 1.121-2.5 2.5v27c0 1.378 1.122 2.5 2.5 2.5h23c1.378 0 2.5-1.122 2.5-2.5v-19.5c0-0.448-0.137-1.23-1.319-2.841zM24.543 5.457c0.959 0.959 1.712 1.825 2.268 2.543h-4.811v-4.811c0.718 0.556 1.584 1.309 2.543 2.268zM28 29.5c0 0.271-0.229 0.5-0.5 0.5h-23c-0.271 0-0.5-0.229-0.5-0.5v-27c0-0.271 0.229-0.5 0.5-0.5 0 0 15.499-0 15.5 0v7c0 0.552 0.448 1 1 1h7v19.5z\"></path>\n",
       "<path d=\"M23 26h-14c-0.552 0-1-0.448-1-1s0.448-1 1-1h14c0.552 0 1 0.448 1 1s-0.448 1-1 1z\"></path>\n",
       "<path d=\"M23 22h-14c-0.552 0-1-0.448-1-1s0.448-1 1-1h14c0.552 0 1 0.448 1 1s-0.448 1-1 1z\"></path>\n",
       "<path d=\"M23 18h-14c-0.552 0-1-0.448-1-1s0.448-1 1-1h14c0.552 0 1 0.448 1 1s-0.448 1-1 1z\"></path>\n",
       "</symbol>\n",
       "</defs>\n",
       "</svg>\n",
       "<style>/* CSS stylesheet for displaying xarray objects in jupyterlab.\n",
       " *\n",
       " */\n",
       "\n",
       ":root {\n",
       "  --xr-font-color0: var(--jp-content-font-color0, rgba(0, 0, 0, 1));\n",
       "  --xr-font-color2: var(--jp-content-font-color2, rgba(0, 0, 0, 0.54));\n",
       "  --xr-font-color3: var(--jp-content-font-color3, rgba(0, 0, 0, 0.38));\n",
       "  --xr-border-color: var(--jp-border-color2, #e0e0e0);\n",
       "  --xr-disabled-color: var(--jp-layout-color3, #bdbdbd);\n",
       "  --xr-background-color: var(--jp-layout-color0, white);\n",
       "  --xr-background-color-row-even: var(--jp-layout-color1, white);\n",
       "  --xr-background-color-row-odd: var(--jp-layout-color2, #eeeeee);\n",
       "}\n",
       "\n",
       "html[theme=dark],\n",
       "body[data-theme=dark],\n",
       "body.vscode-dark {\n",
       "  --xr-font-color0: rgba(255, 255, 255, 1);\n",
       "  --xr-font-color2: rgba(255, 255, 255, 0.54);\n",
       "  --xr-font-color3: rgba(255, 255, 255, 0.38);\n",
       "  --xr-border-color: #1F1F1F;\n",
       "  --xr-disabled-color: #515151;\n",
       "  --xr-background-color: #111111;\n",
       "  --xr-background-color-row-even: #111111;\n",
       "  --xr-background-color-row-odd: #313131;\n",
       "}\n",
       "\n",
       ".xr-wrap {\n",
       "  display: block !important;\n",
       "  min-width: 300px;\n",
       "  max-width: 700px;\n",
       "}\n",
       "\n",
       ".xr-text-repr-fallback {\n",
       "  /* fallback to plain text repr when CSS is not injected (untrusted notebook) */\n",
       "  display: none;\n",
       "}\n",
       "\n",
       ".xr-header {\n",
       "  padding-top: 6px;\n",
       "  padding-bottom: 6px;\n",
       "  margin-bottom: 4px;\n",
       "  border-bottom: solid 1px var(--xr-border-color);\n",
       "}\n",
       "\n",
       ".xr-header > div,\n",
       ".xr-header > ul {\n",
       "  display: inline;\n",
       "  margin-top: 0;\n",
       "  margin-bottom: 0;\n",
       "}\n",
       "\n",
       ".xr-obj-type,\n",
       ".xr-array-name {\n",
       "  margin-left: 2px;\n",
       "  margin-right: 10px;\n",
       "}\n",
       "\n",
       ".xr-obj-type {\n",
       "  color: var(--xr-font-color2);\n",
       "}\n",
       "\n",
       ".xr-sections {\n",
       "  padding-left: 0 !important;\n",
       "  display: grid;\n",
       "  grid-template-columns: 150px auto auto 1fr 20px 20px;\n",
       "}\n",
       "\n",
       ".xr-section-item {\n",
       "  display: contents;\n",
       "}\n",
       "\n",
       ".xr-section-item input {\n",
       "  display: none;\n",
       "}\n",
       "\n",
       ".xr-section-item input + label {\n",
       "  color: var(--xr-disabled-color);\n",
       "}\n",
       "\n",
       ".xr-section-item input:enabled + label {\n",
       "  cursor: pointer;\n",
       "  color: var(--xr-font-color2);\n",
       "}\n",
       "\n",
       ".xr-section-item input:enabled + label:hover {\n",
       "  color: var(--xr-font-color0);\n",
       "}\n",
       "\n",
       ".xr-section-summary {\n",
       "  grid-column: 1;\n",
       "  color: var(--xr-font-color2);\n",
       "  font-weight: 500;\n",
       "}\n",
       "\n",
       ".xr-section-summary > span {\n",
       "  display: inline-block;\n",
       "  padding-left: 0.5em;\n",
       "}\n",
       "\n",
       ".xr-section-summary-in:disabled + label {\n",
       "  color: var(--xr-font-color2);\n",
       "}\n",
       "\n",
       ".xr-section-summary-in + label:before {\n",
       "  display: inline-block;\n",
       "  content: '►';\n",
       "  font-size: 11px;\n",
       "  width: 15px;\n",
       "  text-align: center;\n",
       "}\n",
       "\n",
       ".xr-section-summary-in:disabled + label:before {\n",
       "  color: var(--xr-disabled-color);\n",
       "}\n",
       "\n",
       ".xr-section-summary-in:checked + label:before {\n",
       "  content: '▼';\n",
       "}\n",
       "\n",
       ".xr-section-summary-in:checked + label > span {\n",
       "  display: none;\n",
       "}\n",
       "\n",
       ".xr-section-summary,\n",
       ".xr-section-inline-details {\n",
       "  padding-top: 4px;\n",
       "  padding-bottom: 4px;\n",
       "}\n",
       "\n",
       ".xr-section-inline-details {\n",
       "  grid-column: 2 / -1;\n",
       "}\n",
       "\n",
       ".xr-section-details {\n",
       "  display: none;\n",
       "  grid-column: 1 / -1;\n",
       "  margin-bottom: 5px;\n",
       "}\n",
       "\n",
       ".xr-section-summary-in:checked ~ .xr-section-details {\n",
       "  display: contents;\n",
       "}\n",
       "\n",
       ".xr-array-wrap {\n",
       "  grid-column: 1 / -1;\n",
       "  display: grid;\n",
       "  grid-template-columns: 20px auto;\n",
       "}\n",
       "\n",
       ".xr-array-wrap > label {\n",
       "  grid-column: 1;\n",
       "  vertical-align: top;\n",
       "}\n",
       "\n",
       ".xr-preview {\n",
       "  color: var(--xr-font-color3);\n",
       "}\n",
       "\n",
       ".xr-array-preview,\n",
       ".xr-array-data {\n",
       "  padding: 0 5px !important;\n",
       "  grid-column: 2;\n",
       "}\n",
       "\n",
       ".xr-array-data,\n",
       ".xr-array-in:checked ~ .xr-array-preview {\n",
       "  display: none;\n",
       "}\n",
       "\n",
       ".xr-array-in:checked ~ .xr-array-data,\n",
       ".xr-array-preview {\n",
       "  display: inline-block;\n",
       "}\n",
       "\n",
       ".xr-dim-list {\n",
       "  display: inline-block !important;\n",
       "  list-style: none;\n",
       "  padding: 0 !important;\n",
       "  margin: 0;\n",
       "}\n",
       "\n",
       ".xr-dim-list li {\n",
       "  display: inline-block;\n",
       "  padding: 0;\n",
       "  margin: 0;\n",
       "}\n",
       "\n",
       ".xr-dim-list:before {\n",
       "  content: '(';\n",
       "}\n",
       "\n",
       ".xr-dim-list:after {\n",
       "  content: ')';\n",
       "}\n",
       "\n",
       ".xr-dim-list li:not(:last-child):after {\n",
       "  content: ',';\n",
       "  padding-right: 5px;\n",
       "}\n",
       "\n",
       ".xr-has-index {\n",
       "  font-weight: bold;\n",
       "}\n",
       "\n",
       ".xr-var-list,\n",
       ".xr-var-item {\n",
       "  display: contents;\n",
       "}\n",
       "\n",
       ".xr-var-item > div,\n",
       ".xr-var-item label,\n",
       ".xr-var-item > .xr-var-name span {\n",
       "  background-color: var(--xr-background-color-row-even);\n",
       "  margin-bottom: 0;\n",
       "}\n",
       "\n",
       ".xr-var-item > .xr-var-name:hover span {\n",
       "  padding-right: 5px;\n",
       "}\n",
       "\n",
       ".xr-var-list > li:nth-child(odd) > div,\n",
       ".xr-var-list > li:nth-child(odd) > label,\n",
       ".xr-var-list > li:nth-child(odd) > .xr-var-name span {\n",
       "  background-color: var(--xr-background-color-row-odd);\n",
       "}\n",
       "\n",
       ".xr-var-name {\n",
       "  grid-column: 1;\n",
       "}\n",
       "\n",
       ".xr-var-dims {\n",
       "  grid-column: 2;\n",
       "}\n",
       "\n",
       ".xr-var-dtype {\n",
       "  grid-column: 3;\n",
       "  text-align: right;\n",
       "  color: var(--xr-font-color2);\n",
       "}\n",
       "\n",
       ".xr-var-preview {\n",
       "  grid-column: 4;\n",
       "}\n",
       "\n",
       ".xr-index-preview {\n",
       "  grid-column: 2 / 5;\n",
       "  color: var(--xr-font-color2);\n",
       "}\n",
       "\n",
       ".xr-var-name,\n",
       ".xr-var-dims,\n",
       ".xr-var-dtype,\n",
       ".xr-preview,\n",
       ".xr-attrs dt {\n",
       "  white-space: nowrap;\n",
       "  overflow: hidden;\n",
       "  text-overflow: ellipsis;\n",
       "  padding-right: 10px;\n",
       "}\n",
       "\n",
       ".xr-var-name:hover,\n",
       ".xr-var-dims:hover,\n",
       ".xr-var-dtype:hover,\n",
       ".xr-attrs dt:hover {\n",
       "  overflow: visible;\n",
       "  width: auto;\n",
       "  z-index: 1;\n",
       "}\n",
       "\n",
       ".xr-var-attrs,\n",
       ".xr-var-data,\n",
       ".xr-index-data {\n",
       "  display: none;\n",
       "  background-color: var(--xr-background-color) !important;\n",
       "  padding-bottom: 5px !important;\n",
       "}\n",
       "\n",
       ".xr-var-attrs-in:checked ~ .xr-var-attrs,\n",
       ".xr-var-data-in:checked ~ .xr-var-data,\n",
       ".xr-index-data-in:checked ~ .xr-index-data {\n",
       "  display: block;\n",
       "}\n",
       "\n",
       ".xr-var-data > table {\n",
       "  float: right;\n",
       "}\n",
       "\n",
       ".xr-var-name span,\n",
       ".xr-var-data,\n",
       ".xr-index-name div,\n",
       ".xr-index-data,\n",
       ".xr-attrs {\n",
       "  padding-left: 25px !important;\n",
       "}\n",
       "\n",
       ".xr-attrs,\n",
       ".xr-var-attrs,\n",
       ".xr-var-data,\n",
       ".xr-index-data {\n",
       "  grid-column: 1 / -1;\n",
       "}\n",
       "\n",
       "dl.xr-attrs {\n",
       "  padding: 0;\n",
       "  margin: 0;\n",
       "  display: grid;\n",
       "  grid-template-columns: 125px auto;\n",
       "}\n",
       "\n",
       ".xr-attrs dt,\n",
       ".xr-attrs dd {\n",
       "  padding: 0;\n",
       "  margin: 0;\n",
       "  float: left;\n",
       "  padding-right: 10px;\n",
       "  width: auto;\n",
       "}\n",
       "\n",
       ".xr-attrs dt {\n",
       "  font-weight: normal;\n",
       "  grid-column: 1;\n",
       "}\n",
       "\n",
       ".xr-attrs dt:hover span {\n",
       "  display: inline-block;\n",
       "  background: var(--xr-background-color);\n",
       "  padding-right: 10px;\n",
       "}\n",
       "\n",
       ".xr-attrs dd {\n",
       "  grid-column: 2;\n",
       "  white-space: pre-wrap;\n",
       "  word-break: break-all;\n",
       "}\n",
       "\n",
       ".xr-icon-database,\n",
       ".xr-icon-file-text2,\n",
       ".xr-no-icon {\n",
       "  display: inline-block;\n",
       "  vertical-align: middle;\n",
       "  width: 1em;\n",
       "  height: 1.5em !important;\n",
       "  stroke-width: 0;\n",
       "  stroke: currentColor;\n",
       "  fill: currentColor;\n",
       "}\n",
       "</style><pre class='xr-text-repr-fallback'>&lt;xarray.Dataset&gt;\n",
       "Dimensions:                           (frequency: 1, sweep: 5, r_calib: 1,\n",
       "                                       time: 2880, range: 1832,\n",
       "                                       n_points: 4165920)\n",
       "Coordinates:\n",
       "  * frequency                         (frequency) float32 2.77e+09\n",
       "  * time                              (time) datetime64[ns] 2017-04-08T00:14:...\n",
       "  * range                             (range) float32 2.125e+03 ... 4.599e+05\n",
       "Dimensions without coordinates: sweep, r_calib, n_points\n",
       "Data variables: (12/109)\n",
       "    volume_number                     float64 ...\n",
       "    platform_type                     |S32 ...\n",
       "    primary_axis                      |S32 ...\n",
       "    status_xml                        |S1 ...\n",
       "    instrument_type                   |S32 ...\n",
       "    radar_antenna_gain_h              float32 ...\n",
       "    ...                                ...\n",
       "    ZDR                               (n_points) float32 ...\n",
       "    PHI                               (n_points) float32 ...\n",
       "    RHO                               (n_points) float32 ...\n",
       "    REF_s1                            (n_points) float32 ...\n",
       "    REF_s3                            (n_points) float32 ...\n",
       "    REF_s5                            (n_points) float32 ...\n",
       "Attributes: (12/25)\n",
       "    Conventions:          CF-1.7\n",
       "    Sub_conventions:      CF-Radial instrument_parameters radar_parameters ra...\n",
       "    version:              CF-Radial-1.4\n",
       "    title:                \n",
       "    institution:          \n",
       "    references:           \n",
       "    ...                   ...\n",
       "    site_name:            \n",
       "    scan_name:            Surveillance\n",
       "    scan_id:              31\n",
       "    platform_is_mobile:   false\n",
       "    n_gates_vary:         true\n",
       "    ray_times_increase:   true</pre><div class='xr-wrap' style='display:none'><div class='xr-header'><div class='xr-obj-type'>xarray.Dataset</div></div><ul class='xr-sections'><li class='xr-section-item'><input id='section-ca9dc8dc-b84a-43f6-a250-b7d3733c6cd7' class='xr-section-summary-in' type='checkbox' disabled ><label for='section-ca9dc8dc-b84a-43f6-a250-b7d3733c6cd7' class='xr-section-summary'  title='Expand/collapse section'>Dimensions:</label><div class='xr-section-inline-details'><ul class='xr-dim-list'><li><span class='xr-has-index'>frequency</span>: 1</li><li><span>sweep</span>: 5</li><li><span>r_calib</span>: 1</li><li><span class='xr-has-index'>time</span>: 2880</li><li><span class='xr-has-index'>range</span>: 1832</li><li><span>n_points</span>: 4165920</li></ul></div><div class='xr-section-details'></div></li><li class='xr-section-item'><input id='section-9734bca9-8501-49c9-9f38-1de00b93b912' class='xr-section-summary-in' type='checkbox'  checked><label for='section-9734bca9-8501-49c9-9f38-1de00b93b912' class='xr-section-summary' >Coordinates: <span>(3)</span></label><div class='xr-section-inline-details'></div><div class='xr-section-details'><ul class='xr-var-list'><li class='xr-var-item'><div class='xr-var-name'><span class='xr-has-index'>frequency</span></div><div class='xr-var-dims'>(frequency)</div><div class='xr-var-dtype'>float32</div><div class='xr-var-preview xr-preview'>2.77e+09</div><input id='attrs-a25205a9-aea4-4c51-a556-a8827341d479' class='xr-var-attrs-in' type='checkbox' ><label for='attrs-a25205a9-aea4-4c51-a556-a8827341d479' title='Show/Hide attributes'><svg class='icon xr-icon-file-text2'><use xlink:href='#icon-file-text2'></use></svg></label><input id='data-34c26c53-ffc6-4fd0-b0ea-ad70fc65a888' class='xr-var-data-in' type='checkbox'><label for='data-34c26c53-ffc6-4fd0-b0ea-ad70fc65a888' title='Show/Hide data repr'><svg class='icon xr-icon-database'><use xlink:href='#icon-database'></use></svg></label><div class='xr-var-attrs'><dl class='xr-attrs'><dt><span>long_name :</span></dt><dd>transmission_frequency</dd><dt><span>units :</span></dt><dd>s-1</dd><dt><span>meta_group :</span></dt><dd>instrument_parameters</dd></dl></div><div class='xr-var-data'><pre>array([2.77e+09], dtype=float32)</pre></div></li><li class='xr-var-item'><div class='xr-var-name'><span class='xr-has-index'>time</span></div><div class='xr-var-dims'>(time)</div><div class='xr-var-dtype'>datetime64[ns]</div><div class='xr-var-preview xr-preview'>2017-04-08T00:14:52.962000 ... 2...</div><input id='attrs-eb0ee4dc-d5ac-4bd7-add2-bc407b02a1cc' class='xr-var-attrs-in' type='checkbox' ><label for='attrs-eb0ee4dc-d5ac-4bd7-add2-bc407b02a1cc' title='Show/Hide attributes'><svg class='icon xr-icon-file-text2'><use xlink:href='#icon-file-text2'></use></svg></label><input id='data-5ee8cd6a-169a-4fdd-8512-c0c39e53c440' class='xr-var-data-in' type='checkbox'><label for='data-5ee8cd6a-169a-4fdd-8512-c0c39e53c440' title='Show/Hide data repr'><svg class='icon xr-icon-database'><use xlink:href='#icon-database'></use></svg></label><div class='xr-var-attrs'><dl class='xr-attrs'><dt><span>standard_name :</span></dt><dd>time</dd><dt><span>long_name :</span></dt><dd>time in seconds since volume start</dd><dt><span>comment :</span></dt><dd>times are relative to the volume start_time</dd></dl></div><div class='xr-var-data'><pre>array([&#x27;2017-04-08T00:14:52.962000000&#x27;, &#x27;2017-04-08T00:14:53.065000000&#x27;,\n",
       "       &#x27;2017-04-08T00:14:53.155000000&#x27;, ..., &#x27;2017-04-08T00:23:20.548000000&#x27;,\n",
       "       &#x27;2017-04-08T00:23:20.745000000&#x27;, &#x27;2017-04-08T00:23:20.954000000&#x27;],\n",
       "      dtype=&#x27;datetime64[ns]&#x27;)</pre></div></li><li class='xr-var-item'><div class='xr-var-name'><span class='xr-has-index'>range</span></div><div class='xr-var-dims'>(range)</div><div class='xr-var-dtype'>float32</div><div class='xr-var-preview xr-preview'>2.125e+03 2.375e+03 ... 4.599e+05</div><input id='attrs-7cd518e8-268a-4fe4-bea0-3d0197c09188' class='xr-var-attrs-in' type='checkbox' ><label for='attrs-7cd518e8-268a-4fe4-bea0-3d0197c09188' title='Show/Hide attributes'><svg class='icon xr-icon-file-text2'><use xlink:href='#icon-file-text2'></use></svg></label><input id='data-425339e4-1836-4ef3-bf31-8d02848c3852' class='xr-var-data-in' type='checkbox'><label for='data-425339e4-1836-4ef3-bf31-8d02848c3852' title='Show/Hide data repr'><svg class='icon xr-icon-database'><use xlink:href='#icon-database'></use></svg></label><div class='xr-var-attrs'><dl class='xr-attrs'><dt><span>long_name :</span></dt><dd>Range from instrument to center of gate</dd><dt><span>units :</span></dt><dd>meters</dd><dt><span>spacing_is_constant :</span></dt><dd>true</dd><dt><span>meters_to_center_of_first_gate :</span></dt><dd>2125.0</dd><dt><span>meters_between_gates :</span></dt><dd>250.0</dd></dl></div><div class='xr-var-data'><pre>array([  2125.,   2375.,   2625., ..., 459375., 459625., 459875.],\n",
       "      dtype=float32)</pre></div></li></ul></div></li><li class='xr-section-item'><input id='section-6ca3c66c-593c-4870-8816-5738cb8ea1d1' class='xr-section-summary-in' type='checkbox'  ><label for='section-6ca3c66c-593c-4870-8816-5738cb8ea1d1' class='xr-section-summary' >Data variables: <span>(109)</span></label><div class='xr-section-inline-details'></div><div class='xr-section-details'><ul class='xr-var-list'><li class='xr-var-item'><div class='xr-var-name'><span>volume_number</span></div><div class='xr-var-dims'>()</div><div class='xr-var-dtype'>float64</div><div class='xr-var-preview xr-preview'>...</div><input id='attrs-3e9675ed-fea0-49e9-b04d-593d9ccbaddc' class='xr-var-attrs-in' type='checkbox' ><label for='attrs-3e9675ed-fea0-49e9-b04d-593d9ccbaddc' title='Show/Hide attributes'><svg class='icon xr-icon-file-text2'><use xlink:href='#icon-file-text2'></use></svg></label><input id='data-5dfe6ac0-66d7-4e1c-a336-2e5acfead1c7' class='xr-var-data-in' type='checkbox'><label for='data-5dfe6ac0-66d7-4e1c-a336-2e5acfead1c7' title='Show/Hide data repr'><svg class='icon xr-icon-database'><use xlink:href='#icon-database'></use></svg></label><div class='xr-var-attrs'><dl class='xr-attrs'><dt><span>long_name :</span></dt><dd>data_volume_index_number</dd><dt><span>units :</span></dt><dd></dd></dl></div><div class='xr-var-data'><pre>[1 values with dtype=float64]</pre></div></li><li class='xr-var-item'><div class='xr-var-name'><span>platform_type</span></div><div class='xr-var-dims'>()</div><div class='xr-var-dtype'>|S32</div><div class='xr-var-preview xr-preview'>...</div><input id='attrs-3ec2e3ef-484a-4897-942b-0bbce7567b68' class='xr-var-attrs-in' type='checkbox' ><label for='attrs-3ec2e3ef-484a-4897-942b-0bbce7567b68' title='Show/Hide attributes'><svg class='icon xr-icon-file-text2'><use xlink:href='#icon-file-text2'></use></svg></label><input id='data-ba4633a0-c4c4-4d78-b495-1aef84b38416' class='xr-var-data-in' type='checkbox'><label for='data-ba4633a0-c4c4-4d78-b495-1aef84b38416' title='Show/Hide data repr'><svg class='icon xr-icon-database'><use xlink:href='#icon-database'></use></svg></label><div class='xr-var-attrs'><dl class='xr-attrs'><dt><span>long_name :</span></dt><dd>platform_type</dd><dt><span>options :</span></dt><dd>fixed, vehicle, ship, aircraft_fore, aircraft_aft, aircraft_tail, aircraft_belly, aircraft_roof, aircraft_nose, satellite_orbit, satellite_geostat</dd></dl></div><div class='xr-var-data'><pre>[1 values with dtype=|S32]</pre></div></li><li class='xr-var-item'><div class='xr-var-name'><span>primary_axis</span></div><div class='xr-var-dims'>()</div><div class='xr-var-dtype'>|S32</div><div class='xr-var-preview xr-preview'>...</div><input id='attrs-c4ec8cd1-d9da-4f8d-bfbe-bfc65b80ab5f' class='xr-var-attrs-in' type='checkbox' ><label for='attrs-c4ec8cd1-d9da-4f8d-bfbe-bfc65b80ab5f' title='Show/Hide attributes'><svg class='icon xr-icon-file-text2'><use xlink:href='#icon-file-text2'></use></svg></label><input id='data-1fbcc90d-90bd-4268-83b7-aafa5b1f8b02' class='xr-var-data-in' type='checkbox'><label for='data-1fbcc90d-90bd-4268-83b7-aafa5b1f8b02' title='Show/Hide data repr'><svg class='icon xr-icon-database'><use xlink:href='#icon-database'></use></svg></label><div class='xr-var-attrs'><dl class='xr-attrs'><dt><span>long_name :</span></dt><dd>primary_axis_of_rotation</dd><dt><span>options :</span></dt><dd>axis_z, axis_y, axis_x, axis_z_prime, axis_y_prime, axis_x_prime</dd></dl></div><div class='xr-var-data'><pre>[1 values with dtype=|S32]</pre></div></li><li class='xr-var-item'><div class='xr-var-name'><span>status_xml</span></div><div class='xr-var-dims'>()</div><div class='xr-var-dtype'>|S1</div><div class='xr-var-preview xr-preview'>...</div><input id='attrs-d199fc66-115f-4c21-9dc5-d1300ab26f43' class='xr-var-attrs-in' type='checkbox' ><label for='attrs-d199fc66-115f-4c21-9dc5-d1300ab26f43' title='Show/Hide attributes'><svg class='icon xr-icon-file-text2'><use xlink:href='#icon-file-text2'></use></svg></label><input id='data-b45cfdbc-a750-4991-a5e5-53c4a94df95f' class='xr-var-data-in' type='checkbox'><label for='data-b45cfdbc-a750-4991-a5e5-53c4a94df95f' title='Show/Hide data repr'><svg class='icon xr-icon-database'><use xlink:href='#icon-database'></use></svg></label><div class='xr-var-attrs'><dl class='xr-attrs'><dt><span>long_name :</span></dt><dd>status_of_instrument</dd></dl></div><div class='xr-var-data'><pre>[1 values with dtype=|S1]</pre></div></li><li class='xr-var-item'><div class='xr-var-name'><span>instrument_type</span></div><div class='xr-var-dims'>()</div><div class='xr-var-dtype'>|S32</div><div class='xr-var-preview xr-preview'>...</div><input id='attrs-ecd0bd22-9528-410e-8b51-a9cb3849c8d5' class='xr-var-attrs-in' type='checkbox' ><label for='attrs-ecd0bd22-9528-410e-8b51-a9cb3849c8d5' title='Show/Hide attributes'><svg class='icon xr-icon-file-text2'><use xlink:href='#icon-file-text2'></use></svg></label><input id='data-62b2edc4-a7f6-4fad-891c-8df3b24d34e4' class='xr-var-data-in' type='checkbox'><label for='data-62b2edc4-a7f6-4fad-891c-8df3b24d34e4' title='Show/Hide data repr'><svg class='icon xr-icon-database'><use xlink:href='#icon-database'></use></svg></label><div class='xr-var-attrs'><dl class='xr-attrs'><dt><span>long_name :</span></dt><dd>type_of_instrument</dd><dt><span>options :</span></dt><dd>radar, lidar</dd><dt><span>meta_group :</span></dt><dd>instrument_parameters</dd></dl></div><div class='xr-var-data'><pre>[1 values with dtype=|S32]</pre></div></li><li class='xr-var-item'><div class='xr-var-name'><span>radar_antenna_gain_h</span></div><div class='xr-var-dims'>()</div><div class='xr-var-dtype'>float32</div><div class='xr-var-preview xr-preview'>...</div><input id='attrs-ee76e80f-5c45-46b5-a7ff-2f3e0fd0921c' class='xr-var-attrs-in' type='checkbox' ><label for='attrs-ee76e80f-5c45-46b5-a7ff-2f3e0fd0921c' title='Show/Hide attributes'><svg class='icon xr-icon-file-text2'><use xlink:href='#icon-file-text2'></use></svg></label><input id='data-cff4cd8e-9200-4807-a358-e8c7303caabe' class='xr-var-data-in' type='checkbox'><label for='data-cff4cd8e-9200-4807-a358-e8c7303caabe' title='Show/Hide data repr'><svg class='icon xr-icon-database'><use xlink:href='#icon-database'></use></svg></label><div class='xr-var-attrs'><dl class='xr-attrs'><dt><span>long_name :</span></dt><dd>nominal_radar_antenna_gain_h_channel</dd><dt><span>units :</span></dt><dd>db</dd><dt><span>meta_group :</span></dt><dd>radar_parameters</dd></dl></div><div class='xr-var-data'><pre>[1 values with dtype=float32]</pre></div></li><li class='xr-var-item'><div class='xr-var-name'><span>radar_antenna_gain_v</span></div><div class='xr-var-dims'>()</div><div class='xr-var-dtype'>float32</div><div class='xr-var-preview xr-preview'>...</div><input id='attrs-7e01e9ec-0754-4586-852f-f12917c21bc0' class='xr-var-attrs-in' type='checkbox' ><label for='attrs-7e01e9ec-0754-4586-852f-f12917c21bc0' title='Show/Hide attributes'><svg class='icon xr-icon-file-text2'><use xlink:href='#icon-file-text2'></use></svg></label><input id='data-6dfd7298-f74e-4e90-90ee-ab0e6dbb36ce' class='xr-var-data-in' type='checkbox'><label for='data-6dfd7298-f74e-4e90-90ee-ab0e6dbb36ce' title='Show/Hide data repr'><svg class='icon xr-icon-database'><use xlink:href='#icon-database'></use></svg></label><div class='xr-var-attrs'><dl class='xr-attrs'><dt><span>long_name :</span></dt><dd>nominal_radar_antenna_gain_v_channel</dd><dt><span>units :</span></dt><dd>db</dd><dt><span>meta_group :</span></dt><dd>radar_parameters</dd></dl></div><div class='xr-var-data'><pre>[1 values with dtype=float32]</pre></div></li><li class='xr-var-item'><div class='xr-var-name'><span>radar_beam_width_h</span></div><div class='xr-var-dims'>()</div><div class='xr-var-dtype'>float32</div><div class='xr-var-preview xr-preview'>...</div><input id='attrs-c7325889-bf6e-4f80-8be0-4f27c10ce4ca' class='xr-var-attrs-in' type='checkbox' ><label for='attrs-c7325889-bf6e-4f80-8be0-4f27c10ce4ca' title='Show/Hide attributes'><svg class='icon xr-icon-file-text2'><use xlink:href='#icon-file-text2'></use></svg></label><input id='data-095de498-f8b2-4cb5-9185-b153ea101ed3' class='xr-var-data-in' type='checkbox'><label for='data-095de498-f8b2-4cb5-9185-b153ea101ed3' title='Show/Hide data repr'><svg class='icon xr-icon-database'><use xlink:href='#icon-database'></use></svg></label><div class='xr-var-attrs'><dl class='xr-attrs'><dt><span>long_name :</span></dt><dd>half_power_radar_beam_width_h_channel</dd><dt><span>units :</span></dt><dd>degrees</dd><dt><span>meta_group :</span></dt><dd>radar_parameters</dd></dl></div><div class='xr-var-data'><pre>[1 values with dtype=float32]</pre></div></li><li class='xr-var-item'><div class='xr-var-name'><span>radar_beam_width_v</span></div><div class='xr-var-dims'>()</div><div class='xr-var-dtype'>float32</div><div class='xr-var-preview xr-preview'>...</div><input id='attrs-60af6c9c-dee6-4d7f-b3d3-ee5b9b4cad46' class='xr-var-attrs-in' type='checkbox' ><label for='attrs-60af6c9c-dee6-4d7f-b3d3-ee5b9b4cad46' title='Show/Hide attributes'><svg class='icon xr-icon-file-text2'><use xlink:href='#icon-file-text2'></use></svg></label><input id='data-6c416e91-5829-4190-a7a7-c1cc2131d04b' class='xr-var-data-in' type='checkbox'><label for='data-6c416e91-5829-4190-a7a7-c1cc2131d04b' title='Show/Hide data repr'><svg class='icon xr-icon-database'><use xlink:href='#icon-database'></use></svg></label><div class='xr-var-attrs'><dl class='xr-attrs'><dt><span>long_name :</span></dt><dd>half_power_radar_beam_width_v_channel</dd><dt><span>units :</span></dt><dd>degrees</dd><dt><span>meta_group :</span></dt><dd>radar_parameters</dd></dl></div><div class='xr-var-data'><pre>[1 values with dtype=float32]</pre></div></li><li class='xr-var-item'><div class='xr-var-name'><span>radar_rx_bandwidth</span></div><div class='xr-var-dims'>()</div><div class='xr-var-dtype'>float32</div><div class='xr-var-preview xr-preview'>...</div><input id='attrs-da8f3fef-49c5-45cb-ba54-ba9c2b6884a0' class='xr-var-attrs-in' type='checkbox' ><label for='attrs-da8f3fef-49c5-45cb-ba54-ba9c2b6884a0' title='Show/Hide attributes'><svg class='icon xr-icon-file-text2'><use xlink:href='#icon-file-text2'></use></svg></label><input id='data-e3a5d62c-67aa-44cb-8819-a3114a2c9ec2' class='xr-var-data-in' type='checkbox'><label for='data-e3a5d62c-67aa-44cb-8819-a3114a2c9ec2' title='Show/Hide data repr'><svg class='icon xr-icon-database'><use xlink:href='#icon-database'></use></svg></label><div class='xr-var-attrs'><dl class='xr-attrs'><dt><span>long_name :</span></dt><dd>radar_receiver_bandwidth</dd><dt><span>units :</span></dt><dd>s-1</dd><dt><span>meta_group :</span></dt><dd>radar_parameters</dd></dl></div><div class='xr-var-data'><pre>[1 values with dtype=float32]</pre></div></li><li class='xr-var-item'><div class='xr-var-name'><span>time_coverage_start</span></div><div class='xr-var-dims'>()</div><div class='xr-var-dtype'>|S32</div><div class='xr-var-preview xr-preview'>...</div><input id='attrs-44372b03-90a6-48b3-bfa0-cb73fa227ed2' class='xr-var-attrs-in' type='checkbox' ><label for='attrs-44372b03-90a6-48b3-bfa0-cb73fa227ed2' title='Show/Hide attributes'><svg class='icon xr-icon-file-text2'><use xlink:href='#icon-file-text2'></use></svg></label><input id='data-662bc31f-7c9c-4fe3-bef1-20c8e7fdd74d' class='xr-var-data-in' type='checkbox'><label for='data-662bc31f-7c9c-4fe3-bef1-20c8e7fdd74d' title='Show/Hide data repr'><svg class='icon xr-icon-database'><use xlink:href='#icon-database'></use></svg></label><div class='xr-var-attrs'><dl class='xr-attrs'><dt><span>long_name :</span></dt><dd>data_volume_start_time_utc</dd><dt><span>comment :</span></dt><dd>ray times are relative to start time in secs</dd></dl></div><div class='xr-var-data'><pre>[1 values with dtype=|S32]</pre></div></li><li class='xr-var-item'><div class='xr-var-name'><span>time_coverage_end</span></div><div class='xr-var-dims'>()</div><div class='xr-var-dtype'>|S32</div><div class='xr-var-preview xr-preview'>...</div><input id='attrs-243cd5c0-95c6-4e58-a953-e97de1ea9039' class='xr-var-attrs-in' type='checkbox' ><label for='attrs-243cd5c0-95c6-4e58-a953-e97de1ea9039' title='Show/Hide attributes'><svg class='icon xr-icon-file-text2'><use xlink:href='#icon-file-text2'></use></svg></label><input id='data-737f0ff0-d08e-4a04-b5b1-f422d024e28d' class='xr-var-data-in' type='checkbox'><label for='data-737f0ff0-d08e-4a04-b5b1-f422d024e28d' title='Show/Hide data repr'><svg class='icon xr-icon-database'><use xlink:href='#icon-database'></use></svg></label><div class='xr-var-attrs'><dl class='xr-attrs'><dt><span>long_name :</span></dt><dd>data_volume_end_time_utc</dd></dl></div><div class='xr-var-data'><pre>[1 values with dtype=|S32]</pre></div></li><li class='xr-var-item'><div class='xr-var-name'><span>grid_mapping</span></div><div class='xr-var-dims'>()</div><div class='xr-var-dtype'>int32</div><div class='xr-var-preview xr-preview'>...</div><input id='attrs-45c4c852-927d-477c-b65d-1121beb89615' class='xr-var-attrs-in' type='checkbox' ><label for='attrs-45c4c852-927d-477c-b65d-1121beb89615' title='Show/Hide attributes'><svg class='icon xr-icon-file-text2'><use xlink:href='#icon-file-text2'></use></svg></label><input id='data-89e3dc01-f781-4839-ab44-9cd1706c8ce6' class='xr-var-data-in' type='checkbox'><label for='data-89e3dc01-f781-4839-ab44-9cd1706c8ce6' title='Show/Hide data repr'><svg class='icon xr-icon-database'><use xlink:href='#icon-database'></use></svg></label><div class='xr-var-attrs'><dl class='xr-attrs'><dt><span>grid_mapping_name :</span></dt><dd>radar_lidar_radial_scan</dd><dt><span>longitude_of_projection_origin :</span></dt><dd>-91.19110870361328</dd><dt><span>latitude_of_projection_origin :</span></dt><dd>43.822776794433594</dd><dt><span>altitude_of_projection_origin :</span></dt><dd>413.0</dd><dt><span>false_northing :</span></dt><dd>0.0</dd><dt><span>false_easting :</span></dt><dd>0.0</dd></dl></div><div class='xr-var-data'><pre>[1 values with dtype=int32]</pre></div></li><li class='xr-var-item'><div class='xr-var-name'><span>latitude</span></div><div class='xr-var-dims'>()</div><div class='xr-var-dtype'>float64</div><div class='xr-var-preview xr-preview'>...</div><input id='attrs-b81735b5-976e-40dd-b04a-b7131ea39b0a' class='xr-var-attrs-in' type='checkbox' ><label for='attrs-b81735b5-976e-40dd-b04a-b7131ea39b0a' title='Show/Hide attributes'><svg class='icon xr-icon-file-text2'><use xlink:href='#icon-file-text2'></use></svg></label><input id='data-8f5089e3-14ee-4cd4-8cb0-10dfe1fe6413' class='xr-var-data-in' type='checkbox'><label for='data-8f5089e3-14ee-4cd4-8cb0-10dfe1fe6413' title='Show/Hide data repr'><svg class='icon xr-icon-database'><use xlink:href='#icon-database'></use></svg></label><div class='xr-var-attrs'><dl class='xr-attrs'><dt><span>long_name :</span></dt><dd>latitude</dd><dt><span>units :</span></dt><dd>degrees_north</dd></dl></div><div class='xr-var-data'><pre>[1 values with dtype=float64]</pre></div></li><li class='xr-var-item'><div class='xr-var-name'><span>longitude</span></div><div class='xr-var-dims'>()</div><div class='xr-var-dtype'>float64</div><div class='xr-var-preview xr-preview'>...</div><input id='attrs-b36268c5-808e-4ee8-bb4d-1b0f03308600' class='xr-var-attrs-in' type='checkbox' ><label for='attrs-b36268c5-808e-4ee8-bb4d-1b0f03308600' title='Show/Hide attributes'><svg class='icon xr-icon-file-text2'><use xlink:href='#icon-file-text2'></use></svg></label><input id='data-de938e8d-5156-4246-8422-0e262932a602' class='xr-var-data-in' type='checkbox'><label for='data-de938e8d-5156-4246-8422-0e262932a602' title='Show/Hide data repr'><svg class='icon xr-icon-database'><use xlink:href='#icon-database'></use></svg></label><div class='xr-var-attrs'><dl class='xr-attrs'><dt><span>long_name :</span></dt><dd>longitude</dd><dt><span>units :</span></dt><dd>degrees_east</dd></dl></div><div class='xr-var-data'><pre>[1 values with dtype=float64]</pre></div></li><li class='xr-var-item'><div class='xr-var-name'><span>altitude</span></div><div class='xr-var-dims'>()</div><div class='xr-var-dtype'>float64</div><div class='xr-var-preview xr-preview'>...</div><input id='attrs-a5b12a24-c961-4af0-94b0-c3da90b3b09f' class='xr-var-attrs-in' type='checkbox' ><label for='attrs-a5b12a24-c961-4af0-94b0-c3da90b3b09f' title='Show/Hide attributes'><svg class='icon xr-icon-file-text2'><use xlink:href='#icon-file-text2'></use></svg></label><input id='data-3b7bb85d-9114-47c1-ad46-e65dde92f8ee' class='xr-var-data-in' type='checkbox'><label for='data-3b7bb85d-9114-47c1-ad46-e65dde92f8ee' title='Show/Hide data repr'><svg class='icon xr-icon-database'><use xlink:href='#icon-database'></use></svg></label><div class='xr-var-attrs'><dl class='xr-attrs'><dt><span>long_name :</span></dt><dd>altitude</dd><dt><span>units :</span></dt><dd>meters</dd><dt><span>positive :</span></dt><dd>up</dd></dl></div><div class='xr-var-data'><pre>[1 values with dtype=float64]</pre></div></li><li class='xr-var-item'><div class='xr-var-name'><span>altitude_agl</span></div><div class='xr-var-dims'>()</div><div class='xr-var-dtype'>float64</div><div class='xr-var-preview xr-preview'>...</div><input id='attrs-fc7374e4-8221-4f80-a6e0-9877b1fcd065' class='xr-var-attrs-in' type='checkbox' ><label for='attrs-fc7374e4-8221-4f80-a6e0-9877b1fcd065' title='Show/Hide attributes'><svg class='icon xr-icon-file-text2'><use xlink:href='#icon-file-text2'></use></svg></label><input id='data-e46e027d-37e2-4aab-9d05-4efc034aa8db' class='xr-var-data-in' type='checkbox'><label for='data-e46e027d-37e2-4aab-9d05-4efc034aa8db' title='Show/Hide data repr'><svg class='icon xr-icon-database'><use xlink:href='#icon-database'></use></svg></label><div class='xr-var-attrs'><dl class='xr-attrs'><dt><span>long_name :</span></dt><dd>altitude_above_ground_level</dd><dt><span>units :</span></dt><dd>meters</dd><dt><span>positive :</span></dt><dd>up</dd></dl></div><div class='xr-var-data'><pre>[1 values with dtype=float64]</pre></div></li><li class='xr-var-item'><div class='xr-var-name'><span>sweep_number</span></div><div class='xr-var-dims'>(sweep)</div><div class='xr-var-dtype'>float64</div><div class='xr-var-preview xr-preview'>...</div><input id='attrs-35d459ad-9f55-4752-86c3-6d5e68c6f8de' class='xr-var-attrs-in' type='checkbox' ><label for='attrs-35d459ad-9f55-4752-86c3-6d5e68c6f8de' title='Show/Hide attributes'><svg class='icon xr-icon-file-text2'><use xlink:href='#icon-file-text2'></use></svg></label><input id='data-b6948de0-5ddd-433a-ad50-5965bb37d36e' class='xr-var-data-in' type='checkbox'><label for='data-b6948de0-5ddd-433a-ad50-5965bb37d36e' title='Show/Hide data repr'><svg class='icon xr-icon-database'><use xlink:href='#icon-database'></use></svg></label><div class='xr-var-attrs'><dl class='xr-attrs'><dt><span>long_name :</span></dt><dd>sweep_index_number_0_based</dd><dt><span>units :</span></dt><dd></dd></dl></div><div class='xr-var-data'><pre>[5 values with dtype=float64]</pre></div></li><li class='xr-var-item'><div class='xr-var-name'><span>sweep_mode</span></div><div class='xr-var-dims'>(sweep)</div><div class='xr-var-dtype'>|S32</div><div class='xr-var-preview xr-preview'>...</div><input id='attrs-791e19e5-21a8-4cd8-b405-c1d59b09e998' class='xr-var-attrs-in' type='checkbox' ><label for='attrs-791e19e5-21a8-4cd8-b405-c1d59b09e998' title='Show/Hide attributes'><svg class='icon xr-icon-file-text2'><use xlink:href='#icon-file-text2'></use></svg></label><input id='data-b52e2988-27b3-4b0a-909a-84d7b0aa8700' class='xr-var-data-in' type='checkbox'><label for='data-b52e2988-27b3-4b0a-909a-84d7b0aa8700' title='Show/Hide data repr'><svg class='icon xr-icon-database'><use xlink:href='#icon-database'></use></svg></label><div class='xr-var-attrs'><dl class='xr-attrs'><dt><span>long_name :</span></dt><dd>scan_mode_for_sweep</dd><dt><span>options :</span></dt><dd>sector, coplane, rhi, vertical_pointing, idle, azimuth_surveillance, elevation_surveillance, sunscan, pointing, calibration, manual_ppi, manual_rhi, sunscan_rhi, doppler_beam_swinging, complex_trajectory, electronic_steering</dd></dl></div><div class='xr-var-data'><pre>[5 values with dtype=|S32]</pre></div></li><li class='xr-var-item'><div class='xr-var-name'><span>polarization_mode</span></div><div class='xr-var-dims'>(sweep)</div><div class='xr-var-dtype'>|S32</div><div class='xr-var-preview xr-preview'>...</div><input id='attrs-855c8d99-6cd9-4775-9ade-407029a667e7' class='xr-var-attrs-in' type='checkbox' ><label for='attrs-855c8d99-6cd9-4775-9ade-407029a667e7' title='Show/Hide attributes'><svg class='icon xr-icon-file-text2'><use xlink:href='#icon-file-text2'></use></svg></label><input id='data-27d8aef5-44e9-4e31-b57e-b09875fb73b7' class='xr-var-data-in' type='checkbox'><label for='data-27d8aef5-44e9-4e31-b57e-b09875fb73b7' title='Show/Hide data repr'><svg class='icon xr-icon-database'><use xlink:href='#icon-database'></use></svg></label><div class='xr-var-attrs'><dl class='xr-attrs'><dt><span>long_name :</span></dt><dd>polarization_mode_for_sweep</dd><dt><span>options :</span></dt><dd>horizontal, vertical, hv_alt, hv_sim, circular</dd><dt><span>meta_group :</span></dt><dd>radar_parameters</dd></dl></div><div class='xr-var-data'><pre>[5 values with dtype=|S32]</pre></div></li><li class='xr-var-item'><div class='xr-var-name'><span>prt_mode</span></div><div class='xr-var-dims'>(sweep)</div><div class='xr-var-dtype'>|S32</div><div class='xr-var-preview xr-preview'>...</div><input id='attrs-78ef8372-c3c2-4742-84f5-b131d8e5bd33' class='xr-var-attrs-in' type='checkbox' ><label for='attrs-78ef8372-c3c2-4742-84f5-b131d8e5bd33' title='Show/Hide attributes'><svg class='icon xr-icon-file-text2'><use xlink:href='#icon-file-text2'></use></svg></label><input id='data-acde03f3-b2cb-4ec9-95b7-6e11794286d9' class='xr-var-data-in' type='checkbox'><label for='data-acde03f3-b2cb-4ec9-95b7-6e11794286d9' title='Show/Hide data repr'><svg class='icon xr-icon-database'><use xlink:href='#icon-database'></use></svg></label><div class='xr-var-attrs'><dl class='xr-attrs'><dt><span>long_name :</span></dt><dd>transmit_pulse_mode</dd><dt><span>options :</span></dt><dd>fixed, staggered, dual</dd><dt><span>meta_group :</span></dt><dd>radar_parameters</dd></dl></div><div class='xr-var-data'><pre>[5 values with dtype=|S32]</pre></div></li><li class='xr-var-item'><div class='xr-var-name'><span>follow_mode</span></div><div class='xr-var-dims'>(sweep)</div><div class='xr-var-dtype'>|S32</div><div class='xr-var-preview xr-preview'>...</div><input id='attrs-f425a9e4-2ffc-435f-a40c-b7b96d2fb315' class='xr-var-attrs-in' type='checkbox' ><label for='attrs-f425a9e4-2ffc-435f-a40c-b7b96d2fb315' title='Show/Hide attributes'><svg class='icon xr-icon-file-text2'><use xlink:href='#icon-file-text2'></use></svg></label><input id='data-cd5c9d91-b74c-4740-9e37-7f3fe43e6221' class='xr-var-data-in' type='checkbox'><label for='data-cd5c9d91-b74c-4740-9e37-7f3fe43e6221' title='Show/Hide data repr'><svg class='icon xr-icon-database'><use xlink:href='#icon-database'></use></svg></label><div class='xr-var-attrs'><dl class='xr-attrs'><dt><span>long_name :</span></dt><dd>follow_mode_for_scan_strategy</dd><dt><span>options :</span></dt><dd>none, sun, vehicle, aircraft, target, manual</dd><dt><span>meta_group :</span></dt><dd>instrument_parameters</dd></dl></div><div class='xr-var-data'><pre>[5 values with dtype=|S32]</pre></div></li><li class='xr-var-item'><div class='xr-var-name'><span>fixed_angle</span></div><div class='xr-var-dims'>(sweep)</div><div class='xr-var-dtype'>float32</div><div class='xr-var-preview xr-preview'>...</div><input id='attrs-83e25884-1cbe-46f9-a406-7474fd51462d' class='xr-var-attrs-in' type='checkbox' ><label for='attrs-83e25884-1cbe-46f9-a406-7474fd51462d' title='Show/Hide attributes'><svg class='icon xr-icon-file-text2'><use xlink:href='#icon-file-text2'></use></svg></label><input id='data-b107ab76-8381-45b5-bb14-18abdc297bf0' class='xr-var-data-in' type='checkbox'><label for='data-b107ab76-8381-45b5-bb14-18abdc297bf0' title='Show/Hide data repr'><svg class='icon xr-icon-database'><use xlink:href='#icon-database'></use></svg></label><div class='xr-var-attrs'><dl class='xr-attrs'><dt><span>long_name :</span></dt><dd>ray_target_fixed_angle</dd><dt><span>units :</span></dt><dd>degrees</dd></dl></div><div class='xr-var-data'><pre>[5 values with dtype=float32]</pre></div></li><li class='xr-var-item'><div class='xr-var-name'><span>target_scan_rate</span></div><div class='xr-var-dims'>(sweep)</div><div class='xr-var-dtype'>float32</div><div class='xr-var-preview xr-preview'>...</div><input id='attrs-f2b5579d-6cbb-4c0d-a3fe-e914ffbd2206' class='xr-var-attrs-in' type='checkbox' ><label for='attrs-f2b5579d-6cbb-4c0d-a3fe-e914ffbd2206' title='Show/Hide attributes'><svg class='icon xr-icon-file-text2'><use xlink:href='#icon-file-text2'></use></svg></label><input id='data-feb16820-5d53-419e-bc9e-2326fded5338' class='xr-var-data-in' type='checkbox'><label for='data-feb16820-5d53-419e-bc9e-2326fded5338' title='Show/Hide data repr'><svg class='icon xr-icon-database'><use xlink:href='#icon-database'></use></svg></label><div class='xr-var-attrs'><dl class='xr-attrs'><dt><span>long_name :</span></dt><dd>target_scan_rate_for_sweep</dd><dt><span>units :</span></dt><dd>degrees per second</dd></dl></div><div class='xr-var-data'><pre>[5 values with dtype=float32]</pre></div></li><li class='xr-var-item'><div class='xr-var-name'><span>sweep_start_ray_index</span></div><div class='xr-var-dims'>(sweep)</div><div class='xr-var-dtype'>float64</div><div class='xr-var-preview xr-preview'>...</div><input id='attrs-9817bfc5-fe5e-4b86-b96d-c5d425ee97de' class='xr-var-attrs-in' type='checkbox' ><label for='attrs-9817bfc5-fe5e-4b86-b96d-c5d425ee97de' title='Show/Hide attributes'><svg class='icon xr-icon-file-text2'><use xlink:href='#icon-file-text2'></use></svg></label><input id='data-7d2c1712-b7a2-4ce3-a0ea-2bb0c98af29f' class='xr-var-data-in' type='checkbox'><label for='data-7d2c1712-b7a2-4ce3-a0ea-2bb0c98af29f' title='Show/Hide data repr'><svg class='icon xr-icon-database'><use xlink:href='#icon-database'></use></svg></label><div class='xr-var-attrs'><dl class='xr-attrs'><dt><span>long_name :</span></dt><dd>index_of_first_ray_in_sweep</dd><dt><span>units :</span></dt><dd></dd></dl></div><div class='xr-var-data'><pre>[5 values with dtype=float64]</pre></div></li><li class='xr-var-item'><div class='xr-var-name'><span>sweep_end_ray_index</span></div><div class='xr-var-dims'>(sweep)</div><div class='xr-var-dtype'>float64</div><div class='xr-var-preview xr-preview'>...</div><input id='attrs-35637a01-260f-44ff-865e-bb18d0281c9e' class='xr-var-attrs-in' type='checkbox' ><label for='attrs-35637a01-260f-44ff-865e-bb18d0281c9e' title='Show/Hide attributes'><svg class='icon xr-icon-file-text2'><use xlink:href='#icon-file-text2'></use></svg></label><input id='data-b40c0cf1-f60f-4e4c-a1fc-07a5b4435c96' class='xr-var-data-in' type='checkbox'><label for='data-b40c0cf1-f60f-4e4c-a1fc-07a5b4435c96' title='Show/Hide data repr'><svg class='icon xr-icon-database'><use xlink:href='#icon-database'></use></svg></label><div class='xr-var-attrs'><dl class='xr-attrs'><dt><span>long_name :</span></dt><dd>index_of_last_ray_in_sweep</dd><dt><span>units :</span></dt><dd></dd></dl></div><div class='xr-var-data'><pre>[5 values with dtype=float64]</pre></div></li><li class='xr-var-item'><div class='xr-var-name'><span>rays_are_indexed</span></div><div class='xr-var-dims'>(sweep)</div><div class='xr-var-dtype'>|S8</div><div class='xr-var-preview xr-preview'>...</div><input id='attrs-ea841f89-a908-4c8c-95c0-811306cabe43' class='xr-var-attrs-in' type='checkbox' ><label for='attrs-ea841f89-a908-4c8c-95c0-811306cabe43' title='Show/Hide attributes'><svg class='icon xr-icon-file-text2'><use xlink:href='#icon-file-text2'></use></svg></label><input id='data-2ff59e8c-8bf7-45cc-8436-166dd52c6707' class='xr-var-data-in' type='checkbox'><label for='data-2ff59e8c-8bf7-45cc-8436-166dd52c6707' title='Show/Hide data repr'><svg class='icon xr-icon-database'><use xlink:href='#icon-database'></use></svg></label><div class='xr-var-attrs'><dl class='xr-attrs'><dt><span>long_name :</span></dt><dd>flag_for_indexed_rays</dd></dl></div><div class='xr-var-data'><pre>[5 values with dtype=|S8]</pre></div></li><li class='xr-var-item'><div class='xr-var-name'><span>ray_angle_res</span></div><div class='xr-var-dims'>(sweep)</div><div class='xr-var-dtype'>float32</div><div class='xr-var-preview xr-preview'>...</div><input id='attrs-1bace52e-ea0d-42a5-bf71-2e5f77b857d6' class='xr-var-attrs-in' type='checkbox' ><label for='attrs-1bace52e-ea0d-42a5-bf71-2e5f77b857d6' title='Show/Hide attributes'><svg class='icon xr-icon-file-text2'><use xlink:href='#icon-file-text2'></use></svg></label><input id='data-588deaae-7b66-4f03-9fc1-3be7e3ecb208' class='xr-var-data-in' type='checkbox'><label for='data-588deaae-7b66-4f03-9fc1-3be7e3ecb208' title='Show/Hide data repr'><svg class='icon xr-icon-database'><use xlink:href='#icon-database'></use></svg></label><div class='xr-var-attrs'><dl class='xr-attrs'><dt><span>long_name :</span></dt><dd>angular_resolution_between_rays</dd><dt><span>units :</span></dt><dd>degrees</dd></dl></div><div class='xr-var-data'><pre>[5 values with dtype=float32]</pre></div></li><li class='xr-var-item'><div class='xr-var-name'><span>r_calib_time</span></div><div class='xr-var-dims'>(r_calib)</div><div class='xr-var-dtype'>|S32</div><div class='xr-var-preview xr-preview'>...</div><input id='attrs-c3014c82-adb5-423f-a0da-4ce6e8508196' class='xr-var-attrs-in' type='checkbox' ><label for='attrs-c3014c82-adb5-423f-a0da-4ce6e8508196' title='Show/Hide attributes'><svg class='icon xr-icon-file-text2'><use xlink:href='#icon-file-text2'></use></svg></label><input id='data-14c616b8-0fe0-489c-b083-ba82bcfc4636' class='xr-var-data-in' type='checkbox'><label for='data-14c616b8-0fe0-489c-b083-ba82bcfc4636' title='Show/Hide data repr'><svg class='icon xr-icon-database'><use xlink:href='#icon-database'></use></svg></label><div class='xr-var-attrs'><dl class='xr-attrs'><dt><span>long_name :</span></dt><dd>radar_calibration_time_utc</dd><dt><span>meta_group :</span></dt><dd>radar_calibration</dd></dl></div><div class='xr-var-data'><pre>[1 values with dtype=|S32]</pre></div></li><li class='xr-var-item'><div class='xr-var-name'><span>r_calib_pulse_width</span></div><div class='xr-var-dims'>(r_calib)</div><div class='xr-var-dtype'>timedelta64[ns]</div><div class='xr-var-preview xr-preview'>...</div><input id='attrs-e9a50ee2-f697-4d77-b351-52afaae40f7e' class='xr-var-attrs-in' type='checkbox' ><label for='attrs-e9a50ee2-f697-4d77-b351-52afaae40f7e' title='Show/Hide attributes'><svg class='icon xr-icon-file-text2'><use xlink:href='#icon-file-text2'></use></svg></label><input id='data-cd80063d-4b35-471d-bd47-323313ef21c5' class='xr-var-data-in' type='checkbox'><label for='data-cd80063d-4b35-471d-bd47-323313ef21c5' title='Show/Hide data repr'><svg class='icon xr-icon-database'><use xlink:href='#icon-database'></use></svg></label><div class='xr-var-attrs'><dl class='xr-attrs'><dt><span>long_name :</span></dt><dd>radar_calibration_pulse_width</dd><dt><span>meta_group :</span></dt><dd>radar_calibration</dd></dl></div><div class='xr-var-data'><pre>[1 values with dtype=timedelta64[ns]]</pre></div></li><li class='xr-var-item'><div class='xr-var-name'><span>r_calib_xmit_power_h</span></div><div class='xr-var-dims'>(r_calib)</div><div class='xr-var-dtype'>float32</div><div class='xr-var-preview xr-preview'>...</div><input id='attrs-42239ac3-4722-4683-86ce-fb9576cf71d9' class='xr-var-attrs-in' type='checkbox' ><label for='attrs-42239ac3-4722-4683-86ce-fb9576cf71d9' title='Show/Hide attributes'><svg class='icon xr-icon-file-text2'><use xlink:href='#icon-file-text2'></use></svg></label><input id='data-26a6bd8a-3c14-473c-8e97-dc96c377fdc6' class='xr-var-data-in' type='checkbox'><label for='data-26a6bd8a-3c14-473c-8e97-dc96c377fdc6' title='Show/Hide data repr'><svg class='icon xr-icon-database'><use xlink:href='#icon-database'></use></svg></label><div class='xr-var-attrs'><dl class='xr-attrs'><dt><span>long_name :</span></dt><dd>calibrated_radar_xmit_power_h_channel</dd><dt><span>units :</span></dt><dd>dBm</dd><dt><span>meta_group :</span></dt><dd>radar_calibration</dd></dl></div><div class='xr-var-data'><pre>[1 values with dtype=float32]</pre></div></li><li class='xr-var-item'><div class='xr-var-name'><span>r_calib_xmit_power_v</span></div><div class='xr-var-dims'>(r_calib)</div><div class='xr-var-dtype'>float32</div><div class='xr-var-preview xr-preview'>...</div><input id='attrs-6bb5bcca-a8bb-4fa8-b71a-4842d513797f' class='xr-var-attrs-in' type='checkbox' ><label for='attrs-6bb5bcca-a8bb-4fa8-b71a-4842d513797f' title='Show/Hide attributes'><svg class='icon xr-icon-file-text2'><use xlink:href='#icon-file-text2'></use></svg></label><input id='data-6d30d58e-572d-4060-a569-714b1fc45153' class='xr-var-data-in' type='checkbox'><label for='data-6d30d58e-572d-4060-a569-714b1fc45153' title='Show/Hide data repr'><svg class='icon xr-icon-database'><use xlink:href='#icon-database'></use></svg></label><div class='xr-var-attrs'><dl class='xr-attrs'><dt><span>long_name :</span></dt><dd>calibrated_radar_xmit_power_v_channel</dd><dt><span>units :</span></dt><dd>dBm</dd><dt><span>meta_group :</span></dt><dd>radar_calibration</dd></dl></div><div class='xr-var-data'><pre>[1 values with dtype=float32]</pre></div></li><li class='xr-var-item'><div class='xr-var-name'><span>r_calib_two_way_waveguide_loss_h</span></div><div class='xr-var-dims'>(r_calib)</div><div class='xr-var-dtype'>float32</div><div class='xr-var-preview xr-preview'>...</div><input id='attrs-14a0c644-d814-4f20-b27b-b4f1ad94cf12' class='xr-var-attrs-in' type='checkbox' ><label for='attrs-14a0c644-d814-4f20-b27b-b4f1ad94cf12' title='Show/Hide attributes'><svg class='icon xr-icon-file-text2'><use xlink:href='#icon-file-text2'></use></svg></label><input id='data-2b3c328d-d82d-4363-83e8-09acfbbce7d9' class='xr-var-data-in' type='checkbox'><label for='data-2b3c328d-d82d-4363-83e8-09acfbbce7d9' title='Show/Hide data repr'><svg class='icon xr-icon-database'><use xlink:href='#icon-database'></use></svg></label><div class='xr-var-attrs'><dl class='xr-attrs'><dt><span>long_name :</span></dt><dd>radar_calibration_two_way_waveguide_loss_h_channel</dd><dt><span>units :</span></dt><dd>db</dd><dt><span>meta_group :</span></dt><dd>radar_calibration</dd></dl></div><div class='xr-var-data'><pre>[1 values with dtype=float32]</pre></div></li><li class='xr-var-item'><div class='xr-var-name'><span>r_calib_two_way_waveguide_loss_v</span></div><div class='xr-var-dims'>(r_calib)</div><div class='xr-var-dtype'>float32</div><div class='xr-var-preview xr-preview'>...</div><input id='attrs-9923059b-5657-4f0a-8860-3dc2a066ca0b' class='xr-var-attrs-in' type='checkbox' ><label for='attrs-9923059b-5657-4f0a-8860-3dc2a066ca0b' title='Show/Hide attributes'><svg class='icon xr-icon-file-text2'><use xlink:href='#icon-file-text2'></use></svg></label><input id='data-6a76d06f-7892-4a28-91df-8adc6c24b201' class='xr-var-data-in' type='checkbox'><label for='data-6a76d06f-7892-4a28-91df-8adc6c24b201' title='Show/Hide data repr'><svg class='icon xr-icon-database'><use xlink:href='#icon-database'></use></svg></label><div class='xr-var-attrs'><dl class='xr-attrs'><dt><span>long_name :</span></dt><dd>radar_calibration_two_way_waveguide_loss_v_channel</dd><dt><span>units :</span></dt><dd>db</dd><dt><span>meta_group :</span></dt><dd>radar_calibration</dd></dl></div><div class='xr-var-data'><pre>[1 values with dtype=float32]</pre></div></li><li class='xr-var-item'><div class='xr-var-name'><span>r_calib_two_way_radome_loss_h</span></div><div class='xr-var-dims'>(r_calib)</div><div class='xr-var-dtype'>float32</div><div class='xr-var-preview xr-preview'>...</div><input id='attrs-8506b35a-415e-4a94-8103-6f5d40dd8a22' class='xr-var-attrs-in' type='checkbox' ><label for='attrs-8506b35a-415e-4a94-8103-6f5d40dd8a22' title='Show/Hide attributes'><svg class='icon xr-icon-file-text2'><use xlink:href='#icon-file-text2'></use></svg></label><input id='data-1f009d52-51de-4b02-9327-9fb11bd3312f' class='xr-var-data-in' type='checkbox'><label for='data-1f009d52-51de-4b02-9327-9fb11bd3312f' title='Show/Hide data repr'><svg class='icon xr-icon-database'><use xlink:href='#icon-database'></use></svg></label><div class='xr-var-attrs'><dl class='xr-attrs'><dt><span>long_name :</span></dt><dd>radar_calibration_two_way_radome_loss_h_channel</dd><dt><span>units :</span></dt><dd>db</dd><dt><span>meta_group :</span></dt><dd>radar_calibration</dd></dl></div><div class='xr-var-data'><pre>[1 values with dtype=float32]</pre></div></li><li class='xr-var-item'><div class='xr-var-name'><span>r_calib_two_way_radome_loss_v</span></div><div class='xr-var-dims'>(r_calib)</div><div class='xr-var-dtype'>float32</div><div class='xr-var-preview xr-preview'>...</div><input id='attrs-66370f5e-e612-42ff-8b03-aa794f4bb666' class='xr-var-attrs-in' type='checkbox' ><label for='attrs-66370f5e-e612-42ff-8b03-aa794f4bb666' title='Show/Hide attributes'><svg class='icon xr-icon-file-text2'><use xlink:href='#icon-file-text2'></use></svg></label><input id='data-f2ea9b60-c15b-41ce-bb5c-f903c0bf8f86' class='xr-var-data-in' type='checkbox'><label for='data-f2ea9b60-c15b-41ce-bb5c-f903c0bf8f86' title='Show/Hide data repr'><svg class='icon xr-icon-database'><use xlink:href='#icon-database'></use></svg></label><div class='xr-var-attrs'><dl class='xr-attrs'><dt><span>long_name :</span></dt><dd>radar_calibration_two_way_radome_loss_v_channel</dd><dt><span>units :</span></dt><dd>db</dd><dt><span>meta_group :</span></dt><dd>radar_calibration</dd></dl></div><div class='xr-var-data'><pre>[1 values with dtype=float32]</pre></div></li><li class='xr-var-item'><div class='xr-var-name'><span>r_calib_receiver_mismatch_loss</span></div><div class='xr-var-dims'>(r_calib)</div><div class='xr-var-dtype'>float32</div><div class='xr-var-preview xr-preview'>...</div><input id='attrs-bc60caa7-cf94-44e8-8723-61f06149cb6a' class='xr-var-attrs-in' type='checkbox' ><label for='attrs-bc60caa7-cf94-44e8-8723-61f06149cb6a' title='Show/Hide attributes'><svg class='icon xr-icon-file-text2'><use xlink:href='#icon-file-text2'></use></svg></label><input id='data-05fd7588-f0e7-4dca-a83d-c7ebdc9fd040' class='xr-var-data-in' type='checkbox'><label for='data-05fd7588-f0e7-4dca-a83d-c7ebdc9fd040' title='Show/Hide data repr'><svg class='icon xr-icon-database'><use xlink:href='#icon-database'></use></svg></label><div class='xr-var-attrs'><dl class='xr-attrs'><dt><span>long_name :</span></dt><dd>radar_calibration_receiver_mismatch_loss</dd><dt><span>units :</span></dt><dd>db</dd><dt><span>meta_group :</span></dt><dd>radar_calibration</dd></dl></div><div class='xr-var-data'><pre>[1 values with dtype=float32]</pre></div></li><li class='xr-var-item'><div class='xr-var-name'><span>r_calib_k_squared_water</span></div><div class='xr-var-dims'>(r_calib)</div><div class='xr-var-dtype'>float32</div><div class='xr-var-preview xr-preview'>...</div><input id='attrs-1e9ac5b3-4ceb-4619-bca4-744fc9aaadc6' class='xr-var-attrs-in' type='checkbox' ><label for='attrs-1e9ac5b3-4ceb-4619-bca4-744fc9aaadc6' title='Show/Hide attributes'><svg class='icon xr-icon-file-text2'><use xlink:href='#icon-file-text2'></use></svg></label><input id='data-9c438da5-6ff0-4165-a218-f9f940ca0531' class='xr-var-data-in' type='checkbox'><label for='data-9c438da5-6ff0-4165-a218-f9f940ca0531' title='Show/Hide data repr'><svg class='icon xr-icon-database'><use xlink:href='#icon-database'></use></svg></label><div class='xr-var-attrs'><dl class='xr-attrs'><dt><span>long_name :</span></dt><dd>r_calib_k_squared_water</dd><dt><span>units :</span></dt><dd></dd><dt><span>meta_group :</span></dt><dd>radar_calibration</dd></dl></div><div class='xr-var-data'><pre>[1 values with dtype=float32]</pre></div></li><li class='xr-var-item'><div class='xr-var-name'><span>r_calib_radar_constant_h</span></div><div class='xr-var-dims'>(r_calib)</div><div class='xr-var-dtype'>float32</div><div class='xr-var-preview xr-preview'>...</div><input id='attrs-def7ce50-0c8c-4f19-b5f6-fe27dedb58d7' class='xr-var-attrs-in' type='checkbox' ><label for='attrs-def7ce50-0c8c-4f19-b5f6-fe27dedb58d7' title='Show/Hide attributes'><svg class='icon xr-icon-file-text2'><use xlink:href='#icon-file-text2'></use></svg></label><input id='data-955ce1e3-96f7-4364-a07a-bbe3bf038951' class='xr-var-data-in' type='checkbox'><label for='data-955ce1e3-96f7-4364-a07a-bbe3bf038951' title='Show/Hide data repr'><svg class='icon xr-icon-database'><use xlink:href='#icon-database'></use></svg></label><div class='xr-var-attrs'><dl class='xr-attrs'><dt><span>long_name :</span></dt><dd>calibrated_radar_constant_h_channel</dd><dt><span>units :</span></dt><dd>db</dd><dt><span>meta_group :</span></dt><dd>radar_calibration</dd></dl></div><div class='xr-var-data'><pre>[1 values with dtype=float32]</pre></div></li><li class='xr-var-item'><div class='xr-var-name'><span>r_calib_radar_constant_v</span></div><div class='xr-var-dims'>(r_calib)</div><div class='xr-var-dtype'>float32</div><div class='xr-var-preview xr-preview'>...</div><input id='attrs-7f2a15d9-a61f-4c84-894b-f9a2cfbfe860' class='xr-var-attrs-in' type='checkbox' ><label for='attrs-7f2a15d9-a61f-4c84-894b-f9a2cfbfe860' title='Show/Hide attributes'><svg class='icon xr-icon-file-text2'><use xlink:href='#icon-file-text2'></use></svg></label><input id='data-abb5bf10-29ea-4cc5-9fa4-c2b858d8214d' class='xr-var-data-in' type='checkbox'><label for='data-abb5bf10-29ea-4cc5-9fa4-c2b858d8214d' title='Show/Hide data repr'><svg class='icon xr-icon-database'><use xlink:href='#icon-database'></use></svg></label><div class='xr-var-attrs'><dl class='xr-attrs'><dt><span>long_name :</span></dt><dd>calibrated_radar_constant_v_channel</dd><dt><span>units :</span></dt><dd>db</dd><dt><span>meta_group :</span></dt><dd>radar_calibration</dd></dl></div><div class='xr-var-data'><pre>[1 values with dtype=float32]</pre></div></li><li class='xr-var-item'><div class='xr-var-name'><span>r_calib_antenna_gain_h</span></div><div class='xr-var-dims'>(r_calib)</div><div class='xr-var-dtype'>float32</div><div class='xr-var-preview xr-preview'>...</div><input id='attrs-bba85976-d8ad-482b-ac79-fba05ae1011f' class='xr-var-attrs-in' type='checkbox' ><label for='attrs-bba85976-d8ad-482b-ac79-fba05ae1011f' title='Show/Hide attributes'><svg class='icon xr-icon-file-text2'><use xlink:href='#icon-file-text2'></use></svg></label><input id='data-3a2fed1e-cbd4-455f-8dce-662d1185b29f' class='xr-var-data-in' type='checkbox'><label for='data-3a2fed1e-cbd4-455f-8dce-662d1185b29f' title='Show/Hide data repr'><svg class='icon xr-icon-database'><use xlink:href='#icon-database'></use></svg></label><div class='xr-var-attrs'><dl class='xr-attrs'><dt><span>long_name :</span></dt><dd>calibrated_radar_antenna_gain_h_channel</dd><dt><span>units :</span></dt><dd>db</dd><dt><span>meta_group :</span></dt><dd>radar_calibration</dd></dl></div><div class='xr-var-data'><pre>[1 values with dtype=float32]</pre></div></li><li class='xr-var-item'><div class='xr-var-name'><span>r_calib_antenna_gain_v</span></div><div class='xr-var-dims'>(r_calib)</div><div class='xr-var-dtype'>float32</div><div class='xr-var-preview xr-preview'>...</div><input id='attrs-3b8407a7-4ae7-432a-87d8-b222f4bf1fb0' class='xr-var-attrs-in' type='checkbox' ><label for='attrs-3b8407a7-4ae7-432a-87d8-b222f4bf1fb0' title='Show/Hide attributes'><svg class='icon xr-icon-file-text2'><use xlink:href='#icon-file-text2'></use></svg></label><input id='data-10155fab-f1f3-408b-9cf3-6d8db2ce1eec' class='xr-var-data-in' type='checkbox'><label for='data-10155fab-f1f3-408b-9cf3-6d8db2ce1eec' title='Show/Hide data repr'><svg class='icon xr-icon-database'><use xlink:href='#icon-database'></use></svg></label><div class='xr-var-attrs'><dl class='xr-attrs'><dt><span>long_name :</span></dt><dd>calibrated_radar_antenna_gain_v_channel</dd><dt><span>units :</span></dt><dd>db</dd><dt><span>meta_group :</span></dt><dd>radar_calibration</dd></dl></div><div class='xr-var-data'><pre>[1 values with dtype=float32]</pre></div></li><li class='xr-var-item'><div class='xr-var-name'><span>r_calib_noise_hc</span></div><div class='xr-var-dims'>(r_calib)</div><div class='xr-var-dtype'>float32</div><div class='xr-var-preview xr-preview'>...</div><input id='attrs-e60d4b0f-f22f-4b86-ba3f-4662c0ee65ca' class='xr-var-attrs-in' type='checkbox' ><label for='attrs-e60d4b0f-f22f-4b86-ba3f-4662c0ee65ca' title='Show/Hide attributes'><svg class='icon xr-icon-file-text2'><use xlink:href='#icon-file-text2'></use></svg></label><input id='data-04d82698-ac37-498b-aa68-629d2d98a31d' class='xr-var-data-in' type='checkbox'><label for='data-04d82698-ac37-498b-aa68-629d2d98a31d' title='Show/Hide data repr'><svg class='icon xr-icon-database'><use xlink:href='#icon-database'></use></svg></label><div class='xr-var-attrs'><dl class='xr-attrs'><dt><span>long_name :</span></dt><dd>calibrated_radar_receiver_noise_h_co_polar_channel</dd><dt><span>units :</span></dt><dd>dBm</dd><dt><span>meta_group :</span></dt><dd>radar_calibration</dd></dl></div><div class='xr-var-data'><pre>[1 values with dtype=float32]</pre></div></li><li class='xr-var-item'><div class='xr-var-name'><span>r_calib_noise_vc</span></div><div class='xr-var-dims'>(r_calib)</div><div class='xr-var-dtype'>float32</div><div class='xr-var-preview xr-preview'>...</div><input id='attrs-d759ab26-7df5-4667-9a6e-dfd6939e60a6' class='xr-var-attrs-in' type='checkbox' ><label for='attrs-d759ab26-7df5-4667-9a6e-dfd6939e60a6' title='Show/Hide attributes'><svg class='icon xr-icon-file-text2'><use xlink:href='#icon-file-text2'></use></svg></label><input id='data-4db1963d-2e04-4fcc-be85-5035ced425b5' class='xr-var-data-in' type='checkbox'><label for='data-4db1963d-2e04-4fcc-be85-5035ced425b5' title='Show/Hide data repr'><svg class='icon xr-icon-database'><use xlink:href='#icon-database'></use></svg></label><div class='xr-var-attrs'><dl class='xr-attrs'><dt><span>long_name :</span></dt><dd>calibrated_radar_receiver_noise_v_co_polar_channel</dd><dt><span>units :</span></dt><dd>dBm</dd><dt><span>meta_group :</span></dt><dd>radar_calibration</dd></dl></div><div class='xr-var-data'><pre>[1 values with dtype=float32]</pre></div></li><li class='xr-var-item'><div class='xr-var-name'><span>r_calib_noise_hx</span></div><div class='xr-var-dims'>(r_calib)</div><div class='xr-var-dtype'>float32</div><div class='xr-var-preview xr-preview'>...</div><input id='attrs-e3e89cb2-cac3-45f5-94cb-90f832d40739' class='xr-var-attrs-in' type='checkbox' ><label for='attrs-e3e89cb2-cac3-45f5-94cb-90f832d40739' title='Show/Hide attributes'><svg class='icon xr-icon-file-text2'><use xlink:href='#icon-file-text2'></use></svg></label><input id='data-79f140c3-2c33-4a4b-9ae4-1355dff42b07' class='xr-var-data-in' type='checkbox'><label for='data-79f140c3-2c33-4a4b-9ae4-1355dff42b07' title='Show/Hide data repr'><svg class='icon xr-icon-database'><use xlink:href='#icon-database'></use></svg></label><div class='xr-var-attrs'><dl class='xr-attrs'><dt><span>long_name :</span></dt><dd>calibrated_radar_receiver_noise_h_cross_polar_channel</dd><dt><span>units :</span></dt><dd>dBm</dd><dt><span>meta_group :</span></dt><dd>radar_calibration</dd></dl></div><div class='xr-var-data'><pre>[1 values with dtype=float32]</pre></div></li><li class='xr-var-item'><div class='xr-var-name'><span>r_calib_noise_vx</span></div><div class='xr-var-dims'>(r_calib)</div><div class='xr-var-dtype'>float32</div><div class='xr-var-preview xr-preview'>...</div><input id='attrs-efc0b8ea-529d-4885-b08d-a3757f10cb6c' class='xr-var-attrs-in' type='checkbox' ><label for='attrs-efc0b8ea-529d-4885-b08d-a3757f10cb6c' title='Show/Hide attributes'><svg class='icon xr-icon-file-text2'><use xlink:href='#icon-file-text2'></use></svg></label><input id='data-84941877-74d1-4335-9921-407def50e638' class='xr-var-data-in' type='checkbox'><label for='data-84941877-74d1-4335-9921-407def50e638' title='Show/Hide data repr'><svg class='icon xr-icon-database'><use xlink:href='#icon-database'></use></svg></label><div class='xr-var-attrs'><dl class='xr-attrs'><dt><span>long_name :</span></dt><dd>calibrated_radar_receiver_noise_v_cross_polar_channel</dd><dt><span>units :</span></dt><dd>dBm</dd><dt><span>meta_group :</span></dt><dd>radar_calibration</dd></dl></div><div class='xr-var-data'><pre>[1 values with dtype=float32]</pre></div></li><li class='xr-var-item'><div class='xr-var-name'><span>r_calib_i0_dbm_hc</span></div><div class='xr-var-dims'>(r_calib)</div><div class='xr-var-dtype'>float32</div><div class='xr-var-preview xr-preview'>...</div><input id='attrs-cb4b4a9a-5a23-4792-9a31-36b98c544e85' class='xr-var-attrs-in' type='checkbox' ><label for='attrs-cb4b4a9a-5a23-4792-9a31-36b98c544e85' title='Show/Hide attributes'><svg class='icon xr-icon-file-text2'><use xlink:href='#icon-file-text2'></use></svg></label><input id='data-e805a7b9-7172-4ccf-a38f-00dc46f2055e' class='xr-var-data-in' type='checkbox'><label for='data-e805a7b9-7172-4ccf-a38f-00dc46f2055e' title='Show/Hide data repr'><svg class='icon xr-icon-database'><use xlink:href='#icon-database'></use></svg></label><div class='xr-var-attrs'><dl class='xr-attrs'><dt><span>long_name :</span></dt><dd>r_calib_i0_dbm_hc</dd><dt><span>units :</span></dt><dd>dBm</dd><dt><span>meta_group :</span></dt><dd>radar_calibration</dd></dl></div><div class='xr-var-data'><pre>[1 values with dtype=float32]</pre></div></li><li class='xr-var-item'><div class='xr-var-name'><span>r_calib_i0_dbm_vc</span></div><div class='xr-var-dims'>(r_calib)</div><div class='xr-var-dtype'>float32</div><div class='xr-var-preview xr-preview'>...</div><input id='attrs-5d56deef-ae0b-4a24-98cd-2b2803a8d939' class='xr-var-attrs-in' type='checkbox' ><label for='attrs-5d56deef-ae0b-4a24-98cd-2b2803a8d939' title='Show/Hide attributes'><svg class='icon xr-icon-file-text2'><use xlink:href='#icon-file-text2'></use></svg></label><input id='data-abc62328-a40d-410c-83cd-2bbc13d538cb' class='xr-var-data-in' type='checkbox'><label for='data-abc62328-a40d-410c-83cd-2bbc13d538cb' title='Show/Hide data repr'><svg class='icon xr-icon-database'><use xlink:href='#icon-database'></use></svg></label><div class='xr-var-attrs'><dl class='xr-attrs'><dt><span>long_name :</span></dt><dd>r_calib_i0_dbm_vc</dd><dt><span>units :</span></dt><dd>dBm</dd><dt><span>meta_group :</span></dt><dd>radar_calibration</dd></dl></div><div class='xr-var-data'><pre>[1 values with dtype=float32]</pre></div></li><li class='xr-var-item'><div class='xr-var-name'><span>r_calib_i0_dbm_hx</span></div><div class='xr-var-dims'>(r_calib)</div><div class='xr-var-dtype'>float32</div><div class='xr-var-preview xr-preview'>...</div><input id='attrs-5e608859-201e-4f65-aa51-3797ab69ed5d' class='xr-var-attrs-in' type='checkbox' ><label for='attrs-5e608859-201e-4f65-aa51-3797ab69ed5d' title='Show/Hide attributes'><svg class='icon xr-icon-file-text2'><use xlink:href='#icon-file-text2'></use></svg></label><input id='data-01b21396-8f1d-40dc-bfcf-63ffcb8aefff' class='xr-var-data-in' type='checkbox'><label for='data-01b21396-8f1d-40dc-bfcf-63ffcb8aefff' title='Show/Hide data repr'><svg class='icon xr-icon-database'><use xlink:href='#icon-database'></use></svg></label><div class='xr-var-attrs'><dl class='xr-attrs'><dt><span>long_name :</span></dt><dd>r_calib_i0_dbm_hx</dd><dt><span>units :</span></dt><dd>dBm</dd><dt><span>meta_group :</span></dt><dd>radar_calibration</dd></dl></div><div class='xr-var-data'><pre>[1 values with dtype=float32]</pre></div></li><li class='xr-var-item'><div class='xr-var-name'><span>r_calib_i0_dbm_vx</span></div><div class='xr-var-dims'>(r_calib)</div><div class='xr-var-dtype'>float32</div><div class='xr-var-preview xr-preview'>...</div><input id='attrs-89f615a7-d1f4-4ee4-a571-ef742d84f257' class='xr-var-attrs-in' type='checkbox' ><label for='attrs-89f615a7-d1f4-4ee4-a571-ef742d84f257' title='Show/Hide attributes'><svg class='icon xr-icon-file-text2'><use xlink:href='#icon-file-text2'></use></svg></label><input id='data-5af5e27a-96d7-42c3-b873-16307b7975cd' class='xr-var-data-in' type='checkbox'><label for='data-5af5e27a-96d7-42c3-b873-16307b7975cd' title='Show/Hide data repr'><svg class='icon xr-icon-database'><use xlink:href='#icon-database'></use></svg></label><div class='xr-var-attrs'><dl class='xr-attrs'><dt><span>long_name :</span></dt><dd>r_calib_i0_dbm_vx</dd><dt><span>units :</span></dt><dd>dBm</dd><dt><span>meta_group :</span></dt><dd>radar_calibration</dd></dl></div><div class='xr-var-data'><pre>[1 values with dtype=float32]</pre></div></li><li class='xr-var-item'><div class='xr-var-name'><span>r_calib_receiver_gain_hc</span></div><div class='xr-var-dims'>(r_calib)</div><div class='xr-var-dtype'>float32</div><div class='xr-var-preview xr-preview'>...</div><input id='attrs-839fd91c-308f-41a0-ab08-979d22ecea1a' class='xr-var-attrs-in' type='checkbox' ><label for='attrs-839fd91c-308f-41a0-ab08-979d22ecea1a' title='Show/Hide attributes'><svg class='icon xr-icon-file-text2'><use xlink:href='#icon-file-text2'></use></svg></label><input id='data-36cbe937-d543-46bd-a8ea-4c3362cc1132' class='xr-var-data-in' type='checkbox'><label for='data-36cbe937-d543-46bd-a8ea-4c3362cc1132' title='Show/Hide data repr'><svg class='icon xr-icon-database'><use xlink:href='#icon-database'></use></svg></label><div class='xr-var-attrs'><dl class='xr-attrs'><dt><span>long_name :</span></dt><dd>calibrated_radar_receiver_gain_h_co_polar_channel</dd><dt><span>units :</span></dt><dd>db</dd><dt><span>meta_group :</span></dt><dd>radar_calibration</dd></dl></div><div class='xr-var-data'><pre>[1 values with dtype=float32]</pre></div></li><li class='xr-var-item'><div class='xr-var-name'><span>r_calib_receiver_gain_vc</span></div><div class='xr-var-dims'>(r_calib)</div><div class='xr-var-dtype'>float32</div><div class='xr-var-preview xr-preview'>...</div><input id='attrs-0fab87f4-1d68-44c6-88ac-0abc06942929' class='xr-var-attrs-in' type='checkbox' ><label for='attrs-0fab87f4-1d68-44c6-88ac-0abc06942929' title='Show/Hide attributes'><svg class='icon xr-icon-file-text2'><use xlink:href='#icon-file-text2'></use></svg></label><input id='data-364cae8b-2b8a-4fd9-a35b-cffb7d6dff5d' class='xr-var-data-in' type='checkbox'><label for='data-364cae8b-2b8a-4fd9-a35b-cffb7d6dff5d' title='Show/Hide data repr'><svg class='icon xr-icon-database'><use xlink:href='#icon-database'></use></svg></label><div class='xr-var-attrs'><dl class='xr-attrs'><dt><span>long_name :</span></dt><dd>calibrated_radar_receiver_gain_v_co_polar_channel</dd><dt><span>units :</span></dt><dd>db</dd><dt><span>meta_group :</span></dt><dd>radar_calibration</dd></dl></div><div class='xr-var-data'><pre>[1 values with dtype=float32]</pre></div></li><li class='xr-var-item'><div class='xr-var-name'><span>r_calib_receiver_gain_hx</span></div><div class='xr-var-dims'>(r_calib)</div><div class='xr-var-dtype'>float32</div><div class='xr-var-preview xr-preview'>...</div><input id='attrs-60cf9ecb-3d51-4b2c-865d-89d38dc70465' class='xr-var-attrs-in' type='checkbox' ><label for='attrs-60cf9ecb-3d51-4b2c-865d-89d38dc70465' title='Show/Hide attributes'><svg class='icon xr-icon-file-text2'><use xlink:href='#icon-file-text2'></use></svg></label><input id='data-7cf3d895-cfde-46f0-901c-622bbfe8eb4c' class='xr-var-data-in' type='checkbox'><label for='data-7cf3d895-cfde-46f0-901c-622bbfe8eb4c' title='Show/Hide data repr'><svg class='icon xr-icon-database'><use xlink:href='#icon-database'></use></svg></label><div class='xr-var-attrs'><dl class='xr-attrs'><dt><span>long_name :</span></dt><dd>calibrated_radar_receiver_gain_h_cross_polar_channel</dd><dt><span>units :</span></dt><dd>db</dd><dt><span>meta_group :</span></dt><dd>radar_calibration</dd></dl></div><div class='xr-var-data'><pre>[1 values with dtype=float32]</pre></div></li><li class='xr-var-item'><div class='xr-var-name'><span>r_calib_receiver_gain_vx</span></div><div class='xr-var-dims'>(r_calib)</div><div class='xr-var-dtype'>float32</div><div class='xr-var-preview xr-preview'>...</div><input id='attrs-2111fcdb-2ec0-48a0-a2e7-92927cfe6496' class='xr-var-attrs-in' type='checkbox' ><label for='attrs-2111fcdb-2ec0-48a0-a2e7-92927cfe6496' title='Show/Hide attributes'><svg class='icon xr-icon-file-text2'><use xlink:href='#icon-file-text2'></use></svg></label><input id='data-692483d6-421e-46e3-a578-22cc34a8377e' class='xr-var-data-in' type='checkbox'><label for='data-692483d6-421e-46e3-a578-22cc34a8377e' title='Show/Hide data repr'><svg class='icon xr-icon-database'><use xlink:href='#icon-database'></use></svg></label><div class='xr-var-attrs'><dl class='xr-attrs'><dt><span>long_name :</span></dt><dd>calibrated_radar_receiver_gain_v_cross_polar_channel</dd><dt><span>units :</span></dt><dd>db</dd><dt><span>meta_group :</span></dt><dd>radar_calibration</dd></dl></div><div class='xr-var-data'><pre>[1 values with dtype=float32]</pre></div></li><li class='xr-var-item'><div class='xr-var-name'><span>r_calib_receiver_slope_hc</span></div><div class='xr-var-dims'>(r_calib)</div><div class='xr-var-dtype'>float32</div><div class='xr-var-preview xr-preview'>...</div><input id='attrs-4d7c1284-1e60-4a5e-b74d-dca895bc560c' class='xr-var-attrs-in' type='checkbox' ><label for='attrs-4d7c1284-1e60-4a5e-b74d-dca895bc560c' title='Show/Hide attributes'><svg class='icon xr-icon-file-text2'><use xlink:href='#icon-file-text2'></use></svg></label><input id='data-273688b3-f12b-4669-ac16-e15a95f7706b' class='xr-var-data-in' type='checkbox'><label for='data-273688b3-f12b-4669-ac16-e15a95f7706b' title='Show/Hide data repr'><svg class='icon xr-icon-database'><use xlink:href='#icon-database'></use></svg></label><div class='xr-var-attrs'><dl class='xr-attrs'><dt><span>long_name :</span></dt><dd>calibrated_radar_receiver_slope_h_co_polar_channel</dd><dt><span>units :</span></dt><dd></dd><dt><span>meta_group :</span></dt><dd>radar_calibration</dd></dl></div><div class='xr-var-data'><pre>[1 values with dtype=float32]</pre></div></li><li class='xr-var-item'><div class='xr-var-name'><span>r_calib_receiver_slope_vc</span></div><div class='xr-var-dims'>(r_calib)</div><div class='xr-var-dtype'>float32</div><div class='xr-var-preview xr-preview'>...</div><input id='attrs-8dbdc34f-c7a9-4035-9174-0016549e2535' class='xr-var-attrs-in' type='checkbox' ><label for='attrs-8dbdc34f-c7a9-4035-9174-0016549e2535' title='Show/Hide attributes'><svg class='icon xr-icon-file-text2'><use xlink:href='#icon-file-text2'></use></svg></label><input id='data-ae00273e-e621-44ab-9a80-255f10677d82' class='xr-var-data-in' type='checkbox'><label for='data-ae00273e-e621-44ab-9a80-255f10677d82' title='Show/Hide data repr'><svg class='icon xr-icon-database'><use xlink:href='#icon-database'></use></svg></label><div class='xr-var-attrs'><dl class='xr-attrs'><dt><span>long_name :</span></dt><dd>calibrated_radar_receiver_slope_v_co_polar_channel</dd><dt><span>units :</span></dt><dd></dd><dt><span>meta_group :</span></dt><dd>radar_calibration</dd></dl></div><div class='xr-var-data'><pre>[1 values with dtype=float32]</pre></div></li><li class='xr-var-item'><div class='xr-var-name'><span>r_calib_receiver_slope_hx</span></div><div class='xr-var-dims'>(r_calib)</div><div class='xr-var-dtype'>float32</div><div class='xr-var-preview xr-preview'>...</div><input id='attrs-74c958d6-2166-456e-904c-3f76aa41ab33' class='xr-var-attrs-in' type='checkbox' ><label for='attrs-74c958d6-2166-456e-904c-3f76aa41ab33' title='Show/Hide attributes'><svg class='icon xr-icon-file-text2'><use xlink:href='#icon-file-text2'></use></svg></label><input id='data-47eb13c5-e5a9-47aa-9410-ab9ea11fa78d' class='xr-var-data-in' type='checkbox'><label for='data-47eb13c5-e5a9-47aa-9410-ab9ea11fa78d' title='Show/Hide data repr'><svg class='icon xr-icon-database'><use xlink:href='#icon-database'></use></svg></label><div class='xr-var-attrs'><dl class='xr-attrs'><dt><span>long_name :</span></dt><dd>calibrated_radar_receiver_slope_h_cross_polar_channel</dd><dt><span>units :</span></dt><dd></dd><dt><span>meta_group :</span></dt><dd>radar_calibration</dd></dl></div><div class='xr-var-data'><pre>[1 values with dtype=float32]</pre></div></li><li class='xr-var-item'><div class='xr-var-name'><span>r_calib_receiver_slope_vx</span></div><div class='xr-var-dims'>(r_calib)</div><div class='xr-var-dtype'>float32</div><div class='xr-var-preview xr-preview'>...</div><input id='attrs-9ad39258-a411-43ac-9a0b-d7b162ae65d1' class='xr-var-attrs-in' type='checkbox' ><label for='attrs-9ad39258-a411-43ac-9a0b-d7b162ae65d1' title='Show/Hide attributes'><svg class='icon xr-icon-file-text2'><use xlink:href='#icon-file-text2'></use></svg></label><input id='data-1ec4dcd5-ae0b-4d04-84db-8c1c3748087e' class='xr-var-data-in' type='checkbox'><label for='data-1ec4dcd5-ae0b-4d04-84db-8c1c3748087e' title='Show/Hide data repr'><svg class='icon xr-icon-database'><use xlink:href='#icon-database'></use></svg></label><div class='xr-var-attrs'><dl class='xr-attrs'><dt><span>long_name :</span></dt><dd>calibrated_radar_receiver_slope_v_cross_polar_channel</dd><dt><span>units :</span></dt><dd></dd><dt><span>meta_group :</span></dt><dd>radar_calibration</dd></dl></div><div class='xr-var-data'><pre>[1 values with dtype=float32]</pre></div></li><li class='xr-var-item'><div class='xr-var-name'><span>r_calib_dynamic_range_db_hc</span></div><div class='xr-var-dims'>(r_calib)</div><div class='xr-var-dtype'>float32</div><div class='xr-var-preview xr-preview'>...</div><input id='attrs-c4c0db35-c3fc-418d-9b36-08a738ccce7a' class='xr-var-attrs-in' type='checkbox' ><label for='attrs-c4c0db35-c3fc-418d-9b36-08a738ccce7a' title='Show/Hide attributes'><svg class='icon xr-icon-file-text2'><use xlink:href='#icon-file-text2'></use></svg></label><input id='data-82980e68-27f8-4122-8281-aef65d84626a' class='xr-var-data-in' type='checkbox'><label for='data-82980e68-27f8-4122-8281-aef65d84626a' title='Show/Hide data repr'><svg class='icon xr-icon-database'><use xlink:href='#icon-database'></use></svg></label><div class='xr-var-attrs'><dl class='xr-attrs'><dt><span>long_name :</span></dt><dd>r_calib_dynamic_range_db_hc</dd><dt><span>units :</span></dt><dd>db</dd><dt><span>meta_group :</span></dt><dd>radar_calibration</dd></dl></div><div class='xr-var-data'><pre>[1 values with dtype=float32]</pre></div></li><li class='xr-var-item'><div class='xr-var-name'><span>r_calib_dynamic_range_db_vc</span></div><div class='xr-var-dims'>(r_calib)</div><div class='xr-var-dtype'>float32</div><div class='xr-var-preview xr-preview'>...</div><input id='attrs-3c48bb89-5522-4465-ad5b-1b89225aa722' class='xr-var-attrs-in' type='checkbox' ><label for='attrs-3c48bb89-5522-4465-ad5b-1b89225aa722' title='Show/Hide attributes'><svg class='icon xr-icon-file-text2'><use xlink:href='#icon-file-text2'></use></svg></label><input id='data-4f754f42-fce7-4c00-81c3-c5553437e5f2' class='xr-var-data-in' type='checkbox'><label for='data-4f754f42-fce7-4c00-81c3-c5553437e5f2' title='Show/Hide data repr'><svg class='icon xr-icon-database'><use xlink:href='#icon-database'></use></svg></label><div class='xr-var-attrs'><dl class='xr-attrs'><dt><span>long_name :</span></dt><dd>r_calib_dynamic_range_db_vc</dd><dt><span>units :</span></dt><dd>db</dd><dt><span>meta_group :</span></dt><dd>radar_calibration</dd></dl></div><div class='xr-var-data'><pre>[1 values with dtype=float32]</pre></div></li><li class='xr-var-item'><div class='xr-var-name'><span>r_calib_dynamic_range_db_hx</span></div><div class='xr-var-dims'>(r_calib)</div><div class='xr-var-dtype'>float32</div><div class='xr-var-preview xr-preview'>...</div><input id='attrs-e44ce3e4-3076-4dc5-b3a2-da250352ecb9' class='xr-var-attrs-in' type='checkbox' ><label for='attrs-e44ce3e4-3076-4dc5-b3a2-da250352ecb9' title='Show/Hide attributes'><svg class='icon xr-icon-file-text2'><use xlink:href='#icon-file-text2'></use></svg></label><input id='data-59234e43-a092-4200-9822-2992daa35225' class='xr-var-data-in' type='checkbox'><label for='data-59234e43-a092-4200-9822-2992daa35225' title='Show/Hide data repr'><svg class='icon xr-icon-database'><use xlink:href='#icon-database'></use></svg></label><div class='xr-var-attrs'><dl class='xr-attrs'><dt><span>long_name :</span></dt><dd>r_calib_dynamic_range_db_hx</dd><dt><span>units :</span></dt><dd>db</dd><dt><span>meta_group :</span></dt><dd>radar_calibration</dd></dl></div><div class='xr-var-data'><pre>[1 values with dtype=float32]</pre></div></li><li class='xr-var-item'><div class='xr-var-name'><span>r_calib_dynamic_range_db_vx</span></div><div class='xr-var-dims'>(r_calib)</div><div class='xr-var-dtype'>float32</div><div class='xr-var-preview xr-preview'>...</div><input id='attrs-d8b2ffdf-b19b-4f71-bbdc-857389b460bb' class='xr-var-attrs-in' type='checkbox' ><label for='attrs-d8b2ffdf-b19b-4f71-bbdc-857389b460bb' title='Show/Hide attributes'><svg class='icon xr-icon-file-text2'><use xlink:href='#icon-file-text2'></use></svg></label><input id='data-a5ecd5cb-c411-41a5-900f-e4bbd7c9198b' class='xr-var-data-in' type='checkbox'><label for='data-a5ecd5cb-c411-41a5-900f-e4bbd7c9198b' title='Show/Hide data repr'><svg class='icon xr-icon-database'><use xlink:href='#icon-database'></use></svg></label><div class='xr-var-attrs'><dl class='xr-attrs'><dt><span>long_name :</span></dt><dd>r_calib_dynamic_range_db_vx</dd><dt><span>units :</span></dt><dd>db</dd><dt><span>meta_group :</span></dt><dd>radar_calibration</dd></dl></div><div class='xr-var-data'><pre>[1 values with dtype=float32]</pre></div></li><li class='xr-var-item'><div class='xr-var-name'><span>r_calib_base_dbz_1km_hc</span></div><div class='xr-var-dims'>(r_calib)</div><div class='xr-var-dtype'>float32</div><div class='xr-var-preview xr-preview'>...</div><input id='attrs-c97f06f2-67a1-4729-95d0-c18c46a1f259' class='xr-var-attrs-in' type='checkbox' ><label for='attrs-c97f06f2-67a1-4729-95d0-c18c46a1f259' title='Show/Hide attributes'><svg class='icon xr-icon-file-text2'><use xlink:href='#icon-file-text2'></use></svg></label><input id='data-661fa80f-5d04-442b-b0ce-9e92c56369b3' class='xr-var-data-in' type='checkbox'><label for='data-661fa80f-5d04-442b-b0ce-9e92c56369b3' title='Show/Hide data repr'><svg class='icon xr-icon-database'><use xlink:href='#icon-database'></use></svg></label><div class='xr-var-attrs'><dl class='xr-attrs'><dt><span>long_name :</span></dt><dd>radar_reflectivity_at_1km_at_zero_snr_h_co_polar_channel</dd><dt><span>units :</span></dt><dd>dBZ</dd><dt><span>meta_group :</span></dt><dd>radar_calibration</dd></dl></div><div class='xr-var-data'><pre>[1 values with dtype=float32]</pre></div></li><li class='xr-var-item'><div class='xr-var-name'><span>r_calib_base_dbz_1km_vc</span></div><div class='xr-var-dims'>(r_calib)</div><div class='xr-var-dtype'>float32</div><div class='xr-var-preview xr-preview'>...</div><input id='attrs-7a29a757-de4c-47c3-838f-9ff1808f3bae' class='xr-var-attrs-in' type='checkbox' ><label for='attrs-7a29a757-de4c-47c3-838f-9ff1808f3bae' title='Show/Hide attributes'><svg class='icon xr-icon-file-text2'><use xlink:href='#icon-file-text2'></use></svg></label><input id='data-f21f3957-7dee-4894-8a7a-7b9d67abaefa' class='xr-var-data-in' type='checkbox'><label for='data-f21f3957-7dee-4894-8a7a-7b9d67abaefa' title='Show/Hide data repr'><svg class='icon xr-icon-database'><use xlink:href='#icon-database'></use></svg></label><div class='xr-var-attrs'><dl class='xr-attrs'><dt><span>long_name :</span></dt><dd>radar_reflectivity_at_1km_at_zero_snr_v_co_polar_channel</dd><dt><span>units :</span></dt><dd>dBZ</dd><dt><span>meta_group :</span></dt><dd>radar_calibration</dd></dl></div><div class='xr-var-data'><pre>[1 values with dtype=float32]</pre></div></li><li class='xr-var-item'><div class='xr-var-name'><span>r_calib_base_dbz_1km_hx</span></div><div class='xr-var-dims'>(r_calib)</div><div class='xr-var-dtype'>float32</div><div class='xr-var-preview xr-preview'>...</div><input id='attrs-5a859fb4-2228-4682-8a24-333be26b7bb7' class='xr-var-attrs-in' type='checkbox' ><label for='attrs-5a859fb4-2228-4682-8a24-333be26b7bb7' title='Show/Hide attributes'><svg class='icon xr-icon-file-text2'><use xlink:href='#icon-file-text2'></use></svg></label><input id='data-bd94e0a7-5ff8-44e8-b697-6493f85baba3' class='xr-var-data-in' type='checkbox'><label for='data-bd94e0a7-5ff8-44e8-b697-6493f85baba3' title='Show/Hide data repr'><svg class='icon xr-icon-database'><use xlink:href='#icon-database'></use></svg></label><div class='xr-var-attrs'><dl class='xr-attrs'><dt><span>long_name :</span></dt><dd>radar_reflectivity_at_1km_at_zero_snr_h_cross_polar_channel</dd><dt><span>units :</span></dt><dd>dBZ</dd><dt><span>meta_group :</span></dt><dd>radar_calibration</dd></dl></div><div class='xr-var-data'><pre>[1 values with dtype=float32]</pre></div></li><li class='xr-var-item'><div class='xr-var-name'><span>r_calib_base_dbz_1km_vx</span></div><div class='xr-var-dims'>(r_calib)</div><div class='xr-var-dtype'>float32</div><div class='xr-var-preview xr-preview'>...</div><input id='attrs-88bd77d5-f5c7-44ee-86b9-43133e2c15fe' class='xr-var-attrs-in' type='checkbox' ><label for='attrs-88bd77d5-f5c7-44ee-86b9-43133e2c15fe' title='Show/Hide attributes'><svg class='icon xr-icon-file-text2'><use xlink:href='#icon-file-text2'></use></svg></label><input id='data-3073b3ec-2d90-4aa2-9dd2-235db60b732d' class='xr-var-data-in' type='checkbox'><label for='data-3073b3ec-2d90-4aa2-9dd2-235db60b732d' title='Show/Hide data repr'><svg class='icon xr-icon-database'><use xlink:href='#icon-database'></use></svg></label><div class='xr-var-attrs'><dl class='xr-attrs'><dt><span>long_name :</span></dt><dd>radar_reflectivity_at_1km_at_zero_snr_v_cross_polar_channel</dd><dt><span>units :</span></dt><dd>dBZ</dd><dt><span>meta_group :</span></dt><dd>radar_calibration</dd></dl></div><div class='xr-var-data'><pre>[1 values with dtype=float32]</pre></div></li><li class='xr-var-item'><div class='xr-var-name'><span>r_calib_sun_power_hc</span></div><div class='xr-var-dims'>(r_calib)</div><div class='xr-var-dtype'>float32</div><div class='xr-var-preview xr-preview'>...</div><input id='attrs-b72ccbb0-cfdb-4c37-b4c8-f4cec3a9a0e6' class='xr-var-attrs-in' type='checkbox' ><label for='attrs-b72ccbb0-cfdb-4c37-b4c8-f4cec3a9a0e6' title='Show/Hide attributes'><svg class='icon xr-icon-file-text2'><use xlink:href='#icon-file-text2'></use></svg></label><input id='data-5bc2a02b-e848-4048-9994-58822cd6e994' class='xr-var-data-in' type='checkbox'><label for='data-5bc2a02b-e848-4048-9994-58822cd6e994' title='Show/Hide data repr'><svg class='icon xr-icon-database'><use xlink:href='#icon-database'></use></svg></label><div class='xr-var-attrs'><dl class='xr-attrs'><dt><span>long_name :</span></dt><dd>calibrated_radar_sun_power_h_co_polar_channel</dd><dt><span>units :</span></dt><dd>dBm</dd><dt><span>meta_group :</span></dt><dd>radar_calibration</dd></dl></div><div class='xr-var-data'><pre>[1 values with dtype=float32]</pre></div></li><li class='xr-var-item'><div class='xr-var-name'><span>r_calib_sun_power_vc</span></div><div class='xr-var-dims'>(r_calib)</div><div class='xr-var-dtype'>float32</div><div class='xr-var-preview xr-preview'>...</div><input id='attrs-526207ba-7444-49e2-ba63-e2e867a37714' class='xr-var-attrs-in' type='checkbox' ><label for='attrs-526207ba-7444-49e2-ba63-e2e867a37714' title='Show/Hide attributes'><svg class='icon xr-icon-file-text2'><use xlink:href='#icon-file-text2'></use></svg></label><input id='data-78be6ef2-d1ff-484a-a60a-d1754c537196' class='xr-var-data-in' type='checkbox'><label for='data-78be6ef2-d1ff-484a-a60a-d1754c537196' title='Show/Hide data repr'><svg class='icon xr-icon-database'><use xlink:href='#icon-database'></use></svg></label><div class='xr-var-attrs'><dl class='xr-attrs'><dt><span>long_name :</span></dt><dd>calibrated_radar_sun_power_v_co_polar_channel</dd><dt><span>units :</span></dt><dd>dBm</dd><dt><span>meta_group :</span></dt><dd>radar_calibration</dd></dl></div><div class='xr-var-data'><pre>[1 values with dtype=float32]</pre></div></li><li class='xr-var-item'><div class='xr-var-name'><span>r_calib_sun_power_hx</span></div><div class='xr-var-dims'>(r_calib)</div><div class='xr-var-dtype'>float32</div><div class='xr-var-preview xr-preview'>...</div><input id='attrs-ec4c9a63-2e0e-4d90-a08d-4c124d4c031f' class='xr-var-attrs-in' type='checkbox' ><label for='attrs-ec4c9a63-2e0e-4d90-a08d-4c124d4c031f' title='Show/Hide attributes'><svg class='icon xr-icon-file-text2'><use xlink:href='#icon-file-text2'></use></svg></label><input id='data-d60c897c-95d9-46d0-ad63-e9bd6ef5659d' class='xr-var-data-in' type='checkbox'><label for='data-d60c897c-95d9-46d0-ad63-e9bd6ef5659d' title='Show/Hide data repr'><svg class='icon xr-icon-database'><use xlink:href='#icon-database'></use></svg></label><div class='xr-var-attrs'><dl class='xr-attrs'><dt><span>long_name :</span></dt><dd>calibrated_radar_sun_power_h_cross_polar_channel</dd><dt><span>units :</span></dt><dd>dBm</dd><dt><span>meta_group :</span></dt><dd>radar_calibration</dd></dl></div><div class='xr-var-data'><pre>[1 values with dtype=float32]</pre></div></li><li class='xr-var-item'><div class='xr-var-name'><span>r_calib_sun_power_vx</span></div><div class='xr-var-dims'>(r_calib)</div><div class='xr-var-dtype'>float32</div><div class='xr-var-preview xr-preview'>...</div><input id='attrs-fff451a7-e1a5-4af0-8571-20a75c6518e1' class='xr-var-attrs-in' type='checkbox' ><label for='attrs-fff451a7-e1a5-4af0-8571-20a75c6518e1' title='Show/Hide attributes'><svg class='icon xr-icon-file-text2'><use xlink:href='#icon-file-text2'></use></svg></label><input id='data-9eb7c95e-1e9d-4452-b59d-884f54664d91' class='xr-var-data-in' type='checkbox'><label for='data-9eb7c95e-1e9d-4452-b59d-884f54664d91' title='Show/Hide data repr'><svg class='icon xr-icon-database'><use xlink:href='#icon-database'></use></svg></label><div class='xr-var-attrs'><dl class='xr-attrs'><dt><span>long_name :</span></dt><dd>calibrated_radar_sun_power_v_cross_polar_channel</dd><dt><span>units :</span></dt><dd>dBm</dd><dt><span>meta_group :</span></dt><dd>radar_calibration</dd></dl></div><div class='xr-var-data'><pre>[1 values with dtype=float32]</pre></div></li><li class='xr-var-item'><div class='xr-var-name'><span>r_calib_noise_source_power_h</span></div><div class='xr-var-dims'>(r_calib)</div><div class='xr-var-dtype'>float32</div><div class='xr-var-preview xr-preview'>...</div><input id='attrs-db0b2ebd-5e6b-4006-bcc5-20e4f3081a7b' class='xr-var-attrs-in' type='checkbox' ><label for='attrs-db0b2ebd-5e6b-4006-bcc5-20e4f3081a7b' title='Show/Hide attributes'><svg class='icon xr-icon-file-text2'><use xlink:href='#icon-file-text2'></use></svg></label><input id='data-4955897d-4f7d-4b6b-8c64-389e81a75b13' class='xr-var-data-in' type='checkbox'><label for='data-4955897d-4f7d-4b6b-8c64-389e81a75b13' title='Show/Hide data repr'><svg class='icon xr-icon-database'><use xlink:href='#icon-database'></use></svg></label><div class='xr-var-attrs'><dl class='xr-attrs'><dt><span>long_name :</span></dt><dd>radar_calibration_noise_source_power_h_channel</dd><dt><span>units :</span></dt><dd>dBm</dd><dt><span>meta_group :</span></dt><dd>radar_calibration</dd></dl></div><div class='xr-var-data'><pre>[1 values with dtype=float32]</pre></div></li><li class='xr-var-item'><div class='xr-var-name'><span>r_calib_noise_source_power_v</span></div><div class='xr-var-dims'>(r_calib)</div><div class='xr-var-dtype'>float32</div><div class='xr-var-preview xr-preview'>...</div><input id='attrs-5ad2f704-dcc9-4366-9780-adbd02f9692d' class='xr-var-attrs-in' type='checkbox' ><label for='attrs-5ad2f704-dcc9-4366-9780-adbd02f9692d' title='Show/Hide attributes'><svg class='icon xr-icon-file-text2'><use xlink:href='#icon-file-text2'></use></svg></label><input id='data-db7a3e2a-7201-4719-afdd-75f430697f01' class='xr-var-data-in' type='checkbox'><label for='data-db7a3e2a-7201-4719-afdd-75f430697f01' title='Show/Hide data repr'><svg class='icon xr-icon-database'><use xlink:href='#icon-database'></use></svg></label><div class='xr-var-attrs'><dl class='xr-attrs'><dt><span>long_name :</span></dt><dd>radar_calibration_noise_source_power_v_channel</dd><dt><span>units :</span></dt><dd>dBm</dd><dt><span>meta_group :</span></dt><dd>radar_calibration</dd></dl></div><div class='xr-var-data'><pre>[1 values with dtype=float32]</pre></div></li><li class='xr-var-item'><div class='xr-var-name'><span>r_calib_power_measure_loss_h</span></div><div class='xr-var-dims'>(r_calib)</div><div class='xr-var-dtype'>float32</div><div class='xr-var-preview xr-preview'>...</div><input id='attrs-1de8c042-bfd0-4023-9474-0599b48dc203' class='xr-var-attrs-in' type='checkbox' ><label for='attrs-1de8c042-bfd0-4023-9474-0599b48dc203' title='Show/Hide attributes'><svg class='icon xr-icon-file-text2'><use xlink:href='#icon-file-text2'></use></svg></label><input id='data-41f17bef-3201-4efd-b5d4-c62ee901c2c5' class='xr-var-data-in' type='checkbox'><label for='data-41f17bef-3201-4efd-b5d4-c62ee901c2c5' title='Show/Hide data repr'><svg class='icon xr-icon-database'><use xlink:href='#icon-database'></use></svg></label><div class='xr-var-attrs'><dl class='xr-attrs'><dt><span>long_name :</span></dt><dd>radar_calibration_power_measurement_loss_h_channel</dd><dt><span>units :</span></dt><dd>db</dd><dt><span>meta_group :</span></dt><dd>radar_calibration</dd></dl></div><div class='xr-var-data'><pre>[1 values with dtype=float32]</pre></div></li><li class='xr-var-item'><div class='xr-var-name'><span>r_calib_power_measure_loss_v</span></div><div class='xr-var-dims'>(r_calib)</div><div class='xr-var-dtype'>float32</div><div class='xr-var-preview xr-preview'>...</div><input id='attrs-9fff4a9a-d208-406e-8eef-e4e595321182' class='xr-var-attrs-in' type='checkbox' ><label for='attrs-9fff4a9a-d208-406e-8eef-e4e595321182' title='Show/Hide attributes'><svg class='icon xr-icon-file-text2'><use xlink:href='#icon-file-text2'></use></svg></label><input id='data-1066fa72-1db0-42aa-aa98-a6d9e9d8cae5' class='xr-var-data-in' type='checkbox'><label for='data-1066fa72-1db0-42aa-aa98-a6d9e9d8cae5' title='Show/Hide data repr'><svg class='icon xr-icon-database'><use xlink:href='#icon-database'></use></svg></label><div class='xr-var-attrs'><dl class='xr-attrs'><dt><span>long_name :</span></dt><dd>radar_calibration_power_measurement_loss_v_channel</dd><dt><span>units :</span></dt><dd>db</dd><dt><span>meta_group :</span></dt><dd>radar_calibration</dd></dl></div><div class='xr-var-data'><pre>[1 values with dtype=float32]</pre></div></li><li class='xr-var-item'><div class='xr-var-name'><span>r_calib_coupler_forward_loss_h</span></div><div class='xr-var-dims'>(r_calib)</div><div class='xr-var-dtype'>float32</div><div class='xr-var-preview xr-preview'>...</div><input id='attrs-48aad281-35cf-4c95-90dc-69434eaa001b' class='xr-var-attrs-in' type='checkbox' ><label for='attrs-48aad281-35cf-4c95-90dc-69434eaa001b' title='Show/Hide attributes'><svg class='icon xr-icon-file-text2'><use xlink:href='#icon-file-text2'></use></svg></label><input id='data-2794c793-f4bf-4e1e-8f60-a8a619163bdf' class='xr-var-data-in' type='checkbox'><label for='data-2794c793-f4bf-4e1e-8f60-a8a619163bdf' title='Show/Hide data repr'><svg class='icon xr-icon-database'><use xlink:href='#icon-database'></use></svg></label><div class='xr-var-attrs'><dl class='xr-attrs'><dt><span>long_name :</span></dt><dd>radar_calibration_coupler_forward_loss_h_channel</dd><dt><span>units :</span></dt><dd>db</dd><dt><span>meta_group :</span></dt><dd>radar_calibration</dd></dl></div><div class='xr-var-data'><pre>[1 values with dtype=float32]</pre></div></li><li class='xr-var-item'><div class='xr-var-name'><span>r_calib_coupler_forward_loss_v</span></div><div class='xr-var-dims'>(r_calib)</div><div class='xr-var-dtype'>float32</div><div class='xr-var-preview xr-preview'>...</div><input id='attrs-ee4a0745-1e82-40ef-8d00-f86254090e7e' class='xr-var-attrs-in' type='checkbox' ><label for='attrs-ee4a0745-1e82-40ef-8d00-f86254090e7e' title='Show/Hide attributes'><svg class='icon xr-icon-file-text2'><use xlink:href='#icon-file-text2'></use></svg></label><input id='data-9a84bcbe-3d69-4c54-b1d0-674fec7f4efd' class='xr-var-data-in' type='checkbox'><label for='data-9a84bcbe-3d69-4c54-b1d0-674fec7f4efd' title='Show/Hide data repr'><svg class='icon xr-icon-database'><use xlink:href='#icon-database'></use></svg></label><div class='xr-var-attrs'><dl class='xr-attrs'><dt><span>long_name :</span></dt><dd>radar_calibration_coupler_forward_loss_v_channel</dd><dt><span>units :</span></dt><dd>db</dd><dt><span>meta_group :</span></dt><dd>radar_calibration</dd></dl></div><div class='xr-var-data'><pre>[1 values with dtype=float32]</pre></div></li><li class='xr-var-item'><div class='xr-var-name'><span>r_calib_dbz_correction</span></div><div class='xr-var-dims'>(r_calib)</div><div class='xr-var-dtype'>float32</div><div class='xr-var-preview xr-preview'>...</div><input id='attrs-28af8306-7146-4094-a53e-78ea285da61c' class='xr-var-attrs-in' type='checkbox' ><label for='attrs-28af8306-7146-4094-a53e-78ea285da61c' title='Show/Hide attributes'><svg class='icon xr-icon-file-text2'><use xlink:href='#icon-file-text2'></use></svg></label><input id='data-ebed41c8-b392-4e9f-a485-2a7dcf45aa93' class='xr-var-data-in' type='checkbox'><label for='data-ebed41c8-b392-4e9f-a485-2a7dcf45aa93' title='Show/Hide data repr'><svg class='icon xr-icon-database'><use xlink:href='#icon-database'></use></svg></label><div class='xr-var-attrs'><dl class='xr-attrs'><dt><span>long_name :</span></dt><dd>calibrated_radar_dbz_correction</dd><dt><span>units :</span></dt><dd>db</dd><dt><span>meta_group :</span></dt><dd>radar_calibration</dd></dl></div><div class='xr-var-data'><pre>[1 values with dtype=float32]</pre></div></li><li class='xr-var-item'><div class='xr-var-name'><span>r_calib_zdr_correction</span></div><div class='xr-var-dims'>(r_calib)</div><div class='xr-var-dtype'>float32</div><div class='xr-var-preview xr-preview'>...</div><input id='attrs-e143e19f-b917-41b0-a1a5-8bb0c5df943a' class='xr-var-attrs-in' type='checkbox' ><label for='attrs-e143e19f-b917-41b0-a1a5-8bb0c5df943a' title='Show/Hide attributes'><svg class='icon xr-icon-file-text2'><use xlink:href='#icon-file-text2'></use></svg></label><input id='data-0e97fa4b-186d-474e-961f-80b473c2e2b2' class='xr-var-data-in' type='checkbox'><label for='data-0e97fa4b-186d-474e-961f-80b473c2e2b2' title='Show/Hide data repr'><svg class='icon xr-icon-database'><use xlink:href='#icon-database'></use></svg></label><div class='xr-var-attrs'><dl class='xr-attrs'><dt><span>long_name :</span></dt><dd>calibrated_radar_zdr_correction</dd><dt><span>units :</span></dt><dd>db</dd><dt><span>meta_group :</span></dt><dd>radar_calibration</dd></dl></div><div class='xr-var-data'><pre>[1 values with dtype=float32]</pre></div></li><li class='xr-var-item'><div class='xr-var-name'><span>r_calib_ldr_correction_h</span></div><div class='xr-var-dims'>(r_calib)</div><div class='xr-var-dtype'>float32</div><div class='xr-var-preview xr-preview'>...</div><input id='attrs-024c509a-e6e2-44ac-bcec-1361d5ae2ddf' class='xr-var-attrs-in' type='checkbox' ><label for='attrs-024c509a-e6e2-44ac-bcec-1361d5ae2ddf' title='Show/Hide attributes'><svg class='icon xr-icon-file-text2'><use xlink:href='#icon-file-text2'></use></svg></label><input id='data-e0d6974a-70ed-4ec0-8a2a-8545c6c5f04f' class='xr-var-data-in' type='checkbox'><label for='data-e0d6974a-70ed-4ec0-8a2a-8545c6c5f04f' title='Show/Hide data repr'><svg class='icon xr-icon-database'><use xlink:href='#icon-database'></use></svg></label><div class='xr-var-attrs'><dl class='xr-attrs'><dt><span>long_name :</span></dt><dd>calibrated_radar_ldr_correction_h_channel</dd><dt><span>units :</span></dt><dd>db</dd><dt><span>meta_group :</span></dt><dd>radar_calibration</dd></dl></div><div class='xr-var-data'><pre>[1 values with dtype=float32]</pre></div></li><li class='xr-var-item'><div class='xr-var-name'><span>r_calib_ldr_correction_v</span></div><div class='xr-var-dims'>(r_calib)</div><div class='xr-var-dtype'>float32</div><div class='xr-var-preview xr-preview'>...</div><input id='attrs-73e0adc2-281d-413e-b8bb-65175dd1bd62' class='xr-var-attrs-in' type='checkbox' ><label for='attrs-73e0adc2-281d-413e-b8bb-65175dd1bd62' title='Show/Hide attributes'><svg class='icon xr-icon-file-text2'><use xlink:href='#icon-file-text2'></use></svg></label><input id='data-bdb75b6f-defb-4749-a1fc-921d96597c22' class='xr-var-data-in' type='checkbox'><label for='data-bdb75b6f-defb-4749-a1fc-921d96597c22' title='Show/Hide data repr'><svg class='icon xr-icon-database'><use xlink:href='#icon-database'></use></svg></label><div class='xr-var-attrs'><dl class='xr-attrs'><dt><span>long_name :</span></dt><dd>calibrated_radar_ldr_correction_v_channel</dd><dt><span>units :</span></dt><dd>db</dd><dt><span>meta_group :</span></dt><dd>radar_calibration</dd></dl></div><div class='xr-var-data'><pre>[1 values with dtype=float32]</pre></div></li><li class='xr-var-item'><div class='xr-var-name'><span>r_calib_system_phidp</span></div><div class='xr-var-dims'>(r_calib)</div><div class='xr-var-dtype'>float32</div><div class='xr-var-preview xr-preview'>...</div><input id='attrs-3c1a25aa-b050-4606-a175-263de2db8549' class='xr-var-attrs-in' type='checkbox' ><label for='attrs-3c1a25aa-b050-4606-a175-263de2db8549' title='Show/Hide attributes'><svg class='icon xr-icon-file-text2'><use xlink:href='#icon-file-text2'></use></svg></label><input id='data-1489189f-2b9e-4b6f-a501-08b11bf31df1' class='xr-var-data-in' type='checkbox'><label for='data-1489189f-2b9e-4b6f-a501-08b11bf31df1' title='Show/Hide data repr'><svg class='icon xr-icon-database'><use xlink:href='#icon-database'></use></svg></label><div class='xr-var-attrs'><dl class='xr-attrs'><dt><span>long_name :</span></dt><dd>calibrated_radar_system_phidp</dd><dt><span>units :</span></dt><dd>degrees</dd><dt><span>meta_group :</span></dt><dd>radar_calibration</dd></dl></div><div class='xr-var-data'><pre>[1 values with dtype=float32]</pre></div></li><li class='xr-var-item'><div class='xr-var-name'><span>r_calib_test_power_h</span></div><div class='xr-var-dims'>(r_calib)</div><div class='xr-var-dtype'>float32</div><div class='xr-var-preview xr-preview'>...</div><input id='attrs-41b5a6e4-da06-435c-b10a-f3012381ba80' class='xr-var-attrs-in' type='checkbox' ><label for='attrs-41b5a6e4-da06-435c-b10a-f3012381ba80' title='Show/Hide attributes'><svg class='icon xr-icon-file-text2'><use xlink:href='#icon-file-text2'></use></svg></label><input id='data-64c1dfb9-6518-495b-93aa-79fcf3cc085a' class='xr-var-data-in' type='checkbox'><label for='data-64c1dfb9-6518-495b-93aa-79fcf3cc085a' title='Show/Hide data repr'><svg class='icon xr-icon-database'><use xlink:href='#icon-database'></use></svg></label><div class='xr-var-attrs'><dl class='xr-attrs'><dt><span>long_name :</span></dt><dd>radar_calibration_test_power_h_channel</dd><dt><span>units :</span></dt><dd>dBm</dd><dt><span>meta_group :</span></dt><dd>radar_calibration</dd></dl></div><div class='xr-var-data'><pre>[1 values with dtype=float32]</pre></div></li><li class='xr-var-item'><div class='xr-var-name'><span>r_calib_test_power_v</span></div><div class='xr-var-dims'>(r_calib)</div><div class='xr-var-dtype'>float32</div><div class='xr-var-preview xr-preview'>...</div><input id='attrs-1f3286da-08d0-4b47-9d35-c8483ca459af' class='xr-var-attrs-in' type='checkbox' ><label for='attrs-1f3286da-08d0-4b47-9d35-c8483ca459af' title='Show/Hide attributes'><svg class='icon xr-icon-file-text2'><use xlink:href='#icon-file-text2'></use></svg></label><input id='data-e295d345-5383-4c2f-bfd4-0ec3f91b5b78' class='xr-var-data-in' type='checkbox'><label for='data-e295d345-5383-4c2f-bfd4-0ec3f91b5b78' title='Show/Hide data repr'><svg class='icon xr-icon-database'><use xlink:href='#icon-database'></use></svg></label><div class='xr-var-attrs'><dl class='xr-attrs'><dt><span>long_name :</span></dt><dd>radar_calibration_test_power_v_channel</dd><dt><span>units :</span></dt><dd>dBm</dd><dt><span>meta_group :</span></dt><dd>radar_calibration</dd></dl></div><div class='xr-var-data'><pre>[1 values with dtype=float32]</pre></div></li><li class='xr-var-item'><div class='xr-var-name'><span>ray_n_gates</span></div><div class='xr-var-dims'>(time)</div><div class='xr-var-dtype'>float64</div><div class='xr-var-preview xr-preview'>...</div><input id='attrs-2458f586-1bfe-40ac-927e-90a397edaf87' class='xr-var-attrs-in' type='checkbox' ><label for='attrs-2458f586-1bfe-40ac-927e-90a397edaf87' title='Show/Hide attributes'><svg class='icon xr-icon-file-text2'><use xlink:href='#icon-file-text2'></use></svg></label><input id='data-ee9b0424-4e8b-4a43-8aab-02fadbea2918' class='xr-var-data-in' type='checkbox'><label for='data-ee9b0424-4e8b-4a43-8aab-02fadbea2918' title='Show/Hide data repr'><svg class='icon xr-icon-database'><use xlink:href='#icon-database'></use></svg></label><div class='xr-var-attrs'><dl class='xr-attrs'><dt><span>long_name :</span></dt><dd>number_of_gates</dd><dt><span>units :</span></dt><dd></dd></dl></div><div class='xr-var-data'><pre>[2880 values with dtype=float64]</pre></div></li><li class='xr-var-item'><div class='xr-var-name'><span>ray_start_index</span></div><div class='xr-var-dims'>(time)</div><div class='xr-var-dtype'>float64</div><div class='xr-var-preview xr-preview'>...</div><input id='attrs-1f7340c7-30f1-4aac-862d-b70df139a48d' class='xr-var-attrs-in' type='checkbox' ><label for='attrs-1f7340c7-30f1-4aac-862d-b70df139a48d' title='Show/Hide attributes'><svg class='icon xr-icon-file-text2'><use xlink:href='#icon-file-text2'></use></svg></label><input id='data-95928ea0-9fb6-44e4-88ec-8c2691496029' class='xr-var-data-in' type='checkbox'><label for='data-95928ea0-9fb6-44e4-88ec-8c2691496029' title='Show/Hide data repr'><svg class='icon xr-icon-database'><use xlink:href='#icon-database'></use></svg></label><div class='xr-var-attrs'><dl class='xr-attrs'><dt><span>long_name :</span></dt><dd>array_index_to_start_of_ray</dd><dt><span>units :</span></dt><dd></dd></dl></div><div class='xr-var-data'><pre>[2880 values with dtype=float64]</pre></div></li><li class='xr-var-item'><div class='xr-var-name'><span>ray_start_range</span></div><div class='xr-var-dims'>(time)</div><div class='xr-var-dtype'>float32</div><div class='xr-var-preview xr-preview'>...</div><input id='attrs-88d33674-5eac-492d-9c58-ac3e71f4fbe6' class='xr-var-attrs-in' type='checkbox' ><label for='attrs-88d33674-5eac-492d-9c58-ac3e71f4fbe6' title='Show/Hide attributes'><svg class='icon xr-icon-file-text2'><use xlink:href='#icon-file-text2'></use></svg></label><input id='data-30c9a1a3-bc53-4180-8f5e-7d29b312b50b' class='xr-var-data-in' type='checkbox'><label for='data-30c9a1a3-bc53-4180-8f5e-7d29b312b50b' title='Show/Hide data repr'><svg class='icon xr-icon-database'><use xlink:href='#icon-database'></use></svg></label><div class='xr-var-attrs'><dl class='xr-attrs'><dt><span>long_name :</span></dt><dd>start_range_for_ray</dd><dt><span>units :</span></dt><dd>meters</dd></dl></div><div class='xr-var-data'><pre>[2880 values with dtype=float32]</pre></div></li><li class='xr-var-item'><div class='xr-var-name'><span>ray_gate_spacing</span></div><div class='xr-var-dims'>(time)</div><div class='xr-var-dtype'>float32</div><div class='xr-var-preview xr-preview'>...</div><input id='attrs-09b201bc-0292-4a67-84df-fa260c4d5362' class='xr-var-attrs-in' type='checkbox' ><label for='attrs-09b201bc-0292-4a67-84df-fa260c4d5362' title='Show/Hide attributes'><svg class='icon xr-icon-file-text2'><use xlink:href='#icon-file-text2'></use></svg></label><input id='data-b1758cb5-8763-4451-9133-7cbe424da5ca' class='xr-var-data-in' type='checkbox'><label for='data-b1758cb5-8763-4451-9133-7cbe424da5ca' title='Show/Hide data repr'><svg class='icon xr-icon-database'><use xlink:href='#icon-database'></use></svg></label><div class='xr-var-attrs'><dl class='xr-attrs'><dt><span>long_name :</span></dt><dd>gate_spacing_for_ray</dd><dt><span>units :</span></dt><dd>meters</dd></dl></div><div class='xr-var-data'><pre>[2880 values with dtype=float32]</pre></div></li><li class='xr-var-item'><div class='xr-var-name'><span>azimuth</span></div><div class='xr-var-dims'>(time)</div><div class='xr-var-dtype'>float32</div><div class='xr-var-preview xr-preview'>...</div><input id='attrs-56cac2d8-5b6c-4576-b882-f6c488c2080d' class='xr-var-attrs-in' type='checkbox' ><label for='attrs-56cac2d8-5b6c-4576-b882-f6c488c2080d' title='Show/Hide attributes'><svg class='icon xr-icon-file-text2'><use xlink:href='#icon-file-text2'></use></svg></label><input id='data-5a16fef5-1b46-4808-841c-868ec6740b85' class='xr-var-data-in' type='checkbox'><label for='data-5a16fef5-1b46-4808-841c-868ec6740b85' title='Show/Hide data repr'><svg class='icon xr-icon-database'><use xlink:href='#icon-database'></use></svg></label><div class='xr-var-attrs'><dl class='xr-attrs'><dt><span>long_name :</span></dt><dd>ray_azimuth_angle</dd><dt><span>units :</span></dt><dd>degrees</dd></dl></div><div class='xr-var-data'><pre>[2880 values with dtype=float32]</pre></div></li><li class='xr-var-item'><div class='xr-var-name'><span>elevation</span></div><div class='xr-var-dims'>(time)</div><div class='xr-var-dtype'>float32</div><div class='xr-var-preview xr-preview'>...</div><input id='attrs-4c4e3949-3db8-4d83-9078-d1d088462b42' class='xr-var-attrs-in' type='checkbox' ><label for='attrs-4c4e3949-3db8-4d83-9078-d1d088462b42' title='Show/Hide attributes'><svg class='icon xr-icon-file-text2'><use xlink:href='#icon-file-text2'></use></svg></label><input id='data-54f183b1-715a-44d9-9b03-db23142884e4' class='xr-var-data-in' type='checkbox'><label for='data-54f183b1-715a-44d9-9b03-db23142884e4' title='Show/Hide data repr'><svg class='icon xr-icon-database'><use xlink:href='#icon-database'></use></svg></label><div class='xr-var-attrs'><dl class='xr-attrs'><dt><span>long_name :</span></dt><dd>ray_elevation_angle</dd><dt><span>units :</span></dt><dd>degrees</dd><dt><span>positive :</span></dt><dd>up</dd></dl></div><div class='xr-var-data'><pre>[2880 values with dtype=float32]</pre></div></li><li class='xr-var-item'><div class='xr-var-name'><span>pulse_width</span></div><div class='xr-var-dims'>(time)</div><div class='xr-var-dtype'>timedelta64[ns]</div><div class='xr-var-preview xr-preview'>...</div><input id='attrs-4248b47b-c17c-49c6-94bd-8f7393875ee5' class='xr-var-attrs-in' type='checkbox' ><label for='attrs-4248b47b-c17c-49c6-94bd-8f7393875ee5' title='Show/Hide attributes'><svg class='icon xr-icon-file-text2'><use xlink:href='#icon-file-text2'></use></svg></label><input id='data-27588567-3a41-4345-bda4-7774b4db8620' class='xr-var-data-in' type='checkbox'><label for='data-27588567-3a41-4345-bda4-7774b4db8620' title='Show/Hide data repr'><svg class='icon xr-icon-database'><use xlink:href='#icon-database'></use></svg></label><div class='xr-var-attrs'><dl class='xr-attrs'><dt><span>long_name :</span></dt><dd>transmitter_pulse_width</dd><dt><span>meta_group :</span></dt><dd>instrument_parameters</dd></dl></div><div class='xr-var-data'><pre>[2880 values with dtype=timedelta64[ns]]</pre></div></li><li class='xr-var-item'><div class='xr-var-name'><span>prt</span></div><div class='xr-var-dims'>(time)</div><div class='xr-var-dtype'>timedelta64[ns]</div><div class='xr-var-preview xr-preview'>...</div><input id='attrs-b99ad770-1f6e-4d77-9e4e-538f7a0b8eb3' class='xr-var-attrs-in' type='checkbox' ><label for='attrs-b99ad770-1f6e-4d77-9e4e-538f7a0b8eb3' title='Show/Hide attributes'><svg class='icon xr-icon-file-text2'><use xlink:href='#icon-file-text2'></use></svg></label><input id='data-9cdc4250-6998-4d4d-a9e5-fd35b90a90b0' class='xr-var-data-in' type='checkbox'><label for='data-9cdc4250-6998-4d4d-a9e5-fd35b90a90b0' title='Show/Hide data repr'><svg class='icon xr-icon-database'><use xlink:href='#icon-database'></use></svg></label><div class='xr-var-attrs'><dl class='xr-attrs'><dt><span>long_name :</span></dt><dd>pulse_repetition_time</dd><dt><span>meta_group :</span></dt><dd>instrument_parameters</dd></dl></div><div class='xr-var-data'><pre>[2880 values with dtype=timedelta64[ns]]</pre></div></li><li class='xr-var-item'><div class='xr-var-name'><span>prt_ratio</span></div><div class='xr-var-dims'>(time)</div><div class='xr-var-dtype'>timedelta64[ns]</div><div class='xr-var-preview xr-preview'>...</div><input id='attrs-292684fc-ef3c-4b87-a3a3-2fc6759a1be5' class='xr-var-attrs-in' type='checkbox' ><label for='attrs-292684fc-ef3c-4b87-a3a3-2fc6759a1be5' title='Show/Hide attributes'><svg class='icon xr-icon-file-text2'><use xlink:href='#icon-file-text2'></use></svg></label><input id='data-99b22fd6-403a-4d9f-9dff-e0021eabdea0' class='xr-var-data-in' type='checkbox'><label for='data-99b22fd6-403a-4d9f-9dff-e0021eabdea0' title='Show/Hide data repr'><svg class='icon xr-icon-database'><use xlink:href='#icon-database'></use></svg></label><div class='xr-var-attrs'><dl class='xr-attrs'><dt><span>long_name :</span></dt><dd>pulse_repetition_frequency_ratio</dd><dt><span>meta_group :</span></dt><dd>instrument_parameters</dd></dl></div><div class='xr-var-data'><pre>[2880 values with dtype=timedelta64[ns]]</pre></div></li><li class='xr-var-item'><div class='xr-var-name'><span>nyquist_velocity</span></div><div class='xr-var-dims'>(time)</div><div class='xr-var-dtype'>float32</div><div class='xr-var-preview xr-preview'>...</div><input id='attrs-9efc2581-4dd1-43fb-8fd4-a083b2dff280' class='xr-var-attrs-in' type='checkbox' ><label for='attrs-9efc2581-4dd1-43fb-8fd4-a083b2dff280' title='Show/Hide attributes'><svg class='icon xr-icon-file-text2'><use xlink:href='#icon-file-text2'></use></svg></label><input id='data-bff789f6-62e3-4cb4-ae11-60cffde53290' class='xr-var-data-in' type='checkbox'><label for='data-bff789f6-62e3-4cb4-ae11-60cffde53290' title='Show/Hide data repr'><svg class='icon xr-icon-database'><use xlink:href='#icon-database'></use></svg></label><div class='xr-var-attrs'><dl class='xr-attrs'><dt><span>long_name :</span></dt><dd>unambiguous_doppler_velocity</dd><dt><span>units :</span></dt><dd>meters per second</dd><dt><span>meta_group :</span></dt><dd>instrument_parameters</dd></dl></div><div class='xr-var-data'><pre>[2880 values with dtype=float32]</pre></div></li><li class='xr-var-item'><div class='xr-var-name'><span>unambiguous_range</span></div><div class='xr-var-dims'>(time)</div><div class='xr-var-dtype'>float32</div><div class='xr-var-preview xr-preview'>...</div><input id='attrs-a80f76ca-3d20-4532-9dc8-f612d73778b2' class='xr-var-attrs-in' type='checkbox' ><label for='attrs-a80f76ca-3d20-4532-9dc8-f612d73778b2' title='Show/Hide attributes'><svg class='icon xr-icon-file-text2'><use xlink:href='#icon-file-text2'></use></svg></label><input id='data-65419cd7-064c-4a30-a35c-50d9112c1a17' class='xr-var-data-in' type='checkbox'><label for='data-65419cd7-064c-4a30-a35c-50d9112c1a17' title='Show/Hide data repr'><svg class='icon xr-icon-database'><use xlink:href='#icon-database'></use></svg></label><div class='xr-var-attrs'><dl class='xr-attrs'><dt><span>long_name :</span></dt><dd>unambiguous_range</dd><dt><span>units :</span></dt><dd>meters</dd><dt><span>meta_group :</span></dt><dd>instrument_parameters</dd></dl></div><div class='xr-var-data'><pre>[2880 values with dtype=float32]</pre></div></li><li class='xr-var-item'><div class='xr-var-name'><span>antenna_transition</span></div><div class='xr-var-dims'>(time)</div><div class='xr-var-dtype'>float32</div><div class='xr-var-preview xr-preview'>...</div><input id='attrs-951835ae-6617-4ce5-a295-efc467b6bde6' class='xr-var-attrs-in' type='checkbox' ><label for='attrs-951835ae-6617-4ce5-a295-efc467b6bde6' title='Show/Hide attributes'><svg class='icon xr-icon-file-text2'><use xlink:href='#icon-file-text2'></use></svg></label><input id='data-52c805d8-8dd9-42e9-868f-17311bfaa26e' class='xr-var-data-in' type='checkbox'><label for='data-52c805d8-8dd9-42e9-868f-17311bfaa26e' title='Show/Hide data repr'><svg class='icon xr-icon-database'><use xlink:href='#icon-database'></use></svg></label><div class='xr-var-attrs'><dl class='xr-attrs'><dt><span>long_name :</span></dt><dd>antenna_is_in_transition_between_sweeps</dd><dt><span>units :</span></dt><dd></dd><dt><span>comment :</span></dt><dd>1 if antenna is in transition, 0 otherwise</dd></dl></div><div class='xr-var-data'><pre>[2880 values with dtype=float32]</pre></div></li><li class='xr-var-item'><div class='xr-var-name'><span>n_samples</span></div><div class='xr-var-dims'>(time)</div><div class='xr-var-dtype'>float64</div><div class='xr-var-preview xr-preview'>...</div><input id='attrs-9dd894c4-d6dd-453a-8b07-df68b1a0e859' class='xr-var-attrs-in' type='checkbox' ><label for='attrs-9dd894c4-d6dd-453a-8b07-df68b1a0e859' title='Show/Hide attributes'><svg class='icon xr-icon-file-text2'><use xlink:href='#icon-file-text2'></use></svg></label><input id='data-f34f9030-3ea1-46dc-b3de-53dc4342a0eb' class='xr-var-data-in' type='checkbox'><label for='data-f34f9030-3ea1-46dc-b3de-53dc4342a0eb' title='Show/Hide data repr'><svg class='icon xr-icon-database'><use xlink:href='#icon-database'></use></svg></label><div class='xr-var-attrs'><dl class='xr-attrs'><dt><span>long_name :</span></dt><dd>number_of_samples_used_to_compute_moments</dd><dt><span>units :</span></dt><dd></dd><dt><span>meta_group :</span></dt><dd>instrument_parameters</dd></dl></div><div class='xr-var-data'><pre>[2880 values with dtype=float64]</pre></div></li><li class='xr-var-item'><div class='xr-var-name'><span>r_calib_index</span></div><div class='xr-var-dims'>(time)</div><div class='xr-var-dtype'>float64</div><div class='xr-var-preview xr-preview'>...</div><input id='attrs-7281f086-9cad-44be-926c-0f9789cf8160' class='xr-var-attrs-in' type='checkbox' ><label for='attrs-7281f086-9cad-44be-926c-0f9789cf8160' title='Show/Hide attributes'><svg class='icon xr-icon-file-text2'><use xlink:href='#icon-file-text2'></use></svg></label><input id='data-00e1e08f-d006-4f57-b392-7b3d2f26b089' class='xr-var-data-in' type='checkbox'><label for='data-00e1e08f-d006-4f57-b392-7b3d2f26b089' title='Show/Hide data repr'><svg class='icon xr-icon-database'><use xlink:href='#icon-database'></use></svg></label><div class='xr-var-attrs'><dl class='xr-attrs'><dt><span>long_name :</span></dt><dd>calibration_data_array_index_per_ray</dd><dt><span>units :</span></dt><dd></dd><dt><span>meta_group :</span></dt><dd>radar_calibration</dd><dt><span>comment :</span></dt><dd>This is the index for the calibration which applies to this ray</dd></dl></div><div class='xr-var-data'><pre>[2880 values with dtype=float64]</pre></div></li><li class='xr-var-item'><div class='xr-var-name'><span>measured_transmit_power_h</span></div><div class='xr-var-dims'>(time)</div><div class='xr-var-dtype'>float32</div><div class='xr-var-preview xr-preview'>...</div><input id='attrs-a6c7e849-f93e-4b92-a15d-9133ac91d22c' class='xr-var-attrs-in' type='checkbox' ><label for='attrs-a6c7e849-f93e-4b92-a15d-9133ac91d22c' title='Show/Hide attributes'><svg class='icon xr-icon-file-text2'><use xlink:href='#icon-file-text2'></use></svg></label><input id='data-e5c947bc-d223-4dfd-ac07-f261e7cf1497' class='xr-var-data-in' type='checkbox'><label for='data-e5c947bc-d223-4dfd-ac07-f261e7cf1497' title='Show/Hide data repr'><svg class='icon xr-icon-database'><use xlink:href='#icon-database'></use></svg></label><div class='xr-var-attrs'><dl class='xr-attrs'><dt><span>long_name :</span></dt><dd>measured_radar_transmit_power_h_channel</dd><dt><span>units :</span></dt><dd>dBm</dd><dt><span>meta_group :</span></dt><dd>radar_parameters</dd></dl></div><div class='xr-var-data'><pre>[2880 values with dtype=float32]</pre></div></li><li class='xr-var-item'><div class='xr-var-name'><span>measured_transmit_power_v</span></div><div class='xr-var-dims'>(time)</div><div class='xr-var-dtype'>float32</div><div class='xr-var-preview xr-preview'>...</div><input id='attrs-e769e4cc-5439-45d8-9e24-da53235d992f' class='xr-var-attrs-in' type='checkbox' ><label for='attrs-e769e4cc-5439-45d8-9e24-da53235d992f' title='Show/Hide attributes'><svg class='icon xr-icon-file-text2'><use xlink:href='#icon-file-text2'></use></svg></label><input id='data-b5e976ba-8c20-4377-9145-e3f357714916' class='xr-var-data-in' type='checkbox'><label for='data-b5e976ba-8c20-4377-9145-e3f357714916' title='Show/Hide data repr'><svg class='icon xr-icon-database'><use xlink:href='#icon-database'></use></svg></label><div class='xr-var-attrs'><dl class='xr-attrs'><dt><span>long_name :</span></dt><dd>measured_radar_transmit_power_v_channel</dd><dt><span>units :</span></dt><dd>dBm</dd><dt><span>meta_group :</span></dt><dd>radar_parameters</dd></dl></div><div class='xr-var-data'><pre>[2880 values with dtype=float32]</pre></div></li><li class='xr-var-item'><div class='xr-var-name'><span>scan_rate</span></div><div class='xr-var-dims'>(time)</div><div class='xr-var-dtype'>float32</div><div class='xr-var-preview xr-preview'>...</div><input id='attrs-c408b9ac-38da-45d6-954d-fb581beeb74c' class='xr-var-attrs-in' type='checkbox' ><label for='attrs-c408b9ac-38da-45d6-954d-fb581beeb74c' title='Show/Hide attributes'><svg class='icon xr-icon-file-text2'><use xlink:href='#icon-file-text2'></use></svg></label><input id='data-d7b6a05b-8e68-4560-8e9d-66d651260af6' class='xr-var-data-in' type='checkbox'><label for='data-d7b6a05b-8e68-4560-8e9d-66d651260af6' title='Show/Hide data repr'><svg class='icon xr-icon-database'><use xlink:href='#icon-database'></use></svg></label><div class='xr-var-attrs'><dl class='xr-attrs'><dt><span>long_name :</span></dt><dd>antenna_angle_scan_rate</dd><dt><span>units :</span></dt><dd>degrees per second</dd><dt><span>meta_group :</span></dt><dd>instrument_parameters</dd></dl></div><div class='xr-var-data'><pre>[2880 values with dtype=float32]</pre></div></li><li class='xr-var-item'><div class='xr-var-name'><span>REF</span></div><div class='xr-var-dims'>(n_points)</div><div class='xr-var-dtype'>float32</div><div class='xr-var-preview xr-preview'>...</div><input id='attrs-75ad1216-7754-4516-a315-3f49d5a9765d' class='xr-var-attrs-in' type='checkbox' ><label for='attrs-75ad1216-7754-4516-a315-3f49d5a9765d' title='Show/Hide attributes'><svg class='icon xr-icon-file-text2'><use xlink:href='#icon-file-text2'></use></svg></label><input id='data-455c5bd9-4a2f-4a13-bbba-d1e5a564c880' class='xr-var-data-in' type='checkbox'><label for='data-455c5bd9-4a2f-4a13-bbba-d1e5a564c880' title='Show/Hide data repr'><svg class='icon xr-icon-database'><use xlink:href='#icon-database'></use></svg></label><div class='xr-var-attrs'><dl class='xr-attrs'><dt><span>long_name :</span></dt><dd>radar_reflectivity</dd><dt><span>standard_name :</span></dt><dd>equivalent_reflectivity_factor</dd><dt><span>units :</span></dt><dd>dBZ</dd><dt><span>sampling_ratio :</span></dt><dd>1.0</dd><dt><span>grid_mapping :</span></dt><dd>grid_mapping</dd></dl></div><div class='xr-var-data'><pre>[4165920 values with dtype=float32]</pre></div></li><li class='xr-var-item'><div class='xr-var-name'><span>VEL</span></div><div class='xr-var-dims'>(n_points)</div><div class='xr-var-dtype'>float32</div><div class='xr-var-preview xr-preview'>...</div><input id='attrs-8e8a769e-6947-4939-babb-bf9885159499' class='xr-var-attrs-in' type='checkbox' ><label for='attrs-8e8a769e-6947-4939-babb-bf9885159499' title='Show/Hide attributes'><svg class='icon xr-icon-file-text2'><use xlink:href='#icon-file-text2'></use></svg></label><input id='data-33977445-7510-40a2-a19a-9ebe98d62597' class='xr-var-data-in' type='checkbox'><label for='data-33977445-7510-40a2-a19a-9ebe98d62597' title='Show/Hide data repr'><svg class='icon xr-icon-database'><use xlink:href='#icon-database'></use></svg></label><div class='xr-var-attrs'><dl class='xr-attrs'><dt><span>long_name :</span></dt><dd>radial_velocity</dd><dt><span>standard_name :</span></dt><dd>radial_velocity_of_scatterers_away_from_instrument</dd><dt><span>units :</span></dt><dd>m/s</dd><dt><span>sampling_ratio :</span></dt><dd>1.0</dd><dt><span>grid_mapping :</span></dt><dd>grid_mapping</dd></dl></div><div class='xr-var-data'><pre>[4165920 values with dtype=float32]</pre></div></li><li class='xr-var-item'><div class='xr-var-name'><span>SW</span></div><div class='xr-var-dims'>(n_points)</div><div class='xr-var-dtype'>float32</div><div class='xr-var-preview xr-preview'>...</div><input id='attrs-68d962f4-661a-4f1a-a4af-e0cae54deaa8' class='xr-var-attrs-in' type='checkbox' ><label for='attrs-68d962f4-661a-4f1a-a4af-e0cae54deaa8' title='Show/Hide attributes'><svg class='icon xr-icon-file-text2'><use xlink:href='#icon-file-text2'></use></svg></label><input id='data-57666b11-902c-47e0-a628-b7389057b017' class='xr-var-data-in' type='checkbox'><label for='data-57666b11-902c-47e0-a628-b7389057b017' title='Show/Hide data repr'><svg class='icon xr-icon-database'><use xlink:href='#icon-database'></use></svg></label><div class='xr-var-attrs'><dl class='xr-attrs'><dt><span>long_name :</span></dt><dd>spectrum_width</dd><dt><span>standard_name :</span></dt><dd>doppler_spectrum_width</dd><dt><span>units :</span></dt><dd>m/s</dd><dt><span>sampling_ratio :</span></dt><dd>1.0</dd><dt><span>grid_mapping :</span></dt><dd>grid_mapping</dd></dl></div><div class='xr-var-data'><pre>[4165920 values with dtype=float32]</pre></div></li><li class='xr-var-item'><div class='xr-var-name'><span>ZDR</span></div><div class='xr-var-dims'>(n_points)</div><div class='xr-var-dtype'>float32</div><div class='xr-var-preview xr-preview'>...</div><input id='attrs-071036b8-7b97-49ec-8941-aa81ef8ed92e' class='xr-var-attrs-in' type='checkbox' ><label for='attrs-071036b8-7b97-49ec-8941-aa81ef8ed92e' title='Show/Hide attributes'><svg class='icon xr-icon-file-text2'><use xlink:href='#icon-file-text2'></use></svg></label><input id='data-877b1e7e-b8a6-4453-a513-ed88c3a46371' class='xr-var-data-in' type='checkbox'><label for='data-877b1e7e-b8a6-4453-a513-ed88c3a46371' title='Show/Hide data repr'><svg class='icon xr-icon-database'><use xlink:href='#icon-database'></use></svg></label><div class='xr-var-attrs'><dl class='xr-attrs'><dt><span>long_name :</span></dt><dd>differential_reflectivity</dd><dt><span>standard_name :</span></dt><dd>log_differential_reflectivity_hv</dd><dt><span>units :</span></dt><dd>dB</dd><dt><span>sampling_ratio :</span></dt><dd>1.0</dd><dt><span>grid_mapping :</span></dt><dd>grid_mapping</dd></dl></div><div class='xr-var-data'><pre>[4165920 values with dtype=float32]</pre></div></li><li class='xr-var-item'><div class='xr-var-name'><span>PHI</span></div><div class='xr-var-dims'>(n_points)</div><div class='xr-var-dtype'>float32</div><div class='xr-var-preview xr-preview'>...</div><input id='attrs-5a504245-8852-4ca1-8cc6-2a7f241194f3' class='xr-var-attrs-in' type='checkbox' ><label for='attrs-5a504245-8852-4ca1-8cc6-2a7f241194f3' title='Show/Hide attributes'><svg class='icon xr-icon-file-text2'><use xlink:href='#icon-file-text2'></use></svg></label><input id='data-89158fe9-c134-4901-afbe-72074079f18f' class='xr-var-data-in' type='checkbox'><label for='data-89158fe9-c134-4901-afbe-72074079f18f' title='Show/Hide data repr'><svg class='icon xr-icon-database'><use xlink:href='#icon-database'></use></svg></label><div class='xr-var-attrs'><dl class='xr-attrs'><dt><span>long_name :</span></dt><dd>differential_phase</dd><dt><span>standard_name :</span></dt><dd>differential_phase_hv</dd><dt><span>units :</span></dt><dd>deg</dd><dt><span>sampling_ratio :</span></dt><dd>1.0</dd><dt><span>grid_mapping :</span></dt><dd>grid_mapping</dd></dl></div><div class='xr-var-data'><pre>[4165920 values with dtype=float32]</pre></div></li><li class='xr-var-item'><div class='xr-var-name'><span>RHO</span></div><div class='xr-var-dims'>(n_points)</div><div class='xr-var-dtype'>float32</div><div class='xr-var-preview xr-preview'>...</div><input id='attrs-0346c9e7-42ca-4d96-baab-57626250990a' class='xr-var-attrs-in' type='checkbox' ><label for='attrs-0346c9e7-42ca-4d96-baab-57626250990a' title='Show/Hide attributes'><svg class='icon xr-icon-file-text2'><use xlink:href='#icon-file-text2'></use></svg></label><input id='data-c93ae24e-0b2a-4a6f-89b9-d8929e7c1ed0' class='xr-var-data-in' type='checkbox'><label for='data-c93ae24e-0b2a-4a6f-89b9-d8929e7c1ed0' title='Show/Hide data repr'><svg class='icon xr-icon-database'><use xlink:href='#icon-database'></use></svg></label><div class='xr-var-attrs'><dl class='xr-attrs'><dt><span>long_name :</span></dt><dd>cross_correlation</dd><dt><span>standard_name :</span></dt><dd>cross_correlation_ratio_hv</dd><dt><span>units :</span></dt><dd></dd><dt><span>sampling_ratio :</span></dt><dd>1.0</dd><dt><span>grid_mapping :</span></dt><dd>grid_mapping</dd></dl></div><div class='xr-var-data'><pre>[4165920 values with dtype=float32]</pre></div></li><li class='xr-var-item'><div class='xr-var-name'><span>REF_s1</span></div><div class='xr-var-dims'>(n_points)</div><div class='xr-var-dtype'>float32</div><div class='xr-var-preview xr-preview'>...</div><input id='attrs-0113c1fd-8787-43a3-8e2a-007571141845' class='xr-var-attrs-in' type='checkbox' ><label for='attrs-0113c1fd-8787-43a3-8e2a-007571141845' title='Show/Hide attributes'><svg class='icon xr-icon-file-text2'><use xlink:href='#icon-file-text2'></use></svg></label><input id='data-00a209d2-a88e-4d4b-9505-30d78a743d45' class='xr-var-data-in' type='checkbox'><label for='data-00a209d2-a88e-4d4b-9505-30d78a743d45' title='Show/Hide data repr'><svg class='icon xr-icon-database'><use xlink:href='#icon-database'></use></svg></label><div class='xr-var-attrs'><dl class='xr-attrs'><dt><span>long_name :</span></dt><dd>radar_reflectivity</dd><dt><span>standard_name :</span></dt><dd>equivalent_reflectivity_factor</dd><dt><span>units :</span></dt><dd>dBZ</dd><dt><span>sampling_ratio :</span></dt><dd>1.0</dd><dt><span>grid_mapping :</span></dt><dd>grid_mapping</dd></dl></div><div class='xr-var-data'><pre>[4165920 values with dtype=float32]</pre></div></li><li class='xr-var-item'><div class='xr-var-name'><span>REF_s3</span></div><div class='xr-var-dims'>(n_points)</div><div class='xr-var-dtype'>float32</div><div class='xr-var-preview xr-preview'>...</div><input id='attrs-cedf6bec-d9c8-429a-94e8-e69a4477079d' class='xr-var-attrs-in' type='checkbox' ><label for='attrs-cedf6bec-d9c8-429a-94e8-e69a4477079d' title='Show/Hide attributes'><svg class='icon xr-icon-file-text2'><use xlink:href='#icon-file-text2'></use></svg></label><input id='data-874fed88-79f8-40f4-a04e-5d570ecc00fc' class='xr-var-data-in' type='checkbox'><label for='data-874fed88-79f8-40f4-a04e-5d570ecc00fc' title='Show/Hide data repr'><svg class='icon xr-icon-database'><use xlink:href='#icon-database'></use></svg></label><div class='xr-var-attrs'><dl class='xr-attrs'><dt><span>long_name :</span></dt><dd>radar_reflectivity</dd><dt><span>standard_name :</span></dt><dd>equivalent_reflectivity_factor</dd><dt><span>units :</span></dt><dd>dBZ</dd><dt><span>sampling_ratio :</span></dt><dd>1.0</dd><dt><span>grid_mapping :</span></dt><dd>grid_mapping</dd></dl></div><div class='xr-var-data'><pre>[4165920 values with dtype=float32]</pre></div></li><li class='xr-var-item'><div class='xr-var-name'><span>REF_s5</span></div><div class='xr-var-dims'>(n_points)</div><div class='xr-var-dtype'>float32</div><div class='xr-var-preview xr-preview'>...</div><input id='attrs-77b51e78-d1f9-475e-adc6-c1be385c6b80' class='xr-var-attrs-in' type='checkbox' ><label for='attrs-77b51e78-d1f9-475e-adc6-c1be385c6b80' title='Show/Hide attributes'><svg class='icon xr-icon-file-text2'><use xlink:href='#icon-file-text2'></use></svg></label><input id='data-a82d3b24-e6d1-4812-b133-330224794fde' class='xr-var-data-in' type='checkbox'><label for='data-a82d3b24-e6d1-4812-b133-330224794fde' title='Show/Hide data repr'><svg class='icon xr-icon-database'><use xlink:href='#icon-database'></use></svg></label><div class='xr-var-attrs'><dl class='xr-attrs'><dt><span>long_name :</span></dt><dd>radar_reflectivity</dd><dt><span>standard_name :</span></dt><dd>equivalent_reflectivity_factor</dd><dt><span>units :</span></dt><dd>dBZ</dd><dt><span>sampling_ratio :</span></dt><dd>1.0</dd><dt><span>grid_mapping :</span></dt><dd>grid_mapping</dd></dl></div><div class='xr-var-data'><pre>[4165920 values with dtype=float32]</pre></div></li></ul></div></li><li class='xr-section-item'><input id='section-eac1d7a7-5bcd-4ad1-bae2-87a74bd7bdee' class='xr-section-summary-in' type='checkbox'  ><label for='section-eac1d7a7-5bcd-4ad1-bae2-87a74bd7bdee' class='xr-section-summary' >Indexes: <span>(3)</span></label><div class='xr-section-inline-details'></div><div class='xr-section-details'><ul class='xr-var-list'><li class='xr-var-item'><div class='xr-index-name'><div>frequency</div></div><div class='xr-index-preview'>PandasIndex</div><div></div><input id='index-dc69cfaf-945d-4c1a-aa00-513f0d71e564' class='xr-index-data-in' type='checkbox'/><label for='index-dc69cfaf-945d-4c1a-aa00-513f0d71e564' title='Show/Hide index repr'><svg class='icon xr-icon-database'><use xlink:href='#icon-database'></use></svg></label><div class='xr-index-data'><pre>PandasIndex(Index([2770000000.0], dtype=&#x27;float32&#x27;, name=&#x27;frequency&#x27;))</pre></div></li><li class='xr-var-item'><div class='xr-index-name'><div>time</div></div><div class='xr-index-preview'>PandasIndex</div><div></div><input id='index-f4c720be-7c46-485f-81f8-5be906d5b4bc' class='xr-index-data-in' type='checkbox'/><label for='index-f4c720be-7c46-485f-81f8-5be906d5b4bc' title='Show/Hide index repr'><svg class='icon xr-icon-database'><use xlink:href='#icon-database'></use></svg></label><div class='xr-index-data'><pre>PandasIndex(DatetimeIndex([&#x27;2017-04-08 00:14:52.962000&#x27;, &#x27;2017-04-08 00:14:53.065000&#x27;,\n",
       "               &#x27;2017-04-08 00:14:53.155000&#x27;, &#x27;2017-04-08 00:14:53.260000&#x27;,\n",
       "               &#x27;2017-04-08 00:14:53.363000&#x27;, &#x27;2017-04-08 00:14:53.466000&#x27;,\n",
       "               &#x27;2017-04-08 00:14:53.553000&#x27;, &#x27;2017-04-08 00:14:53.661000&#x27;,\n",
       "               &#x27;2017-04-08 00:14:53.753000&#x27;, &#x27;2017-04-08 00:14:53.858000&#x27;,\n",
       "               ...\n",
       "               &#x27;2017-04-08 00:23:19.155000&#x27;, &#x27;2017-04-08 00:23:19.361000&#x27;,\n",
       "               &#x27;2017-04-08 00:23:19.558000&#x27;, &#x27;2017-04-08 00:23:19.762000&#x27;,\n",
       "               &#x27;2017-04-08 00:23:19.957000&#x27;, &#x27;2017-04-08 00:23:20.154000&#x27;,\n",
       "               &#x27;2017-04-08 00:23:20.358000&#x27;, &#x27;2017-04-08 00:23:20.548000&#x27;,\n",
       "               &#x27;2017-04-08 00:23:20.745000&#x27;, &#x27;2017-04-08 00:23:20.954000&#x27;],\n",
       "              dtype=&#x27;datetime64[ns]&#x27;, name=&#x27;time&#x27;, length=2880, freq=None))</pre></div></li><li class='xr-var-item'><div class='xr-index-name'><div>range</div></div><div class='xr-index-preview'>PandasIndex</div><div></div><input id='index-d9c6d7e0-40d3-44a5-adcb-40cd05c9d105' class='xr-index-data-in' type='checkbox'/><label for='index-d9c6d7e0-40d3-44a5-adcb-40cd05c9d105' title='Show/Hide index repr'><svg class='icon xr-icon-database'><use xlink:href='#icon-database'></use></svg></label><div class='xr-index-data'><pre>PandasIndex(Index([  2125.0,   2375.0,   2625.0,   2875.0,   3125.0,   3375.0,   3625.0,\n",
       "         3875.0,   4125.0,   4375.0,\n",
       "       ...\n",
       "       457625.0, 457875.0, 458125.0, 458375.0, 458625.0, 458875.0, 459125.0,\n",
       "       459375.0, 459625.0, 459875.0],\n",
       "      dtype=&#x27;float32&#x27;, name=&#x27;range&#x27;, length=1832))</pre></div></li></ul></div></li><li class='xr-section-item'><input id='section-39a9cf15-af47-48b4-930a-84b3cce5cc52' class='xr-section-summary-in' type='checkbox'  ><label for='section-39a9cf15-af47-48b4-930a-84b3cce5cc52' class='xr-section-summary' >Attributes: <span>(25)</span></label><div class='xr-section-inline-details'></div><div class='xr-section-details'><dl class='xr-attrs'><dt><span>Conventions :</span></dt><dd>CF-1.7</dd><dt><span>Sub_conventions :</span></dt><dd>CF-Radial instrument_parameters radar_parameters radar_calibration</dd><dt><span>version :</span></dt><dd>CF-Radial-1.4</dd><dt><span>title :</span></dt><dd></dd><dt><span>institution :</span></dt><dd></dd><dt><span>references :</span></dt><dd></dd><dt><span>source :</span></dt><dd>ARCHIVE 2 data</dd><dt><span>history :</span></dt><dd></dd><dt><span>comment :</span></dt><dd></dd><dt><span>original_format :</span></dt><dd>NEXRAD</dd><dt><span>driver :</span></dt><dd>RadxConvert(NCAR)</dd><dt><span>created :</span></dt><dd>2019/07/01 19:57:10.145</dd><dt><span>start_datetime :</span></dt><dd>2017-04-08T00:14:52Z</dd><dt><span>time_coverage_start :</span></dt><dd>2017-04-08T00:14:52Z</dd><dt><span>start_time :</span></dt><dd>2017-04-08 00:14:52.962</dd><dt><span>end_datetime :</span></dt><dd>2017-04-08T00:23:20Z</dd><dt><span>time_coverage_end :</span></dt><dd>2017-04-08T00:23:20Z</dd><dt><span>end_time :</span></dt><dd>2017-04-08 00:23:20.954</dd><dt><span>instrument_name :</span></dt><dd>KARX</dd><dt><span>site_name :</span></dt><dd></dd><dt><span>scan_name :</span></dt><dd>Surveillance</dd><dt><span>scan_id :</span></dt><dd>31</dd><dt><span>platform_is_mobile :</span></dt><dd>false</dd><dt><span>n_gates_vary :</span></dt><dd>true</dd><dt><span>ray_times_increase :</span></dt><dd>true</dd></dl></div></li></ul></div></div>"
      ],
      "text/plain": [
       "<xarray.Dataset>\n",
       "Dimensions:                           (frequency: 1, sweep: 5, r_calib: 1,\n",
       "                                       time: 2880, range: 1832,\n",
       "                                       n_points: 4165920)\n",
       "Coordinates:\n",
       "  * frequency                         (frequency) float32 2.77e+09\n",
       "  * time                              (time) datetime64[ns] 2017-04-08T00:14:...\n",
       "  * range                             (range) float32 2.125e+03 ... 4.599e+05\n",
       "Dimensions without coordinates: sweep, r_calib, n_points\n",
       "Data variables: (12/109)\n",
       "    volume_number                     float64 ...\n",
       "    platform_type                     |S32 ...\n",
       "    primary_axis                      |S32 ...\n",
       "    status_xml                        |S1 ...\n",
       "    instrument_type                   |S32 ...\n",
       "    radar_antenna_gain_h              float32 ...\n",
       "    ...                                ...\n",
       "    ZDR                               (n_points) float32 ...\n",
       "    PHI                               (n_points) float32 ...\n",
       "    RHO                               (n_points) float32 ...\n",
       "    REF_s1                            (n_points) float32 ...\n",
       "    REF_s3                            (n_points) float32 ...\n",
       "    REF_s5                            (n_points) float32 ...\n",
       "Attributes: (12/25)\n",
       "    Conventions:          CF-1.7\n",
       "    Sub_conventions:      CF-Radial instrument_parameters radar_parameters ra...\n",
       "    version:              CF-Radial-1.4\n",
       "    title:                \n",
       "    institution:          \n",
       "    references:           \n",
       "    ...                   ...\n",
       "    site_name:            \n",
       "    scan_name:            Surveillance\n",
       "    scan_id:              31\n",
       "    platform_is_mobile:   false\n",
       "    n_gates_vary:         true\n",
       "    ray_times_increase:   true"
      ]
     },
     "metadata": {},
     "output_type": "display_data"
    }
   ],
   "source": [
    "# read dataset\n",
    "#ds = xr.open_dataset(\"/Users/brenda/data/mdv/mrms_3d/20150626/20150626_230012.mdv.nc\")\n",
    "ds = xr.open_dataset(\"/Users/brenda/data/cfrad.20170408_001452.962_to_20170408_002320.954_KARX_Surveillance_SUR.nc\")\n",
    "\n",
    "# df = local_dataset.to_dataframe()  # convert to dataframe\n",
    "display(ds)"
   ]
  },
  {
   "cell_type": "code",
   "execution_count": 8,
   "id": "05219eae-e002-40ab-992e-3d3bf5732294",
   "metadata": {},
   "outputs": [],
   "source": [
    "#ds.x0[0]\n",
    "#xy = np.meshgrid(ds.x0, ds.y0)\n",
    "#xy"
   ]
  },
  {
   "cell_type": "code",
   "execution_count": 9,
   "id": "ac34af0c-d79b-4fc1-b925-e39197008f3c",
   "metadata": {},
   "outputs": [
    {
     "ename": "AttributeError",
     "evalue": "'Dataset' object has no attribute 'DBZ'",
     "output_type": "error",
     "traceback": [
      "\u001b[0;31m---------------------------------------------------------------------------\u001b[0m",
      "\u001b[0;31mAttributeError\u001b[0m                            Traceback (most recent call last)",
      "Cell \u001b[0;32mIn[9], line 1\u001b[0m\n\u001b[0;32m----> 1\u001b[0m \u001b[43mds\u001b[49m\u001b[38;5;241;43m.\u001b[39;49m\u001b[43mDBZ\u001b[49m[\u001b[38;5;241m0\u001b[39m,\u001b[38;5;241m0\u001b[39m,:,:]\u001b[38;5;241m.\u001b[39mplot()\n\u001b[1;32m      2\u001b[0m \u001b[38;5;66;03m# uses very basic matplotlib plot operation. \u001b[39;00m\n",
      "File \u001b[0;32m~/miniforge3/envs/leaflet/lib/python3.12/site-packages/xarray/core/common.py:278\u001b[0m, in \u001b[0;36mAttrAccessMixin.__getattr__\u001b[0;34m(self, name)\u001b[0m\n\u001b[1;32m    276\u001b[0m         \u001b[38;5;28;01mwith\u001b[39;00m suppress(\u001b[38;5;167;01mKeyError\u001b[39;00m):\n\u001b[1;32m    277\u001b[0m             \u001b[38;5;28;01mreturn\u001b[39;00m source[name]\n\u001b[0;32m--> 278\u001b[0m \u001b[38;5;28;01mraise\u001b[39;00m \u001b[38;5;167;01mAttributeError\u001b[39;00m(\n\u001b[1;32m    279\u001b[0m     \u001b[38;5;124mf\u001b[39m\u001b[38;5;124m\"\u001b[39m\u001b[38;5;132;01m{\u001b[39;00m\u001b[38;5;28mtype\u001b[39m(\u001b[38;5;28mself\u001b[39m)\u001b[38;5;241m.\u001b[39m\u001b[38;5;18m__name__\u001b[39m\u001b[38;5;132;01m!r}\u001b[39;00m\u001b[38;5;124m object has no attribute \u001b[39m\u001b[38;5;132;01m{\u001b[39;00mname\u001b[38;5;132;01m!r}\u001b[39;00m\u001b[38;5;124m\"\u001b[39m\n\u001b[1;32m    280\u001b[0m )\n",
      "\u001b[0;31mAttributeError\u001b[0m: 'Dataset' object has no attribute 'DBZ'"
     ]
    }
   ],
   "source": [
    "ds.DBZ[0,0,:,:].plot()\n",
    "# uses very basic matplotlib plot operation. "
   ]
  },
  {
   "cell_type": "code",
   "execution_count": 9,
   "id": "1da3e560-d5e3-4c49-9594-f4f00c226b2b",
   "metadata": {},
   "outputs": [
    {
     "data": {
      "text/plain": [
       "(1505, 2005)"
      ]
     },
     "metadata": {},
     "output_type": "display_data"
    }
   ],
   "source": [
    "dbz = ds.DBZ\n",
    "# dbz = df[\"DBZ\"]\n",
    "\n",
    "#dbz.index\n",
    "\n",
    "#dbz2 = local_dataset[\"DBZ\"]\n",
    "#display(dbz)\n",
    "# (time, z0, y0, x0)\n",
    "dbzt0z0 = dbz[0,0,:,:]\n",
    "dbz_xy = np.squeeze(dbzt0z0).shape\n",
    "display(dbz_xy)\n",
    "#dbznp = dbzt0z0.tolist()\n",
    "\n",
    "#display(dbznp[3017524])\n",
    "#dbz[1,1]\n",
    "\n",
    "# lats = f1.variables[\"y0\"][:]\n",
    "# lons = f1.variables[\"x0\"][:]\n",
    "# time = f1.variables[\"time\"]"
   ]
  },
  {
   "cell_type": "code",
   "execution_count": 10,
   "id": "d1f93036-e2ac-4b4a-81af-517938ce8148",
   "metadata": {},
   "outputs": [
    {
     "data": {
      "text/plain": [
       "3017525"
      ]
     },
     "execution_count": 10,
     "metadata": {},
     "output_type": "execute_result"
    }
   ],
   "source": [
    "#                      (time, z0, y0, x0)\n",
    "time_i = 0\n",
    "z0_i = 0\n",
    "y0_i = 0\n",
    "dbz = np.array(np.squeeze(ds.DBZ[time_i,z0_i,:,:])).reshape(-1)\n",
    "#dbz = np.squeeze(ds.DBZ[time_i,z0_i,0:1505:500,0:2004:80])\n",
    "#dbz_sample = dbz * -1/10 # [0:5, 0:5]  dbz has two dimensions: x0, y0!!! try .to_stacked_array \n",
    "#type(dbz_sample.to_numpy().tolist())\n",
    "#dbz_sample.to_numpy().tolist()\n",
    "len(dbz)"
   ]
  },
  {
   "cell_type": "code",
   "execution_count": null,
   "id": "5808109b-be70-4c17-8223-f15043f2cf11",
   "metadata": {},
   "outputs": [],
   "source": [
    "a = np.array((1,2,3))\n",
    "b = np.array((82,83,84))\n",
    "np.column_stack((a,b)).tolist()\n",
    "av = np.array(np.meshgrid(a,b)).T.reshape(-1,2)\n",
    "av\n",
    "# the grid is rectangular (x0 and y0 have different lengths\n",
    "#x0y0 = np.column_stack((ds.x0,ds.y0)).tolist()  \n",
    "\n",
    "t = ((11,21),(12,22),(13,23))\n",
    "type(t)\n",
    "\n",
    "g = np.random.uniform(-80, 80, (n, 2))\n",
    "type(g)\n",
    "np.column_stack((g,b)).tolist()\n",
    "# print(dbz[110,50].values)\n",
    "#somedata = np.random.uniform(-80, 80, (25, 2))\n",
    "#display(somedata)"
   ]
  },
  {
   "cell_type": "code",
   "execution_count": null,
   "id": "f7381bef-f311-4309-bf82-b5e8e1cc273b",
   "metadata": {},
   "outputs": [],
   "source": [
    "n = 3\n",
    "h = np.random.uniform(-80, 80, (n, 2))\n",
    "h\n",
    "#np.column_stack( h, [0,1,3])"
   ]
  },
  {
   "cell_type": "code",
   "execution_count": null,
   "id": "5fe6ffc0-cc8f-452a-aae2-0ba048748595",
   "metadata": {},
   "outputs": [],
   "source": [
    "bx = [0, 2, 4, 6]\n",
    "by = [0,-2,-4,-6]\n",
    "yx = np.array(np.meshgrid(by, bx)).T.reshape(-1,2)\n",
    "yx"
   ]
  },
  {
   "cell_type": "code",
   "execution_count": 11,
   "id": "01e0a94c-c516-4268-a0b6-6d1c75beff89",
   "metadata": {},
   "outputs": [
    {
     "data": {
      "text/plain": [
       "array([[  29.984999, -110.015015],\n",
       "       [  29.984999, -110.00501 ],\n",
       "       [  29.984999, -109.99502 ],\n",
       "       ...,\n",
       "       [  45.024998,  -89.99501 ],\n",
       "       [  45.024998,  -89.985016],\n",
       "       [  45.024998,  -89.97501 ]], dtype=float32)"
      ]
     },
     "execution_count": 11,
     "metadata": {},
     "output_type": "execute_result"
    }
   ],
   "source": [
    "#a = np.array((1,2,3))\n",
    "#b = np.array((82,83,84))\n",
    "#np.column_stack((a,b)).tolist()\n",
    "\n",
    "av = np.array(np.meshgrid(ds.y0,ds.x0)).T.reshape(-1,2)\n",
    "av_sample = av   # [0:1000:40]  \n",
    "av_sample\n",
    "#av_sample.tolist()\n",
    "#av.size\n",
    "#ds.x0.size * ds.y0.size\n",
    "# the grid is rectangular (x0 and y0 have different lengths\n",
    "#x0y0 = np.column_stack((ds.x0,ds.y0)).tolist()  "
   ]
  },
  {
   "cell_type": "code",
   "execution_count": 12,
   "id": "06e10092-fa0b-454c-b9a5-681c00665eec",
   "metadata": {},
   "outputs": [],
   "source": [
    "class MdvMap:\n",
    "    def __init__(self, points, values, radius=20):\n",
    "        self.points = points\n",
    "        self.values = values\n",
    "        self.radius = radius\n",
    "\n",
    "    @property\n",
    "    def data(self):\n",
    "        return np.column_stack((self.points, self.values))\n",
    "\n",
    "    def as_leaflet_layer(self):\n",
    "        from ipyleaflet import Heatmap\n",
    "        return Heatmap(\n",
    "            locations=self.data.tolist(),\n",
    "            radius=self.radius, blur=0, gradient={0.4: \"blue\", 0.6: \"cyan\", 0.7: \"lime\", 0.8: \"yellow\", 1.0: \"red\"}\n",
    "        )"
   ]
  },
  {
   "cell_type": "code",
   "execution_count": null,
   "id": "d0efaeb2-0d01-41a4-9610-0f181724defc",
   "metadata": {},
   "outputs": [],
   "source": [
    "b.size"
   ]
  },
  {
   "cell_type": "code",
   "execution_count": 13,
   "id": "2894297e-41b9-4ef0-af2b-e4d1ab4cf9f0",
   "metadata": {},
   "outputs": [
    {
     "ename": "NameError",
     "evalue": "name 'widgets' is not defined",
     "output_type": "error",
     "traceback": [
      "\u001b[0;31m---------------------------------------------------------------------------\u001b[0m",
      "\u001b[0;31mNameError\u001b[0m                                 Traceback (most recent call last)",
      "Cell \u001b[0;32mIn[13], line 35\u001b[0m\n\u001b[1;32m     26\u001b[0m my_zoom_control \u001b[38;5;241m=\u001b[39m ZoomControl(position\u001b[38;5;241m=\u001b[39m\u001b[38;5;124m'\u001b[39m\u001b[38;5;124mtopright\u001b[39m\u001b[38;5;124m'\u001b[39m)\n\u001b[1;32m     28\u001b[0m \u001b[38;5;66;03m# ipywidgets is powered by traitlets, this brings an observer pattern implementation \u001b[39;00m\n\u001b[1;32m     29\u001b[0m \u001b[38;5;66;03m# which allows you to react on widget attribute changes.\u001b[39;00m\n\u001b[1;32m     30\u001b[0m \n\u001b[0;32m   (...)\u001b[0m\n\u001b[1;32m     33\u001b[0m \u001b[38;5;66;03m#    pass\u001b[39;00m\n\u001b[1;32m     34\u001b[0m \u001b[38;5;66;03m# marker.observe(on_location_changed, 'location')\u001b[39;00m\n\u001b[0;32m---> 35\u001b[0m caption \u001b[38;5;241m=\u001b[39m \u001b[43mwidgets\u001b[49m\u001b[38;5;241m.\u001b[39mLabel(value\u001b[38;5;241m=\u001b[39m\u001b[38;5;124m'\u001b[39m\u001b[38;5;124mThe slider value is in its initial position.\u001b[39m\u001b[38;5;124m'\u001b[39m)\n\u001b[1;32m     36\u001b[0m \u001b[38;5;28;01mdef\u001b[39;00m \u001b[38;5;21mon_zoom_level_changed\u001b[39m(event):\n\u001b[1;32m     37\u001b[0m     \u001b[38;5;66;03m# Adjust the radius and the sample spacing; get zoom level from event['new']\u001b[39;00m\n\u001b[1;32m     38\u001b[0m     caption\u001b[38;5;241m.\u001b[39mvalue \u001b[38;5;241m=\u001b[39m \u001b[38;5;124m'\u001b[39m\u001b[38;5;124mThe zoom level is \u001b[39m\u001b[38;5;124m'\u001b[39m \u001b[38;5;241m+\u001b[39m event\u001b[38;5;241m.\u001b[39mnew\n",
      "\u001b[0;31mNameError\u001b[0m: name 'widgets' is not defined"
     ]
    }
   ],
   "source": [
    "from ipyleaflet import Map, ZoomControl\n",
    "\n",
    "#n = 1000\n",
    "#data = MdvMap(\n",
    "#    np.random.uniform(-80, 80, (n, 2)), # generates 1000 * 2 points (i.e. 1000 x,y coordinates)\n",
    "#    np.random.uniform(0, 1000, n),\n",
    "#)\n",
    "#data = MdvMap(av, dbz)\n",
    "zoom_range = 12\n",
    "zoom_level = 2\n",
    "radius = zoom_level\n",
    "npoints = 100\n",
    "ncoords = len(av_sample)\n",
    "ndata = len(dbz)\n",
    "data_sample_scale = (zoom_range + 1 - zoom_level) / zoom_range\n",
    "nsamples = ncoords / 3\n",
    "everyn = int( ncoords / nsamples )\n",
    "everyn\n",
    "\n",
    "#subset = av_sample[0:ncoords:5] # everyn]\n",
    "#subset\n",
    "#zoom_level / zoom_range\n",
    "\n",
    "data = MdvMap(av_sample[0:ncoords:everyn], dbz[0:ndata:everyn], radius)\n",
    "\n",
    "my_zoom_control = ZoomControl(position='topright')\n",
    "\n",
    "# ipywidgets is powered by traitlets, this brings an observer pattern implementation \n",
    "# which allows you to react on widget attribute changes.\n",
    "\n",
    "#def on_location_changed(event):\n",
    "#    # Do some computation given the new marker location, accessible from `event['new']`\n",
    "#    pass\n",
    "# marker.observe(on_location_changed, 'location')\n",
    "caption = widgets.Label(value='The slider value is in its initial position.')\n",
    "def on_zoom_level_changed(event):\n",
    "    # Adjust the radius and the sample spacing; get zoom level from event['new']\n",
    "    caption.value = 'The zoom level is ' + event.new\n",
    "    pass\n",
    "\n",
    "#caption = widgets.Label(value='The slider value is in its initial position.')\n",
    "#slider = widgets.IntSlider(min=-5, max=5, value=1, description='Slider')\n",
    "\n",
    "#def handle_slider_change(change):\n",
    "#    caption.value = 'The slider value is ' + (\n",
    "#        'negative' if change.new < 0 else 'nonnegative'\n",
    "#    )\n",
    "\n",
    "#slider.observe(handle_slider_change, names='value')\n",
    "#display(caption, slider)\n",
    " \n",
    "\n",
    "# my_zoom_control.observe(on_zoom_level_changed, names='zoom')\n",
    "#display(caption, my_zoom_control)\n",
    "m = Map(center=(35, -92), zoom=zoom_level) #, zoom_control=False)\n",
    "# m.add(my_zoom_control)\n",
    "m.add(data)\n",
    "#display(m)\n"
   ]
  },
  {
   "cell_type": "code",
   "execution_count": 44,
   "id": "bfb61fd4-863f-4e82-b776-21e8f52a930f",
   "metadata": {},
   "outputs": [
    {
     "data": {
      "application/vnd.jupyter.widget-view+json": {
       "model_id": "e4a3964e2a7649b1a2e986dde5ce1462",
       "version_major": 2,
       "version_minor": 0
      },
      "text/plain": [
       "Button(description='Click Me!', style=ButtonStyle())"
      ]
     },
     "metadata": {},
     "output_type": "display_data"
    },
    {
     "data": {
      "application/vnd.jupyter.widget-view+json": {
       "model_id": "972f39c0d14e4e958ab35714a6dbf70b",
       "version_major": 2,
       "version_minor": 0
      },
      "text/plain": [
       "Output()"
      ]
     },
     "metadata": {},
     "output_type": "display_data"
    },
    {
     "data": {
      "application/vnd.jupyter.widget-view+json": {
       "model_id": "69374544302e48128665764e4c6230aa",
       "version_major": 2,
       "version_minor": 0
      },
      "text/plain": [
       "Map(bottom=1822.0, center=[35, -92], controls=(ZoomControl(options=['position', 'zoom_in_text', 'zoom_in_title…"
      ]
     },
     "metadata": {},
     "output_type": "display_data"
    },
    {
     "data": {
      "application/vnd.jupyter.widget-view+json": {
       "model_id": "948b869840f6453293f966c3dd5af881",
       "version_major": 2,
       "version_minor": 0
      },
      "text/plain": [
       "Output()"
      ]
     },
     "metadata": {},
     "output_type": "display_data"
    },
    {
     "data": {
      "application/vnd.jupyter.widget-view+json": {
       "model_id": "26263af2d7c049e9afb15f2d445440b6",
       "version_major": 2,
       "version_minor": 0
      },
      "text/plain": [
       "Select(description='moment or field to display:', options=('DBZ', 'VEL', '??'), value='DBZ')"
      ]
     },
     "metadata": {},
     "output_type": "display_data"
    }
   ],
   "source": [
    "import ipywidgets as widgets\n",
    "button = widgets.Button(description=\"Click Me!\")\n",
    "output = widgets.Output()\n",
    "\n",
    "display(button, output)\n",
    "\n",
    "\n",
    "def on_button_clicked(b):\n",
    "    with output:\n",
    "        print(\"Button clicked. zoom level \")\n",
    "    with m:\n",
    "        # m.zoom = 8\n",
    "        m = Map(center=(35, -92), zoom=8)\n",
    "        \n",
    "\n",
    "button.on_click(on_button_clicked)\n",
    "\n",
    "output2 = widgets.Output()\n",
    "\n",
    "\n",
    "def on_value_change(change):\n",
    "    with output2:\n",
    "        print(change['new'])\n",
    "\n",
    "m.observe(on_value_change, names='zoom')\n",
    "\n",
    "def on_field_selected(change):\n",
    "    with output2:\n",
    "        print(change['new'])\n",
    "        \n",
    "field_list = widgets.Select(\n",
    "    options=['DBZ', 'VEL', '??'],\n",
    "    value='DBZ',\n",
    "    # rows=10,\n",
    "    description='moment or field to display:',\n",
    "    disabled=False\n",
    ")\n",
    "field_list.observe(on_field_selected)\n",
    "m.add(field_list) # I don't think this does anything??\n",
    "display(m, output2, field_list)"
   ]
  },
  {
   "cell_type": "code",
   "execution_count": 42,
   "id": "07866c7c-ecf1-461e-94a7-51aa40a75315",
   "metadata": {},
   "outputs": [
    {
     "data": {
      "text/plain": [
       "(ZoomControl(options=['position', 'zoom_in_text', 'zoom_in_title', 'zoom_out_text', 'zoom_out_title']),\n",
       " AttributionControl(options=['position', 'prefix'], position='bottomright'))"
      ]
     },
     "execution_count": 42,
     "metadata": {},
     "output_type": "execute_result"
    }
   ],
   "source": [
    "m.controls"
   ]
  },
  {
   "cell_type": "code",
   "execution_count": 1,
   "id": "b4dff999-0060-4a19-9058-b4da70a07458",
   "metadata": {},
   "outputs": [
    {
     "name": "stdout",
     "output_type": "stream",
     "text": [
      "Setup a handler to be called when a trait changes.\n",
      "\n",
      "        This is used to setup dynamic notifications of trait changes.\n",
      "\n",
      "        Parameters\n",
      "        ----------\n",
      "        handler : callable\n",
      "            A callable that is called when a trait changes. Its\n",
      "            signature should be ``handler(change)``, where ``change`` is a\n",
      "            dictionary. The change dictionary at least holds a 'type' key.\n",
      "            * ``type``: the type of notification.\n",
      "            Other keys may be passed depending on the value of 'type'. In the\n",
      "            case where type is 'change', we also have the following keys:\n",
      "            * ``owner`` : the HasTraits instance\n",
      "            * ``old`` : the old value of the modified trait attribute\n",
      "            * ``new`` : the new value of the modified trait attribute\n",
      "            * ``name`` : the name of the modified trait attribute.\n",
      "        names : list, str, All\n",
      "            If names is All, the handler will apply to all traits.  If a list\n",
      "            of str, handler will apply to all names in the list.  If a\n",
      "            str, the handler will apply just to that name.\n",
      "        type : str, All (default: 'change')\n",
      "            The type of notification to filter by. If equal to All, then all\n",
      "            notifications are passed to the observe handler.\n",
      "        \n"
     ]
    },
    {
     "data": {
      "application/vnd.jupyter.widget-view+json": {
       "model_id": "1c8a342f167c45979ee8c30eaadf1e4f",
       "version_major": 2,
       "version_minor": 0
      },
      "text/plain": [
       "Label(value='The slider value is in its initial position.')"
      ]
     },
     "metadata": {},
     "output_type": "display_data"
    },
    {
     "data": {
      "application/vnd.jupyter.widget-view+json": {
       "model_id": "88dd6ea0508d4b8db4e252dbe20c3298",
       "version_major": 2,
       "version_minor": 0
      },
      "text/plain": [
       "IntSlider(value=1, description='Slider', max=5, min=-5)"
      ]
     },
     "metadata": {},
     "output_type": "display_data"
    }
   ],
   "source": [
    "import ipywidgets as widgets\n",
    "from ipyleaflet import ZoomControl\n",
    "# print(widgets.Widget.observe.__doc__)\n",
    "print(ZoomControl.observe.__doc__)\n",
    "\n",
    "\n",
    "caption = widgets.Label(value='The slider value is in its initial position.')\n",
    "slider = widgets.IntSlider(min=-5, max=5, value=1, description='Slider')\n",
    "\n",
    "def handle_slider_change(change):\n",
    "    caption.value = 'The slider value is ' + (\n",
    "        'negative' if change.new < 0 else 'nonnegative'\n",
    "    )\n",
    "\n",
    "slider.observe(handle_slider_change, names='value')\n",
    "\n",
    "display(caption, slider)"
   ]
  },
  {
   "cell_type": "code",
   "execution_count": 35,
   "id": "6000f30a-494f-498f-b3a1-dce45561178c",
   "metadata": {},
   "outputs": [
    {
     "ename": "TypeError",
     "evalue": "Dimensions of C (1505, 2005) should be one smaller than X(1505) and Y(2005) while using shading='flat' see help(pcolormesh)",
     "output_type": "error",
     "traceback": [
      "\u001b[0;31m---------------------------------------------------------------------------\u001b[0m",
      "\u001b[0;31mTypeError\u001b[0m                                 Traceback (most recent call last)",
      "Cell \u001b[0;32mIn[35], line 6\u001b[0m\n\u001b[1;32m      4\u001b[0m x \u001b[38;5;241m=\u001b[39m dbz[:,\u001b[38;5;241m0\u001b[39m]\n\u001b[1;32m      5\u001b[0m y \u001b[38;5;241m=\u001b[39m dbz[\u001b[38;5;241m0\u001b[39m,:]\n\u001b[0;32m----> 6\u001b[0m im \u001b[38;5;241m=\u001b[39m \u001b[43max\u001b[49m\u001b[38;5;241;43m.\u001b[39;49m\u001b[43mpcolormesh\u001b[49m\u001b[43m(\u001b[49m\u001b[43mdbz\u001b[49m\u001b[43m[\u001b[49m\u001b[43m:\u001b[49m\u001b[43m,\u001b[49m\u001b[38;5;241;43m0\u001b[39;49m\u001b[43m]\u001b[49m\u001b[43m,\u001b[49m\u001b[43m \u001b[49m\u001b[43mdbz\u001b[49m\u001b[43m[\u001b[49m\u001b[38;5;241;43m0\u001b[39;49m\u001b[43m,\u001b[49m\u001b[43m:\u001b[49m\u001b[43m]\u001b[49m\u001b[43m,\u001b[49m\u001b[43m \u001b[49m\u001b[43mdbz\u001b[49m\u001b[43m)\u001b[49m\n\u001b[1;32m      7\u001b[0m \u001b[38;5;66;03m# add a color bar\u001b[39;00m\n\u001b[1;32m      8\u001b[0m fig\u001b[38;5;241m.\u001b[39mcolorbar(im, ax\u001b[38;5;241m=\u001b[39max)\n",
      "File \u001b[0;32m~/miniforge3/envs/leaflet/lib/python3.12/site-packages/matplotlib/__init__.py:1465\u001b[0m, in \u001b[0;36m_preprocess_data.<locals>.inner\u001b[0;34m(ax, data, *args, **kwargs)\u001b[0m\n\u001b[1;32m   1462\u001b[0m \u001b[38;5;129m@functools\u001b[39m\u001b[38;5;241m.\u001b[39mwraps(func)\n\u001b[1;32m   1463\u001b[0m \u001b[38;5;28;01mdef\u001b[39;00m \u001b[38;5;21minner\u001b[39m(ax, \u001b[38;5;241m*\u001b[39margs, data\u001b[38;5;241m=\u001b[39m\u001b[38;5;28;01mNone\u001b[39;00m, \u001b[38;5;241m*\u001b[39m\u001b[38;5;241m*\u001b[39mkwargs):\n\u001b[1;32m   1464\u001b[0m     \u001b[38;5;28;01mif\u001b[39;00m data \u001b[38;5;129;01mis\u001b[39;00m \u001b[38;5;28;01mNone\u001b[39;00m:\n\u001b[0;32m-> 1465\u001b[0m         \u001b[38;5;28;01mreturn\u001b[39;00m \u001b[43mfunc\u001b[49m\u001b[43m(\u001b[49m\u001b[43max\u001b[49m\u001b[43m,\u001b[49m\u001b[43m \u001b[49m\u001b[38;5;241;43m*\u001b[39;49m\u001b[38;5;28;43mmap\u001b[39;49m\u001b[43m(\u001b[49m\u001b[43msanitize_sequence\u001b[49m\u001b[43m,\u001b[49m\u001b[43m \u001b[49m\u001b[43margs\u001b[49m\u001b[43m)\u001b[49m\u001b[43m,\u001b[49m\u001b[43m \u001b[49m\u001b[38;5;241;43m*\u001b[39;49m\u001b[38;5;241;43m*\u001b[39;49m\u001b[43mkwargs\u001b[49m\u001b[43m)\u001b[49m\n\u001b[1;32m   1467\u001b[0m     bound \u001b[38;5;241m=\u001b[39m new_sig\u001b[38;5;241m.\u001b[39mbind(ax, \u001b[38;5;241m*\u001b[39margs, \u001b[38;5;241m*\u001b[39m\u001b[38;5;241m*\u001b[39mkwargs)\n\u001b[1;32m   1468\u001b[0m     auto_label \u001b[38;5;241m=\u001b[39m (bound\u001b[38;5;241m.\u001b[39marguments\u001b[38;5;241m.\u001b[39mget(label_namer)\n\u001b[1;32m   1469\u001b[0m                   \u001b[38;5;129;01mor\u001b[39;00m bound\u001b[38;5;241m.\u001b[39mkwargs\u001b[38;5;241m.\u001b[39mget(label_namer))\n",
      "File \u001b[0;32m~/miniforge3/envs/leaflet/lib/python3.12/site-packages/matplotlib/axes/_axes.py:6289\u001b[0m, in \u001b[0;36mAxes.pcolormesh\u001b[0;34m(self, alpha, norm, cmap, vmin, vmax, shading, antialiased, *args, **kwargs)\u001b[0m\n\u001b[1;32m   6286\u001b[0m shading \u001b[38;5;241m=\u001b[39m shading\u001b[38;5;241m.\u001b[39mlower()\n\u001b[1;32m   6287\u001b[0m kwargs\u001b[38;5;241m.\u001b[39msetdefault(\u001b[38;5;124m'\u001b[39m\u001b[38;5;124medgecolors\u001b[39m\u001b[38;5;124m'\u001b[39m, \u001b[38;5;124m'\u001b[39m\u001b[38;5;124mnone\u001b[39m\u001b[38;5;124m'\u001b[39m)\n\u001b[0;32m-> 6289\u001b[0m X, Y, C, shading \u001b[38;5;241m=\u001b[39m \u001b[38;5;28;43mself\u001b[39;49m\u001b[38;5;241;43m.\u001b[39;49m\u001b[43m_pcolorargs\u001b[49m\u001b[43m(\u001b[49m\u001b[38;5;124;43m'\u001b[39;49m\u001b[38;5;124;43mpcolormesh\u001b[39;49m\u001b[38;5;124;43m'\u001b[39;49m\u001b[43m,\u001b[49m\u001b[43m \u001b[49m\u001b[38;5;241;43m*\u001b[39;49m\u001b[43margs\u001b[49m\u001b[43m,\u001b[49m\n\u001b[1;32m   6290\u001b[0m \u001b[43m                                    \u001b[49m\u001b[43mshading\u001b[49m\u001b[38;5;241;43m=\u001b[39;49m\u001b[43mshading\u001b[49m\u001b[43m,\u001b[49m\u001b[43m \u001b[49m\u001b[43mkwargs\u001b[49m\u001b[38;5;241;43m=\u001b[39;49m\u001b[43mkwargs\u001b[49m\u001b[43m)\u001b[49m\n\u001b[1;32m   6291\u001b[0m coords \u001b[38;5;241m=\u001b[39m np\u001b[38;5;241m.\u001b[39mstack([X, Y], axis\u001b[38;5;241m=\u001b[39m\u001b[38;5;241m-\u001b[39m\u001b[38;5;241m1\u001b[39m)\n\u001b[1;32m   6293\u001b[0m kwargs\u001b[38;5;241m.\u001b[39msetdefault(\u001b[38;5;124m'\u001b[39m\u001b[38;5;124msnap\u001b[39m\u001b[38;5;124m'\u001b[39m, mpl\u001b[38;5;241m.\u001b[39mrcParams[\u001b[38;5;124m'\u001b[39m\u001b[38;5;124mpcolormesh.snap\u001b[39m\u001b[38;5;124m'\u001b[39m])\n",
      "File \u001b[0;32m~/miniforge3/envs/leaflet/lib/python3.12/site-packages/matplotlib/axes/_axes.py:5836\u001b[0m, in \u001b[0;36mAxes._pcolorargs\u001b[0;34m(self, funcname, shading, *args, **kwargs)\u001b[0m\n\u001b[1;32m   5834\u001b[0m \u001b[38;5;28;01mif\u001b[39;00m shading \u001b[38;5;241m==\u001b[39m \u001b[38;5;124m'\u001b[39m\u001b[38;5;124mflat\u001b[39m\u001b[38;5;124m'\u001b[39m:\n\u001b[1;32m   5835\u001b[0m     \u001b[38;5;28;01mif\u001b[39;00m (Nx, Ny) \u001b[38;5;241m!=\u001b[39m (ncols \u001b[38;5;241m+\u001b[39m \u001b[38;5;241m1\u001b[39m, nrows \u001b[38;5;241m+\u001b[39m \u001b[38;5;241m1\u001b[39m):\n\u001b[0;32m-> 5836\u001b[0m         \u001b[38;5;28;01mraise\u001b[39;00m \u001b[38;5;167;01mTypeError\u001b[39;00m(\u001b[38;5;124mf\u001b[39m\u001b[38;5;124m\"\u001b[39m\u001b[38;5;124mDimensions of C \u001b[39m\u001b[38;5;132;01m{\u001b[39;00mC\u001b[38;5;241m.\u001b[39mshape\u001b[38;5;132;01m}\u001b[39;00m\u001b[38;5;124m should\u001b[39m\u001b[38;5;124m\"\u001b[39m\n\u001b[1;32m   5837\u001b[0m                         \u001b[38;5;124mf\u001b[39m\u001b[38;5;124m\"\u001b[39m\u001b[38;5;124m be one smaller than X(\u001b[39m\u001b[38;5;132;01m{\u001b[39;00mNx\u001b[38;5;132;01m}\u001b[39;00m\u001b[38;5;124m) and Y(\u001b[39m\u001b[38;5;132;01m{\u001b[39;00mNy\u001b[38;5;132;01m}\u001b[39;00m\u001b[38;5;124m)\u001b[39m\u001b[38;5;124m\"\u001b[39m\n\u001b[1;32m   5838\u001b[0m                         \u001b[38;5;124mf\u001b[39m\u001b[38;5;124m\"\u001b[39m\u001b[38;5;124m while using shading=\u001b[39m\u001b[38;5;124m'\u001b[39m\u001b[38;5;124mflat\u001b[39m\u001b[38;5;124m'\u001b[39m\u001b[38;5;124m\"\u001b[39m\n\u001b[1;32m   5839\u001b[0m                         \u001b[38;5;124mf\u001b[39m\u001b[38;5;124m\"\u001b[39m\u001b[38;5;124m see help(\u001b[39m\u001b[38;5;132;01m{\u001b[39;00mfuncname\u001b[38;5;132;01m}\u001b[39;00m\u001b[38;5;124m)\u001b[39m\u001b[38;5;124m\"\u001b[39m)\n\u001b[1;32m   5840\u001b[0m \u001b[38;5;28;01melse\u001b[39;00m:    \u001b[38;5;66;03m# ['nearest', 'gouraud']:\u001b[39;00m\n\u001b[1;32m   5841\u001b[0m     \u001b[38;5;28;01mif\u001b[39;00m (Nx, Ny) \u001b[38;5;241m!=\u001b[39m (ncols, nrows):\n",
      "\u001b[0;31mTypeError\u001b[0m: Dimensions of C (1505, 2005) should be one smaller than X(1505) and Y(2005) while using shading='flat' see help(pcolormesh)"
     ]
    },
    {
     "data": {
      "image/png": "[encoded data removed]",
      "text/plain": [
       "<Figure size 640x480 with 1 Axes>"
      ]
     },
     "metadata": {},
     "output_type": "display_data"
    }
   ],
   "source": [
    "import matplotlib.pyplot as plt\n",
    "fig, ax = plt.subplots()\n",
    "# generate the image, i.e. plot\n",
    "x = dbz[:,0]\n",
    "y = dbz[0,:]\n",
    "im = ax.pcolormesh(dbz[:,0], dbz[0,:], dbz)\n",
    "# add a color bar\n",
    "fig.colorbar(im, ax=ax)"
   ]
  },
  {
   "cell_type": "code",
   "execution_count": 7,
   "id": "b07b4c4a-5bf3-46cc-b53e-234b8e8134b6",
   "metadata": {},
   "outputs": [
    {
     "name": "stdout",
     "output_type": "stream",
     "text": [
      "2015-06-26 23:00:12\n"
     ]
    }
   ],
   "source": [
    "dates = num2date(time[:], time.units)\n",
    "time_of_day = dates[0].strftime(\"%Y-%m-%d %H:%M:%S\")\n",
    "print(time_of_day)"
   ]
  },
  {
   "cell_type": "code",
   "execution_count": 15,
   "id": "e64b05d6-f2d4-447c-93dd-e726b7be9bf0",
   "metadata": {},
   "outputs": [
    {
     "ename": "NameError",
     "evalue": "name 'f1' is not defined",
     "output_type": "error",
     "traceback": [
      "\u001b[0;31m---------------------------------------------------------------------------\u001b[0m",
      "\u001b[0;31mNameError\u001b[0m                                 Traceback (most recent call last)",
      "Cell \u001b[0;32mIn[15], line 1\u001b[0m\n\u001b[0;32m----> 1\u001b[0m dbz \u001b[38;5;241m=\u001b[39m \u001b[43mf1\u001b[49m\u001b[38;5;241m.\u001b[39mvariables[\u001b[38;5;124m\"\u001b[39m\u001b[38;5;124mDBZ\u001b[39m\u001b[38;5;124m\"\u001b[39m]\n\u001b[1;32m      2\u001b[0m dbz_dimensions \u001b[38;5;241m=\u001b[39m f1\u001b[38;5;241m.\u001b[39mvariables[\u001b[38;5;124m\"\u001b[39m\u001b[38;5;124mDBZ\u001b[39m\u001b[38;5;124m\"\u001b[39m]\u001b[38;5;241m.\u001b[39mdimensions\n\u001b[1;32m      3\u001b[0m \u001b[38;5;28mprint\u001b[39m(dbz_dimensions)\n",
      "\u001b[0;31mNameError\u001b[0m: name 'f1' is not defined"
     ]
    }
   ],
   "source": [
    "dbz = f1.variables[\"DBZ\"]\n",
    "dbz_dimensions = f1.variables[\"DBZ\"].dimensions\n",
    "print(dbz_dimensions)\n",
    "print(dbz[0,18,10,10])\n",
    "type(dbz)\n",
    "print(f1.variables.keys())\n",
    "print(dbz)\n",
    "print(len(lats), len(lons))"
   ]
  },
  {
   "cell_type": "code",
   "execution_count": 11,
   "id": "e6a166fa-b90d-4ebb-a6b9-347b41700707",
   "metadata": {},
   "outputs": [
    {
     "name": "stdout",
     "output_type": "stream",
     "text": [
      "29.984999 -110.015015\n"
     ]
    }
   ],
   "source": [
    "print(lats[0], lons[0])"
   ]
  },
  {
   "cell_type": "code",
   "execution_count": 29,
   "id": "e9969d38-a421-41a9-9a36-ba17902d9a7e",
   "metadata": {},
   "outputs": [
    {
     "data": {
      "application/vnd.jupyter.widget-view+json": {
       "model_id": "060eb07069f0447f9545a94cfb777446",
       "version_major": 2,
       "version_minor": 0
      },
      "text/plain": [
       "Map(center=[29.984999, -110.015015], controls=(ZoomControl(options=['position', 'zoom_in_text', 'zoom_in_title…"
      ]
     },
     "metadata": {},
     "output_type": "display_data"
    }
   ],
   "source": [
    "center = (lats[0], lons[0])\n",
    "\n",
    "\n",
    "\n",
    "m = Map(basemap=basemaps.CartoDB.Positron, center=center, zoom=10)\n",
    "\n",
    "marker = Marker(location=center, draggable=True)\n",
    "m.add(marker);\n",
    "\n",
    "polysize_x = abs(lats[15] - lats[14]) / 0.5\n",
    "polysize_y = abs(lons[15] - lons[14]) / 0.5\n",
    "for ix in range(10, 30, 3):\n",
    "    for iy in range(10,30, 3):\n",
    "        x = lats[ix]\n",
    "        y = lons[iy]\n",
    "        polygon = Polygon(\n",
    "            locations=[(x, y), (x+polysize_x, y), (x, y-polysize_y)],\n",
    "            color=\"green\",\n",
    "            fill_color=\"green\"\n",
    "        )\n",
    "        m.add(polygon);\n",
    "\n",
    "# color scale using a choropleth layer?\n",
    "layer = ipyleaflet.Choropleth(\n",
    "    geo_data=geo_json_data,\n",
    "    choro_data=unemployment,\n",
    "    colormap=linear.YlOrRd_04,\n",
    "    border_color='black',\n",
    "    style={'fillOpacity': 0.8, 'dashArray': '5, 5'})\n",
    "\n",
    "m = ipyleaflet.Map(center = (43,-100), zoom = 4)\n",
    "m.add(layer)\n",
    "\n",
    "\n",
    "display(m)"
   ]
  },
  {
   "cell_type": "code",
   "execution_count": 2,
   "id": "f9a1627f-f7e8-4241-a3ef-8745199414f8",
   "metadata": {},
   "outputs": [
    {
     "data": {
      "application/vnd.jupyter.widget-view+json": {
       "model_id": "180cf82113b240698df4f20c74c57b1e",
       "version_major": 2,
       "version_minor": 0
      },
      "text/plain": [
       "IntSlider(value=0)"
      ]
     },
     "metadata": {},
     "output_type": "display_data"
    }
   ],
   "source": [
    "import ipywidgets as widgets\n",
    "w = widgets.IntSlider()\n",
    "display(w)"
   ]
  },
  {
   "cell_type": "code",
   "execution_count": 3,
   "id": "72c06fa9-158b-4462-86a3-473a4d70c090",
   "metadata": {},
   "outputs": [
    {
     "data": {
      "text/plain": [
       "17"
      ]
     },
     "execution_count": 3,
     "metadata": {},
     "output_type": "execute_result"
    }
   ],
   "source": [
    "w.value"
   ]
  },
  {
   "cell_type": "code",
   "execution_count": 4,
   "id": "cddde2b1-440f-4c06-a422-f2113610582f",
   "metadata": {},
   "outputs": [],
   "source": [
    "w.value = 8"
   ]
  },
  {
   "cell_type": "code",
   "execution_count": 5,
   "id": "190dcf3c-36df-4179-95f2-09d67a8909a2",
   "metadata": {},
   "outputs": [
    {
     "data": {
      "text/plain": [
       "['_dom_classes',\n",
       " '_model_module',\n",
       " '_model_module_version',\n",
       " '_model_name',\n",
       " '_view_count',\n",
       " '_view_module',\n",
       " '_view_module_version',\n",
       " '_view_name',\n",
       " 'behavior',\n",
       " 'continuous_update',\n",
       " 'description',\n",
       " 'description_allow_html',\n",
       " 'disabled',\n",
       " 'layout',\n",
       " 'max',\n",
       " 'min',\n",
       " 'orientation',\n",
       " 'readout',\n",
       " 'readout_format',\n",
       " 'step',\n",
       " 'style',\n",
       " 'tabbable',\n",
       " 'tooltip',\n",
       " 'value']"
      ]
     },
     "execution_count": 5,
     "metadata": {},
     "output_type": "execute_result"
    }
   ],
   "source": [
    "w.keys"
   ]
  },
  {
   "cell_type": "code",
   "execution_count": 6,
   "id": "12658593-82c0-4614-b86d-405d17002d73",
   "metadata": {},
   "outputs": [
    {
     "data": {
      "application/vnd.jupyter.widget-view+json": {
       "model_id": "e927603b7e414dd1a3664dd9f2335c70",
       "version_major": 2,
       "version_minor": 0
      },
      "text/plain": [
       "FloatText(value=0.0)"
      ]
     },
     "metadata": {},
     "output_type": "display_data"
    },
    {
     "data": {
      "application/vnd.jupyter.widget-view+json": {
       "model_id": "2f14879de95d44ae88d3058c5ccec42e",
       "version_major": 2,
       "version_minor": 0
      },
      "text/plain": [
       "FloatSlider(value=0.0)"
      ]
     },
     "metadata": {},
     "output_type": "display_data"
    }
   ],
   "source": [
    "a = widgets.FloatText()\n",
    "b = widgets.FloatSlider()\n",
    "display(a,b)\n",
    "# link the callbacks and events on the browser side with jslink\n",
    "mylink = widgets.jslink((a, 'value'), (b, 'value'))"
   ]
  },
  {
   "cell_type": "code",
   "execution_count": null,
   "id": "b3170c68-5572-4189-b07d-3d714ac8f835",
   "metadata": {},
   "outputs": [],
   "source": [
    "# link a widget and the map"
   ]
  }
 ],
 "metadata": {
  "kernelspec": {
   "display_name": "Python 3 (ipykernel)",
   "language": "python",
   "name": "python3"
  },
  "language_info": {
   "codemirror_mode": {
    "name": "ipython",
    "version": 3
   },
   "file_extension": ".py",
   "mimetype": "text/x-python",
   "name": "python",
   "nbconvert_exporter": "python",
   "pygments_lexer": "ipython3",
   "version": "3.12.0"
  }
 },
 "nbformat": 4,
 "nbformat_minor": 5
}
